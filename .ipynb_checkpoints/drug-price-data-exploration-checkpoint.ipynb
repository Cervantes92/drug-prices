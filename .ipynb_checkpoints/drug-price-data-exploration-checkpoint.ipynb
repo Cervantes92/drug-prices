{
 "cells": [
  {
   "cell_type": "code",
   "execution_count": 11,
   "metadata": {},
   "outputs": [],
   "source": [
    "import pandas as pd\n",
    "import matplotlib.pyplot as plt"
   ]
  },
  {
   "cell_type": "code",
   "execution_count": 14,
   "metadata": {},
   "outputs": [
    {
     "name": "stderr",
     "output_type": "stream",
     "text": [
      "/usr/local/lib/python3.6/dist-packages/IPython/core/interactiveshell.py:3049: DtypeWarning: Columns (1,9) have mixed types. Specify dtype option on import or set low_memory=False.\n",
      "  interactivity=interactivity, compiler=compiler, result=result)\n"
     ]
    }
   ],
   "source": [
    "raw = pd.read_csv('https://data.medicaid.gov/resource/tau9-gfwr.csv')\n",
    "big = pd.read_csv('NADAC_Comparison.csv')"
   ]
  },
  {
   "cell_type": "code",
   "execution_count": 15,
   "metadata": {},
   "outputs": [
    {
     "name": "stdout",
     "output_type": "stream",
     "text": [
      "Dataframe Shape:\n",
      " (1000, 12)\n",
      "Big Dataframe Shape:\n",
      " (1379534, 10)\n"
     ]
    }
   ],
   "source": [
    "print('Dataframe Shape:\\n',raw.shape)\n",
    "print('Big Dataframe Shape:\\n', big.shape)"
   ]
  },
  {
   "cell_type": "code",
   "execution_count": 16,
   "metadata": {},
   "outputs": [
    {
     "name": "stdout",
     "output_type": "stream",
     "text": [
      "Index(['ndc_description', 'ndc', 'nadac_per_unit', 'effective_date',\n",
      "       'pricing_unit', 'pharmacy_type_indicator', 'otc', 'explanation_code',\n",
      "       'classification_for_rate_setting',\n",
      "       'corresponding_generic_drug_nadac_per_unit',\n",
      "       'corresponding_generic_drug_effective_date', 'as_of_date'],\n",
      "      dtype='object')\n",
      "Index(['NDC Description', 'NDC', 'Old NADAC Per Unit', 'New NADAC Per Unit',\n",
      "       'Classification for Rate Setting', 'Percent Change', 'Primary Reason',\n",
      "       'Start Date', 'End Date', 'Effective Date'],\n",
      "      dtype='object')\n"
     ]
    }
   ],
   "source": [
    "print(raw.columns)\n",
    "print(big.columns)"
   ]
  },
  {
   "cell_type": "code",
   "execution_count": 17,
   "metadata": {},
   "outputs": [
    {
     "name": "stdout",
     "output_type": "stream",
     "text": [
      "920 unique drugs are represented.\n",
      "62112 unique drugs are represented in the large dataset.\n"
     ]
    }
   ],
   "source": [
    "print('{} unique drugs are represented.'.format(len(raw['ndc'].unique())))\n",
    "print('{} unique drugs are represented in the large dataset.'.format(len(big['NDC'].unique())))"
   ]
  },
  {
   "cell_type": "code",
   "execution_count": 18,
   "metadata": {},
   "outputs": [],
   "source": [
    "#Find most frequent changes\n",
    "ndc_counts = big['NDC'].value_counts().sort_values(ascending = False)"
   ]
  },
  {
   "cell_type": "code",
   "execution_count": 25,
   "metadata": {},
   "outputs": [
    {
     "data": {
      "text/plain": [
       "832201250      64\n",
       "51079024701    64\n",
       "51079024720    64\n",
       "832201200      64\n",
       "781204801      64\n",
       "50383093355    63\n",
       "172541360      63\n",
       "185013001      63\n",
       "68001000400    63\n",
       "65862052305    63\n",
       "378803077      63\n",
       "955100410      63\n",
       "591354601      63\n",
       "51079012101    63\n",
       "55111039990    63\n",
       "51079012108    63\n",
       "65862052301    63\n",
       "591079401      63\n",
       "378354725      63\n",
       "68084031301    63\n",
       "60505255105    63\n",
       "378161001      63\n",
       "76282040501    63\n",
       "51079011820    63\n",
       "904530920      63\n",
       "68462012605    63\n",
       "68462012601    63\n",
       "51079011801    63\n",
       "781591601      63\n",
       "172541346      63\n",
       "               ..\n",
       "54458111       63\n",
       "54458127       63\n",
       "121072104      63\n",
       "555105756      63\n",
       "781322464      63\n",
       "68084047901    63\n",
       "378162001      63\n",
       "59762502301    63\n",
       "168030960      63\n",
       "49884002001    63\n",
       "527128201      63\n",
       "51079011920    63\n",
       "54838052340    63\n",
       "781204805      63\n",
       "527131201      63\n",
       "228263650      63\n",
       "45802042337    63\n",
       "228263611      63\n",
       "51079011901    63\n",
       "65162055310    63\n",
       "51672401205    63\n",
       "68382020401    63\n",
       "68382020405    63\n",
       "68084061101    63\n",
       "527058601      63\n",
       "93423401       63\n",
       "168009915      63\n",
       "76282040505    63\n",
       "68462010430    63\n",
       "548560200      63\n",
       "Name: NDC, Length: 100, dtype: int64"
      ]
     },
     "execution_count": 25,
     "metadata": {},
     "output_type": "execute_result"
    }
   ],
   "source": [
    "ndc_counts.head(100)"
   ]
  },
  {
   "cell_type": "code",
   "execution_count": null,
   "metadata": {},
   "outputs": [],
   "source": []
  }
 ],
 "metadata": {
  "kernelspec": {
   "display_name": "Python 3",
   "language": "python",
   "name": "python3"
  },
  "language_info": {
   "codemirror_mode": {
    "name": "ipython",
    "version": 3
   },
   "file_extension": ".py",
   "mimetype": "text/x-python",
   "name": "python",
   "nbconvert_exporter": "python",
   "pygments_lexer": "ipython3",
   "version": "3.6.8"
  }
 },
 "nbformat": 4,
 "nbformat_minor": 2
}
