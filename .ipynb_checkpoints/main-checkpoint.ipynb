{
 "cells": [
  {
   "cell_type": "code",
   "execution_count": 1,
   "metadata": {},
   "outputs": [],
   "source": [
    "import pandas as pd\n",
    "import numpy as np\n",
    "import matplotlib.pyplot as plt\n",
    "\n",
    "from scipy import stats\n",
    "\n",
    "from datetime import datetime\n",
    "from dateutil.parser import parse\n",
    "from sklearn.model_selection import train_test_split\n",
    "from IPython.display import display as dsp"
   ]
  },
  {
   "cell_type": "markdown",
   "metadata": {},
   "source": [
    "# United States Drug Prices: Forecasting and Analysis"
   ]
  },
  {
   "cell_type": "markdown",
   "metadata": {},
   "source": [
    "## Data Collection"
   ]
  },
  {
   "cell_type": "code",
   "execution_count": 2,
   "metadata": {},
   "outputs": [],
   "source": [
    "#Socrata SQL query\n",
    "SODA = '$limit=500000'\n",
    "URL = 'https://data.medicaid.gov/resource/444w-ftrz.csv?{}'.format(SODA)\n",
    "\n",
    "TRAIN_SPLIT = 0.8"
   ]
  },
  {
   "cell_type": "code",
   "execution_count": 61,
   "metadata": {},
   "outputs": [],
   "source": [
    "def list_unique_counts(df):\n",
    "    for col in df.columns:\n",
    "        print(col, '\\n', len(df[str(col)].unique()))\n",
    "    print('Total Number Observations:\\n', df.shape[0])\n",
    "\n",
    "def train_split(df, TRAIN_SPLIT):\n",
    "    split_point = int(len(df) * (TRAIN_SPLIT))\n",
    "    train = df[:split_point]\n",
    "    test = df[split_point:]\n",
    "    return train, test\n",
    "\n",
    "def strip_time(date):\n",
    "    date = date.replace('T00:00:00.000', '')\n",
    "    return datetime.strptime(date, '%Y-%m-%d')\n",
    "\n",
    "def return_name(ndc_description):\n",
    "    if len(ndc_description) == 0:\n",
    "        return '','','',''\n",
    "    drug_name, dosage, dosage_unit, drug_form = [], '', '', ''\n",
    "    \n",
    "    #Check and see if we are dealing with concentration\n",
    "    concentration = False\n",
    "    if set('%') <= set(ndc_description):\n",
    "        concentration = True\n",
    "        ndc_description.replace('%', '')\n",
    "    \n",
    "    #Create our array of words\n",
    "    words = ndc_description.split()\n",
    "    \n",
    "    for i in range(len(words)):\n",
    "        if not words[i].replace('.','').replace('%', '').isnumeric():\n",
    "            drug_name.append(words[i])\n",
    "            \n",
    "        if words[i].replace('.','').replace('%','').isnumeric():\n",
    "            dosage = float(words[i].replace('%', ''))\n",
    "            \n",
    "            if not concentration:\n",
    "                try:\n",
    "                    dosage_unit = words[i + 1]\n",
    "                    drug_form = ' '.join(words[i + 2:])\n",
    "                except:\n",
    "                    drug_form = ' '.join(words[i:])\n",
    "                    #print(ndc_description, concentration)\n",
    "                break\n",
    "            \n",
    "            if concentration:\n",
    "                dosage_unit = 'concentration'\n",
    "                drug_form = ' '.join(words[i + 1:])\n",
    "                break\n",
    "            \n",
    "    drug_name = ' '.join(drug_name)\n",
    "    return pd.Series([drug_name, dosage, dosage_unit, drug_form])\n",
    "    \n",
    "def one_hot_encoder(series):\n",
    "    results = pd.DataFrame()\n",
    "    for entry in series.unique():\n",
    "        results[str(series.name) + '_' + str(entry)] = series.apply(lambda x: np.where(x == entry, 1, 0))\n",
    "        \n",
    "    return results"
   ]
  },
  {
   "cell_type": "code",
   "execution_count": 62,
   "metadata": {},
   "outputs": [],
   "source": [
    "raw = pd.read_csv(URL, parse_dates = True)\n",
    "\n",
    "#Convert dates to date format\n",
    "raw['start_date'] = raw['start_date'].apply(lambda x: strip_time(x))\n",
    "raw['end_date'] = raw['end_date'].apply(lambda x: strip_time(x))\n",
    "\n",
    "#Remove Effective Date\n",
    "raw = raw.drop('effective_date', 1)"
   ]
  },
  {
   "cell_type": "code",
   "execution_count": 63,
   "metadata": {},
   "outputs": [
    {
     "name": "stdout",
     "output_type": "stream",
     "text": [
      "Index(['ndc_description', 'ndc', 'old_nadac_per_unit', 'new_nadac_per_unit',\n",
      "       'classification_for_rate_setting', 'percent_change', 'primary_reason',\n",
      "       'start_date', 'end_date'],\n",
      "      dtype='object')\n"
     ]
    },
    {
     "data": {
      "text/html": [
       "<div>\n",
       "<style scoped>\n",
       "    .dataframe tbody tr th:only-of-type {\n",
       "        vertical-align: middle;\n",
       "    }\n",
       "\n",
       "    .dataframe tbody tr th {\n",
       "        vertical-align: top;\n",
       "    }\n",
       "\n",
       "    .dataframe thead th {\n",
       "        text-align: right;\n",
       "    }\n",
       "</style>\n",
       "<table border=\"1\" class=\"dataframe\">\n",
       "  <thead>\n",
       "    <tr style=\"text-align: right;\">\n",
       "      <th></th>\n",
       "      <th>ndc_description</th>\n",
       "      <th>ndc</th>\n",
       "      <th>old_nadac_per_unit</th>\n",
       "      <th>new_nadac_per_unit</th>\n",
       "      <th>classification_for_rate_setting</th>\n",
       "      <th>percent_change</th>\n",
       "      <th>primary_reason</th>\n",
       "      <th>start_date</th>\n",
       "      <th>end_date</th>\n",
       "      <th>days_effective</th>\n",
       "      <th>days_count</th>\n",
       "      <th>year-month</th>\n",
       "      <th>drug_name</th>\n",
       "      <th>dosage</th>\n",
       "      <th>dosage_unit</th>\n",
       "      <th>drug_form</th>\n",
       "    </tr>\n",
       "  </thead>\n",
       "  <tbody>\n",
       "    <tr>\n",
       "      <th>24</th>\n",
       "      <td>ALREX 0.2% EYE DROPS</td>\n",
       "      <td>24208035305</td>\n",
       "      <td>27.08802</td>\n",
       "      <td>29.52622</td>\n",
       "      <td>B</td>\n",
       "      <td>9.00</td>\n",
       "      <td>WAC Adjustment</td>\n",
       "      <td>2013-12-05</td>\n",
       "      <td>2013-12-11</td>\n",
       "      <td>6</td>\n",
       "      <td>7</td>\n",
       "      <td>2013-12</td>\n",
       "      <td>ALREX</td>\n",
       "      <td>0.2</td>\n",
       "      <td>concentration</td>\n",
       "      <td>EYE DROPS</td>\n",
       "    </tr>\n",
       "    <tr>\n",
       "      <th>25</th>\n",
       "      <td>ALREX 0.2% EYE DROPS</td>\n",
       "      <td>24208035310</td>\n",
       "      <td>27.39300</td>\n",
       "      <td>29.85892</td>\n",
       "      <td>B</td>\n",
       "      <td>9.00</td>\n",
       "      <td>WAC Adjustment</td>\n",
       "      <td>2013-12-05</td>\n",
       "      <td>2013-12-11</td>\n",
       "      <td>6</td>\n",
       "      <td>7</td>\n",
       "      <td>2013-12</td>\n",
       "      <td>ALREX</td>\n",
       "      <td>0.2</td>\n",
       "      <td>concentration</td>\n",
       "      <td>EYE DROPS</td>\n",
       "    </tr>\n",
       "    <tr>\n",
       "      <th>26</th>\n",
       "      <td>ATIVAN 0.5 MG TABLET</td>\n",
       "      <td>64455006301</td>\n",
       "      <td>4.35697</td>\n",
       "      <td>5.06236</td>\n",
       "      <td>B</td>\n",
       "      <td>16.19</td>\n",
       "      <td>WAC Adjustment</td>\n",
       "      <td>2013-12-05</td>\n",
       "      <td>2013-12-11</td>\n",
       "      <td>6</td>\n",
       "      <td>7</td>\n",
       "      <td>2013-12</td>\n",
       "      <td>ATIVAN</td>\n",
       "      <td>0.5</td>\n",
       "      <td>MG</td>\n",
       "      <td>TABLET</td>\n",
       "    </tr>\n",
       "    <tr>\n",
       "      <th>27</th>\n",
       "      <td>ATIVAN 1 MG TABLET</td>\n",
       "      <td>64455006401</td>\n",
       "      <td>5.84274</td>\n",
       "      <td>6.78862</td>\n",
       "      <td>B</td>\n",
       "      <td>16.19</td>\n",
       "      <td>WAC Adjustment</td>\n",
       "      <td>2013-12-05</td>\n",
       "      <td>2013-12-11</td>\n",
       "      <td>6</td>\n",
       "      <td>7</td>\n",
       "      <td>2013-12</td>\n",
       "      <td>ATIVAN</td>\n",
       "      <td>1</td>\n",
       "      <td>MG</td>\n",
       "      <td>TABLET</td>\n",
       "    </tr>\n",
       "    <tr>\n",
       "      <th>28</th>\n",
       "      <td>ATIVAN 1 MG TABLET</td>\n",
       "      <td>64455006410</td>\n",
       "      <td>5.84274</td>\n",
       "      <td>6.78862</td>\n",
       "      <td>B</td>\n",
       "      <td>16.19</td>\n",
       "      <td>WAC Adjustment</td>\n",
       "      <td>2013-12-05</td>\n",
       "      <td>2013-12-11</td>\n",
       "      <td>6</td>\n",
       "      <td>7</td>\n",
       "      <td>2013-12</td>\n",
       "      <td>ATIVAN</td>\n",
       "      <td>1</td>\n",
       "      <td>MG</td>\n",
       "      <td>TABLET</td>\n",
       "    </tr>\n",
       "  </tbody>\n",
       "</table>\n",
       "</div>"
      ],
      "text/plain": [
       "         ndc_description          ndc  old_nadac_per_unit  new_nadac_per_unit  \\\n",
       "24  ALREX 0.2% EYE DROPS  24208035305            27.08802            29.52622   \n",
       "25  ALREX 0.2% EYE DROPS  24208035310            27.39300            29.85892   \n",
       "26  ATIVAN 0.5 MG TABLET  64455006301             4.35697             5.06236   \n",
       "27    ATIVAN 1 MG TABLET  64455006401             5.84274             6.78862   \n",
       "28    ATIVAN 1 MG TABLET  64455006410             5.84274             6.78862   \n",
       "\n",
       "   classification_for_rate_setting  percent_change  primary_reason start_date  \\\n",
       "24                               B            9.00  WAC Adjustment 2013-12-05   \n",
       "25                               B            9.00  WAC Adjustment 2013-12-05   \n",
       "26                               B           16.19  WAC Adjustment 2013-12-05   \n",
       "27                               B           16.19  WAC Adjustment 2013-12-05   \n",
       "28                               B           16.19  WAC Adjustment 2013-12-05   \n",
       "\n",
       "     end_date  days_effective  days_count year-month drug_name dosage  \\\n",
       "24 2013-12-11               6           7    2013-12     ALREX    0.2   \n",
       "25 2013-12-11               6           7    2013-12     ALREX    0.2   \n",
       "26 2013-12-11               6           7    2013-12    ATIVAN    0.5   \n",
       "27 2013-12-11               6           7    2013-12    ATIVAN      1   \n",
       "28 2013-12-11               6           7    2013-12    ATIVAN      1   \n",
       "\n",
       "      dosage_unit  drug_form  \n",
       "24  concentration  EYE DROPS  \n",
       "25  concentration  EYE DROPS  \n",
       "26             MG     TABLET  \n",
       "27             MG     TABLET  \n",
       "28             MG     TABLET  "
      ]
     },
     "metadata": {},
     "output_type": "display_data"
    }
   ],
   "source": [
    "print(raw.columns)\n",
    "\n",
    "#Create 'days_effective' and 'day_count' columns\n",
    "raw['days_effective'] = (raw['end_date'] - raw['start_date'])\n",
    "raw['days_effective'] = raw['days_effective'].apply(lambda x: x.days)\n",
    "\n",
    "raw['days_count'] = (raw['start_date'] - min(raw['start_date']))\n",
    "raw['days_count'] = raw['days_count'].apply(lambda x: x.days)\n",
    "\n",
    "#Create 'month-year' column because most changes happen in the middle of every month\n",
    "raw['year-month'] = raw['start_date'].apply(lambda x: x.strftime('%Y-%m'))\n",
    "\n",
    "#Add drug name column, we want to ignore dosage and format\n",
    "raw[['drug_name', 'dosage','dosage_unit','drug_form']] = \\\n",
    "raw['ndc_description'].apply(lambda x: return_name(x))\n",
    "    \n",
    "#Remove all first-date entries\n",
    "if len(raw['start_date'].unique()) > 1:\n",
    "    raw.drop(raw[raw['start_date'] == min(raw['start_date'])].index, inplace = True)\n",
    "\n",
    "#Remove last month of data, this is typically truncated by the limitations of our API call\n",
    "if len(raw['year-month']) > 3:\n",
    "    raw.drop(raw[raw['year-month'] == max(raw['year-month'])].index, inplace = True)\n",
    "    \n",
    "dsp(raw.head())"
   ]
  },
  {
   "cell_type": "code",
   "execution_count": 64,
   "metadata": {},
   "outputs": [
    {
     "name": "stdout",
     "output_type": "stream",
     "text": [
      "This dataset represents 48925 unique NDCs over 479523 entries.\n",
      "There are 6546 unique NDC descriptions represented in this dataset.\n",
      "\n",
      "Unique Values in Raw Data per Column:\n",
      "ndc_description \n",
      " 6546\n",
      "ndc \n",
      " 48925\n",
      "old_nadac_per_unit \n",
      " 57549\n",
      "new_nadac_per_unit \n",
      " 57618\n",
      "classification_for_rate_setting \n",
      " 2\n",
      "percent_change \n",
      " 6431\n",
      "primary_reason \n",
      " 5\n",
      "start_date \n",
      " 108\n",
      "end_date \n",
      " 108\n",
      "days_effective \n",
      " 2\n",
      "days_count \n",
      " 108\n",
      "year-month \n",
      " 25\n",
      "drug_name \n",
      " 4106\n",
      "dosage \n",
      " 216\n",
      "dosage_unit \n",
      " 135\n",
      "drug_form \n",
      " 368\n",
      "Total Number Observations:\n",
      " 479523\n",
      "datetime64[ns]\n",
      "[6 7]\n"
     ]
    }
   ],
   "source": [
    "print('This dataset represents {} unique NDCs over {} entries.'.format(len(raw['ndc'].unique()), raw.shape[0]))\n",
    "print('There are {} unique NDC descriptions represented in this dataset.'.format(len(raw['ndc_description'].unique())))\n",
    "\n",
    "print('\\nUnique Values in Raw Data per Column:')\n",
    "list_unique_counts(raw)\n",
    "\n",
    "print(raw['start_date'].dtype)\n",
    "\n",
    "print(raw['days_effective'].unique())"
   ]
  },
  {
   "cell_type": "code",
   "execution_count": 66,
   "metadata": {},
   "outputs": [
    {
     "name": "stdout",
     "output_type": "stream",
     "text": [
      "Top value counts for NDC:\n"
     ]
    },
    {
     "data": {
      "text/plain": [
       "93423401       22\n",
       "378354752      22\n",
       "54458111       22\n",
       "68001000400    22\n",
       "228263611      22\n",
       "Name: ndc, dtype: int64"
      ]
     },
     "metadata": {},
     "output_type": "display_data"
    },
    {
     "name": "stdout",
     "output_type": "stream",
     "text": [
      "\n",
      "Top value counts for NDC description:\n"
     ]
    },
    {
     "data": {
      "text/plain": [
       "METFORMIN HCL 500 MG TABLET      1976\n",
       "LISINOPRIL 20 MG TABLET          1628\n",
       "METFORMIN HCL 1,000 MG TABLET    1607\n",
       "LISINOPRIL 10 MG TABLET          1567\n",
       "AMLODIPINE BESYLATE 5 MG TAB     1551\n",
       "Name: ndc_description, dtype: int64"
      ]
     },
     "metadata": {},
     "output_type": "display_data"
    }
   ],
   "source": [
    "print('Top value counts for NDC:')\n",
    "dsp(raw['ndc'].value_counts().sort_values(ascending = False).head())\n",
    "\n",
    "print('\\nTop value counts for NDC description:')\n",
    "dsp(raw['ndc_description'].value_counts().sort_values(ascending = False).head())"
   ]
  },
  {
   "cell_type": "markdown",
   "metadata": {},
   "source": [
    "### Metrics for General Volatility\n",
    "\n",
    "#### Changes per Day"
   ]
  },
  {
   "cell_type": "code",
   "execution_count": 67,
   "metadata": {
    "scrolled": true
   },
   "outputs": [
    {
     "data": {
      "text/plain": [
       "2013-12-05      123\n",
       "2013-12-11    18234\n",
       "2013-12-18       62\n",
       "2013-12-25       12\n",
       "2014-01-08      408\n",
       "Name: start_date, dtype: int64"
      ]
     },
     "metadata": {},
     "output_type": "display_data"
    },
    {
     "name": "stdout",
     "output_type": "stream",
     "text": [
      "Our data represents the range of dates between 2013-12-05 and 2015-12-30\n"
     ]
    }
   ],
   "source": [
    "#Changes per day\n",
    "change_count = raw['start_date'].value_counts().sort_index()\n",
    "dsp(change_count.head())\n",
    "\n",
    "print('Our data represents the range of dates between {} and {}'.format(change_count.index.min().strftime('%Y-%m-%d'),\n",
    "                                                                        change_count.index.max().strftime('%Y-%m-%d')))"
   ]
  },
  {
   "cell_type": "code",
   "execution_count": 68,
   "metadata": {},
   "outputs": [
    {
     "name": "stdout",
     "output_type": "stream",
     "text": [
      "2015-12-16    19806\n",
      "2015-11-11    19701\n",
      "2015-07-15    19352\n",
      "2015-06-10    19344\n",
      "2014-11-12    19311\n",
      "2015-02-11    19307\n",
      "2015-10-14    19295\n",
      "2015-05-13    19211\n",
      "2015-08-12    19119\n",
      "2015-04-15    19034\n",
      "Name: start_date, dtype: int64\n"
     ]
    }
   ],
   "source": [
    "print(change_count.sort_values(ascending = False)[:10])"
   ]
  },
  {
   "cell_type": "code",
   "execution_count": 69,
   "metadata": {},
   "outputs": [
    {
     "data": {
      "image/png": "[encoded data removed]",
      "text/plain": [
       "<Figure size 432x288 with 1 Axes>"
      ]
     },
     "metadata": {
      "needs_background": "light"
     },
     "output_type": "display_data"
    }
   ],
   "source": [
    "plt.title('Changes Implemented Per Day')\n",
    "plt.plot(change_count.index.strftime('%Y-%m-%d'), change_count.values, '.')\n",
    "plt.xticks(np.arange(0,len(change_count.index), round((len(change_count.index)) / 8)), rotation = 70)\n",
    "plt.show()"
   ]
  },
  {
   "cell_type": "markdown",
   "metadata": {},
   "source": [
    "#### Changes per Month"
   ]
  },
  {
   "cell_type": "code",
   "execution_count": 70,
   "metadata": {},
   "outputs": [
    {
     "data": {
      "text/plain": [
       "2013-12    18431\n",
       "2014-01    19064\n",
       "2014-02    18202\n",
       "2014-03    18274\n",
       "2014-04    18694\n",
       "Name: year-month, dtype: int64"
      ]
     },
     "execution_count": 70,
     "metadata": {},
     "output_type": "execute_result"
    }
   ],
   "source": [
    "mnth_count = raw['year-month'].value_counts().sort_index() #mnth.groupby(['year-month']).count()\n",
    "mnth_count.head()"
   ]
  },
  {
   "cell_type": "code",
   "execution_count": 71,
   "metadata": {},
   "outputs": [
    {
     "data": {
      "image/png": "[encoded data removed]",
      "text/plain": [
       "<Figure size 432x288 with 1 Axes>"
      ]
     },
     "metadata": {
      "needs_background": "light"
     },
     "output_type": "display_data"
    }
   ],
   "source": [
    "plt.title('Changes per Month')\n",
    "plt.plot(mnth_count)\n",
    "plt.xticks(np.arange(0,len(mnth_count.index), round((len(mnth_count.index)) / 8)), rotation = 70)\n",
    "plt.xlabel('date')\n",
    "plt.ylabel('count')\n",
    "plt.show()"
   ]
  },
  {
   "cell_type": "markdown",
   "metadata": {},
   "source": [
    "#### Average Rate Change per Month"
   ]
  },
  {
   "cell_type": "code",
   "execution_count": 72,
   "metadata": {},
   "outputs": [
    {
     "data": {
      "text/html": [
       "<div>\n",
       "<style scoped>\n",
       "    .dataframe tbody tr th:only-of-type {\n",
       "        vertical-align: middle;\n",
       "    }\n",
       "\n",
       "    .dataframe tbody tr th {\n",
       "        vertical-align: top;\n",
       "    }\n",
       "\n",
       "    .dataframe thead th {\n",
       "        text-align: right;\n",
       "    }\n",
       "</style>\n",
       "<table border=\"1\" class=\"dataframe\">\n",
       "  <thead>\n",
       "    <tr style=\"text-align: right;\">\n",
       "      <th></th>\n",
       "      <th>old_nadac_per_unit</th>\n",
       "      <th>new_nadac_per_unit</th>\n",
       "      <th>percent_change</th>\n",
       "      <th>days_effective</th>\n",
       "      <th>days_count</th>\n",
       "    </tr>\n",
       "    <tr>\n",
       "      <th>year-month</th>\n",
       "      <th></th>\n",
       "      <th></th>\n",
       "      <th></th>\n",
       "      <th></th>\n",
       "      <th></th>\n",
       "    </tr>\n",
       "  </thead>\n",
       "  <tbody>\n",
       "    <tr>\n",
       "      <th>2013-12</th>\n",
       "      <td>1.741059</td>\n",
       "      <td>1.801719</td>\n",
       "      <td>4.781268</td>\n",
       "      <td>6.993326</td>\n",
       "      <td>12.992621</td>\n",
       "    </tr>\n",
       "    <tr>\n",
       "      <th>2014-01</th>\n",
       "      <td>3.424447</td>\n",
       "      <td>3.545686</td>\n",
       "      <td>7.404165</td>\n",
       "      <td>7.000000</td>\n",
       "      <td>47.926196</td>\n",
       "    </tr>\n",
       "    <tr>\n",
       "      <th>2014-02</th>\n",
       "      <td>3.949125</td>\n",
       "      <td>4.057645</td>\n",
       "      <td>-2.624520</td>\n",
       "      <td>7.000000</td>\n",
       "      <td>76.019998</td>\n",
       "    </tr>\n",
       "    <tr>\n",
       "      <th>2014-03</th>\n",
       "      <td>2.127574</td>\n",
       "      <td>2.160392</td>\n",
       "      <td>0.555345</td>\n",
       "      <td>7.000000</td>\n",
       "      <td>103.998085</td>\n",
       "    </tr>\n",
       "    <tr>\n",
       "      <th>2014-04</th>\n",
       "      <td>1.850494</td>\n",
       "      <td>1.867507</td>\n",
       "      <td>0.167001</td>\n",
       "      <td>7.000000</td>\n",
       "      <td>138.875682</td>\n",
       "    </tr>\n",
       "  </tbody>\n",
       "</table>\n",
       "</div>"
      ],
      "text/plain": [
       "            old_nadac_per_unit  new_nadac_per_unit  percent_change  \\\n",
       "year-month                                                           \n",
       "2013-12               1.741059            1.801719        4.781268   \n",
       "2014-01               3.424447            3.545686        7.404165   \n",
       "2014-02               3.949125            4.057645       -2.624520   \n",
       "2014-03               2.127574            2.160392        0.555345   \n",
       "2014-04               1.850494            1.867507        0.167001   \n",
       "\n",
       "            days_effective  days_count  \n",
       "year-month                              \n",
       "2013-12           6.993326   12.992621  \n",
       "2014-01           7.000000   47.926196  \n",
       "2014-02           7.000000   76.019998  \n",
       "2014-03           7.000000  103.998085  \n",
       "2014-04           7.000000  138.875682  "
      ]
     },
     "execution_count": 72,
     "metadata": {},
     "output_type": "execute_result"
    }
   ],
   "source": [
    "mnth_avgs = raw.groupby(['year-month']).mean()\n",
    "mnth_avgs.head()"
   ]
  },
  {
   "cell_type": "code",
   "execution_count": 73,
   "metadata": {},
   "outputs": [
    {
     "data": {
      "image/png": "[encoded data removed]",
      "text/plain": [
       "<Figure size 432x288 with 1 Axes>"
      ]
     },
     "metadata": {
      "needs_background": "light"
     },
     "output_type": "display_data"
    }
   ],
   "source": [
    "plt.title('Average Monthly Change')\n",
    "plt.plot(mnth_avgs['percent_change'])\n",
    "plt.xticks(np.arange(0,len(mnth_avgs.index), round((len(mnth_avgs.index)) / 8)), rotation = 70)\n",
    "plt.show()"
   ]
  },
  {
   "cell_type": "code",
   "execution_count": 74,
   "metadata": {},
   "outputs": [
    {
     "data": {
      "text/plain": [
       "Text(0, 0.5, 'Observations')"
      ]
     },
     "execution_count": 74,
     "metadata": {},
     "output_type": "execute_result"
    },
    {
     "data": {
      "image/png": "[encoded data removed]",
      "text/plain": [
       "<Figure size 432x288 with 1 Axes>"
      ]
     },
     "metadata": {
      "needs_background": "light"
     },
     "output_type": "display_data"
    }
   ],
   "source": [
    "plt.title('Average Monthly Percent Change Distribution')\n",
    "mnth_avgs['percent_change'].hist()\n",
    "plt.xlabel('Percent Change')\n",
    "plt.ylabel('Observations')"
   ]
  },
  {
   "cell_type": "markdown",
   "metadata": {},
   "source": [
    "#### Total Price Gain/Loss per Month"
   ]
  },
  {
   "cell_type": "code",
   "execution_count": 75,
   "metadata": {},
   "outputs": [],
   "source": [
    "raw['total_price_change'] = raw['new_nadac_per_unit'] - raw['old_nadac_per_unit']\n",
    "mnth_sum = raw.groupby(['year-month']).sum()"
   ]
  },
  {
   "cell_type": "code",
   "execution_count": 76,
   "metadata": {},
   "outputs": [
    {
     "data": {
      "image/png": "[encoded data removed]",
      "text/plain": [
       "<Figure size 432x288 with 1 Axes>"
      ]
     },
     "metadata": {
      "needs_background": "light"
     },
     "output_type": "display_data"
    }
   ],
   "source": [
    "plt.title('Total Price Change per Month')\n",
    "plt.plot(mnth_sum['total_price_change'], '*')\n",
    "plt.xticks(np.arange(0,len(mnth_sum.index), round((len(mnth_sum.index)) / 8)), rotation = 70)\n",
    "plt.show()"
   ]
  },
  {
   "cell_type": "markdown",
   "metadata": {},
   "source": [
    "### Forecasting\n",
    "\n",
    "#### Generic and Branded"
   ]
  },
  {
   "cell_type": "code",
   "execution_count": 77,
   "metadata": {},
   "outputs": [
    {
     "name": "stdout",
     "output_type": "stream",
     "text": [
      "95.89999999999999% of changes are to generic medicines.\n"
     ]
    },
    {
     "name": "stderr",
     "output_type": "stream",
     "text": [
      "/home/alexander/.local/lib/python3.6/site-packages/matplotlib/axes/_axes.py:6521: MatplotlibDeprecationWarning: \n",
      "The 'normed' kwarg was deprecated in Matplotlib 2.1 and will be removed in 3.1. Use 'density' instead.\n",
      "  alternative=\"'density'\", removal=\"3.1\")\n"
     ]
    },
    {
     "data": {
      "image/png": "[encoded data removed]",
      "text/plain": [
       "<Figure size 432x288 with 1 Axes>"
      ]
     },
     "metadata": {
      "needs_background": "light"
     },
     "output_type": "display_data"
    },
    {
     "name": "stdout",
     "output_type": "stream",
     "text": [
      "Mean Percent Change for Generic Drugs: 1.2%\n",
      "Mean Percent Change for Branded Drugs: 5.33%\n",
      "Standad Deviation for Generic Drugs: 26.05%\n",
      "Standad Deviation for Branded Drugs: 18.34%\n",
      "T-Statistic: -22.0\n",
      "P-Value: 0.0\n"
     ]
    }
   ],
   "source": [
    "print('{}% of changes are to generic medicines.'.format(round(len(raw[raw['classification_for_rate_setting'] == 'G'])\n",
    "                                                              / raw.shape[0], 3) * 100))\n",
    "\n",
    "raw_generic = raw[raw['classification_for_rate_setting'] == 'G']['percent_change']\n",
    "raw_branded = raw[raw['classification_for_rate_setting'] == 'B']['percent_change']\n",
    "\n",
    "#Compare how often and the magnitude of change between generic and branded medicine.\n",
    "plt.title('Generic and Branded Percent Change Distribution')\n",
    "plt.hist(raw_generic, normed = True)\n",
    "plt.hist(raw_branded, normed = True)\n",
    "\n",
    "plt.xlabel('Percent Change')\n",
    "plt.show()\n",
    "\n",
    "#Print Stats\n",
    "print('Mean Percent Change for Generic Drugs: {}%'.format(round(raw_generic.mean() ,2)))\n",
    "print('Mean Percent Change for Branded Drugs: {}%'.format(round(raw_branded.mean() ,2)))\n",
    "\n",
    "print('Standad Deviation for Generic Drugs: {}%'.format(round(raw_generic.std() ,2)))\n",
    "print('Standad Deviation for Branded Drugs: {}%'.format(round(raw_branded.std() ,2)))\n",
    "\n",
    "#T-test\n",
    "t_stat, p_val = stats.ttest_ind(raw_generic, raw_branded)\n",
    "\n",
    "print('T-Statistic: {}'.format(round(t_stat)))\n",
    "print('P-Value: {}'.format(round(p_val)))\n"
   ]
  },
  {
   "cell_type": "code",
   "execution_count": 78,
   "metadata": {},
   "outputs": [
    {
     "name": "stdout",
     "output_type": "stream",
     "text": [
      "         ndc_description          ndc  old_nadac_per_unit  new_nadac_per_unit  \\\n",
      "24  ALREX 0.2% EYE DROPS  24208035305            27.08802            29.52622   \n",
      "25  ALREX 0.2% EYE DROPS  24208035310            27.39300            29.85892   \n",
      "26  ATIVAN 0.5 MG TABLET  64455006301             4.35697             5.06236   \n",
      "27    ATIVAN 1 MG TABLET  64455006401             5.84274             6.78862   \n",
      "28    ATIVAN 1 MG TABLET  64455006410             5.84274             6.78862   \n",
      "\n",
      "   classification_for_rate_setting  percent_change  primary_reason start_date  \\\n",
      "24                               B            9.00  WAC Adjustment 2013-12-05   \n",
      "25                               B            9.00  WAC Adjustment 2013-12-05   \n",
      "26                               B           16.19  WAC Adjustment 2013-12-05   \n",
      "27                               B           16.19  WAC Adjustment 2013-12-05   \n",
      "28                               B           16.19  WAC Adjustment 2013-12-05   \n",
      "\n",
      "     end_date  days_effective  days_count year-month drug_name dosage  \\\n",
      "24 2013-12-11               6           7    2013-12     ALREX    0.2   \n",
      "25 2013-12-11               6           7    2013-12     ALREX    0.2   \n",
      "26 2013-12-11               6           7    2013-12    ATIVAN    0.5   \n",
      "27 2013-12-11               6           7    2013-12    ATIVAN      1   \n",
      "28 2013-12-11               6           7    2013-12    ATIVAN      1   \n",
      "\n",
      "      dosage_unit  drug_form  total_price_change  \n",
      "24  concentration  EYE DROPS             2.43820  \n",
      "25  concentration  EYE DROPS             2.46592  \n",
      "26             MG     TABLET             0.70539  \n",
      "27             MG     TABLET             0.94588  \n",
      "28             MG     TABLET             0.94588  \n"
     ]
    }
   ],
   "source": [
    "print(raw.head())"
   ]
  },
  {
   "cell_type": "code",
   "execution_count": 79,
   "metadata": {},
   "outputs": [],
   "source": [
    "#classification:  how volatile the durg price changes are\n",
    "#features, how often the price is changes (new column); classification, percent_change, primary reason"
   ]
  },
  {
   "cell_type": "code",
   "execution_count": 80,
   "metadata": {},
   "outputs": [],
   "source": [
    "\n",
    "#remove duplicattes; ndc_desc, olds_nadac, new_nadac, class, percetn_change, primary reason, start_date"
   ]
  },
  {
   "cell_type": "code",
   "execution_count": 81,
   "metadata": {},
   "outputs": [
    {
     "ename": "SyntaxError",
     "evalue": "invalid syntax (<ipython-input-81-0c67b513e40f>, line 5)",
     "output_type": "error",
     "traceback": [
      "\u001b[0;36m  File \u001b[0;32m\"<ipython-input-81-0c67b513e40f>\"\u001b[0;36m, line \u001b[0;32m5\u001b[0m\n\u001b[0;31m    old_nadac = (4.35697 x 2 + 5.84274 ) / 2\u001b[0m\n\u001b[0m                         ^\u001b[0m\n\u001b[0;31mSyntaxError\u001b[0m\u001b[0;31m:\u001b[0m invalid syntax\n"
     ]
    }
   ],
   "source": [
    "#get dosage (1mg ); calculate the price per unit; average if necessary\n",
    "# Ativan 0.5 MG -> 1.0MG; 4.35697 * 2\n",
    "# Ativan 1.0 MG \n",
    "# Ativan 1.0 MG  5. 9will be a duplicate )\n",
    "old_nadac = (4.35697 x 2 + 5.84274 ) / 2"
   ]
  },
  {
   "cell_type": "code",
   "execution_count": null,
   "metadata": {},
   "outputs": [],
   "source": [
    "#finacl column\n",
    "durg_name, start_date, old_nac, new_nadac, classi, percent change(calc again), total_rice_ch (calc again)"
   ]
  },
  {
   "cell_type": "markdown",
   "metadata": {},
   "source": [
    "#### Individual Drugs\n",
    "\n",
    "__By NDC Description__"
   ]
  },
  {
   "cell_type": "code",
   "execution_count": null,
   "metadata": {},
   "outputs": [],
   "source": [
    "#Find most frequently changed ndc prices\n",
    "top_25_desc = raw['drug_name'].value_counts().sort_values(ascending = False)[:25]\n",
    "\n",
    "#Find Database to group these drugs by their use.\n",
    "#Create regex to find drug names (ie metformin HCL is all the same) Stop at the number. call it ndc_name of ndc_formula\n",
    "#These columns can be divided into three: name, dosage, form factor\n",
    "dsp(top_25_desc)\n",
    "\n",
    "#Filter raw data for these descriptions\n",
    "desc_raw_25 = raw[raw['drug_name'].isin(top_25_desc.index)].sort_values('start_date', ascending = True)\n",
    "\n",
    "dsp(desc_raw_25.head())\n",
    "\n",
    "#Seperate by the word or words before the number"
   ]
  },
  {
   "cell_type": "code",
   "execution_count": null,
   "metadata": {},
   "outputs": [],
   "source": [
    "#One hot encode important categorical data\n",
    "#gen_bran = one_hot_encoder(desc_raw_25['classification_for_rate_setting'])\n",
    "#pri_reas = one_hot_encoder(desc_raw_25['primary_reason'])\n",
    "#drug_desc = one_hot_encoder(desc_raw_25['ndc_description'])\n",
    "\n",
    "#CONSOLIDATE THIS\n",
    "categorical_features = ['classification_for_rate_setting', 'primary_reason', 'drug_name']\n",
    "cf_dataframe = pd.DataFrame()\n",
    "for feature in categorical_features:\n",
    "    cf_dataframe = pd.concat([cf_dataframe, one_hot_encoder(desc_raw_25[feature])], axis = 1, sort = False)"
   ]
  },
  {
   "cell_type": "code",
   "execution_count": null,
   "metadata": {},
   "outputs": [],
   "source": [
    "raw.columns"
   ]
  },
  {
   "cell_type": "code",
   "execution_count": null,
   "metadata": {},
   "outputs": [],
   "source": [
    "#Drop NA\n",
    "raw.dropna(inplace = True)\n",
    "\n",
    "#Features and Labels\n",
    "features = ['days_count', 'old_nadac_per_unit']\n",
    "\n",
    "labels = ['percent_change']\n",
    "\n",
    "X_train, X_test = train_split(pd.concat([desc_raw_25[features], cf_dataframe], axis = 1, sort = False), \n",
    "                              TRAIN_SPLIT)\n",
    "\n",
    "#Y_train = desc_raw_25[labels][:]\n",
    "#Y_test = desc_raw_25[labels][:]\n",
    "#TO DO: COUNT THE DAYS SINCE EARLIEST IN DATASET\n",
    "Y_train, Y_test = train_split(desc_raw_25[labels], TRAIN_SPLIT)\n",
    "\n",
    "print(X_train.shape)\n",
    "print(X_test.shape)\n",
    "\n",
    "#dsp(X_train.head())\n",
    "#dsp(X_train.tail())\n",
    "\n",
    "#dsp(X_test.head())\n",
    "#dsp(X_test.tail())"
   ]
  },
  {
   "cell_type": "code",
   "execution_count": null,
   "metadata": {},
   "outputs": [],
   "source": [
    "#Forecasting Modeling Using Neural Nets\n",
    "from sklearn.neural_network import MLPRegressor\n",
    "mlp = MLPRegressor(hidden_layer_sizes = (100, 100, 100,))\n",
    "\n",
    "#Fit and Test\n",
    "mlp.fit(X_train, Y_train)"
   ]
  },
  {
   "cell_type": "code",
   "execution_count": null,
   "metadata": {},
   "outputs": [],
   "source": [
    "#Model Validation\n",
    "\n",
    "#Training Set Score\n",
    "print('Our model has a training set R2 of {}.'.format(round(mlp.score(X_train, Y_train), 4)))\n",
    "print('Our model has a testing set R2 of {}.'.format(round(mlp.score(X_test, Y_test), 4)))"
   ]
  },
  {
   "cell_type": "markdown",
   "metadata": {},
   "source": [
    "__BY NDC Number__"
   ]
  },
  {
   "cell_type": "code",
   "execution_count": null,
   "metadata": {},
   "outputs": [],
   "source": [
    "#Find most frequently changed ndc codes\n",
    "dsp(dsp(raw['ndc'].value_counts().sort_values(ascending = False)[:10]))\n",
    "\n",
    "#Discus final usage once conclusion is reached."
   ]
  },
  {
   "cell_type": "code",
   "execution_count": null,
   "metadata": {},
   "outputs": [],
   "source": []
  }
 ],
 "metadata": {
  "kernelspec": {
   "display_name": "Python 3",
   "language": "python",
   "name": "python3"
  },
  "language_info": {
   "codemirror_mode": {
    "name": "ipython",
    "version": 3
   },
   "file_extension": ".py",
   "mimetype": "text/x-python",
   "name": "python",
   "nbconvert_exporter": "python",
   "pygments_lexer": "ipython3",
   "version": "3.6.8"
  }
 },
 "nbformat": 4,
 "nbformat_minor": 2
}
