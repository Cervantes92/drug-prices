{
 "cells": [
  {
   "cell_type": "code",
   "execution_count": 1,
   "metadata": {},
   "outputs": [],
   "source": [
    "import pandas as pd\n",
    "import numpy as np\n",
    "import matplotlib.pyplot as plt\n",
    "\n",
    "from scipy import stats\n",
    "\n",
    "from datetime import datetime\n",
    "from dateutil.parser import parse\n",
    "from sklearn.model_selection import train_test_split\n",
    "from IPython.display import display as dsp"
   ]
  },
  {
   "cell_type": "markdown",
   "metadata": {},
   "source": [
    "# United States Drug Prices: Forecasting and Analysis"
   ]
  },
  {
   "cell_type": "markdown",
   "metadata": {},
   "source": [
    "## Data Collection"
   ]
  },
  {
   "cell_type": "code",
   "execution_count": 2,
   "metadata": {},
   "outputs": [],
   "source": [
    "#Socrata SQL query\n",
    "SODA = '$limit=500000'\n",
    "URL = 'https://data.medicaid.gov/resource/444w-ftrz.csv?{}'.format(SODA)\n",
    "\n",
    "TRAIN_SPLIT = 0.8"
   ]
  },
  {
   "cell_type": "code",
   "execution_count": 3,
   "metadata": {},
   "outputs": [],
   "source": [
    "def list_unique_counts(df):\n",
    "    for col in df.columns:\n",
    "        print(col, '\\n', len(df[str(col)].unique()))\n",
    "    print('Total Number Observations:\\n', df.shape[0])\n",
    "\n",
    "def train_split(df, TRAIN_SPLIT):\n",
    "    split_point = int(len(df) * (TRAIN_SPLIT))\n",
    "    train = df[:split_point]\n",
    "    test = df[split_point:]\n",
    "    return train, test\n",
    "\n",
    "def strip_time(date):\n",
    "    date = date.replace('T00:00:00.000', '')\n",
    "    return datetime.strptime(date, '%Y-%m-%d')\n",
    "\n",
    "def return_name(ndc_description):\n",
    "    if len(ndc_description) == 0:\n",
    "        return '','','',''\n",
    "    drug_name, dosage, dosage_unit, drug_form = [], np.nan, np.nan, np.nan\n",
    "    \n",
    "    #Check and see if we are dealing with concentration\n",
    "    concentration = False\n",
    "    if set('%') <= set(ndc_description):\n",
    "        concentration = True\n",
    "        ndc_description.replace('%', '')\n",
    "    \n",
    "    #Create our array of words\n",
    "    words = ndc_description.split()\n",
    "    \n",
    "    for i in range(len(words)):\n",
    "        if not words[i].replace('.','').replace('%', '').isnumeric():\n",
    "            drug_name.append(words[i])\n",
    "            \n",
    "        if words[i].replace('.','').replace('%','').isnumeric():\n",
    "            dosage = float(words[i].replace('%', ''))\n",
    "            \n",
    "            if not concentration:\n",
    "                try:\n",
    "                    dosage_unit = words[i + 1]\n",
    "                    drug_form = ' '.join(words[i + 2:])\n",
    "                except:\n",
    "                    drug_form = ' '.join(words[i:])\n",
    "                    #print(ndc_description, concentration)\n",
    "                break\n",
    "            \n",
    "            if concentration:\n",
    "                dosage_unit = 'concentration'\n",
    "                drug_form = ' '.join(words[i + 1:])\n",
    "                break\n",
    "            \n",
    "    drug_name = ' '.join(drug_name)\n",
    "    return pd.Series([drug_name, dosage, dosage_unit, drug_form])\n",
    "\n",
    "def drop_na_printout(dataframe):\n",
    "    i = dataframe.shape[0]\n",
    "    j = dataframe.dropna().shape[0]\n",
    "    \n",
    "    percent_loss = (i - j) / i * 100\n",
    "    \n",
    "    print(percent_loss, '% data lost in cleaning.')\n",
    "    \n",
    "    return dataframe.dropna()\n",
    "\n",
    "def one_hot_encoder(series):\n",
    "    results = pd.DataFrame()\n",
    "    for entry in series.unique():\n",
    "        results[str(series.name) + '_' + str(entry)] = series.apply(lambda x: np.where(x == entry, 1, 0))\n",
    "        \n",
    "    return results"
   ]
  },
  {
   "cell_type": "code",
   "execution_count": 4,
   "metadata": {},
   "outputs": [
    {
     "name": "stderr",
     "output_type": "stream",
     "text": [
      "/usr/local/lib/python3.6/dist-packages/IPython/core/interactiveshell.py:3049: DtypeWarning: Columns (1) have mixed types. Specify dtype option on import or set low_memory=False.\n",
      "  interactivity=interactivity, compiler=compiler, result=result)\n"
     ]
    }
   ],
   "source": [
    "raw = pd.read_csv(URL, parse_dates = True)\n",
    "\n",
    "#Convert dates to date format\n",
    "raw['start_date'] = raw['start_date'].apply(lambda x: strip_time(x))\n",
    "raw['end_date'] = raw['end_date'].apply(lambda x: strip_time(x))\n",
    "\n",
    "#Remove Effective Date\n",
    "raw = raw.drop('effective_date', 1)"
   ]
  },
  {
   "cell_type": "code",
   "execution_count": 5,
   "metadata": {},
   "outputs": [
    {
     "name": "stdout",
     "output_type": "stream",
     "text": [
      "Index(['ndc_description', 'ndc', 'old_nadac_per_unit', 'new_nadac_per_unit',\n",
      "       'classification_for_rate_setting', 'percent_change', 'primary_reason',\n",
      "       'start_date', 'end_date'],\n",
      "      dtype='object')\n"
     ]
    },
    {
     "data": {
      "text/html": [
       "<div>\n",
       "<style scoped>\n",
       "    .dataframe tbody tr th:only-of-type {\n",
       "        vertical-align: middle;\n",
       "    }\n",
       "\n",
       "    .dataframe tbody tr th {\n",
       "        vertical-align: top;\n",
       "    }\n",
       "\n",
       "    .dataframe thead th {\n",
       "        text-align: right;\n",
       "    }\n",
       "</style>\n",
       "<table border=\"1\" class=\"dataframe\">\n",
       "  <thead>\n",
       "    <tr style=\"text-align: right;\">\n",
       "      <th></th>\n",
       "      <th>ndc_description</th>\n",
       "      <th>ndc</th>\n",
       "      <th>old_nadac_per_unit</th>\n",
       "      <th>new_nadac_per_unit</th>\n",
       "      <th>classification_for_rate_setting</th>\n",
       "      <th>percent_change</th>\n",
       "      <th>primary_reason</th>\n",
       "      <th>start_date</th>\n",
       "      <th>end_date</th>\n",
       "      <th>days_effective</th>\n",
       "      <th>days_count</th>\n",
       "      <th>year-month</th>\n",
       "      <th>drug_name</th>\n",
       "      <th>dosage</th>\n",
       "      <th>dosage_unit</th>\n",
       "      <th>drug_form</th>\n",
       "    </tr>\n",
       "  </thead>\n",
       "  <tbody>\n",
       "    <tr>\n",
       "      <th>24</th>\n",
       "      <td>ALREX 0.2% EYE DROPS</td>\n",
       "      <td>24208035305</td>\n",
       "      <td>27.08802</td>\n",
       "      <td>29.52622</td>\n",
       "      <td>B</td>\n",
       "      <td>9.00</td>\n",
       "      <td>WAC Adjustment</td>\n",
       "      <td>2013-12-05</td>\n",
       "      <td>2013-12-11</td>\n",
       "      <td>6</td>\n",
       "      <td>7</td>\n",
       "      <td>2013-12</td>\n",
       "      <td>ALREX</td>\n",
       "      <td>0.2</td>\n",
       "      <td>concentration</td>\n",
       "      <td>EYE DROPS</td>\n",
       "    </tr>\n",
       "    <tr>\n",
       "      <th>25</th>\n",
       "      <td>ALREX 0.2% EYE DROPS</td>\n",
       "      <td>24208035310</td>\n",
       "      <td>27.39300</td>\n",
       "      <td>29.85892</td>\n",
       "      <td>B</td>\n",
       "      <td>9.00</td>\n",
       "      <td>WAC Adjustment</td>\n",
       "      <td>2013-12-05</td>\n",
       "      <td>2013-12-11</td>\n",
       "      <td>6</td>\n",
       "      <td>7</td>\n",
       "      <td>2013-12</td>\n",
       "      <td>ALREX</td>\n",
       "      <td>0.2</td>\n",
       "      <td>concentration</td>\n",
       "      <td>EYE DROPS</td>\n",
       "    </tr>\n",
       "    <tr>\n",
       "      <th>26</th>\n",
       "      <td>ATIVAN 0.5 MG TABLET</td>\n",
       "      <td>64455006301</td>\n",
       "      <td>4.35697</td>\n",
       "      <td>5.06236</td>\n",
       "      <td>B</td>\n",
       "      <td>16.19</td>\n",
       "      <td>WAC Adjustment</td>\n",
       "      <td>2013-12-05</td>\n",
       "      <td>2013-12-11</td>\n",
       "      <td>6</td>\n",
       "      <td>7</td>\n",
       "      <td>2013-12</td>\n",
       "      <td>ATIVAN</td>\n",
       "      <td>0.5</td>\n",
       "      <td>MG</td>\n",
       "      <td>TABLET</td>\n",
       "    </tr>\n",
       "    <tr>\n",
       "      <th>27</th>\n",
       "      <td>ATIVAN 1 MG TABLET</td>\n",
       "      <td>64455006401</td>\n",
       "      <td>5.84274</td>\n",
       "      <td>6.78862</td>\n",
       "      <td>B</td>\n",
       "      <td>16.19</td>\n",
       "      <td>WAC Adjustment</td>\n",
       "      <td>2013-12-05</td>\n",
       "      <td>2013-12-11</td>\n",
       "      <td>6</td>\n",
       "      <td>7</td>\n",
       "      <td>2013-12</td>\n",
       "      <td>ATIVAN</td>\n",
       "      <td>1.0</td>\n",
       "      <td>MG</td>\n",
       "      <td>TABLET</td>\n",
       "    </tr>\n",
       "    <tr>\n",
       "      <th>28</th>\n",
       "      <td>ATIVAN 1 MG TABLET</td>\n",
       "      <td>64455006410</td>\n",
       "      <td>5.84274</td>\n",
       "      <td>6.78862</td>\n",
       "      <td>B</td>\n",
       "      <td>16.19</td>\n",
       "      <td>WAC Adjustment</td>\n",
       "      <td>2013-12-05</td>\n",
       "      <td>2013-12-11</td>\n",
       "      <td>6</td>\n",
       "      <td>7</td>\n",
       "      <td>2013-12</td>\n",
       "      <td>ATIVAN</td>\n",
       "      <td>1.0</td>\n",
       "      <td>MG</td>\n",
       "      <td>TABLET</td>\n",
       "    </tr>\n",
       "  </tbody>\n",
       "</table>\n",
       "</div>"
      ],
      "text/plain": [
       "         ndc_description          ndc  old_nadac_per_unit  new_nadac_per_unit  \\\n",
       "24  ALREX 0.2% EYE DROPS  24208035305            27.08802            29.52622   \n",
       "25  ALREX 0.2% EYE DROPS  24208035310            27.39300            29.85892   \n",
       "26  ATIVAN 0.5 MG TABLET  64455006301             4.35697             5.06236   \n",
       "27    ATIVAN 1 MG TABLET  64455006401             5.84274             6.78862   \n",
       "28    ATIVAN 1 MG TABLET  64455006410             5.84274             6.78862   \n",
       "\n",
       "   classification_for_rate_setting  percent_change  primary_reason start_date  \\\n",
       "24                               B            9.00  WAC Adjustment 2013-12-05   \n",
       "25                               B            9.00  WAC Adjustment 2013-12-05   \n",
       "26                               B           16.19  WAC Adjustment 2013-12-05   \n",
       "27                               B           16.19  WAC Adjustment 2013-12-05   \n",
       "28                               B           16.19  WAC Adjustment 2013-12-05   \n",
       "\n",
       "     end_date  days_effective  days_count year-month drug_name  dosage  \\\n",
       "24 2013-12-11               6           7    2013-12     ALREX     0.2   \n",
       "25 2013-12-11               6           7    2013-12     ALREX     0.2   \n",
       "26 2013-12-11               6           7    2013-12    ATIVAN     0.5   \n",
       "27 2013-12-11               6           7    2013-12    ATIVAN     1.0   \n",
       "28 2013-12-11               6           7    2013-12    ATIVAN     1.0   \n",
       "\n",
       "      dosage_unit  drug_form  \n",
       "24  concentration  EYE DROPS  \n",
       "25  concentration  EYE DROPS  \n",
       "26             MG     TABLET  \n",
       "27             MG     TABLET  \n",
       "28             MG     TABLET  "
      ]
     },
     "metadata": {},
     "output_type": "display_data"
    }
   ],
   "source": [
    "print(raw.columns)\n",
    "\n",
    "#Create 'days_effective' and 'day_count' columns\n",
    "raw['days_effective'] = (raw['end_date'] - raw['start_date'])\n",
    "raw['days_effective'] = raw['days_effective'].apply(lambda x: x.days)\n",
    "\n",
    "raw['days_count'] = (raw['start_date'] - min(raw['start_date']))\n",
    "raw['days_count'] = raw['days_count'].apply(lambda x: x.days)\n",
    "\n",
    "#Create 'month-year' column because most changes happen in the middle of every month\n",
    "raw['year-month'] = raw['start_date'].apply(lambda x: x.strftime('%Y-%m'))\n",
    "\n",
    "#Add drug name column, we want to ignore dosage and format\n",
    "raw[['drug_name', 'dosage','dosage_unit','drug_form']] = \\\n",
    "raw['ndc_description'].apply(lambda x: return_name(x))\n",
    "    \n",
    "#Remove all first-date entries\n",
    "if len(raw['start_date'].unique()) > 1:\n",
    "    raw.drop(raw[raw['start_date'] == min(raw['start_date'])].index, inplace = True)\n",
    "\n",
    "#Remove last month of data, this is typically truncated by the limitations of our API call\n",
    "if len(raw['year-month']) > 3:\n",
    "    raw.drop(raw[raw['year-month'] == max(raw['year-month'])].index, inplace = True)\n",
    "\n",
    "dsp(raw.head())"
   ]
  },
  {
   "cell_type": "code",
   "execution_count": null,
   "metadata": {},
   "outputs": [],
   "source": [
    "#old_nadac_per_unit, new_nadac_per_unit, classification_for_rate_setting, percent_change, primary_reason, year-month\n",
    "#drug_name, dosage, dosage_unit, drug_form"
   ]
  },
  {
   "cell_type": "code",
   "execution_count": 6,
   "metadata": {},
   "outputs": [
    {
     "name": "stdout",
     "output_type": "stream",
     "text": [
      "13.085503719321077 % data lost in cleaning.\n"
     ]
    }
   ],
   "source": [
    "raw = drop_na_printout(raw)"
   ]
  },
  {
   "cell_type": "code",
   "execution_count": null,
   "metadata": {},
   "outputs": [],
   "source": [
    "raw['scaled_old_per_unit'] = max(raw[raw['']])"
   ]
  },
  {
   "cell_type": "code",
   "execution_count": 46,
   "metadata": {},
   "outputs": [
    {
     "name": "stderr",
     "output_type": "stream",
     "text": [
      "/usr/local/lib/python3.6/dist-packages/ipykernel_launcher.py:15: SettingWithCopyWarning: \n",
      "A value is trying to be set on a copy of a slice from a DataFrame.\n",
      "Try using .loc[row_indexer,col_indexer] = value instead\n",
      "\n",
      "See the caveats in the documentation: http://pandas.pydata.org/pandas-docs/stable/indexing.html#indexing-view-versus-copy\n",
      "  from ipykernel import kernelapp as app\n",
      "/usr/local/lib/python3.6/dist-packages/ipykernel_launcher.py:18: SettingWithCopyWarning: \n",
      "A value is trying to be set on a copy of a slice from a DataFrame.\n",
      "Try using .loc[row_indexer,col_indexer] = value instead\n",
      "\n",
      "See the caveats in the documentation: http://pandas.pydata.org/pandas-docs/stable/indexing.html#indexing-view-versus-copy\n"
     ]
    },
    {
     "ename": "KeyboardInterrupt",
     "evalue": "",
     "output_type": "error",
     "traceback": [
      "\u001b[0;31m---------------------------------------------------------------------------\u001b[0m",
      "\u001b[0;31mKeyboardInterrupt\u001b[0m                         Traceback (most recent call last)",
      "\u001b[0;32m<ipython-input-46-ee4b51ed256b>\u001b[0m in \u001b[0;36m<module>\u001b[0;34m\u001b[0m\n\u001b[1;32m     16\u001b[0m \u001b[0;34m\u001b[0m\u001b[0m\n\u001b[1;32m     17\u001b[0m                 \u001b[0mraw\u001b[0m\u001b[0;34m[\u001b[0m\u001b[0;34m(\u001b[0m\u001b[0mraw\u001b[0m\u001b[0;34m[\u001b[0m\u001b[0;34m'start_date'\u001b[0m\u001b[0;34m]\u001b[0m \u001b[0;34m==\u001b[0m \u001b[0mdate\u001b[0m\u001b[0;34m)\u001b[0m \u001b[0;34m&\u001b[0m \u001b[0;34m(\u001b[0m\u001b[0mraw\u001b[0m\u001b[0;34m[\u001b[0m\u001b[0;34m'drug_name'\u001b[0m\u001b[0;34m]\u001b[0m\u001b[0;34m)\u001b[0m \u001b[0;34m==\u001b[0m \u001b[0mdrug\u001b[0m\u001b[0;34m]\u001b[0m\u001b[0;34m[\u001b[0m\u001b[0;34m'scaled_new_per_unit'\u001b[0m\u001b[0;34m]\u001b[0m \u001b[0;34m=\u001b[0m\u001b[0;31m \u001b[0m\u001b[0;31m\\\u001b[0m\u001b[0;34m\u001b[0m\u001b[0;34m\u001b[0m\u001b[0m\n\u001b[0;32m---> 18\u001b[0;31m                 \u001b[0mlargest_dosage\u001b[0m \u001b[0;34m/\u001b[0m \u001b[0mdrug_date_info\u001b[0m\u001b[0;34m[\u001b[0m\u001b[0;34m'dosage'\u001b[0m\u001b[0;34m]\u001b[0m \u001b[0;34m*\u001b[0m \u001b[0mdrug_date_info\u001b[0m\u001b[0;34m[\u001b[0m\u001b[0;34m'new_nadac_per_unit'\u001b[0m\u001b[0;34m]\u001b[0m\u001b[0;34m\u001b[0m\u001b[0;34m\u001b[0m\u001b[0m\n\u001b[0m",
      "\u001b[0;32m~/.local/lib/python3.6/site-packages/pandas/core/ops.py\u001b[0m in \u001b[0;36mwrapper\u001b[0;34m(self, other)\u001b[0m\n\u001b[1;32m   1827\u001b[0m         \u001b[0;32melif\u001b[0m \u001b[0misinstance\u001b[0m\u001b[0;34m(\u001b[0m\u001b[0mother\u001b[0m\u001b[0;34m,\u001b[0m \u001b[0;34m(\u001b[0m\u001b[0mABCSeries\u001b[0m\u001b[0;34m,\u001b[0m \u001b[0mABCIndexClass\u001b[0m\u001b[0;34m)\u001b[0m\u001b[0;34m)\u001b[0m\u001b[0;34m:\u001b[0m\u001b[0;34m\u001b[0m\u001b[0;34m\u001b[0m\u001b[0m\n\u001b[1;32m   1828\u001b[0m             \u001b[0mis_other_int_dtype\u001b[0m \u001b[0;34m=\u001b[0m \u001b[0mis_integer_dtype\u001b[0m\u001b[0;34m(\u001b[0m\u001b[0mother\u001b[0m\u001b[0;34m.\u001b[0m\u001b[0mdtype\u001b[0m\u001b[0;34m)\u001b[0m\u001b[0;34m\u001b[0m\u001b[0;34m\u001b[0m\u001b[0m\n\u001b[0;32m-> 1829\u001b[0;31m             \u001b[0mother\u001b[0m \u001b[0;34m=\u001b[0m \u001b[0mfill_int\u001b[0m\u001b[0;34m(\u001b[0m\u001b[0mother\u001b[0m\u001b[0;34m)\u001b[0m \u001b[0;32mif\u001b[0m \u001b[0mis_other_int_dtype\u001b[0m \u001b[0;32melse\u001b[0m \u001b[0mfill_bool\u001b[0m\u001b[0;34m(\u001b[0m\u001b[0mother\u001b[0m\u001b[0;34m)\u001b[0m\u001b[0;34m\u001b[0m\u001b[0;34m\u001b[0m\u001b[0m\n\u001b[0m\u001b[1;32m   1830\u001b[0m \u001b[0;34m\u001b[0m\u001b[0m\n\u001b[1;32m   1831\u001b[0m             \u001b[0movalues\u001b[0m \u001b[0;34m=\u001b[0m \u001b[0mother\u001b[0m\u001b[0;34m.\u001b[0m\u001b[0mvalues\u001b[0m\u001b[0;34m\u001b[0m\u001b[0;34m\u001b[0m\u001b[0m\n",
      "\u001b[0;32m~/.local/lib/python3.6/site-packages/pandas/core/ops.py\u001b[0m in \u001b[0;36m<lambda>\u001b[0;34m(x)\u001b[0m\n\u001b[1;32m   1813\u001b[0m \u001b[0;34m\u001b[0m\u001b[0m\n\u001b[1;32m   1814\u001b[0m     \u001b[0mfill_int\u001b[0m \u001b[0;34m=\u001b[0m \u001b[0;32mlambda\u001b[0m \u001b[0mx\u001b[0m\u001b[0;34m:\u001b[0m \u001b[0mx\u001b[0m\u001b[0;34m.\u001b[0m\u001b[0mfillna\u001b[0m\u001b[0;34m(\u001b[0m\u001b[0;36m0\u001b[0m\u001b[0;34m)\u001b[0m\u001b[0;34m\u001b[0m\u001b[0;34m\u001b[0m\u001b[0m\n\u001b[0;32m-> 1815\u001b[0;31m     \u001b[0mfill_bool\u001b[0m \u001b[0;34m=\u001b[0m \u001b[0;32mlambda\u001b[0m \u001b[0mx\u001b[0m\u001b[0;34m:\u001b[0m \u001b[0mx\u001b[0m\u001b[0;34m.\u001b[0m\u001b[0mfillna\u001b[0m\u001b[0;34m(\u001b[0m\u001b[0;32mFalse\u001b[0m\u001b[0;34m)\u001b[0m\u001b[0;34m.\u001b[0m\u001b[0mastype\u001b[0m\u001b[0;34m(\u001b[0m\u001b[0mbool\u001b[0m\u001b[0;34m)\u001b[0m\u001b[0;34m\u001b[0m\u001b[0;34m\u001b[0m\u001b[0m\n\u001b[0m\u001b[1;32m   1816\u001b[0m \u001b[0;34m\u001b[0m\u001b[0m\n\u001b[1;32m   1817\u001b[0m     \u001b[0;32mdef\u001b[0m \u001b[0mwrapper\u001b[0m\u001b[0;34m(\u001b[0m\u001b[0mself\u001b[0m\u001b[0;34m,\u001b[0m \u001b[0mother\u001b[0m\u001b[0;34m)\u001b[0m\u001b[0;34m:\u001b[0m\u001b[0;34m\u001b[0m\u001b[0;34m\u001b[0m\u001b[0m\n",
      "\u001b[0;32m~/.local/lib/python3.6/site-packages/pandas/core/generic.py\u001b[0m in \u001b[0;36mastype\u001b[0;34m(self, dtype, copy, errors, **kwargs)\u001b[0m\n\u001b[1;32m   5689\u001b[0m             \u001b[0;31m# else, only a single dtype is given\u001b[0m\u001b[0;34m\u001b[0m\u001b[0;34m\u001b[0m\u001b[0;34m\u001b[0m\u001b[0m\n\u001b[1;32m   5690\u001b[0m             new_data = self._data.astype(dtype=dtype, copy=copy, errors=errors,\n\u001b[0;32m-> 5691\u001b[0;31m                                          **kwargs)\n\u001b[0m\u001b[1;32m   5692\u001b[0m             \u001b[0;32mreturn\u001b[0m \u001b[0mself\u001b[0m\u001b[0;34m.\u001b[0m\u001b[0m_constructor\u001b[0m\u001b[0;34m(\u001b[0m\u001b[0mnew_data\u001b[0m\u001b[0;34m)\u001b[0m\u001b[0;34m.\u001b[0m\u001b[0m__finalize__\u001b[0m\u001b[0;34m(\u001b[0m\u001b[0mself\u001b[0m\u001b[0;34m)\u001b[0m\u001b[0;34m\u001b[0m\u001b[0;34m\u001b[0m\u001b[0m\n\u001b[1;32m   5693\u001b[0m \u001b[0;34m\u001b[0m\u001b[0m\n",
      "\u001b[0;32m~/.local/lib/python3.6/site-packages/pandas/core/internals/managers.py\u001b[0m in \u001b[0;36mastype\u001b[0;34m(self, dtype, **kwargs)\u001b[0m\n\u001b[1;32m    529\u001b[0m \u001b[0;34m\u001b[0m\u001b[0m\n\u001b[1;32m    530\u001b[0m     \u001b[0;32mdef\u001b[0m \u001b[0mastype\u001b[0m\u001b[0;34m(\u001b[0m\u001b[0mself\u001b[0m\u001b[0;34m,\u001b[0m \u001b[0mdtype\u001b[0m\u001b[0;34m,\u001b[0m \u001b[0;34m**\u001b[0m\u001b[0mkwargs\u001b[0m\u001b[0;34m)\u001b[0m\u001b[0;34m:\u001b[0m\u001b[0;34m\u001b[0m\u001b[0;34m\u001b[0m\u001b[0m\n\u001b[0;32m--> 531\u001b[0;31m         \u001b[0;32mreturn\u001b[0m \u001b[0mself\u001b[0m\u001b[0;34m.\u001b[0m\u001b[0mapply\u001b[0m\u001b[0;34m(\u001b[0m\u001b[0;34m'astype'\u001b[0m\u001b[0;34m,\u001b[0m \u001b[0mdtype\u001b[0m\u001b[0;34m=\u001b[0m\u001b[0mdtype\u001b[0m\u001b[0;34m,\u001b[0m \u001b[0;34m**\u001b[0m\u001b[0mkwargs\u001b[0m\u001b[0;34m)\u001b[0m\u001b[0;34m\u001b[0m\u001b[0;34m\u001b[0m\u001b[0m\n\u001b[0m\u001b[1;32m    532\u001b[0m \u001b[0;34m\u001b[0m\u001b[0m\n\u001b[1;32m    533\u001b[0m     \u001b[0;32mdef\u001b[0m \u001b[0mconvert\u001b[0m\u001b[0;34m(\u001b[0m\u001b[0mself\u001b[0m\u001b[0;34m,\u001b[0m \u001b[0;34m**\u001b[0m\u001b[0mkwargs\u001b[0m\u001b[0;34m)\u001b[0m\u001b[0;34m:\u001b[0m\u001b[0;34m\u001b[0m\u001b[0;34m\u001b[0m\u001b[0m\n",
      "\u001b[0;32m~/.local/lib/python3.6/site-packages/pandas/core/internals/managers.py\u001b[0m in \u001b[0;36mapply\u001b[0;34m(self, f, axes, filter, do_integrity_check, consolidate, **kwargs)\u001b[0m\n\u001b[1;32m    393\u001b[0m                                             copy=align_copy)\n\u001b[1;32m    394\u001b[0m \u001b[0;34m\u001b[0m\u001b[0m\n\u001b[0;32m--> 395\u001b[0;31m             \u001b[0mapplied\u001b[0m \u001b[0;34m=\u001b[0m \u001b[0mgetattr\u001b[0m\u001b[0;34m(\u001b[0m\u001b[0mb\u001b[0m\u001b[0;34m,\u001b[0m \u001b[0mf\u001b[0m\u001b[0;34m)\u001b[0m\u001b[0;34m(\u001b[0m\u001b[0;34m**\u001b[0m\u001b[0mkwargs\u001b[0m\u001b[0;34m)\u001b[0m\u001b[0;34m\u001b[0m\u001b[0;34m\u001b[0m\u001b[0m\n\u001b[0m\u001b[1;32m    396\u001b[0m             \u001b[0mresult_blocks\u001b[0m \u001b[0;34m=\u001b[0m \u001b[0m_extend_blocks\u001b[0m\u001b[0;34m(\u001b[0m\u001b[0mapplied\u001b[0m\u001b[0;34m,\u001b[0m \u001b[0mresult_blocks\u001b[0m\u001b[0;34m)\u001b[0m\u001b[0;34m\u001b[0m\u001b[0;34m\u001b[0m\u001b[0m\n\u001b[1;32m    397\u001b[0m \u001b[0;34m\u001b[0m\u001b[0m\n",
      "\u001b[0;32m~/.local/lib/python3.6/site-packages/pandas/core/internals/blocks.py\u001b[0m in \u001b[0;36mastype\u001b[0;34m(self, dtype, copy, errors, values, **kwargs)\u001b[0m\n\u001b[1;32m    532\u001b[0m     \u001b[0;32mdef\u001b[0m \u001b[0mastype\u001b[0m\u001b[0;34m(\u001b[0m\u001b[0mself\u001b[0m\u001b[0;34m,\u001b[0m \u001b[0mdtype\u001b[0m\u001b[0;34m,\u001b[0m \u001b[0mcopy\u001b[0m\u001b[0;34m=\u001b[0m\u001b[0;32mFalse\u001b[0m\u001b[0;34m,\u001b[0m \u001b[0merrors\u001b[0m\u001b[0;34m=\u001b[0m\u001b[0;34m'raise'\u001b[0m\u001b[0;34m,\u001b[0m \u001b[0mvalues\u001b[0m\u001b[0;34m=\u001b[0m\u001b[0;32mNone\u001b[0m\u001b[0;34m,\u001b[0m \u001b[0;34m**\u001b[0m\u001b[0mkwargs\u001b[0m\u001b[0;34m)\u001b[0m\u001b[0;34m:\u001b[0m\u001b[0;34m\u001b[0m\u001b[0;34m\u001b[0m\u001b[0m\n\u001b[1;32m    533\u001b[0m         return self._astype(dtype, copy=copy, errors=errors, values=values,\n\u001b[0;32m--> 534\u001b[0;31m                             **kwargs)\n\u001b[0m\u001b[1;32m    535\u001b[0m \u001b[0;34m\u001b[0m\u001b[0m\n\u001b[1;32m    536\u001b[0m     def _astype(self, dtype, copy=False, errors='raise', values=None,\n",
      "\u001b[0;32m~/.local/lib/python3.6/site-packages/pandas/core/internals/blocks.py\u001b[0m in \u001b[0;36m_astype\u001b[0;34m(self, dtype, copy, errors, values, **kwargs)\u001b[0m\n\u001b[1;32m    631\u001b[0m \u001b[0;34m\u001b[0m\u001b[0m\n\u001b[1;32m    632\u001b[0m                     \u001b[0;31m# _astype_nansafe works fine with 1-d only\u001b[0m\u001b[0;34m\u001b[0m\u001b[0;34m\u001b[0m\u001b[0;34m\u001b[0m\u001b[0m\n\u001b[0;32m--> 633\u001b[0;31m                     \u001b[0mvalues\u001b[0m \u001b[0;34m=\u001b[0m \u001b[0mastype_nansafe\u001b[0m\u001b[0;34m(\u001b[0m\u001b[0mvalues\u001b[0m\u001b[0;34m.\u001b[0m\u001b[0mravel\u001b[0m\u001b[0;34m(\u001b[0m\u001b[0;34m)\u001b[0m\u001b[0;34m,\u001b[0m \u001b[0mdtype\u001b[0m\u001b[0;34m,\u001b[0m \u001b[0mcopy\u001b[0m\u001b[0;34m=\u001b[0m\u001b[0;32mTrue\u001b[0m\u001b[0;34m)\u001b[0m\u001b[0;34m\u001b[0m\u001b[0;34m\u001b[0m\u001b[0m\n\u001b[0m\u001b[1;32m    634\u001b[0m \u001b[0;34m\u001b[0m\u001b[0m\n\u001b[1;32m    635\u001b[0m                 \u001b[0;31m# TODO(extension)\u001b[0m\u001b[0;34m\u001b[0m\u001b[0;34m\u001b[0m\u001b[0;34m\u001b[0m\u001b[0m\n",
      "\u001b[0;32m~/.local/lib/python3.6/site-packages/pandas/core/dtypes/cast.py\u001b[0m in \u001b[0;36mastype_nansafe\u001b[0;34m(arr, dtype, copy, skipna)\u001b[0m\n\u001b[1;32m    700\u001b[0m     \u001b[0;32mif\u001b[0m \u001b[0mcopy\u001b[0m \u001b[0;32mor\u001b[0m \u001b[0mis_object_dtype\u001b[0m\u001b[0;34m(\u001b[0m\u001b[0marr\u001b[0m\u001b[0;34m)\u001b[0m \u001b[0;32mor\u001b[0m \u001b[0mis_object_dtype\u001b[0m\u001b[0;34m(\u001b[0m\u001b[0mdtype\u001b[0m\u001b[0;34m)\u001b[0m\u001b[0;34m:\u001b[0m\u001b[0;34m\u001b[0m\u001b[0;34m\u001b[0m\u001b[0m\n\u001b[1;32m    701\u001b[0m         \u001b[0;31m# Explicit copy, or required since NumPy can't view from / to object.\u001b[0m\u001b[0;34m\u001b[0m\u001b[0;34m\u001b[0m\u001b[0;34m\u001b[0m\u001b[0m\n\u001b[0;32m--> 702\u001b[0;31m         \u001b[0;32mreturn\u001b[0m \u001b[0marr\u001b[0m\u001b[0;34m.\u001b[0m\u001b[0mastype\u001b[0m\u001b[0;34m(\u001b[0m\u001b[0mdtype\u001b[0m\u001b[0;34m,\u001b[0m \u001b[0mcopy\u001b[0m\u001b[0;34m=\u001b[0m\u001b[0;32mTrue\u001b[0m\u001b[0;34m)\u001b[0m\u001b[0;34m\u001b[0m\u001b[0;34m\u001b[0m\u001b[0m\n\u001b[0m\u001b[1;32m    703\u001b[0m \u001b[0;34m\u001b[0m\u001b[0m\n\u001b[1;32m    704\u001b[0m     \u001b[0;32mreturn\u001b[0m \u001b[0marr\u001b[0m\u001b[0;34m.\u001b[0m\u001b[0mview\u001b[0m\u001b[0;34m(\u001b[0m\u001b[0mdtype\u001b[0m\u001b[0;34m)\u001b[0m\u001b[0;34m\u001b[0m\u001b[0;34m\u001b[0m\u001b[0m\n",
      "\u001b[0;31mKeyboardInterrupt\u001b[0m: "
     ]
    }
   ],
   "source": [
    "#These will become our scaled-by-dosage columns\n",
    "raw['scaled_old_per_unit'] = raw['old_nadac_per_unit']\n",
    "raw['scaled_new_per_unit'] = raw['new_nadac_per_unit']\n",
    "\n",
    "for drug in raw['drug_name'].unique():\n",
    "    \n",
    "    #Create Dataframe Specific to drug\n",
    "    drug_info = raw[raw['drug_name'] == drug]\n",
    "    \n",
    "    #Check and see if there are more than one dosage\n",
    "    if len(drug_info['dosage'].unique()) > 1:\n",
    "        \n",
    "        #Look at every unique date available to the individual drug\n",
    "        for date in drug_info['start_date'].unique():\n",
    "            \n",
    "            #Create dataframe for the drug within each unique date\n",
    "            drug_date_info = drug_info[drug_info['start_date'] == date]\n",
    "            \n",
    "            #See if there are more than one dosages represented in the date\n",
    "            if len(drug_date_info['dosage']) > 1:\n",
    "                \n",
    "                #Perform scaling opperations\n",
    "                largest_dosage = max(drug_date_info['dosage'])\n",
    "                \n",
    "                #Set the value in the newly created column: Note if there aren't enough dosages to scale, the scaled\n",
    "                #price is not altered from its original value.\n",
    "                raw[(raw['start_date'] == date) & (raw['drug_name']) == drug]['scaled_old_per_unit'] = \\\n",
    "                largest_dosage / drug_date_info['dosage'] * drug_date_info['old_nadac_per_unit']\n",
    "                \n",
    "                raw[(raw['start_date'] == date) & (raw['drug_name']) == drug]['scaled_new_per_unit'] = \\\n",
    "                largest_dosage / drug_date_info['dosage'] * drug_date_info['new_nadac_per_unit']"
   ]
  },
  {
   "cell_type": "code",
   "execution_count": 7,
   "metadata": {},
   "outputs": [
    {
     "name": "stdout",
     "output_type": "stream",
     "text": [
      "This dataset represents 41876 unique NDCs over 416775 entries.\n",
      "There are 4787 unique NDC descriptions represented in this dataset.\n",
      "\n",
      "Unique Values in Raw Data per Column:\n",
      "ndc_description \n",
      " 4787\n",
      "ndc \n",
      " 41876\n",
      "old_nadac_per_unit \n",
      " 49345\n",
      "new_nadac_per_unit \n",
      " 49387\n",
      "classification_for_rate_setting \n",
      " 2\n",
      "percent_change \n",
      " 6081\n",
      "primary_reason \n",
      " 4\n",
      "start_date \n",
      " 107\n",
      "end_date \n",
      " 107\n",
      "days_effective \n",
      " 2\n",
      "days_count \n",
      " 107\n",
      "year-month \n",
      " 25\n",
      "drug_name \n",
      " 2350\n",
      "dosage \n",
      " 215\n",
      "dosage_unit \n",
      " 134\n",
      "drug_form \n",
      " 368\n",
      "Total Number Observations:\n",
      " 416775\n",
      "datetime64[ns]\n",
      "[6 7]\n"
     ]
    }
   ],
   "source": [
    "print('This dataset represents {} unique NDCs over {} entries.'.format(len(raw['ndc'].unique()), raw.shape[0]))\n",
    "print('There are {} unique NDC descriptions represented in this dataset.'.format(len(raw['ndc_description'].unique())))\n",
    "\n",
    "print('\\nUnique Values in Raw Data per Column:')\n",
    "list_unique_counts(raw)\n",
    "\n",
    "print(raw['start_date'].dtype)\n",
    "\n",
    "print(raw['days_effective'].unique())"
   ]
  },
  {
   "cell_type": "code",
   "execution_count": 8,
   "metadata": {},
   "outputs": [
    {
     "name": "stdout",
     "output_type": "stream",
     "text": [
      "Top value counts for NDC:\n"
     ]
    },
    {
     "data": {
      "text/plain": [
       "31722040501    22\n",
       "59762502301    22\n",
       "60505255101    22\n",
       "60505255105    22\n",
       "51079076530    22\n",
       "Name: ndc, dtype: int64"
      ]
     },
     "metadata": {},
     "output_type": "display_data"
    },
    {
     "name": "stdout",
     "output_type": "stream",
     "text": [
      "\n",
      "Top value counts for NDC description:\n"
     ]
    },
    {
     "data": {
      "text/plain": [
       "METFORMIN HCL 500 MG TABLET      1976\n",
       "LISINOPRIL 20 MG TABLET          1628\n",
       "LISINOPRIL 10 MG TABLET          1567\n",
       "AMLODIPINE BESYLATE 5 MG TAB     1551\n",
       "AMLODIPINE BESYLATE 10 MG TAB    1508\n",
       "Name: ndc_description, dtype: int64"
      ]
     },
     "metadata": {},
     "output_type": "display_data"
    }
   ],
   "source": [
    "print('Top value counts for NDC:')\n",
    "dsp(raw['ndc'].value_counts().sort_values(ascending = False).head())\n",
    "\n",
    "print('\\nTop value counts for NDC description:')\n",
    "dsp(raw['ndc_description'].value_counts().sort_values(ascending = False).head())"
   ]
  },
  {
   "cell_type": "markdown",
   "metadata": {},
   "source": [
    "### Normalization"
   ]
  },
  {
   "cell_type": "code",
   "execution_count": 36,
   "metadata": {},
   "outputs": [],
   "source": [
    "#Check correlation between dosage and price witin each drug\n",
    "top_10 = raw['drug_name'].value_counts().sort_values(ascending = False)[:20].index"
   ]
  },
  {
   "cell_type": "code",
   "execution_count": 37,
   "metadata": {},
   "outputs": [
    {
     "name": "stdout",
     "output_type": "stream",
     "text": [
      "Dosage to per-unit price correlation for 10 most changed drugs:\n",
      "\n",
      "(Pearson Correlation Coefficient, P-Value)\n",
      "LISINOPRIL\n",
      "(0.864420129149428, 0.0)\n",
      "RISPERIDONE\n",
      "(0.2033609498629652, 5.499571296895248e-52)\n",
      "GABAPENTIN\n",
      "(0.8569656229109558, 0.0)\n",
      "SIMVASTATIN\n",
      "(0.8618310041791036, 0.0)\n",
      "AMLODIPINE BESYLATE\n",
      "(0.7568323175886235, 0.0)\n",
      "QUETIAPINE FUMARATE\n",
      "(0.9519636727113635, 0.0)\n",
      "IBUPROFEN\n",
      "(0.7836383973226292, 0.0)\n",
      "METFORMIN HCL\n",
      "(0.9742844110646679, 0.0)\n",
      "OLANZAPINE\n",
      "(0.9801290331139227, 0.0)\n",
      "CITALOPRAM HBR\n",
      "(-0.08183624262301034, 4.367269436408418e-06)\n",
      "LEVETIRACETAM\n",
      "(0.911590313135831, 0.0)\n",
      "AMOXICILLIN\n",
      "(0.5428050462190125, 2.6259675320258957e-234)\n",
      "CARVEDILOL\n",
      "(0.42290241643306814, 1.0370271316225878e-131)\n",
      "LOSARTAN POTASSIUM\n",
      "(0.8802892558883041, 0.0)\n",
      "LAMOTRIGINE\n",
      "(-0.2922914888777595, 1.0232722712910593e-57)\n",
      "MONTELUKAST SOD\n",
      "(-0.2681767547853191, 4.2858183401626166e-45)\n",
      "SERTRALINE HCL\n",
      "(0.317493212045036, 4.3023427563742916e-62)\n",
      "PIOGLITAZONE HCL\n",
      "(0.8569806152381154, 0.0)\n",
      "ALPRAZOLAM\n",
      "(0.07107803147447654, 0.000324556779184953)\n",
      "WARFARIN SODIUM\n",
      "(0.1935212654254796, 1.1177672001088698e-22)\n"
     ]
    }
   ],
   "source": [
    "#Check correlation between dosage and price within individual drugs\n",
    "print('Dosage to per-unit price correlation for 10 most changed drugs:\\n')\n",
    "print('(Pearson Correlation Coefficient, P-Value)')\n",
    "for drug in top_10:\n",
    "    drug_changelog = raw[raw['drug_name'] == drug]\n",
    "    print(drug)\n",
    "    print(stats.pearsonr(drug_changelog['new_nadac_per_unit'].values, drug_changelog['dosage'].values))"
   ]
  },
  {
   "cell_type": "code",
   "execution_count": 11,
   "metadata": {},
   "outputs": [],
   "source": [
    "#Create drugs dataframe\n",
    "drugs = raw[['drug_name','old_nadac_per_unit','new_nadac_per_unit']].groupby(['drug_name']).mean().rename(\n",
    "    {'old_nadac_per_unit' : 'old_average_per_unit','new_nadac_per_unit': 'new_average_per_unit'}, axis = 1)\n",
    "drugs['percent_average_change'] = (drugs['new_average_per_unit'] \n",
    "                                   - drugs['old_average_per_unit']) / drugs['new_average_per_unit'] * 100"
   ]
  },
  {
   "cell_type": "code",
   "execution_count": 12,
   "metadata": {},
   "outputs": [
    {
     "data": {
      "text/html": [
       "<div>\n",
       "<style scoped>\n",
       "    .dataframe tbody tr th:only-of-type {\n",
       "        vertical-align: middle;\n",
       "    }\n",
       "\n",
       "    .dataframe tbody tr th {\n",
       "        vertical-align: top;\n",
       "    }\n",
       "\n",
       "    .dataframe thead th {\n",
       "        text-align: right;\n",
       "    }\n",
       "</style>\n",
       "<table border=\"1\" class=\"dataframe\">\n",
       "  <thead>\n",
       "    <tr style=\"text-align: right;\">\n",
       "      <th></th>\n",
       "      <th>old_average_per_unit</th>\n",
       "      <th>new_average_per_unit</th>\n",
       "      <th>percent_average_change</th>\n",
       "      <th>max_per_unit</th>\n",
       "      <th>min_per_unit</th>\n",
       "      <th>max_dosage</th>\n",
       "    </tr>\n",
       "    <tr>\n",
       "      <th>drug_name</th>\n",
       "      <th></th>\n",
       "      <th></th>\n",
       "      <th></th>\n",
       "      <th></th>\n",
       "      <th></th>\n",
       "      <th></th>\n",
       "    </tr>\n",
       "  </thead>\n",
       "  <tbody>\n",
       "    <tr>\n",
       "      <th></th>\n",
       "      <td>0.061608</td>\n",
       "      <td>0.061494</td>\n",
       "      <td>-0.185384</td>\n",
       "      <td>0.06650</td>\n",
       "      <td>0.05932</td>\n",
       "      <td>8.0</td>\n",
       "    </tr>\n",
       "    <tr>\n",
       "      <th>12-HR DECONGEST</th>\n",
       "      <td>0.341570</td>\n",
       "      <td>0.342896</td>\n",
       "      <td>0.386823</td>\n",
       "      <td>0.37681</td>\n",
       "      <td>0.32264</td>\n",
       "      <td>120.0</td>\n",
       "    </tr>\n",
       "    <tr>\n",
       "      <th>ABACAVIR</th>\n",
       "      <td>4.303600</td>\n",
       "      <td>4.246232</td>\n",
       "      <td>-1.351048</td>\n",
       "      <td>6.13318</td>\n",
       "      <td>3.09071</td>\n",
       "      <td>300.0</td>\n",
       "    </tr>\n",
       "    <tr>\n",
       "      <th>ABILIFY</th>\n",
       "      <td>28.790676</td>\n",
       "      <td>30.332430</td>\n",
       "      <td>5.082858</td>\n",
       "      <td>40.98323</td>\n",
       "      <td>5.50154</td>\n",
       "      <td>30.0</td>\n",
       "    </tr>\n",
       "    <tr>\n",
       "      <th>ABILIFY DISCMELT</th>\n",
       "      <td>30.165025</td>\n",
       "      <td>34.659615</td>\n",
       "      <td>12.967801</td>\n",
       "      <td>35.01615</td>\n",
       "      <td>34.30308</td>\n",
       "      <td>15.0</td>\n",
       "    </tr>\n",
       "  </tbody>\n",
       "</table>\n",
       "</div>"
      ],
      "text/plain": [
       "                  old_average_per_unit  new_average_per_unit  \\\n",
       "drug_name                                                      \n",
       "                              0.061608              0.061494   \n",
       "12-HR DECONGEST               0.341570              0.342896   \n",
       "ABACAVIR                      4.303600              4.246232   \n",
       "ABILIFY                      28.790676             30.332430   \n",
       "ABILIFY DISCMELT             30.165025             34.659615   \n",
       "\n",
       "                  percent_average_change  max_per_unit  min_per_unit  \\\n",
       "drug_name                                                              \n",
       "                               -0.185384       0.06650       0.05932   \n",
       "12-HR DECONGEST                 0.386823       0.37681       0.32264   \n",
       "ABACAVIR                       -1.351048       6.13318       3.09071   \n",
       "ABILIFY                         5.082858      40.98323       5.50154   \n",
       "ABILIFY DISCMELT               12.967801      35.01615      34.30308   \n",
       "\n",
       "                  max_dosage  \n",
       "drug_name                     \n",
       "                         8.0  \n",
       "12-HR DECONGEST        120.0  \n",
       "ABACAVIR               300.0  \n",
       "ABILIFY                 30.0  \n",
       "ABILIFY DISCMELT        15.0  "
      ]
     },
     "execution_count": 12,
     "metadata": {},
     "output_type": "execute_result"
    }
   ],
   "source": [
    "max_price, min_price, max_dosage = [], [], []\n",
    "for drug in drugs.index:\n",
    "    max_price.append(max(raw[raw['drug_name'] == drug]['new_nadac_per_unit']))\n",
    "    min_price.append(min(raw[raw['drug_name'] == drug]['new_nadac_per_unit']))\n",
    "    max_dosage.append(max(raw[raw['drug_name'] == drug]['dosage']))\n",
    "drugs['max_per_unit'] = max_price\n",
    "drugs['min_per_unit'] = min_price\n",
    "drugs['max_dosage'] = max_dosage\n",
    "drugs.head()"
   ]
  },
  {
   "cell_type": "code",
   "execution_count": 13,
   "metadata": {},
   "outputs": [
    {
     "data": {
      "image/png": "[encoded data removed]",
      "text/plain": [
       "<Figure size 432x288 with 1 Axes>"
      ]
     },
     "metadata": {
      "needs_background": "light"
     },
     "output_type": "display_data"
    }
   ],
   "source": [
    "plt.title('Max Price per Unit Distribution')\n",
    "#drugs[(np.abs(stats.zscore(drugs)) < 1).all(axis=1)]\n",
    "plt.hist(drugs['max_per_unit'])\n",
    "\n",
    "plt.xlabel('Price per Unit')\n",
    "plt.show()"
   ]
  },
  {
   "cell_type": "code",
   "execution_count": 14,
   "metadata": {},
   "outputs": [],
   "source": [
    "#Scale Prices by Dosage"
   ]
  },
  {
   "cell_type": "markdown",
   "metadata": {},
   "source": [
    "### Metrics for General Volatility\n",
    "\n",
    "#### Changes per Day"
   ]
  },
  {
   "cell_type": "code",
   "execution_count": 15,
   "metadata": {
    "scrolled": true
   },
   "outputs": [
    {
     "data": {
      "text/plain": [
       "2013-12-05      105\n",
       "2013-12-11    15729\n",
       "2013-12-18       61\n",
       "2013-12-25       11\n",
       "2014-01-08      318\n",
       "Name: start_date, dtype: int64"
      ]
     },
     "metadata": {},
     "output_type": "display_data"
    },
    {
     "name": "stdout",
     "output_type": "stream",
     "text": [
      "Our data represents the range of dates between 2013-12-05 and 2015-12-30\n"
     ]
    }
   ],
   "source": [
    "#Changes per day\n",
    "change_count = raw['start_date'].value_counts().sort_index()\n",
    "dsp(change_count.head())\n",
    "\n",
    "print('Our data represents the range of dates between {} and {}'.format(change_count.index.min().strftime('%Y-%m-%d'),\n",
    "                                                                        change_count.index.max().strftime('%Y-%m-%d')))"
   ]
  },
  {
   "cell_type": "code",
   "execution_count": 16,
   "metadata": {},
   "outputs": [
    {
     "name": "stdout",
     "output_type": "stream",
     "text": [
      "2015-12-16    17269\n",
      "2015-11-11    17249\n",
      "2015-07-15    16932\n",
      "2015-10-14    16918\n",
      "2015-06-10    16859\n",
      "2015-02-11    16763\n",
      "2015-08-12    16731\n",
      "2015-05-13    16719\n",
      "2014-11-12    16693\n",
      "2015-04-15    16626\n",
      "Name: start_date, dtype: int64\n"
     ]
    }
   ],
   "source": [
    "print(change_count.sort_values(ascending = False)[:10])"
   ]
  },
  {
   "cell_type": "code",
   "execution_count": 17,
   "metadata": {},
   "outputs": [
    {
     "data": {
      "image/png": "[encoded data removed]",
      "text/plain": [
       "<Figure size 432x288 with 1 Axes>"
      ]
     },
     "metadata": {
      "needs_background": "light"
     },
     "output_type": "display_data"
    }
   ],
   "source": [
    "plt.title('Changes Implemented Per Day')\n",
    "plt.plot(change_count.index.strftime('%Y-%m-%d'), change_count.values, '.')\n",
    "plt.xticks(np.arange(0,len(change_count.index), round((len(change_count.index)) / 8)), rotation = 70)\n",
    "plt.show()"
   ]
  },
  {
   "cell_type": "markdown",
   "metadata": {},
   "source": [
    "##### What kind of changes happen at what times."
   ]
  },
  {
   "cell_type": "code",
   "execution_count": null,
   "metadata": {},
   "outputs": [],
   "source": [
    "#Group dates into high-change days or low change days\n",
    "CHANGE_LIMIT = 10000\n",
    "\n",
    "#Group by day\n",
    "daily = raw.groupby()"
   ]
  },
  {
   "cell_type": "markdown",
   "metadata": {},
   "source": [
    "#### Changes per Month"
   ]
  },
  {
   "cell_type": "code",
   "execution_count": 18,
   "metadata": {},
   "outputs": [
    {
     "data": {
      "text/plain": [
       "2013-12    15906\n",
       "2014-01    16419\n",
       "2014-02    15824\n",
       "2014-03    15864\n",
       "2014-04    16187\n",
       "Name: year-month, dtype: int64"
      ]
     },
     "execution_count": 18,
     "metadata": {},
     "output_type": "execute_result"
    }
   ],
   "source": [
    "mnth_count = raw['year-month'].value_counts().sort_index()\n",
    "mnth_count.head()"
   ]
  },
  {
   "cell_type": "code",
   "execution_count": 19,
   "metadata": {},
   "outputs": [
    {
     "data": {
      "image/png": "[encoded data removed]",
      "text/plain": [
       "<Figure size 432x288 with 1 Axes>"
      ]
     },
     "metadata": {
      "needs_background": "light"
     },
     "output_type": "display_data"
    }
   ],
   "source": [
    "plt.title('Changes per Month')\n",
    "plt.plot(mnth_count)\n",
    "plt.xticks(np.arange(0,len(mnth_count.index), round((len(mnth_count.index)) / 8)), rotation = 70)\n",
    "plt.xlabel('date')\n",
    "plt.ylabel('count')\n",
    "plt.show()"
   ]
  },
  {
   "cell_type": "markdown",
   "metadata": {},
   "source": [
    "#### Average Rate Change per Month"
   ]
  },
  {
   "cell_type": "code",
   "execution_count": 20,
   "metadata": {},
   "outputs": [
    {
     "data": {
      "text/html": [
       "<div>\n",
       "<style scoped>\n",
       "    .dataframe tbody tr th:only-of-type {\n",
       "        vertical-align: middle;\n",
       "    }\n",
       "\n",
       "    .dataframe tbody tr th {\n",
       "        vertical-align: top;\n",
       "    }\n",
       "\n",
       "    .dataframe thead th {\n",
       "        text-align: right;\n",
       "    }\n",
       "</style>\n",
       "<table border=\"1\" class=\"dataframe\">\n",
       "  <thead>\n",
       "    <tr style=\"text-align: right;\">\n",
       "      <th></th>\n",
       "      <th>old_nadac_per_unit</th>\n",
       "      <th>new_nadac_per_unit</th>\n",
       "      <th>percent_change</th>\n",
       "      <th>days_effective</th>\n",
       "      <th>days_count</th>\n",
       "      <th>dosage</th>\n",
       "    </tr>\n",
       "    <tr>\n",
       "      <th>year-month</th>\n",
       "      <th></th>\n",
       "      <th></th>\n",
       "      <th></th>\n",
       "      <th></th>\n",
       "      <th></th>\n",
       "      <th></th>\n",
       "    </tr>\n",
       "  </thead>\n",
       "  <tbody>\n",
       "    <tr>\n",
       "      <th>2013-12</th>\n",
       "      <td>1.833895</td>\n",
       "      <td>1.896660</td>\n",
       "      <td>5.073839</td>\n",
       "      <td>6.993399</td>\n",
       "      <td>12.996919</td>\n",
       "      <td>108.309114</td>\n",
       "    </tr>\n",
       "    <tr>\n",
       "      <th>2014-01</th>\n",
       "      <td>3.760482</td>\n",
       "      <td>3.888046</td>\n",
       "      <td>7.562463</td>\n",
       "      <td>7.000000</td>\n",
       "      <td>47.923686</td>\n",
       "      <td>106.965057</td>\n",
       "    </tr>\n",
       "    <tr>\n",
       "      <th>2014-02</th>\n",
       "      <td>4.357223</td>\n",
       "      <td>4.487732</td>\n",
       "      <td>-2.906283</td>\n",
       "      <td>7.000000</td>\n",
       "      <td>76.014156</td>\n",
       "      <td>107.657281</td>\n",
       "    </tr>\n",
       "    <tr>\n",
       "      <th>2014-03</th>\n",
       "      <td>2.195605</td>\n",
       "      <td>2.222135</td>\n",
       "      <td>0.376311</td>\n",
       "      <td>7.000000</td>\n",
       "      <td>103.998676</td>\n",
       "      <td>107.128001</td>\n",
       "    </tr>\n",
       "    <tr>\n",
       "      <th>2014-04</th>\n",
       "      <td>1.888697</td>\n",
       "      <td>1.899964</td>\n",
       "      <td>0.199421</td>\n",
       "      <td>7.000000</td>\n",
       "      <td>138.861617</td>\n",
       "      <td>107.159301</td>\n",
       "    </tr>\n",
       "  </tbody>\n",
       "</table>\n",
       "</div>"
      ],
      "text/plain": [
       "            old_nadac_per_unit  new_nadac_per_unit  percent_change  \\\n",
       "year-month                                                           \n",
       "2013-12               1.833895            1.896660        5.073839   \n",
       "2014-01               3.760482            3.888046        7.562463   \n",
       "2014-02               4.357223            4.487732       -2.906283   \n",
       "2014-03               2.195605            2.222135        0.376311   \n",
       "2014-04               1.888697            1.899964        0.199421   \n",
       "\n",
       "            days_effective  days_count      dosage  \n",
       "year-month                                          \n",
       "2013-12           6.993399   12.996919  108.309114  \n",
       "2014-01           7.000000   47.923686  106.965057  \n",
       "2014-02           7.000000   76.014156  107.657281  \n",
       "2014-03           7.000000  103.998676  107.128001  \n",
       "2014-04           7.000000  138.861617  107.159301  "
      ]
     },
     "execution_count": 20,
     "metadata": {},
     "output_type": "execute_result"
    }
   ],
   "source": [
    "mnth_avgs = raw.groupby(['year-month']).mean()\n",
    "mnth_avgs.head()"
   ]
  },
  {
   "cell_type": "code",
   "execution_count": 21,
   "metadata": {},
   "outputs": [
    {
     "data": {
      "image/png": "[encoded data removed]",
      "text/plain": [
       "<Figure size 432x288 with 1 Axes>"
      ]
     },
     "metadata": {
      "needs_background": "light"
     },
     "output_type": "display_data"
    }
   ],
   "source": [
    "plt.title('Average Monthly Change')\n",
    "plt.plot(mnth_avgs['percent_change'])\n",
    "plt.xticks(np.arange(0,len(mnth_avgs.index), round((len(mnth_avgs.index)) / 8)), rotation = 70)\n",
    "plt.show()"
   ]
  },
  {
   "cell_type": "code",
   "execution_count": 22,
   "metadata": {},
   "outputs": [
    {
     "data": {
      "text/plain": [
       "Text(0, 0.5, 'Observations')"
      ]
     },
     "execution_count": 22,
     "metadata": {},
     "output_type": "execute_result"
    },
    {
     "data": {
      "image/png": "[encoded data removed]",
      "text/plain": [
       "<Figure size 432x288 with 1 Axes>"
      ]
     },
     "metadata": {
      "needs_background": "light"
     },
     "output_type": "display_data"
    }
   ],
   "source": [
    "plt.title('Average Monthly Percent Change Distribution')\n",
    "mnth_avgs['percent_change'].hist()\n",
    "plt.xlabel('Percent Change')\n",
    "plt.ylabel('Observations')"
   ]
  },
  {
   "cell_type": "markdown",
   "metadata": {},
   "source": [
    "#### Total Price Gain/Loss per Month"
   ]
  },
  {
   "cell_type": "code",
   "execution_count": 23,
   "metadata": {},
   "outputs": [],
   "source": [
    "raw['total_price_change'] = raw['new_nadac_per_unit'] - raw['old_nadac_per_unit']\n",
    "mnth_sum = raw.groupby(['year-month']).sum()"
   ]
  },
  {
   "cell_type": "code",
   "execution_count": 24,
   "metadata": {},
   "outputs": [
    {
     "data": {
      "image/png": "[encoded data removed]",
      "text/plain": [
       "<Figure size 432x288 with 1 Axes>"
      ]
     },
     "metadata": {
      "needs_background": "light"
     },
     "output_type": "display_data"
    }
   ],
   "source": [
    "plt.title('Total Price Change per Month')\n",
    "plt.plot(mnth_sum['total_price_change'], '*')\n",
    "plt.xticks(np.arange(0,len(mnth_sum.index), round((len(mnth_sum.index)) / 8)), rotation = 70)\n",
    "plt.show()"
   ]
  },
  {
   "cell_type": "markdown",
   "metadata": {},
   "source": [
    "### Forecasting\n",
    "\n",
    "#### Generic and Branded"
   ]
  },
  {
   "cell_type": "code",
   "execution_count": 25,
   "metadata": {},
   "outputs": [
    {
     "name": "stdout",
     "output_type": "stream",
     "text": [
      "96.8% of changes are to generic medicines.\n"
     ]
    },
    {
     "name": "stderr",
     "output_type": "stream",
     "text": [
      "/home/alexander/.local/lib/python3.6/site-packages/matplotlib/axes/_axes.py:6521: MatplotlibDeprecationWarning: \n",
      "The 'normed' kwarg was deprecated in Matplotlib 2.1 and will be removed in 3.1. Use 'density' instead.\n",
      "  alternative=\"'density'\", removal=\"3.1\")\n"
     ]
    },
    {
     "data": {
      "image/png": "[encoded data removed]",
      "text/plain": [
       "<Figure size 432x288 with 1 Axes>"
      ]
     },
     "metadata": {
      "needs_background": "light"
     },
     "output_type": "display_data"
    },
    {
     "name": "stdout",
     "output_type": "stream",
     "text": [
      "Mean Percent Change for Generic Drugs: 1.23%\n",
      "Mean Percent Change for Branded Drugs: 6.29%\n",
      "Standad Deviation for Generic Drugs: 27.12%\n",
      "Standad Deviation for Branded Drugs: 17.64%\n",
      "T-Statistic: -21.0\n",
      "P-Value: 0.0\n"
     ]
    }
   ],
   "source": [
    "print('{}% of changes are to generic medicines.'.format(round(len(raw[raw['classification_for_rate_setting'] == 'G'])\n",
    "                                                              / raw.shape[0], 3) * 100))\n",
    "\n",
    "raw_generic = raw[raw['classification_for_rate_setting'] == 'G']['percent_change']\n",
    "raw_branded = raw[raw['classification_for_rate_setting'] == 'B']['percent_change']\n",
    "\n",
    "#Compare how often and the magnitude of change between generic and branded medicine.\n",
    "plt.title('Generic and Branded Percent Change Distribution')\n",
    "plt.hist(raw_generic, normed = True)\n",
    "plt.hist(raw_branded, normed = True)\n",
    "\n",
    "plt.xlabel('Percent Change')\n",
    "plt.show()\n",
    "\n",
    "#Print Stats\n",
    "print('Mean Percent Change for Generic Drugs: {}%'.format(round(raw_generic.mean() ,2)))\n",
    "print('Mean Percent Change for Branded Drugs: {}%'.format(round(raw_branded.mean() ,2)))\n",
    "\n",
    "print('Standad Deviation for Generic Drugs: {}%'.format(round(raw_generic.std() ,2)))\n",
    "print('Standad Deviation for Branded Drugs: {}%'.format(round(raw_branded.std() ,2)))\n",
    "\n",
    "#T-test\n",
    "t_stat, p_val = stats.ttest_ind(raw_generic, raw_branded)\n",
    "\n",
    "print('T-Statistic: {}'.format(round(t_stat)))\n",
    "print('P-Value: {}'.format(round(p_val)))\n"
   ]
  },
  {
   "cell_type": "code",
   "execution_count": 26,
   "metadata": {},
   "outputs": [
    {
     "name": "stdout",
     "output_type": "stream",
     "text": [
      "         ndc_description          ndc  old_nadac_per_unit  new_nadac_per_unit  \\\n",
      "24  ALREX 0.2% EYE DROPS  24208035305            27.08802            29.52622   \n",
      "25  ALREX 0.2% EYE DROPS  24208035310            27.39300            29.85892   \n",
      "26  ATIVAN 0.5 MG TABLET  64455006301             4.35697             5.06236   \n",
      "27    ATIVAN 1 MG TABLET  64455006401             5.84274             6.78862   \n",
      "28    ATIVAN 1 MG TABLET  64455006410             5.84274             6.78862   \n",
      "\n",
      "   classification_for_rate_setting  percent_change  primary_reason start_date  \\\n",
      "24                               B            9.00  WAC Adjustment 2013-12-05   \n",
      "25                               B            9.00  WAC Adjustment 2013-12-05   \n",
      "26                               B           16.19  WAC Adjustment 2013-12-05   \n",
      "27                               B           16.19  WAC Adjustment 2013-12-05   \n",
      "28                               B           16.19  WAC Adjustment 2013-12-05   \n",
      "\n",
      "     end_date  days_effective  days_count year-month drug_name  dosage  \\\n",
      "24 2013-12-11               6           7    2013-12     ALREX     0.2   \n",
      "25 2013-12-11               6           7    2013-12     ALREX     0.2   \n",
      "26 2013-12-11               6           7    2013-12    ATIVAN     0.5   \n",
      "27 2013-12-11               6           7    2013-12    ATIVAN     1.0   \n",
      "28 2013-12-11               6           7    2013-12    ATIVAN     1.0   \n",
      "\n",
      "      dosage_unit  drug_form  total_price_change  \n",
      "24  concentration  EYE DROPS             2.43820  \n",
      "25  concentration  EYE DROPS             2.46592  \n",
      "26             MG     TABLET             0.70539  \n",
      "27             MG     TABLET             0.94588  \n",
      "28             MG     TABLET             0.94588  \n"
     ]
    }
   ],
   "source": [
    "print(raw.head())"
   ]
  },
  {
   "cell_type": "code",
   "execution_count": 27,
   "metadata": {},
   "outputs": [],
   "source": [
    "#classification:  how volatile the durg price changes are\n",
    "#features, how often the price is changes (new column); classification, percent_change, primary reason"
   ]
  },
  {
   "cell_type": "code",
   "execution_count": 28,
   "metadata": {},
   "outputs": [],
   "source": [
    "\n",
    "#remove duplicattes; ndc_desc, olds_nadac, new_nadac, class, percetn_change, primary reason, start_date"
   ]
  },
  {
   "cell_type": "code",
   "execution_count": 29,
   "metadata": {},
   "outputs": [
    {
     "ename": "SyntaxError",
     "evalue": "invalid syntax (<ipython-input-29-0c67b513e40f>, line 5)",
     "output_type": "error",
     "traceback": [
      "\u001b[0;36m  File \u001b[0;32m\"<ipython-input-29-0c67b513e40f>\"\u001b[0;36m, line \u001b[0;32m5\u001b[0m\n\u001b[0;31m    old_nadac = (4.35697 x 2 + 5.84274 ) / 2\u001b[0m\n\u001b[0m                         ^\u001b[0m\n\u001b[0;31mSyntaxError\u001b[0m\u001b[0;31m:\u001b[0m invalid syntax\n"
     ]
    }
   ],
   "source": [
    "#get dosage (1mg ); calculate the price per unit; average if necessary\n",
    "# Ativan 0.5 MG -> 1.0MG; 4.35697 * 2\n",
    "# Ativan 1.0 MG \n",
    "# Ativan 1.0 MG  5. 9will be a duplicate )\n",
    "old_nadac = (4.35697 x 2 + 5.84274 ) / 2"
   ]
  },
  {
   "cell_type": "code",
   "execution_count": null,
   "metadata": {},
   "outputs": [],
   "source": [
    "#finacl column\n",
    "durg_name, start_date, old_nac, new_nadac, classi, percent change(calc again), total_rice_ch (calc again)"
   ]
  },
  {
   "cell_type": "markdown",
   "metadata": {},
   "source": [
    "#### Individual Drugs\n",
    "\n",
    "__By NDC Description__"
   ]
  },
  {
   "cell_type": "code",
   "execution_count": null,
   "metadata": {},
   "outputs": [],
   "source": [
    "#Find most frequently changed ndc prices\n",
    "top_25_desc = raw['drug_name'].value_counts().sort_values(ascending = False)[:25]\n",
    "\n",
    "#Find Database to group these drugs by their use.\n",
    "#Create regex to find drug names (ie metformin HCL is all the same) Stop at the number. call it ndc_name of ndc_formula\n",
    "#These columns can be divided into three: name, dosage, form factor\n",
    "dsp(top_25_desc)\n",
    "\n",
    "#Filter raw data for these descriptions\n",
    "desc_raw_25 = raw[raw['drug_name'].isin(top_25_desc.index)].sort_values('start_date', ascending = True)\n",
    "\n",
    "dsp(desc_raw_25.head())\n",
    "\n",
    "#Seperate by the word or words before the number"
   ]
  },
  {
   "cell_type": "code",
   "execution_count": null,
   "metadata": {},
   "outputs": [],
   "source": [
    "#One hot encode important categorical data\n",
    "#gen_bran = one_hot_encoder(desc_raw_25['classification_for_rate_setting'])\n",
    "#pri_reas = one_hot_encoder(desc_raw_25['primary_reason'])\n",
    "#drug_desc = one_hot_encoder(desc_raw_25['ndc_description'])\n",
    "\n",
    "#CONSOLIDATE THIS\n",
    "categorical_features = ['classification_for_rate_setting', 'primary_reason', 'drug_name']\n",
    "cf_dataframe = pd.DataFrame()\n",
    "for feature in categorical_features:\n",
    "    cf_dataframe = pd.concat([cf_dataframe, one_hot_encoder(desc_raw_25[feature])], axis = 1, sort = False)"
   ]
  },
  {
   "cell_type": "code",
   "execution_count": null,
   "metadata": {},
   "outputs": [],
   "source": [
    "raw.columns"
   ]
  },
  {
   "cell_type": "code",
   "execution_count": null,
   "metadata": {},
   "outputs": [],
   "source": [
    "#Drop NA\n",
    "raw.dropna(inplace = True)\n",
    "\n",
    "#Features and Labels\n",
    "features = ['days_count', 'old_nadac_per_unit']\n",
    "\n",
    "labels = ['percent_change']\n",
    "\n",
    "X_train, X_test = train_split(pd.concat([desc_raw_25[features], cf_dataframe], axis = 1, sort = False), \n",
    "                              TRAIN_SPLIT)\n",
    "\n",
    "#Y_train = desc_raw_25[labels][:]\n",
    "#Y_test = desc_raw_25[labels][:]\n",
    "#TO DO: COUNT THE DAYS SINCE EARLIEST IN DATASET\n",
    "Y_train, Y_test = train_split(desc_raw_25[labels], TRAIN_SPLIT)\n",
    "\n",
    "print(X_train.shape)\n",
    "print(X_test.shape)\n",
    "\n",
    "#dsp(X_train.head())\n",
    "#dsp(X_train.tail())\n",
    "\n",
    "#dsp(X_test.head())\n",
    "#dsp(X_test.tail())"
   ]
  },
  {
   "cell_type": "code",
   "execution_count": null,
   "metadata": {},
   "outputs": [],
   "source": [
    "#Forecasting Modeling Using Neural Nets\n",
    "from sklearn.neural_network import MLPRegressor\n",
    "mlp = MLPRegressor(hidden_layer_sizes = (100, 100, 100,))\n",
    "\n",
    "#Fit and Test\n",
    "mlp.fit(X_train, Y_train)"
   ]
  },
  {
   "cell_type": "code",
   "execution_count": null,
   "metadata": {},
   "outputs": [],
   "source": [
    "#Model Validation\n",
    "\n",
    "#Training Set Score\n",
    "print('Our model has a training set R2 of {}.'.format(round(mlp.score(X_train, Y_train), 4)))\n",
    "print('Our model has a testing set R2 of {}.'.format(round(mlp.score(X_test, Y_test), 4)))"
   ]
  },
  {
   "cell_type": "markdown",
   "metadata": {},
   "source": [
    "__BY NDC Number__"
   ]
  },
  {
   "cell_type": "code",
   "execution_count": null,
   "metadata": {},
   "outputs": [],
   "source": [
    "#Find most frequently changed ndc codes\n",
    "dsp(dsp(raw['ndc'].value_counts().sort_values(ascending = False)[:10]))\n",
    "\n",
    "#Discus final usage once conclusion is reached."
   ]
  },
  {
   "cell_type": "code",
   "execution_count": null,
   "metadata": {},
   "outputs": [],
   "source": []
  }
 ],
 "metadata": {
  "kernelspec": {
   "display_name": "Python 3",
   "language": "python",
   "name": "python3"
  },
  "language_info": {
   "codemirror_mode": {
    "name": "ipython",
    "version": 3
   },
   "file_extension": ".py",
   "mimetype": "text/x-python",
   "name": "python",
   "nbconvert_exporter": "python",
   "pygments_lexer": "ipython3",
   "version": "3.6.8"
  }
 },
 "nbformat": 4,
 "nbformat_minor": 2
}
