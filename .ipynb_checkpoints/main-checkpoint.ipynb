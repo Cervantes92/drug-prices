{
 "cells": [
  {
   "cell_type": "code",
   "execution_count": 1,
   "metadata": {},
   "outputs": [],
   "source": [
    "import pandas as pd\n",
    "import numpy as np\n",
    "import matplotlib.pyplot as plt\n",
    "\n",
    "from datetime import datetime\n",
    "from dateutil.parser import parse\n",
    "from sklearn.model_selection import train_test_split\n",
    "from IPython.display import display as dsp"
   ]
  },
  {
   "cell_type": "markdown",
   "metadata": {},
   "source": [
    "# United States Drug Prices: Forecasting and Analysis"
   ]
  },
  {
   "cell_type": "markdown",
   "metadata": {},
   "source": [
    "## Data Collection"
   ]
  },
  {
   "cell_type": "code",
   "execution_count": 2,
   "metadata": {},
   "outputs": [],
   "source": [
    "#Socrata SQL query\n",
    "SODA = '$limit=100000'\n",
    "URL = 'https://data.medicaid.gov/resource/444w-ftrz.csv?{}'.format(SODA)\n",
    "\n",
    "TRAIN_SPLIT = 0.8"
   ]
  },
  {
   "cell_type": "code",
   "execution_count": 3,
   "metadata": {},
   "outputs": [],
   "source": [
    "def list_unique_counts(df):\n",
    "    for col in df.columns:\n",
    "        print(col, '\\n', len(df[str(col)].unique()))\n",
    "    print('Total Number Observations:\\n', df.shape[0])\n",
    "\n",
    "def train_split(df, TRAIN_SPLIT):\n",
    "    split_point = int(len(df) * (TRAIN_SPLIT))\n",
    "    train = df[:split_point]\n",
    "    test = df[split_point:]\n",
    "    return train, test\n",
    "\n",
    "def strip_time(date):\n",
    "    date = date.replace('T00:00:00.000', '')\n",
    "    return datetime.strptime(date, '%Y-%m-%d')\n",
    "    #return(date[:-len('T00:00:00.000')])\n",
    "    #return datetime.datetime.strptime(date, '%Y-%m-%d').date()\n",
    "    \n",
    "def one_hot_encoder(series):\n",
    "    results = pd.DataFrame()\n",
    "    for entry in series.unique():\n",
    "        results[str(series.name) + '_' + str(entry)] = series.apply(lambda x: np.where(x == entry, 1, 0))\n",
    "        \n",
    "    return results"
   ]
  },
  {
   "cell_type": "code",
   "execution_count": 4,
   "metadata": {},
   "outputs": [],
   "source": [
    "raw = pd.read_csv(URL, parse_dates = True)\n",
    "\n",
    "#Convert dates to date format\n",
    "raw['start_date'] = raw['start_date'].apply(lambda x: strip_time(x))\n",
    "raw['end_date'] = raw['end_date'].apply(lambda x: strip_time(x))"
   ]
  },
  {
   "cell_type": "code",
   "execution_count": 5,
   "metadata": {},
   "outputs": [
    {
     "name": "stdout",
     "output_type": "stream",
     "text": [
      "Index(['ndc_description', 'ndc', 'old_nadac_per_unit', 'new_nadac_per_unit',\n",
      "       'classification_for_rate_setting', 'percent_change', 'primary_reason',\n",
      "       'start_date', 'end_date', 'effective_date'],\n",
      "      dtype='object')\n"
     ]
    },
    {
     "data": {
      "text/html": [
       "<div>\n",
       "<style scoped>\n",
       "    .dataframe tbody tr th:only-of-type {\n",
       "        vertical-align: middle;\n",
       "    }\n",
       "\n",
       "    .dataframe tbody tr th {\n",
       "        vertical-align: top;\n",
       "    }\n",
       "\n",
       "    .dataframe thead th {\n",
       "        text-align: right;\n",
       "    }\n",
       "</style>\n",
       "<table border=\"1\" class=\"dataframe\">\n",
       "  <thead>\n",
       "    <tr style=\"text-align: right;\">\n",
       "      <th></th>\n",
       "      <th>ndc_description</th>\n",
       "      <th>ndc</th>\n",
       "      <th>old_nadac_per_unit</th>\n",
       "      <th>new_nadac_per_unit</th>\n",
       "      <th>classification_for_rate_setting</th>\n",
       "      <th>percent_change</th>\n",
       "      <th>primary_reason</th>\n",
       "      <th>start_date</th>\n",
       "      <th>end_date</th>\n",
       "      <th>days_effective</th>\n",
       "      <th>days_count</th>\n",
       "    </tr>\n",
       "  </thead>\n",
       "  <tbody>\n",
       "    <tr>\n",
       "      <th>0</th>\n",
       "      <td>BLEPH-10 10% EYE DROPS</td>\n",
       "      <td>11980001105</td>\n",
       "      <td>4.96476</td>\n",
       "      <td>17.13978</td>\n",
       "      <td>B</td>\n",
       "      <td>245.23</td>\n",
       "      <td>WAC Adjustment</td>\n",
       "      <td>2013-11-28</td>\n",
       "      <td>2013-12-05</td>\n",
       "      <td>7</td>\n",
       "      <td>0</td>\n",
       "    </tr>\n",
       "    <tr>\n",
       "      <th>1</th>\n",
       "      <td>BLEPHAMIDE EYE DROPS</td>\n",
       "      <td>11980002205</td>\n",
       "      <td>16.68362</td>\n",
       "      <td>17.37665</td>\n",
       "      <td>B</td>\n",
       "      <td>4.15</td>\n",
       "      <td>WAC Adjustment</td>\n",
       "      <td>2013-11-28</td>\n",
       "      <td>2013-12-05</td>\n",
       "      <td>7</td>\n",
       "      <td>0</td>\n",
       "    </tr>\n",
       "    <tr>\n",
       "      <th>2</th>\n",
       "      <td>BLEPHAMIDE EYE DROPS</td>\n",
       "      <td>11980002210</td>\n",
       "      <td>12.36584</td>\n",
       "      <td>17.37265</td>\n",
       "      <td>B</td>\n",
       "      <td>40.49</td>\n",
       "      <td>WAC Adjustment</td>\n",
       "      <td>2013-11-28</td>\n",
       "      <td>2013-12-05</td>\n",
       "      <td>7</td>\n",
       "      <td>0</td>\n",
       "    </tr>\n",
       "    <tr>\n",
       "      <th>3</th>\n",
       "      <td>BLEPHAMIDE EYE OINTMENT</td>\n",
       "      <td>23031304</td>\n",
       "      <td>23.06996</td>\n",
       "      <td>24.56304</td>\n",
       "      <td>B</td>\n",
       "      <td>6.47</td>\n",
       "      <td>WAC Adjustment</td>\n",
       "      <td>2013-11-28</td>\n",
       "      <td>2013-12-05</td>\n",
       "      <td>7</td>\n",
       "      <td>0</td>\n",
       "    </tr>\n",
       "    <tr>\n",
       "      <th>4</th>\n",
       "      <td>FML FORTE 0.25% EYE DROPS</td>\n",
       "      <td>11980022805</td>\n",
       "      <td>6.61291</td>\n",
       "      <td>17.43335</td>\n",
       "      <td>B</td>\n",
       "      <td>163.63</td>\n",
       "      <td>WAC Adjustment</td>\n",
       "      <td>2013-11-28</td>\n",
       "      <td>2013-12-05</td>\n",
       "      <td>7</td>\n",
       "      <td>0</td>\n",
       "    </tr>\n",
       "  </tbody>\n",
       "</table>\n",
       "</div>"
      ],
      "text/plain": [
       "             ndc_description          ndc  old_nadac_per_unit  \\\n",
       "0     BLEPH-10 10% EYE DROPS  11980001105             4.96476   \n",
       "1       BLEPHAMIDE EYE DROPS  11980002205            16.68362   \n",
       "2       BLEPHAMIDE EYE DROPS  11980002210            12.36584   \n",
       "3    BLEPHAMIDE EYE OINTMENT     23031304            23.06996   \n",
       "4  FML FORTE 0.25% EYE DROPS  11980022805             6.61291   \n",
       "\n",
       "   new_nadac_per_unit classification_for_rate_setting  percent_change  \\\n",
       "0            17.13978                               B          245.23   \n",
       "1            17.37665                               B            4.15   \n",
       "2            17.37265                               B           40.49   \n",
       "3            24.56304                               B            6.47   \n",
       "4            17.43335                               B          163.63   \n",
       "\n",
       "   primary_reason start_date   end_date  days_effective  days_count  \n",
       "0  WAC Adjustment 2013-11-28 2013-12-05               7           0  \n",
       "1  WAC Adjustment 2013-11-28 2013-12-05               7           0  \n",
       "2  WAC Adjustment 2013-11-28 2013-12-05               7           0  \n",
       "3  WAC Adjustment 2013-11-28 2013-12-05               7           0  \n",
       "4  WAC Adjustment 2013-11-28 2013-12-05               7           0  "
      ]
     },
     "metadata": {},
     "output_type": "display_data"
    }
   ],
   "source": [
    "print(raw.columns)\n",
    "\n",
    "#Remove Effective Date\n",
    "raw = raw.drop('effective_date', 1)\n",
    "\n",
    "#Create 'days_effective' and 'day_count' columns\n",
    "raw['days_effective'] = (raw['end_date'] - raw['start_date'])\n",
    "raw['days_effective'] = raw['days_effective'].apply(lambda x: x.days)\n",
    "\n",
    "#raw['days_effective'] = (raw.end_date - raw.start_date).days\n",
    "\n",
    "raw['days_count'] = (raw['start_date'] - min(raw['start_date']))\n",
    "raw['days_count'] = raw['days_count'].apply(lambda x: x.days)\n",
    "#Remove all first-date entries\n",
    "#raw.drop(raw[raw['start_date'] == min(raw['start_date'])].index, inplace = True)\n",
    "\n",
    "dsp(raw.head())"
   ]
  },
  {
   "cell_type": "code",
   "execution_count": 6,
   "metadata": {},
   "outputs": [
    {
     "name": "stdout",
     "output_type": "stream",
     "text": [
      "This dataset represents 21824 unique NDCs over 100000 entries.\n",
      "There are 5238 unique NDC descriptions represented in this dataset.\n",
      "\n",
      "Unique Values in Raw Data per Column:\n",
      "ndc_description \n",
      " 5238\n",
      "ndc \n",
      " 21824\n",
      "old_nadac_per_unit \n",
      " 14812\n",
      "new_nadac_per_unit \n",
      " 14883\n",
      "classification_for_rate_setting \n",
      " 2\n",
      "percent_change \n",
      " 3621\n",
      "primary_reason \n",
      " 5\n",
      "start_date \n",
      " 24\n",
      "end_date \n",
      " 24\n",
      "days_effective \n",
      " 2\n",
      "days_count \n",
      " 24\n",
      "Total Number Observations:\n",
      " 100000\n",
      "datetime64[ns]\n",
      "[7 6]\n"
     ]
    }
   ],
   "source": [
    "print('This dataset represents {} unique NDCs over {} entries.'.format(len(raw['ndc'].unique()), raw.shape[0]))\n",
    "print('There are {} unique NDC descriptions represented in this dataset.'.format(len(raw['ndc_description'].unique())))\n",
    "\n",
    "print('\\nUnique Values in Raw Data per Column:')\n",
    "list_unique_counts(raw)\n",
    "\n",
    "print(raw['start_date'].dtype)\n",
    "\n",
    "print(raw['days_effective'].unique())"
   ]
  },
  {
   "cell_type": "code",
   "execution_count": 7,
   "metadata": {},
   "outputs": [
    {
     "name": "stdout",
     "output_type": "stream",
     "text": [
      "Top value counts for NDC:\n"
     ]
    },
    {
     "data": {
      "text/plain": [
       "49348052172    7\n",
       "603084354      7\n",
       "603084154      7\n",
       "51079041201    6\n",
       "904630261      6\n",
       "Name: ndc, dtype: int64"
      ]
     },
     "metadata": {},
     "output_type": "display_data"
    },
    {
     "name": "stdout",
     "output_type": "stream",
     "text": [
      "\n",
      "Top value counts for NDC description:\n"
     ]
    },
    {
     "data": {
      "text/plain": [
       "AMLODIPINE BESYLATE 5 MG TAB     357\n",
       "AMLODIPINE BESYLATE 10 MG TAB    349\n",
       "METFORMIN HCL 500 MG TABLET      349\n",
       "METFORMIN HCL 1,000 MG TABLET    299\n",
       "GABAPENTIN 300 MG CAPSULE        288\n",
       "Name: ndc_description, dtype: int64"
      ]
     },
     "metadata": {},
     "output_type": "display_data"
    }
   ],
   "source": [
    "print('Top value counts for NDC:')\n",
    "dsp(raw['ndc'].value_counts().sort_values(ascending = False).head())\n",
    "\n",
    "print('\\nTop value counts for NDC description:')\n",
    "dsp(raw['ndc_description'].value_counts().sort_values(ascending = False).head())"
   ]
  },
  {
   "cell_type": "markdown",
   "metadata": {},
   "source": [
    "### Metrics for General Volatility\n",
    "\n",
    "#### Changes per Day"
   ]
  },
  {
   "cell_type": "code",
   "execution_count": 14,
   "metadata": {
    "scrolled": true
   },
   "outputs": [
    {
     "data": {
      "text/plain": [
       "2013-11-28       24\n",
       "2013-12-05      123\n",
       "2013-12-11    18234\n",
       "2013-12-18       62\n",
       "2013-12-25       12\n",
       "Name: start_date, dtype: int64"
      ]
     },
     "metadata": {},
     "output_type": "display_data"
    },
    {
     "name": "stdout",
     "output_type": "stream",
     "text": [
      "Our data represents the range of dates between 2013-11-28 and 2014-05-14\n"
     ]
    }
   ],
   "source": [
    "#Changes per day\n",
    "change_count = raw['start_date'].value_counts().sort_index()\n",
    "dsp(change_count.head())\n",
    "\n",
    "print('Our data represents the range of dates between {} and {}'.format(change_count.index.min().strftime('%Y-%m-%d'),\n",
    "                                                                        change_count.index.max().strftime('%Y-%m-%d')))"
   ]
  },
  {
   "cell_type": "code",
   "execution_count": 16,
   "metadata": {},
   "outputs": [
    {
     "data": {
      "image/png": "[encoded data removed]",
      "text/plain": [
       "<Figure size 432x288 with 1 Axes>"
      ]
     },
     "metadata": {
      "needs_background": "light"
     },
     "output_type": "display_data"
    }
   ],
   "source": [
    "plt.title('Changes Implemented Per Day')\n",
    "plt.plot(change_count.index.strftime('%Y-%m-%d'), change_count.values, '.')\n",
    "plt.xticks(np.arange(0,len(change_count.index), round((len(change_count.index)) / 8)), rotation = 70)\n",
    "plt.show()"
   ]
  },
  {
   "cell_type": "markdown",
   "metadata": {},
   "source": [
    "#### Average Rate Change per Month"
   ]
  },
  {
   "cell_type": "code",
   "execution_count": 17,
   "metadata": {},
   "outputs": [
    {
     "name": "stderr",
     "output_type": "stream",
     "text": [
      "/usr/local/lib/python3.6/dist-packages/ipykernel_launcher.py:5: SettingWithCopyWarning: \n",
      "A value is trying to be set on a copy of a slice from a DataFrame.\n",
      "Try using .loc[row_indexer,col_indexer] = value instead\n",
      "\n",
      "See the caveats in the documentation: http://pandas.pydata.org/pandas-docs/stable/indexing.html#indexing-view-versus-copy\n",
      "  \"\"\"\n"
     ]
    }
   ],
   "source": [
    "mnth = raw[['start_date', 'old_nadac_per_unit', 'new_nadac_per_unit', 'percent_change']]\n",
    "\n",
    "#Remove day:\n",
    "#mnth['start_date'] = mnth['start_date'].apply(lambda x: x[:-3])\n",
    "mnth['year-month'] = mnth['start_date'].apply(lambda x: x.strftime('%Y-%m'))"
   ]
  },
  {
   "cell_type": "code",
   "execution_count": 18,
   "metadata": {},
   "outputs": [
    {
     "data": {
      "text/html": [
       "<div>\n",
       "<style scoped>\n",
       "    .dataframe tbody tr th:only-of-type {\n",
       "        vertical-align: middle;\n",
       "    }\n",
       "\n",
       "    .dataframe tbody tr th {\n",
       "        vertical-align: top;\n",
       "    }\n",
       "\n",
       "    .dataframe thead th {\n",
       "        text-align: right;\n",
       "    }\n",
       "</style>\n",
       "<table border=\"1\" class=\"dataframe\">\n",
       "  <thead>\n",
       "    <tr style=\"text-align: right;\">\n",
       "      <th></th>\n",
       "      <th>old_nadac_per_unit</th>\n",
       "      <th>new_nadac_per_unit</th>\n",
       "      <th>percent_change</th>\n",
       "    </tr>\n",
       "    <tr>\n",
       "      <th>year-month</th>\n",
       "      <th></th>\n",
       "      <th></th>\n",
       "      <th></th>\n",
       "    </tr>\n",
       "  </thead>\n",
       "  <tbody>\n",
       "    <tr>\n",
       "      <th>2013-11</th>\n",
       "      <td>26.568187</td>\n",
       "      <td>34.925967</td>\n",
       "      <td>75.420417</td>\n",
       "    </tr>\n",
       "    <tr>\n",
       "      <th>2013-12</th>\n",
       "      <td>1.741059</td>\n",
       "      <td>1.801719</td>\n",
       "      <td>4.781268</td>\n",
       "    </tr>\n",
       "    <tr>\n",
       "      <th>2014-01</th>\n",
       "      <td>3.424447</td>\n",
       "      <td>3.545686</td>\n",
       "      <td>7.404165</td>\n",
       "    </tr>\n",
       "    <tr>\n",
       "      <th>2014-02</th>\n",
       "      <td>3.949125</td>\n",
       "      <td>4.057645</td>\n",
       "      <td>-2.624520</td>\n",
       "    </tr>\n",
       "    <tr>\n",
       "      <th>2014-03</th>\n",
       "      <td>2.127574</td>\n",
       "      <td>2.160392</td>\n",
       "      <td>0.555345</td>\n",
       "    </tr>\n",
       "  </tbody>\n",
       "</table>\n",
       "</div>"
      ],
      "text/plain": [
       "            old_nadac_per_unit  new_nadac_per_unit  percent_change\n",
       "year-month                                                        \n",
       "2013-11              26.568187           34.925967       75.420417\n",
       "2013-12               1.741059            1.801719        4.781268\n",
       "2014-01               3.424447            3.545686        7.404165\n",
       "2014-02               3.949125            4.057645       -2.624520\n",
       "2014-03               2.127574            2.160392        0.555345"
      ]
     },
     "execution_count": 18,
     "metadata": {},
     "output_type": "execute_result"
    }
   ],
   "source": [
    "mnth_avgs = mnth.groupby(['year-month']).mean()\n",
    "mnth_avgs.head()"
   ]
  },
  {
   "cell_type": "code",
   "execution_count": 19,
   "metadata": {},
   "outputs": [
    {
     "data": {
      "image/png": "[encoded data removed]",
      "text/plain": [
       "<Figure size 432x288 with 1 Axes>"
      ]
     },
     "metadata": {
      "needs_background": "light"
     },
     "output_type": "display_data"
    }
   ],
   "source": [
    "plt.title('Average Monthly Change')\n",
    "plt.plot(mnth_avgs['percent_change'], '*')\n",
    "plt.xticks(np.arange(0,len(mnth_avgs.index), round((len(mnth_avgs.index)) / 8)), rotation = 70)\n",
    "plt.show()"
   ]
  },
  {
   "cell_type": "code",
   "execution_count": 20,
   "metadata": {},
   "outputs": [
    {
     "data": {
      "text/plain": [
       "Text(0, 0.5, 'Observations')"
      ]
     },
     "execution_count": 20,
     "metadata": {},
     "output_type": "execute_result"
    },
    {
     "data": {
      "image/png": "[encoded data removed]",
      "text/plain": [
       "<Figure size 432x288 with 1 Axes>"
      ]
     },
     "metadata": {
      "needs_background": "light"
     },
     "output_type": "display_data"
    }
   ],
   "source": [
    "plt.title('Average Monthly Percent Change Distribution')\n",
    "mnth_avgs['percent_change'].hist()\n",
    "plt.xlabel('Percent Change')\n",
    "plt.ylabel('Observations')"
   ]
  },
  {
   "cell_type": "markdown",
   "metadata": {},
   "source": [
    "#### Total Price Gain/Loss per Month"
   ]
  },
  {
   "cell_type": "code",
   "execution_count": 22,
   "metadata": {},
   "outputs": [
    {
     "name": "stderr",
     "output_type": "stream",
     "text": [
      "/usr/local/lib/python3.6/dist-packages/ipykernel_launcher.py:1: SettingWithCopyWarning: \n",
      "A value is trying to be set on a copy of a slice from a DataFrame.\n",
      "Try using .loc[row_indexer,col_indexer] = value instead\n",
      "\n",
      "See the caveats in the documentation: http://pandas.pydata.org/pandas-docs/stable/indexing.html#indexing-view-versus-copy\n",
      "  \"\"\"Entry point for launching an IPython kernel.\n"
     ]
    }
   ],
   "source": [
    "mnth['total_price_change'] = mnth['new_nadac_per_unit'] - mnth['old_nadac_per_unit']\n",
    "mnth_sum = mnth.groupby(['year-month']).sum()"
   ]
  },
  {
   "cell_type": "code",
   "execution_count": 23,
   "metadata": {},
   "outputs": [
    {
     "data": {
      "image/png": "[encoded data removed]",
      "text/plain": [
       "<Figure size 432x288 with 1 Axes>"
      ]
     },
     "metadata": {
      "needs_background": "light"
     },
     "output_type": "display_data"
    }
   ],
   "source": [
    "plt.title('Total Price Change per Month')\n",
    "plt.plot(mnth_sum['total_price_change'], '*')\n",
    "plt.xticks(np.arange(0,len(mnth_sum.index), round((len(mnth_sum.index)) / 8)), rotation = 70)\n",
    "plt.show()"
   ]
  },
  {
   "cell_type": "markdown",
   "metadata": {},
   "source": [
    "### Forecasting\n",
    "\n",
    "#### Generic and Branded"
   ]
  },
  {
   "cell_type": "code",
   "execution_count": 24,
   "metadata": {},
   "outputs": [
    {
     "name": "stdout",
     "output_type": "stream",
     "text": [
      "95.8% of changes are to generic medicines.\n"
     ]
    }
   ],
   "source": [
    "print('{}% of changes are to generic medicines.'.format(round(len(raw[raw['classification_for_rate_setting'] == 'G'])\n",
    "                                                              / raw.shape[0], 3) * 100))"
   ]
  },
  {
   "cell_type": "markdown",
   "metadata": {},
   "source": [
    "#### Individual Drugs\n",
    "\n",
    "__By NDC Description__"
   ]
  },
  {
   "cell_type": "code",
   "execution_count": 25,
   "metadata": {},
   "outputs": [
    {
     "data": {
      "text/html": [
       "<div>\n",
       "<style scoped>\n",
       "    .dataframe tbody tr th:only-of-type {\n",
       "        vertical-align: middle;\n",
       "    }\n",
       "\n",
       "    .dataframe tbody tr th {\n",
       "        vertical-align: top;\n",
       "    }\n",
       "\n",
       "    .dataframe thead th {\n",
       "        text-align: right;\n",
       "    }\n",
       "</style>\n",
       "<table border=\"1\" class=\"dataframe\">\n",
       "  <thead>\n",
       "    <tr style=\"text-align: right;\">\n",
       "      <th></th>\n",
       "      <th>ndc_description</th>\n",
       "      <th>ndc</th>\n",
       "      <th>old_nadac_per_unit</th>\n",
       "      <th>new_nadac_per_unit</th>\n",
       "      <th>classification_for_rate_setting</th>\n",
       "      <th>percent_change</th>\n",
       "      <th>primary_reason</th>\n",
       "      <th>start_date</th>\n",
       "      <th>end_date</th>\n",
       "      <th>days_effective</th>\n",
       "      <th>days_count</th>\n",
       "    </tr>\n",
       "  </thead>\n",
       "  <tbody>\n",
       "    <tr>\n",
       "      <th>971</th>\n",
       "      <td>AMLODIPINE BESYLATE 10 MG TAB</td>\n",
       "      <td>54010220</td>\n",
       "      <td>0.02629</td>\n",
       "      <td>0.02515</td>\n",
       "      <td>G</td>\n",
       "      <td>-4.34</td>\n",
       "      <td>Survey Rate</td>\n",
       "      <td>2013-12-11</td>\n",
       "      <td>2013-12-18</td>\n",
       "      <td>7</td>\n",
       "      <td>13</td>\n",
       "    </tr>\n",
       "    <tr>\n",
       "      <th>9683</th>\n",
       "      <td>LISINOPRIL 20 MG TABLET</td>\n",
       "      <td>64679094101</td>\n",
       "      <td>0.02736</td>\n",
       "      <td>0.02743</td>\n",
       "      <td>G</td>\n",
       "      <td>0.26</td>\n",
       "      <td>Survey Rate</td>\n",
       "      <td>2013-12-11</td>\n",
       "      <td>2013-12-18</td>\n",
       "      <td>7</td>\n",
       "      <td>13</td>\n",
       "    </tr>\n",
       "    <tr>\n",
       "      <th>9684</th>\n",
       "      <td>LISINOPRIL 20 MG TABLET</td>\n",
       "      <td>64679094105</td>\n",
       "      <td>0.02736</td>\n",
       "      <td>0.02743</td>\n",
       "      <td>G</td>\n",
       "      <td>0.26</td>\n",
       "      <td>Survey Rate</td>\n",
       "      <td>2013-12-11</td>\n",
       "      <td>2013-12-18</td>\n",
       "      <td>7</td>\n",
       "      <td>13</td>\n",
       "    </tr>\n",
       "    <tr>\n",
       "      <th>9685</th>\n",
       "      <td>LISINOPRIL 20 MG TABLET</td>\n",
       "      <td>64679094106</td>\n",
       "      <td>0.02736</td>\n",
       "      <td>0.02743</td>\n",
       "      <td>G</td>\n",
       "      <td>0.26</td>\n",
       "      <td>Survey Rate</td>\n",
       "      <td>2013-12-11</td>\n",
       "      <td>2013-12-18</td>\n",
       "      <td>7</td>\n",
       "      <td>13</td>\n",
       "    </tr>\n",
       "    <tr>\n",
       "      <th>9686</th>\n",
       "      <td>LISINOPRIL 20 MG TABLET</td>\n",
       "      <td>65862004001</td>\n",
       "      <td>0.02736</td>\n",
       "      <td>0.02743</td>\n",
       "      <td>G</td>\n",
       "      <td>0.26</td>\n",
       "      <td>Survey Rate</td>\n",
       "      <td>2013-12-11</td>\n",
       "      <td>2013-12-18</td>\n",
       "      <td>7</td>\n",
       "      <td>13</td>\n",
       "    </tr>\n",
       "  </tbody>\n",
       "</table>\n",
       "</div>"
      ],
      "text/plain": [
       "                    ndc_description          ndc  old_nadac_per_unit  \\\n",
       "971   AMLODIPINE BESYLATE 10 MG TAB     54010220             0.02629   \n",
       "9683        LISINOPRIL 20 MG TABLET  64679094101             0.02736   \n",
       "9684        LISINOPRIL 20 MG TABLET  64679094105             0.02736   \n",
       "9685        LISINOPRIL 20 MG TABLET  64679094106             0.02736   \n",
       "9686        LISINOPRIL 20 MG TABLET  65862004001             0.02736   \n",
       "\n",
       "      new_nadac_per_unit classification_for_rate_setting  percent_change  \\\n",
       "971              0.02515                               G           -4.34   \n",
       "9683             0.02743                               G            0.26   \n",
       "9684             0.02743                               G            0.26   \n",
       "9685             0.02743                               G            0.26   \n",
       "9686             0.02743                               G            0.26   \n",
       "\n",
       "     primary_reason start_date   end_date  days_effective  days_count  \n",
       "971     Survey Rate 2013-12-11 2013-12-18               7          13  \n",
       "9683    Survey Rate 2013-12-11 2013-12-18               7          13  \n",
       "9684    Survey Rate 2013-12-11 2013-12-18               7          13  \n",
       "9685    Survey Rate 2013-12-11 2013-12-18               7          13  \n",
       "9686    Survey Rate 2013-12-11 2013-12-18               7          13  "
      ]
     },
     "metadata": {},
     "output_type": "display_data"
    }
   ],
   "source": [
    "#Find most frequently changed ndc prices\n",
    "top_25_desc = raw['ndc_description'].value_counts().sort_values(ascending = False)[:25]\n",
    "#dsp(top_25_desc)\n",
    "\n",
    "#Filter raw data for these descriptions\n",
    "desc_raw_25 = raw[raw['ndc_description'].isin(top_25_desc.index)].sort_values('start_date', ascending = True)\n",
    "\n",
    "dsp(desc_raw_25.head())"
   ]
  },
  {
   "cell_type": "code",
   "execution_count": 26,
   "metadata": {},
   "outputs": [],
   "source": [
    "#One hot encode important categorical data\n",
    "gen_bran = one_hot_encoder(desc_raw_25['classification_for_rate_setting'])\n",
    "pri_reas = one_hot_encoder(desc_raw_25['primary_reason'])\n",
    "drug_desc = one_hot_encoder(desc_raw_25['ndc_description'])\n",
    "\n",
    "#CONSOLIDATE THIS\n"
   ]
  },
  {
   "cell_type": "code",
   "execution_count": 39,
   "metadata": {},
   "outputs": [
    {
     "name": "stdout",
     "output_type": "stream",
     "text": [
      "Int64Index([971, 9683, 9684, 9685, 9686], dtype='int64')\n",
      "Int64Index([971, 9683, 9684, 9685, 9686], dtype='int64')\n",
      "Int64Index([0, 1, 2, 3, 4], dtype='int64')\n"
     ]
    }
   ],
   "source": [
    "raw.columns\n",
    "\n",
    "print(gen_bran.index[:5])\n",
    "print(pri_reas.index[:5])\n",
    "print(raw.index[:5])"
   ]
  },
  {
   "cell_type": "code",
   "execution_count": 40,
   "metadata": {},
   "outputs": [
    {
     "name": "stdout",
     "output_type": "stream",
     "text": [
      "(5196, 29)\n",
      "(1299, 29)\n"
     ]
    }
   ],
   "source": [
    "#Drop NA\n",
    "raw.dropna(inplace = True)\n",
    "\n",
    "#Features and Labels\n",
    "features = ['days_count', 'old_nadac_per_unit']\n",
    "\n",
    "labels = ['percent_change']\n",
    "\n",
    "X_train, X_test = train_split(pd.concat([desc_raw_25[features], gen_bran, pri_reas, drug_desc], axis = 1, sort = False), \n",
    "                              TRAIN_SPLIT)\n",
    "\n",
    "#Y_train = desc_raw_25[labels][:]\n",
    "#Y_test = desc_raw_25[labels][:]\n",
    "#TO DO: COUNT THE DAYS SINCE EARLIEST IN DATASET\n",
    "Y_train, Y_test = train_split(desc_raw_25[labels], TRAIN_SPLIT)\n",
    "\n",
    "print(X_train.shape)\n",
    "print(X_test.shape)\n",
    "\n",
    "#dsp(X_train.head())\n",
    "#dsp(X_train.tail())\n",
    "\n",
    "#dsp(X_test.head())\n",
    "#dsp(X_test.tail())"
   ]
  },
  {
   "cell_type": "code",
   "execution_count": 42,
   "metadata": {},
   "outputs": [
    {
     "name": "stderr",
     "output_type": "stream",
     "text": [
      "/usr/local/lib/python3.6/dist-packages/sklearn/neural_network/multilayer_perceptron.py:1316: DataConversionWarning: A column-vector y was passed when a 1d array was expected. Please change the shape of y to (n_samples, ), for example using ravel().\n",
      "  y = column_or_1d(y, warn=True)\n"
     ]
    },
    {
     "data": {
      "text/plain": [
       "MLPRegressor(activation='relu', alpha=0.0001, batch_size='auto', beta_1=0.9,\n",
       "       beta_2=0.999, early_stopping=False, epsilon=1e-08,\n",
       "       hidden_layer_sizes=(100, 100, 100), learning_rate='constant',\n",
       "       learning_rate_init=0.001, max_iter=200, momentum=0.9,\n",
       "       n_iter_no_change=10, nesterovs_momentum=True, power_t=0.5,\n",
       "       random_state=None, shuffle=True, solver='adam', tol=0.0001,\n",
       "       validation_fraction=0.1, verbose=False, warm_start=False)"
      ]
     },
     "execution_count": 42,
     "metadata": {},
     "output_type": "execute_result"
    }
   ],
   "source": [
    "#Forecasting Modeling Using Neural Nets\n",
    "from sklearn.neural_network import MLPRegressor\n",
    "mlp = MLPRegressor(hidden_layer_sizes = (100, 100, 100,))\n",
    "\n",
    "#Fit and Test\n",
    "mlp.fit(X_train, Y_train)"
   ]
  },
  {
   "cell_type": "code",
   "execution_count": 44,
   "metadata": {},
   "outputs": [
    {
     "name": "stdout",
     "output_type": "stream",
     "text": [
      "Our model has a training set R2 of 0.9737.\n",
      "Our model has a testing set R2 of -2.2704.\n"
     ]
    }
   ],
   "source": [
    "#Model Validation\n",
    "\n",
    "#Training Set Score\n",
    "print('Our model has a training set R2 of {}.'.format(round(mlp.score(X_train, Y_train), 4)))\n",
    "print('Our model has a testing set R2 of {}.'.format(round(mlp.score(X_test, Y_test), 4)))"
   ]
  },
  {
   "cell_type": "markdown",
   "metadata": {},
   "source": [
    "__BY NDC Number__"
   ]
  },
  {
   "cell_type": "code",
   "execution_count": null,
   "metadata": {},
   "outputs": [],
   "source": [
    "#Find most frequently changed ndc codes\n",
    "dsp(dsp(raw['ndc'].value_counts().sort_values(ascending = False)[:10]))"
   ]
  },
  {
   "cell_type": "code",
   "execution_count": null,
   "metadata": {},
   "outputs": [],
   "source": []
  }
 ],
 "metadata": {
  "kernelspec": {
   "display_name": "Python 3",
   "language": "python",
   "name": "python3"
  },
  "language_info": {
   "codemirror_mode": {
    "name": "ipython",
    "version": 3
   },
   "file_extension": ".py",
   "mimetype": "text/x-python",
   "name": "python",
   "nbconvert_exporter": "python",
   "pygments_lexer": "ipython3",
   "version": "3.6.8"
  }
 },
 "nbformat": 4,
 "nbformat_minor": 2
}
