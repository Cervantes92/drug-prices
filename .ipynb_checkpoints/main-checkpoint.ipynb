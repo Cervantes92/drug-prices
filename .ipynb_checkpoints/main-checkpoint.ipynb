{
 "cells": [
  {
   "cell_type": "code",
   "execution_count": 1,
   "metadata": {},
   "outputs": [],
   "source": [
    "import datetime\n",
    "import pandas as pd\n",
    "import numpy as np\n",
    "import matplotlib.pyplot as plt\n",
    "\n",
    "from sklearn.model_selection import train_test_split\n",
    "from IPython.display import display as dsp"
   ]
  },
  {
   "cell_type": "markdown",
   "metadata": {},
   "source": [
    "# United States Drug Prices: Forecasting and Analysis"
   ]
  },
  {
   "cell_type": "markdown",
   "metadata": {},
   "source": [
    "## Data Collection"
   ]
  },
  {
   "cell_type": "code",
   "execution_count": 2,
   "metadata": {},
   "outputs": [],
   "source": [
    "#Socrata SQL query\n",
    "SODA = '$limit=300000'\n",
    "URL = 'https://data.medicaid.gov/resource/444w-ftrz.csv?{}'.format(SODA)\n",
    "\n",
    "TRAIN_SPLIT = 0.8"
   ]
  },
  {
   "cell_type": "code",
   "execution_count": 22,
   "metadata": {},
   "outputs": [],
   "source": [
    "def train_split(df, TRAIN_SPLIT):\n",
    "    split_point = int(len(df) * (TRAIN_SPLIT))\n",
    "    train = df[:split_point]\n",
    "    test = df[split_point:]\n",
    "    return train, test\n",
    "\n",
    "def strip_time(date):\n",
    "    return(date[:-len('T00:00:00.000')])\n",
    "    #return datetime.datetime.strptime(date, '%Y-%m-%d').date()\n",
    "    \n",
    "def one_hot_encoder(series):\n",
    "    results = pd.DataFrame()\n",
    "    for entry in series.unique():\n",
    "        results[str(series.name) + '_' + str(entry)] = series.apply(lambda x: np.where(x == entry, 1, 0))\n",
    "        \n",
    "    return results"
   ]
  },
  {
   "cell_type": "code",
   "execution_count": 4,
   "metadata": {},
   "outputs": [],
   "source": [
    "raw = pd.read_csv(URL, parse_dates = True)"
   ]
  },
  {
   "cell_type": "code",
   "execution_count": 5,
   "metadata": {},
   "outputs": [
    {
     "name": "stdout",
     "output_type": "stream",
     "text": [
      "Index(['ndc_description', 'ndc', 'old_nadac_per_unit', 'new_nadac_per_unit',\n",
      "       'classification_for_rate_setting', 'percent_change', 'primary_reason',\n",
      "       'start_date', 'end_date', 'effective_date'],\n",
      "      dtype='object')\n"
     ]
    },
    {
     "data": {
      "text/html": [
       "<div>\n",
       "<style scoped>\n",
       "    .dataframe tbody tr th:only-of-type {\n",
       "        vertical-align: middle;\n",
       "    }\n",
       "\n",
       "    .dataframe tbody tr th {\n",
       "        vertical-align: top;\n",
       "    }\n",
       "\n",
       "    .dataframe thead th {\n",
       "        text-align: right;\n",
       "    }\n",
       "</style>\n",
       "<table border=\"1\" class=\"dataframe\">\n",
       "  <thead>\n",
       "    <tr style=\"text-align: right;\">\n",
       "      <th></th>\n",
       "      <th>ndc_description</th>\n",
       "      <th>ndc</th>\n",
       "      <th>old_nadac_per_unit</th>\n",
       "      <th>new_nadac_per_unit</th>\n",
       "      <th>classification_for_rate_setting</th>\n",
       "      <th>percent_change</th>\n",
       "      <th>primary_reason</th>\n",
       "      <th>start_date</th>\n",
       "      <th>end_date</th>\n",
       "    </tr>\n",
       "  </thead>\n",
       "  <tbody>\n",
       "    <tr>\n",
       "      <th>0</th>\n",
       "      <td>BLEPH-10 10% EYE DROPS</td>\n",
       "      <td>11980001105</td>\n",
       "      <td>4.96476</td>\n",
       "      <td>17.13978</td>\n",
       "      <td>B</td>\n",
       "      <td>245.23</td>\n",
       "      <td>WAC Adjustment</td>\n",
       "      <td>2013-11-28</td>\n",
       "      <td>2013-12-05</td>\n",
       "    </tr>\n",
       "    <tr>\n",
       "      <th>1</th>\n",
       "      <td>BLEPHAMIDE EYE DROPS</td>\n",
       "      <td>11980002205</td>\n",
       "      <td>16.68362</td>\n",
       "      <td>17.37665</td>\n",
       "      <td>B</td>\n",
       "      <td>4.15</td>\n",
       "      <td>WAC Adjustment</td>\n",
       "      <td>2013-11-28</td>\n",
       "      <td>2013-12-05</td>\n",
       "    </tr>\n",
       "    <tr>\n",
       "      <th>2</th>\n",
       "      <td>BLEPHAMIDE EYE DROPS</td>\n",
       "      <td>11980002210</td>\n",
       "      <td>12.36584</td>\n",
       "      <td>17.37265</td>\n",
       "      <td>B</td>\n",
       "      <td>40.49</td>\n",
       "      <td>WAC Adjustment</td>\n",
       "      <td>2013-11-28</td>\n",
       "      <td>2013-12-05</td>\n",
       "    </tr>\n",
       "    <tr>\n",
       "      <th>3</th>\n",
       "      <td>BLEPHAMIDE EYE OINTMENT</td>\n",
       "      <td>23031304</td>\n",
       "      <td>23.06996</td>\n",
       "      <td>24.56304</td>\n",
       "      <td>B</td>\n",
       "      <td>6.47</td>\n",
       "      <td>WAC Adjustment</td>\n",
       "      <td>2013-11-28</td>\n",
       "      <td>2013-12-05</td>\n",
       "    </tr>\n",
       "    <tr>\n",
       "      <th>4</th>\n",
       "      <td>FML FORTE 0.25% EYE DROPS</td>\n",
       "      <td>11980022805</td>\n",
       "      <td>6.61291</td>\n",
       "      <td>17.43335</td>\n",
       "      <td>B</td>\n",
       "      <td>163.63</td>\n",
       "      <td>WAC Adjustment</td>\n",
       "      <td>2013-11-28</td>\n",
       "      <td>2013-12-05</td>\n",
       "    </tr>\n",
       "  </tbody>\n",
       "</table>\n",
       "</div>"
      ],
      "text/plain": [
       "             ndc_description          ndc  old_nadac_per_unit  \\\n",
       "0     BLEPH-10 10% EYE DROPS  11980001105             4.96476   \n",
       "1       BLEPHAMIDE EYE DROPS  11980002205            16.68362   \n",
       "2       BLEPHAMIDE EYE DROPS  11980002210            12.36584   \n",
       "3    BLEPHAMIDE EYE OINTMENT     23031304            23.06996   \n",
       "4  FML FORTE 0.25% EYE DROPS  11980022805             6.61291   \n",
       "\n",
       "   new_nadac_per_unit classification_for_rate_setting  percent_change  \\\n",
       "0            17.13978                               B          245.23   \n",
       "1            17.37665                               B            4.15   \n",
       "2            17.37265                               B           40.49   \n",
       "3            24.56304                               B            6.47   \n",
       "4            17.43335                               B          163.63   \n",
       "\n",
       "   primary_reason  start_date    end_date  \n",
       "0  WAC Adjustment  2013-11-28  2013-12-05  \n",
       "1  WAC Adjustment  2013-11-28  2013-12-05  \n",
       "2  WAC Adjustment  2013-11-28  2013-12-05  \n",
       "3  WAC Adjustment  2013-11-28  2013-12-05  \n",
       "4  WAC Adjustment  2013-11-28  2013-12-05  "
      ]
     },
     "metadata": {},
     "output_type": "display_data"
    }
   ],
   "source": [
    "print(raw.columns)\n",
    "\n",
    "#Print start date and end date\n",
    "raw['start_date'] = raw['start_date'].apply(lambda x: strip_time(x))\n",
    "raw['end_date'] = raw['end_date'].apply(lambda x: strip_time(x))\n",
    "\n",
    "#Remove Effective Date\n",
    "raw = raw.drop('effective_date', 1)\n",
    "dsp(raw.head())\n",
    "\n",
    "#Remove all first-date entries\n",
    "raw.drop(raw[raw['start_date'] == min(raw['start_date'])].index, inplace = True)"
   ]
  },
  {
   "cell_type": "code",
   "execution_count": 6,
   "metadata": {},
   "outputs": [
    {
     "name": "stdout",
     "output_type": "stream",
     "text": [
      "This dataset represents 25331 unique NDCs over 299976 entries.\n",
      "There are 6216 unique NDC descriptions represented in this dataset.\n",
      "\n",
      "Unique Values in Raw Data per Column:\n",
      "ndc_description \n",
      " 6216\n",
      "ndc \n",
      " 25331\n",
      "old_nadac_per_unit \n",
      " 39100\n",
      "new_nadac_per_unit \n",
      " 39187\n",
      "classification_for_rate_setting \n",
      " 2\n",
      "percent_change \n",
      " 5555\n",
      "primary_reason \n",
      " 5\n",
      "start_date \n",
      " 66\n",
      "end_date \n",
      " 66\n",
      "Total Number Observations:\n",
      " 299976\n"
     ]
    }
   ],
   "source": [
    "print('This dataset represents {} unique NDCs over {} entries.'.format(len(raw['ndc'].unique()), raw.shape[0]))\n",
    "print('There are {} unique NDC descriptions represented in this dataset.'.format(len(raw['ndc_description'].unique())))\n",
    "\n",
    "def list_unique_counts(df):\n",
    "    for col in df.columns:\n",
    "        print(col, '\\n', len(df[str(col)].unique()))\n",
    "    print('Total Number Observations:\\n', df.shape[0])\n",
    "\n",
    "print('\\nUnique Values in Raw Data per Column:')\n",
    "list_unique_counts(raw)"
   ]
  },
  {
   "cell_type": "code",
   "execution_count": 7,
   "metadata": {},
   "outputs": [
    {
     "name": "stdout",
     "output_type": "stream",
     "text": [
      "Top value counts for NDC:\n"
     ]
    },
    {
     "data": {
      "text/plain": [
       "64720032110    17\n",
       "55111053205    17\n",
       "378542401      17\n",
       "49348052172    17\n",
       "43478090088    17\n",
       "Name: ndc, dtype: int64"
      ]
     },
     "metadata": {},
     "output_type": "display_data"
    },
    {
     "name": "stdout",
     "output_type": "stream",
     "text": [
      "\n",
      "Top value counts for NDC description:\n"
     ]
    },
    {
     "data": {
      "text/plain": [
       "METFORMIN HCL 500 MG TABLET      1234\n",
       "METFORMIN HCL 1,000 MG TABLET     999\n",
       "LISINOPRIL 20 MG TABLET           993\n",
       "AMLODIPINE BESYLATE 5 MG TAB      986\n",
       "AMLODIPINE BESYLATE 10 MG TAB     964\n",
       "Name: ndc_description, dtype: int64"
      ]
     },
     "metadata": {},
     "output_type": "display_data"
    }
   ],
   "source": [
    "print('Top value counts for NDC:')\n",
    "dsp(raw['ndc'].value_counts().sort_values(ascending = False).head())\n",
    "\n",
    "print('\\nTop value counts for NDC description:')\n",
    "dsp(raw['ndc_description'].value_counts().sort_values(ascending = False).head())"
   ]
  },
  {
   "cell_type": "markdown",
   "metadata": {},
   "source": [
    "### Metrics for General Volatility\n",
    "\n",
    "#### Changes per Day"
   ]
  },
  {
   "cell_type": "code",
   "execution_count": 8,
   "metadata": {
    "scrolled": true
   },
   "outputs": [
    {
     "data": {
      "text/plain": [
       "2013-12-05      123\n",
       "2013-12-11    18234\n",
       "2013-12-18       62\n",
       "2013-12-25       12\n",
       "2014-01-08      408\n",
       "Name: start_date, dtype: int64"
      ]
     },
     "metadata": {},
     "output_type": "display_data"
    },
    {
     "name": "stdout",
     "output_type": "stream",
     "text": [
      "Our data represents the range of dates between 2013-12-05 and 2015-03-11\n",
      "<class 'str'>\n",
      "66\n"
     ]
    }
   ],
   "source": [
    "#Changes per day\n",
    "change_count = raw['start_date'].value_counts().sort_index()\n",
    "dsp(change_count.head())\n",
    "#print(type(change_count.index))\n",
    "print('Our data represents the range of dates between {} and {}'.format(change_count.index.min(),change_count.index.max()))\n",
    "#print(type(change_count))\n",
    "\n",
    "#print(change_count.index[0])\n",
    "\n",
    "print(type(min(change_count.index)))\n",
    "print(len(change_count.index))"
   ]
  },
  {
   "cell_type": "code",
   "execution_count": 9,
   "metadata": {},
   "outputs": [
    {
     "data": {
      "image/png": "[encoded data removed]",
      "text/plain": [
       "<Figure size 432x288 with 1 Axes>"
      ]
     },
     "metadata": {
      "needs_background": "light"
     },
     "output_type": "display_data"
    }
   ],
   "source": [
    "plt.title('Changes Implemented Per Day')\n",
    "plt.plot(change_count, '.')\n",
    "plt.xticks(np.arange(0,len(change_count.index), round((len(change_count.index)) / 8)), rotation = 70)\n",
    "plt.show()"
   ]
  },
  {
   "cell_type": "markdown",
   "metadata": {},
   "source": [
    "#### Average Rate Change per Month"
   ]
  },
  {
   "cell_type": "code",
   "execution_count": 10,
   "metadata": {},
   "outputs": [
    {
     "name": "stderr",
     "output_type": "stream",
     "text": [
      "/usr/local/lib/python3.6/dist-packages/ipykernel_launcher.py:4: SettingWithCopyWarning: \n",
      "A value is trying to be set on a copy of a slice from a DataFrame.\n",
      "Try using .loc[row_indexer,col_indexer] = value instead\n",
      "\n",
      "See the caveats in the documentation: http://pandas.pydata.org/pandas-docs/stable/indexing.html#indexing-view-versus-copy\n",
      "  after removing the cwd from sys.path.\n"
     ]
    }
   ],
   "source": [
    "mnth = raw[['start_date', 'old_nadac_per_unit', 'new_nadac_per_unit', 'percent_change']]\n",
    "\n",
    "#Remove day:\n",
    "mnth['start_date'] = mnth['start_date'].apply(lambda x: x[:-3])"
   ]
  },
  {
   "cell_type": "code",
   "execution_count": 11,
   "metadata": {},
   "outputs": [
    {
     "data": {
      "text/html": [
       "<div>\n",
       "<style scoped>\n",
       "    .dataframe tbody tr th:only-of-type {\n",
       "        vertical-align: middle;\n",
       "    }\n",
       "\n",
       "    .dataframe tbody tr th {\n",
       "        vertical-align: top;\n",
       "    }\n",
       "\n",
       "    .dataframe thead th {\n",
       "        text-align: right;\n",
       "    }\n",
       "</style>\n",
       "<table border=\"1\" class=\"dataframe\">\n",
       "  <thead>\n",
       "    <tr style=\"text-align: right;\">\n",
       "      <th></th>\n",
       "      <th>old_nadac_per_unit</th>\n",
       "      <th>new_nadac_per_unit</th>\n",
       "      <th>percent_change</th>\n",
       "    </tr>\n",
       "    <tr>\n",
       "      <th>start_date</th>\n",
       "      <th></th>\n",
       "      <th></th>\n",
       "      <th></th>\n",
       "    </tr>\n",
       "  </thead>\n",
       "  <tbody>\n",
       "    <tr>\n",
       "      <th>2013-12</th>\n",
       "      <td>1.741059</td>\n",
       "      <td>1.801719</td>\n",
       "      <td>4.781268</td>\n",
       "    </tr>\n",
       "    <tr>\n",
       "      <th>2014-01</th>\n",
       "      <td>3.424447</td>\n",
       "      <td>3.545686</td>\n",
       "      <td>7.404165</td>\n",
       "    </tr>\n",
       "    <tr>\n",
       "      <th>2014-02</th>\n",
       "      <td>3.949125</td>\n",
       "      <td>4.057645</td>\n",
       "      <td>-2.624520</td>\n",
       "    </tr>\n",
       "    <tr>\n",
       "      <th>2014-03</th>\n",
       "      <td>2.127574</td>\n",
       "      <td>2.160392</td>\n",
       "      <td>0.555345</td>\n",
       "    </tr>\n",
       "    <tr>\n",
       "      <th>2014-04</th>\n",
       "      <td>1.850494</td>\n",
       "      <td>1.867507</td>\n",
       "      <td>0.167001</td>\n",
       "    </tr>\n",
       "  </tbody>\n",
       "</table>\n",
       "</div>"
      ],
      "text/plain": [
       "            old_nadac_per_unit  new_nadac_per_unit  percent_change\n",
       "start_date                                                        \n",
       "2013-12               1.741059            1.801719        4.781268\n",
       "2014-01               3.424447            3.545686        7.404165\n",
       "2014-02               3.949125            4.057645       -2.624520\n",
       "2014-03               2.127574            2.160392        0.555345\n",
       "2014-04               1.850494            1.867507        0.167001"
      ]
     },
     "execution_count": 11,
     "metadata": {},
     "output_type": "execute_result"
    }
   ],
   "source": [
    "mnth_avgs = mnth.groupby(['start_date']).mean()\n",
    "mnth_avgs.head()"
   ]
  },
  {
   "cell_type": "code",
   "execution_count": 12,
   "metadata": {},
   "outputs": [
    {
     "data": {
      "image/png": "[encoded data removed]",
      "text/plain": [
       "<Figure size 432x288 with 1 Axes>"
      ]
     },
     "metadata": {
      "needs_background": "light"
     },
     "output_type": "display_data"
    }
   ],
   "source": [
    "plt.title('Average Monthly Change')\n",
    "plt.plot(mnth_avgs['percent_change'], '*')\n",
    "plt.xticks(np.arange(0,len(mnth_avgs.index), round((len(mnth_avgs.index)) / 8)), rotation = 70)\n",
    "plt.show()"
   ]
  },
  {
   "cell_type": "code",
   "execution_count": 13,
   "metadata": {},
   "outputs": [
    {
     "data": {
      "text/plain": [
       "Text(0, 0.5, 'Observations')"
      ]
     },
     "execution_count": 13,
     "metadata": {},
     "output_type": "execute_result"
    },
    {
     "data": {
      "image/png": "[encoded data removed]",
      "text/plain": [
       "<Figure size 432x288 with 1 Axes>"
      ]
     },
     "metadata": {
      "needs_background": "light"
     },
     "output_type": "display_data"
    }
   ],
   "source": [
    "plt.title('Monthly Percent Change Distribution')\n",
    "mnth_avgs['percent_change'].hist()\n",
    "plt.xlabel('Percent Change')\n",
    "plt.ylabel('Observations')"
   ]
  },
  {
   "cell_type": "markdown",
   "metadata": {},
   "source": [
    "#### Total Price Gain/Loss per Month"
   ]
  },
  {
   "cell_type": "code",
   "execution_count": 14,
   "metadata": {},
   "outputs": [
    {
     "name": "stderr",
     "output_type": "stream",
     "text": [
      "/usr/local/lib/python3.6/dist-packages/ipykernel_launcher.py:1: SettingWithCopyWarning: \n",
      "A value is trying to be set on a copy of a slice from a DataFrame.\n",
      "Try using .loc[row_indexer,col_indexer] = value instead\n",
      "\n",
      "See the caveats in the documentation: http://pandas.pydata.org/pandas-docs/stable/indexing.html#indexing-view-versus-copy\n",
      "  \"\"\"Entry point for launching an IPython kernel.\n"
     ]
    }
   ],
   "source": [
    "mnth['total_price_change'] = mnth['new_nadac_per_unit'] - mnth['old_nadac_per_unit']\n",
    "mnth_sum = mnth.groupby(['start_date']).sum()"
   ]
  },
  {
   "cell_type": "code",
   "execution_count": 15,
   "metadata": {},
   "outputs": [
    {
     "data": {
      "image/png": "[encoded data removed]",
      "text/plain": [
       "<Figure size 432x288 with 1 Axes>"
      ]
     },
     "metadata": {
      "needs_background": "light"
     },
     "output_type": "display_data"
    }
   ],
   "source": [
    "plt.title('Total Price Change per Month')\n",
    "plt.plot(mnth_sum['total_price_change'], '*')\n",
    "plt.xticks(np.arange(0,len(mnth_sum.index), round((len(mnth_sum.index)) / 8)), rotation = 70)\n",
    "plt.show()"
   ]
  },
  {
   "cell_type": "markdown",
   "metadata": {},
   "source": [
    "### Forecasting\n",
    "\n",
    "#### Generic and Branded"
   ]
  },
  {
   "cell_type": "code",
   "execution_count": 16,
   "metadata": {},
   "outputs": [
    {
     "name": "stdout",
     "output_type": "stream",
     "text": [
      "95.89999999999999% of changes are to generic medicines.\n"
     ]
    }
   ],
   "source": [
    "print('{}% of changes are to generic medicines.'.format(round(len(raw[raw['classification_for_rate_setting'] == 'G'])\n",
    "                                                              / raw.shape[0], 3) * 100))"
   ]
  },
  {
   "cell_type": "markdown",
   "metadata": {},
   "source": [
    "#### Individual Drugs\n",
    "\n",
    "__By NDC Description__"
   ]
  },
  {
   "cell_type": "code",
   "execution_count": 17,
   "metadata": {},
   "outputs": [
    {
     "data": {
      "text/html": [
       "<div>\n",
       "<style scoped>\n",
       "    .dataframe tbody tr th:only-of-type {\n",
       "        vertical-align: middle;\n",
       "    }\n",
       "\n",
       "    .dataframe tbody tr th {\n",
       "        vertical-align: top;\n",
       "    }\n",
       "\n",
       "    .dataframe thead th {\n",
       "        text-align: right;\n",
       "    }\n",
       "</style>\n",
       "<table border=\"1\" class=\"dataframe\">\n",
       "  <thead>\n",
       "    <tr style=\"text-align: right;\">\n",
       "      <th></th>\n",
       "      <th>ndc_description</th>\n",
       "      <th>ndc</th>\n",
       "      <th>old_nadac_per_unit</th>\n",
       "      <th>new_nadac_per_unit</th>\n",
       "      <th>classification_for_rate_setting</th>\n",
       "      <th>percent_change</th>\n",
       "      <th>primary_reason</th>\n",
       "      <th>start_date</th>\n",
       "      <th>end_date</th>\n",
       "    </tr>\n",
       "  </thead>\n",
       "  <tbody>\n",
       "    <tr>\n",
       "      <th>971</th>\n",
       "      <td>AMLODIPINE BESYLATE 10 MG TAB</td>\n",
       "      <td>54010220</td>\n",
       "      <td>0.02629</td>\n",
       "      <td>0.02515</td>\n",
       "      <td>G</td>\n",
       "      <td>-4.34</td>\n",
       "      <td>Survey Rate</td>\n",
       "      <td>2013-12-11</td>\n",
       "      <td>2013-12-18</td>\n",
       "    </tr>\n",
       "    <tr>\n",
       "      <th>9812</th>\n",
       "      <td>LISINOPRIL 5 MG TABLET</td>\n",
       "      <td>68180051301</td>\n",
       "      <td>0.01599</td>\n",
       "      <td>0.01584</td>\n",
       "      <td>G</td>\n",
       "      <td>-0.94</td>\n",
       "      <td>Survey Rate</td>\n",
       "      <td>2013-12-11</td>\n",
       "      <td>2013-12-18</td>\n",
       "    </tr>\n",
       "    <tr>\n",
       "      <th>9813</th>\n",
       "      <td>LISINOPRIL 5 MG TABLET</td>\n",
       "      <td>68180051303</td>\n",
       "      <td>0.01599</td>\n",
       "      <td>0.01584</td>\n",
       "      <td>G</td>\n",
       "      <td>-0.94</td>\n",
       "      <td>Survey Rate</td>\n",
       "      <td>2013-12-11</td>\n",
       "      <td>2013-12-18</td>\n",
       "    </tr>\n",
       "    <tr>\n",
       "      <th>9814</th>\n",
       "      <td>LISINOPRIL 5 MG TABLET</td>\n",
       "      <td>68180051309</td>\n",
       "      <td>0.01599</td>\n",
       "      <td>0.01584</td>\n",
       "      <td>G</td>\n",
       "      <td>-0.94</td>\n",
       "      <td>Survey Rate</td>\n",
       "      <td>2013-12-11</td>\n",
       "      <td>2013-12-18</td>\n",
       "    </tr>\n",
       "    <tr>\n",
       "      <th>10074</th>\n",
       "      <td>LOSARTAN POTASSIUM 100 MG TAB</td>\n",
       "      <td>54012522</td>\n",
       "      <td>0.10367</td>\n",
       "      <td>0.10252</td>\n",
       "      <td>G</td>\n",
       "      <td>-1.11</td>\n",
       "      <td>Survey Rate</td>\n",
       "      <td>2013-12-11</td>\n",
       "      <td>2013-12-18</td>\n",
       "    </tr>\n",
       "  </tbody>\n",
       "</table>\n",
       "</div>"
      ],
      "text/plain": [
       "                     ndc_description          ndc  old_nadac_per_unit  \\\n",
       "971    AMLODIPINE BESYLATE 10 MG TAB     54010220             0.02629   \n",
       "9812          LISINOPRIL 5 MG TABLET  68180051301             0.01599   \n",
       "9813          LISINOPRIL 5 MG TABLET  68180051303             0.01599   \n",
       "9814          LISINOPRIL 5 MG TABLET  68180051309             0.01599   \n",
       "10074  LOSARTAN POTASSIUM 100 MG TAB     54012522             0.10367   \n",
       "\n",
       "       new_nadac_per_unit classification_for_rate_setting  percent_change  \\\n",
       "971               0.02515                               G           -4.34   \n",
       "9812              0.01584                               G           -0.94   \n",
       "9813              0.01584                               G           -0.94   \n",
       "9814              0.01584                               G           -0.94   \n",
       "10074             0.10252                               G           -1.11   \n",
       "\n",
       "      primary_reason  start_date    end_date  \n",
       "971      Survey Rate  2013-12-11  2013-12-18  \n",
       "9812     Survey Rate  2013-12-11  2013-12-18  \n",
       "9813     Survey Rate  2013-12-11  2013-12-18  \n",
       "9814     Survey Rate  2013-12-11  2013-12-18  \n",
       "10074    Survey Rate  2013-12-11  2013-12-18  "
      ]
     },
     "metadata": {},
     "output_type": "display_data"
    }
   ],
   "source": [
    "#Find most frequently changed ndc prices\n",
    "top_25_desc = raw['ndc_description'].value_counts().sort_values(ascending = False)[:25]\n",
    "#dsp(top_25_desc)\n",
    "\n",
    "#Filter raw data for these descriptions\n",
    "desc_raw_25 = raw[raw['ndc_description'].isin(top_25_desc.index)].sort_values('start_date', ascending = True)\n",
    "\n",
    "dsp(desc_raw_25.head())"
   ]
  },
  {
   "cell_type": "code",
   "execution_count": 24,
   "metadata": {},
   "outputs": [],
   "source": [
    "#One hot encode important categorical data\n",
    "gen_bran = one_hot_encoder(desc_raw_25['classification_for_rate_setting'])\n",
    "pri_reas = one_hot_encoder(desc_raw_25['primary_reason'])"
   ]
  },
  {
   "cell_type": "code",
   "execution_count": 20,
   "metadata": {},
   "outputs": [
    {
     "name": "stdout",
     "output_type": "stream",
     "text": [
      "(239980, 6)\n",
      "(59996, 6)\n"
     ]
    },
    {
     "data": {
      "text/html": [
       "<div>\n",
       "<style scoped>\n",
       "    .dataframe tbody tr th:only-of-type {\n",
       "        vertical-align: middle;\n",
       "    }\n",
       "\n",
       "    .dataframe tbody tr th {\n",
       "        vertical-align: top;\n",
       "    }\n",
       "\n",
       "    .dataframe thead th {\n",
       "        text-align: right;\n",
       "    }\n",
       "</style>\n",
       "<table border=\"1\" class=\"dataframe\">\n",
       "  <thead>\n",
       "    <tr style=\"text-align: right;\">\n",
       "      <th></th>\n",
       "      <th>ndc_description</th>\n",
       "      <th>ndc</th>\n",
       "      <th>old_nadac_per_unit</th>\n",
       "      <th>classification_for_rate_setting</th>\n",
       "      <th>primary_reason</th>\n",
       "      <th>start_date</th>\n",
       "    </tr>\n",
       "  </thead>\n",
       "  <tbody>\n",
       "    <tr>\n",
       "      <th>24</th>\n",
       "      <td>ALREX 0.2% EYE DROPS</td>\n",
       "      <td>24208035305</td>\n",
       "      <td>27.08802</td>\n",
       "      <td>B</td>\n",
       "      <td>WAC Adjustment</td>\n",
       "      <td>2013-12-05</td>\n",
       "    </tr>\n",
       "    <tr>\n",
       "      <th>25</th>\n",
       "      <td>ALREX 0.2% EYE DROPS</td>\n",
       "      <td>24208035310</td>\n",
       "      <td>27.39300</td>\n",
       "      <td>B</td>\n",
       "      <td>WAC Adjustment</td>\n",
       "      <td>2013-12-05</td>\n",
       "    </tr>\n",
       "    <tr>\n",
       "      <th>26</th>\n",
       "      <td>ATIVAN 0.5 MG TABLET</td>\n",
       "      <td>64455006301</td>\n",
       "      <td>4.35697</td>\n",
       "      <td>B</td>\n",
       "      <td>WAC Adjustment</td>\n",
       "      <td>2013-12-05</td>\n",
       "    </tr>\n",
       "    <tr>\n",
       "      <th>27</th>\n",
       "      <td>ATIVAN 1 MG TABLET</td>\n",
       "      <td>64455006401</td>\n",
       "      <td>5.84274</td>\n",
       "      <td>B</td>\n",
       "      <td>WAC Adjustment</td>\n",
       "      <td>2013-12-05</td>\n",
       "    </tr>\n",
       "    <tr>\n",
       "      <th>28</th>\n",
       "      <td>ATIVAN 1 MG TABLET</td>\n",
       "      <td>64455006410</td>\n",
       "      <td>5.84274</td>\n",
       "      <td>B</td>\n",
       "      <td>WAC Adjustment</td>\n",
       "      <td>2013-12-05</td>\n",
       "    </tr>\n",
       "  </tbody>\n",
       "</table>\n",
       "</div>"
      ],
      "text/plain": [
       "         ndc_description          ndc  old_nadac_per_unit  \\\n",
       "24  ALREX 0.2% EYE DROPS  24208035305            27.08802   \n",
       "25  ALREX 0.2% EYE DROPS  24208035310            27.39300   \n",
       "26  ATIVAN 0.5 MG TABLET  64455006301             4.35697   \n",
       "27    ATIVAN 1 MG TABLET  64455006401             5.84274   \n",
       "28    ATIVAN 1 MG TABLET  64455006410             5.84274   \n",
       "\n",
       "   classification_for_rate_setting  primary_reason  start_date  \n",
       "24                               B  WAC Adjustment  2013-12-05  \n",
       "25                               B  WAC Adjustment  2013-12-05  \n",
       "26                               B  WAC Adjustment  2013-12-05  \n",
       "27                               B  WAC Adjustment  2013-12-05  \n",
       "28                               B  WAC Adjustment  2013-12-05  "
      ]
     },
     "metadata": {},
     "output_type": "display_data"
    },
    {
     "data": {
      "text/html": [
       "<div>\n",
       "<style scoped>\n",
       "    .dataframe tbody tr th:only-of-type {\n",
       "        vertical-align: middle;\n",
       "    }\n",
       "\n",
       "    .dataframe tbody tr th {\n",
       "        vertical-align: top;\n",
       "    }\n",
       "\n",
       "    .dataframe thead th {\n",
       "        text-align: right;\n",
       "    }\n",
       "</style>\n",
       "<table border=\"1\" class=\"dataframe\">\n",
       "  <thead>\n",
       "    <tr style=\"text-align: right;\">\n",
       "      <th></th>\n",
       "      <th>ndc_description</th>\n",
       "      <th>ndc</th>\n",
       "      <th>old_nadac_per_unit</th>\n",
       "      <th>classification_for_rate_setting</th>\n",
       "      <th>primary_reason</th>\n",
       "      <th>start_date</th>\n",
       "    </tr>\n",
       "  </thead>\n",
       "  <tbody>\n",
       "    <tr>\n",
       "      <th>239999</th>\n",
       "      <td>PROPRANOLOL 80 MG TABLET</td>\n",
       "      <td>23155011405</td>\n",
       "      <td>0.04821</td>\n",
       "      <td>G</td>\n",
       "      <td>Survey Rate</td>\n",
       "      <td>2014-12-10</td>\n",
       "    </tr>\n",
       "    <tr>\n",
       "      <th>240000</th>\n",
       "      <td>PROPRANOLOL 80 MG TABLET</td>\n",
       "      <td>50111047101</td>\n",
       "      <td>0.04821</td>\n",
       "      <td>G</td>\n",
       "      <td>Survey Rate</td>\n",
       "      <td>2014-12-10</td>\n",
       "    </tr>\n",
       "    <tr>\n",
       "      <th>240001</th>\n",
       "      <td>PROPRANOLOL 80 MG TABLET</td>\n",
       "      <td>50111047102</td>\n",
       "      <td>0.04821</td>\n",
       "      <td>G</td>\n",
       "      <td>Survey Rate</td>\n",
       "      <td>2014-12-10</td>\n",
       "    </tr>\n",
       "    <tr>\n",
       "      <th>240002</th>\n",
       "      <td>PROPRANOLOL ER 120 MG CAPSULE</td>\n",
       "      <td>228278011</td>\n",
       "      <td>2.20375</td>\n",
       "      <td>G</td>\n",
       "      <td>Survey Rate</td>\n",
       "      <td>2014-12-10</td>\n",
       "    </tr>\n",
       "    <tr>\n",
       "      <th>240003</th>\n",
       "      <td>PROPRANOLOL ER 120 MG CAPSULE</td>\n",
       "      <td>228278050</td>\n",
       "      <td>2.20375</td>\n",
       "      <td>G</td>\n",
       "      <td>Survey Rate</td>\n",
       "      <td>2014-12-10</td>\n",
       "    </tr>\n",
       "  </tbody>\n",
       "</table>\n",
       "</div>"
      ],
      "text/plain": [
       "                      ndc_description          ndc  old_nadac_per_unit  \\\n",
       "239999       PROPRANOLOL 80 MG TABLET  23155011405             0.04821   \n",
       "240000       PROPRANOLOL 80 MG TABLET  50111047101             0.04821   \n",
       "240001       PROPRANOLOL 80 MG TABLET  50111047102             0.04821   \n",
       "240002  PROPRANOLOL ER 120 MG CAPSULE    228278011             2.20375   \n",
       "240003  PROPRANOLOL ER 120 MG CAPSULE    228278050             2.20375   \n",
       "\n",
       "       classification_for_rate_setting primary_reason  start_date  \n",
       "239999                               G    Survey Rate  2014-12-10  \n",
       "240000                               G    Survey Rate  2014-12-10  \n",
       "240001                               G    Survey Rate  2014-12-10  \n",
       "240002                               G    Survey Rate  2014-12-10  \n",
       "240003                               G    Survey Rate  2014-12-10  "
      ]
     },
     "metadata": {},
     "output_type": "display_data"
    },
    {
     "data": {
      "text/html": [
       "<div>\n",
       "<style scoped>\n",
       "    .dataframe tbody tr th:only-of-type {\n",
       "        vertical-align: middle;\n",
       "    }\n",
       "\n",
       "    .dataframe tbody tr th {\n",
       "        vertical-align: top;\n",
       "    }\n",
       "\n",
       "    .dataframe thead th {\n",
       "        text-align: right;\n",
       "    }\n",
       "</style>\n",
       "<table border=\"1\" class=\"dataframe\">\n",
       "  <thead>\n",
       "    <tr style=\"text-align: right;\">\n",
       "      <th></th>\n",
       "      <th>ndc_description</th>\n",
       "      <th>ndc</th>\n",
       "      <th>old_nadac_per_unit</th>\n",
       "      <th>classification_for_rate_setting</th>\n",
       "      <th>primary_reason</th>\n",
       "      <th>start_date</th>\n",
       "    </tr>\n",
       "  </thead>\n",
       "  <tbody>\n",
       "    <tr>\n",
       "      <th>240004</th>\n",
       "      <td>PROPRANOLOL ER 120 MG CAPSULE</td>\n",
       "      <td>245008610</td>\n",
       "      <td>2.20375</td>\n",
       "      <td>G</td>\n",
       "      <td>Survey Rate</td>\n",
       "      <td>2014-12-10</td>\n",
       "    </tr>\n",
       "    <tr>\n",
       "      <th>240005</th>\n",
       "      <td>PROPRANOLOL ER 120 MG CAPSULE</td>\n",
       "      <td>245008611</td>\n",
       "      <td>2.20375</td>\n",
       "      <td>G</td>\n",
       "      <td>Survey Rate</td>\n",
       "      <td>2014-12-10</td>\n",
       "    </tr>\n",
       "    <tr>\n",
       "      <th>240006</th>\n",
       "      <td>PROPRANOLOL ER 120 MG CAPSULE</td>\n",
       "      <td>378622001</td>\n",
       "      <td>2.20375</td>\n",
       "      <td>G</td>\n",
       "      <td>Survey Rate</td>\n",
       "      <td>2014-12-10</td>\n",
       "    </tr>\n",
       "    <tr>\n",
       "      <th>240007</th>\n",
       "      <td>PROPRANOLOL ER 120 MG CAPSULE</td>\n",
       "      <td>378622005</td>\n",
       "      <td>2.20375</td>\n",
       "      <td>G</td>\n",
       "      <td>Survey Rate</td>\n",
       "      <td>2014-12-10</td>\n",
       "    </tr>\n",
       "    <tr>\n",
       "      <th>240008</th>\n",
       "      <td>PROPRANOLOL ER 120 MG CAPSULE</td>\n",
       "      <td>43478090288</td>\n",
       "      <td>2.20375</td>\n",
       "      <td>G</td>\n",
       "      <td>Survey Rate</td>\n",
       "      <td>2014-12-10</td>\n",
       "    </tr>\n",
       "  </tbody>\n",
       "</table>\n",
       "</div>"
      ],
      "text/plain": [
       "                      ndc_description          ndc  old_nadac_per_unit  \\\n",
       "240004  PROPRANOLOL ER 120 MG CAPSULE    245008610             2.20375   \n",
       "240005  PROPRANOLOL ER 120 MG CAPSULE    245008611             2.20375   \n",
       "240006  PROPRANOLOL ER 120 MG CAPSULE    378622001             2.20375   \n",
       "240007  PROPRANOLOL ER 120 MG CAPSULE    378622005             2.20375   \n",
       "240008  PROPRANOLOL ER 120 MG CAPSULE  43478090288             2.20375   \n",
       "\n",
       "       classification_for_rate_setting primary_reason  start_date  \n",
       "240004                               G    Survey Rate  2014-12-10  \n",
       "240005                               G    Survey Rate  2014-12-10  \n",
       "240006                               G    Survey Rate  2014-12-10  \n",
       "240007                               G    Survey Rate  2014-12-10  \n",
       "240008                               G    Survey Rate  2014-12-10  "
      ]
     },
     "metadata": {},
     "output_type": "display_data"
    },
    {
     "data": {
      "text/html": [
       "<div>\n",
       "<style scoped>\n",
       "    .dataframe tbody tr th:only-of-type {\n",
       "        vertical-align: middle;\n",
       "    }\n",
       "\n",
       "    .dataframe tbody tr th {\n",
       "        vertical-align: top;\n",
       "    }\n",
       "\n",
       "    .dataframe thead th {\n",
       "        text-align: right;\n",
       "    }\n",
       "</style>\n",
       "<table border=\"1\" class=\"dataframe\">\n",
       "  <thead>\n",
       "    <tr style=\"text-align: right;\">\n",
       "      <th></th>\n",
       "      <th>ndc_description</th>\n",
       "      <th>ndc</th>\n",
       "      <th>old_nadac_per_unit</th>\n",
       "      <th>classification_for_rate_setting</th>\n",
       "      <th>primary_reason</th>\n",
       "      <th>start_date</th>\n",
       "    </tr>\n",
       "  </thead>\n",
       "  <tbody>\n",
       "    <tr>\n",
       "      <th>299995</th>\n",
       "      <td>SIMVASTATIN 10 MG TABLET</td>\n",
       "      <td>24658030190</td>\n",
       "      <td>0.03118</td>\n",
       "      <td>G</td>\n",
       "      <td>Survey Rate</td>\n",
       "      <td>2015-03-11</td>\n",
       "    </tr>\n",
       "    <tr>\n",
       "      <th>299996</th>\n",
       "      <td>SIMVASTATIN 10 MG TABLET</td>\n",
       "      <td>42571001005</td>\n",
       "      <td>0.03118</td>\n",
       "      <td>G</td>\n",
       "      <td>Survey Rate</td>\n",
       "      <td>2015-03-11</td>\n",
       "    </tr>\n",
       "    <tr>\n",
       "      <th>299997</th>\n",
       "      <td>SIMVASTATIN 10 MG TABLET</td>\n",
       "      <td>42571001090</td>\n",
       "      <td>0.03118</td>\n",
       "      <td>G</td>\n",
       "      <td>Survey Rate</td>\n",
       "      <td>2015-03-11</td>\n",
       "    </tr>\n",
       "    <tr>\n",
       "      <th>299998</th>\n",
       "      <td>SIMVASTATIN 10 MG TABLET</td>\n",
       "      <td>51079045401</td>\n",
       "      <td>0.03118</td>\n",
       "      <td>G</td>\n",
       "      <td>Survey Rate</td>\n",
       "      <td>2015-03-11</td>\n",
       "    </tr>\n",
       "    <tr>\n",
       "      <th>299999</th>\n",
       "      <td>SIMVASTATIN 10 MG TABLET</td>\n",
       "      <td>51079045420</td>\n",
       "      <td>0.03118</td>\n",
       "      <td>G</td>\n",
       "      <td>Survey Rate</td>\n",
       "      <td>2015-03-11</td>\n",
       "    </tr>\n",
       "  </tbody>\n",
       "</table>\n",
       "</div>"
      ],
      "text/plain": [
       "                 ndc_description          ndc  old_nadac_per_unit  \\\n",
       "299995  SIMVASTATIN 10 MG TABLET  24658030190             0.03118   \n",
       "299996  SIMVASTATIN 10 MG TABLET  42571001005             0.03118   \n",
       "299997  SIMVASTATIN 10 MG TABLET  42571001090             0.03118   \n",
       "299998  SIMVASTATIN 10 MG TABLET  51079045401             0.03118   \n",
       "299999  SIMVASTATIN 10 MG TABLET  51079045420             0.03118   \n",
       "\n",
       "       classification_for_rate_setting primary_reason  start_date  \n",
       "299995                               G    Survey Rate  2015-03-11  \n",
       "299996                               G    Survey Rate  2015-03-11  \n",
       "299997                               G    Survey Rate  2015-03-11  \n",
       "299998                               G    Survey Rate  2015-03-11  \n",
       "299999                               G    Survey Rate  2015-03-11  "
      ]
     },
     "metadata": {},
     "output_type": "display_data"
    }
   ],
   "source": [
    "#Features and Labels\n",
    "features = ['ndc_description', 'ndc', 'old_nadac_per_unit','classification_for_rate_setting', \n",
    "            'primary_reason', 'start_date']\n",
    "\n",
    "labels = ['percent_change']\n",
    "#print(int(len(desc_raw_25) * (TRAIN_SPLIT)))\n",
    "#Train Test Split\n",
    "#TODO: Figure out why the split doesn't act as expected\n",
    "#X_train = desc_raw_25[features][:]\n",
    "#X_test = desc_raw_25[features][:]\n",
    "X_train, X_test = train_split(raw[features], TRAIN_SPLIT)\n",
    "\n",
    "#Y_train = desc_raw_25[labels][:]\n",
    "#Y_test = desc_raw_25[labels][:]\n",
    "Y_train, Y_test = train_split(raw[labels], TRAIN_SPLIT)\n",
    "\n",
    "print(X_train.shape)\n",
    "print(X_test.shape)\n",
    "\n",
    "#dsp(X_train.head())\n",
    "#dsp(X_train.tail())\n",
    "\n",
    "#dsp(X_test.head())\n",
    "#dsp(X_test.tail())"
   ]
  },
  {
   "cell_type": "code",
   "execution_count": 19,
   "metadata": {},
   "outputs": [
    {
     "ename": "ValueError",
     "evalue": "could not convert string to float: 'ALREX 0.2% EYE DROPS'",
     "output_type": "error",
     "traceback": [
      "\u001b[0;31m---------------------------------------------------------------------------\u001b[0m",
      "\u001b[0;31mValueError\u001b[0m                                Traceback (most recent call last)",
      "\u001b[0;32m<ipython-input-19-a1d4de5dfe32>\u001b[0m in \u001b[0;36m<module>\u001b[0;34m\u001b[0m\n\u001b[1;32m      4\u001b[0m \u001b[0;34m\u001b[0m\u001b[0m\n\u001b[1;32m      5\u001b[0m \u001b[0;31m#Fit and Test\u001b[0m\u001b[0;34m\u001b[0m\u001b[0;34m\u001b[0m\u001b[0;34m\u001b[0m\u001b[0m\n\u001b[0;32m----> 6\u001b[0;31m \u001b[0mmlp\u001b[0m\u001b[0;34m.\u001b[0m\u001b[0mfit\u001b[0m\u001b[0;34m(\u001b[0m\u001b[0mX_train\u001b[0m\u001b[0;34m,\u001b[0m \u001b[0mY_train\u001b[0m\u001b[0;34m)\u001b[0m\u001b[0;34m\u001b[0m\u001b[0;34m\u001b[0m\u001b[0m\n\u001b[0m",
      "\u001b[0;32m/usr/local/lib/python3.6/dist-packages/sklearn/neural_network/multilayer_perceptron.py\u001b[0m in \u001b[0;36mfit\u001b[0;34m(self, X, y)\u001b[0m\n\u001b[1;32m    616\u001b[0m         \u001b[0mself\u001b[0m \u001b[0;34m:\u001b[0m \u001b[0mreturns\u001b[0m \u001b[0ma\u001b[0m \u001b[0mtrained\u001b[0m \u001b[0mMLP\u001b[0m \u001b[0mmodel\u001b[0m\u001b[0;34m.\u001b[0m\u001b[0;34m\u001b[0m\u001b[0;34m\u001b[0m\u001b[0m\n\u001b[1;32m    617\u001b[0m         \"\"\"\n\u001b[0;32m--> 618\u001b[0;31m         \u001b[0;32mreturn\u001b[0m \u001b[0mself\u001b[0m\u001b[0;34m.\u001b[0m\u001b[0m_fit\u001b[0m\u001b[0;34m(\u001b[0m\u001b[0mX\u001b[0m\u001b[0;34m,\u001b[0m \u001b[0my\u001b[0m\u001b[0;34m,\u001b[0m \u001b[0mincremental\u001b[0m\u001b[0;34m=\u001b[0m\u001b[0;32mFalse\u001b[0m\u001b[0;34m)\u001b[0m\u001b[0;34m\u001b[0m\u001b[0;34m\u001b[0m\u001b[0m\n\u001b[0m\u001b[1;32m    619\u001b[0m \u001b[0;34m\u001b[0m\u001b[0m\n\u001b[1;32m    620\u001b[0m     \u001b[0;34m@\u001b[0m\u001b[0mproperty\u001b[0m\u001b[0;34m\u001b[0m\u001b[0;34m\u001b[0m\u001b[0m\n",
      "\u001b[0;32m/usr/local/lib/python3.6/dist-packages/sklearn/neural_network/multilayer_perceptron.py\u001b[0m in \u001b[0;36m_fit\u001b[0;34m(self, X, y, incremental)\u001b[0m\n\u001b[1;32m    322\u001b[0m                              hidden_layer_sizes)\n\u001b[1;32m    323\u001b[0m \u001b[0;34m\u001b[0m\u001b[0m\n\u001b[0;32m--> 324\u001b[0;31m         \u001b[0mX\u001b[0m\u001b[0;34m,\u001b[0m \u001b[0my\u001b[0m \u001b[0;34m=\u001b[0m \u001b[0mself\u001b[0m\u001b[0;34m.\u001b[0m\u001b[0m_validate_input\u001b[0m\u001b[0;34m(\u001b[0m\u001b[0mX\u001b[0m\u001b[0;34m,\u001b[0m \u001b[0my\u001b[0m\u001b[0;34m,\u001b[0m \u001b[0mincremental\u001b[0m\u001b[0;34m)\u001b[0m\u001b[0;34m\u001b[0m\u001b[0;34m\u001b[0m\u001b[0m\n\u001b[0m\u001b[1;32m    325\u001b[0m         \u001b[0mn_samples\u001b[0m\u001b[0;34m,\u001b[0m \u001b[0mn_features\u001b[0m \u001b[0;34m=\u001b[0m \u001b[0mX\u001b[0m\u001b[0;34m.\u001b[0m\u001b[0mshape\u001b[0m\u001b[0;34m\u001b[0m\u001b[0;34m\u001b[0m\u001b[0m\n\u001b[1;32m    326\u001b[0m \u001b[0;34m\u001b[0m\u001b[0m\n",
      "\u001b[0;32m/usr/local/lib/python3.6/dist-packages/sklearn/neural_network/multilayer_perceptron.py\u001b[0m in \u001b[0;36m_validate_input\u001b[0;34m(self, X, y, incremental)\u001b[0m\n\u001b[1;32m   1312\u001b[0m     \u001b[0;32mdef\u001b[0m \u001b[0m_validate_input\u001b[0m\u001b[0;34m(\u001b[0m\u001b[0mself\u001b[0m\u001b[0;34m,\u001b[0m \u001b[0mX\u001b[0m\u001b[0;34m,\u001b[0m \u001b[0my\u001b[0m\u001b[0;34m,\u001b[0m \u001b[0mincremental\u001b[0m\u001b[0;34m)\u001b[0m\u001b[0;34m:\u001b[0m\u001b[0;34m\u001b[0m\u001b[0;34m\u001b[0m\u001b[0m\n\u001b[1;32m   1313\u001b[0m         X, y = check_X_y(X, y, accept_sparse=['csr', 'csc', 'coo'],\n\u001b[0;32m-> 1314\u001b[0;31m                          multi_output=True, y_numeric=True)\n\u001b[0m\u001b[1;32m   1315\u001b[0m         \u001b[0;32mif\u001b[0m \u001b[0my\u001b[0m\u001b[0;34m.\u001b[0m\u001b[0mndim\u001b[0m \u001b[0;34m==\u001b[0m \u001b[0;36m2\u001b[0m \u001b[0;32mand\u001b[0m \u001b[0my\u001b[0m\u001b[0;34m.\u001b[0m\u001b[0mshape\u001b[0m\u001b[0;34m[\u001b[0m\u001b[0;36m1\u001b[0m\u001b[0;34m]\u001b[0m \u001b[0;34m==\u001b[0m \u001b[0;36m1\u001b[0m\u001b[0;34m:\u001b[0m\u001b[0;34m\u001b[0m\u001b[0;34m\u001b[0m\u001b[0m\n\u001b[1;32m   1316\u001b[0m             \u001b[0my\u001b[0m \u001b[0;34m=\u001b[0m \u001b[0mcolumn_or_1d\u001b[0m\u001b[0;34m(\u001b[0m\u001b[0my\u001b[0m\u001b[0;34m,\u001b[0m \u001b[0mwarn\u001b[0m\u001b[0;34m=\u001b[0m\u001b[0;32mTrue\u001b[0m\u001b[0;34m)\u001b[0m\u001b[0;34m\u001b[0m\u001b[0;34m\u001b[0m\u001b[0m\n",
      "\u001b[0;32m/usr/local/lib/python3.6/dist-packages/sklearn/utils/validation.py\u001b[0m in \u001b[0;36mcheck_X_y\u001b[0;34m(X, y, accept_sparse, accept_large_sparse, dtype, order, copy, force_all_finite, ensure_2d, allow_nd, multi_output, ensure_min_samples, ensure_min_features, y_numeric, warn_on_dtype, estimator)\u001b[0m\n\u001b[1;32m    754\u001b[0m                     \u001b[0mensure_min_features\u001b[0m\u001b[0;34m=\u001b[0m\u001b[0mensure_min_features\u001b[0m\u001b[0;34m,\u001b[0m\u001b[0;34m\u001b[0m\u001b[0;34m\u001b[0m\u001b[0m\n\u001b[1;32m    755\u001b[0m                     \u001b[0mwarn_on_dtype\u001b[0m\u001b[0;34m=\u001b[0m\u001b[0mwarn_on_dtype\u001b[0m\u001b[0;34m,\u001b[0m\u001b[0;34m\u001b[0m\u001b[0;34m\u001b[0m\u001b[0m\n\u001b[0;32m--> 756\u001b[0;31m                     estimator=estimator)\n\u001b[0m\u001b[1;32m    757\u001b[0m     \u001b[0;32mif\u001b[0m \u001b[0mmulti_output\u001b[0m\u001b[0;34m:\u001b[0m\u001b[0;34m\u001b[0m\u001b[0;34m\u001b[0m\u001b[0m\n\u001b[1;32m    758\u001b[0m         y = check_array(y, 'csr', force_all_finite=True, ensure_2d=False,\n",
      "\u001b[0;32m/usr/local/lib/python3.6/dist-packages/sklearn/utils/validation.py\u001b[0m in \u001b[0;36mcheck_array\u001b[0;34m(array, accept_sparse, accept_large_sparse, dtype, order, copy, force_all_finite, ensure_2d, allow_nd, ensure_min_samples, ensure_min_features, warn_on_dtype, estimator)\u001b[0m\n\u001b[1;32m    565\u001b[0m         \u001b[0;31m# make sure we actually converted to numeric:\u001b[0m\u001b[0;34m\u001b[0m\u001b[0;34m\u001b[0m\u001b[0;34m\u001b[0m\u001b[0m\n\u001b[1;32m    566\u001b[0m         \u001b[0;32mif\u001b[0m \u001b[0mdtype_numeric\u001b[0m \u001b[0;32mand\u001b[0m \u001b[0marray\u001b[0m\u001b[0;34m.\u001b[0m\u001b[0mdtype\u001b[0m\u001b[0;34m.\u001b[0m\u001b[0mkind\u001b[0m \u001b[0;34m==\u001b[0m \u001b[0;34m\"O\"\u001b[0m\u001b[0;34m:\u001b[0m\u001b[0;34m\u001b[0m\u001b[0;34m\u001b[0m\u001b[0m\n\u001b[0;32m--> 567\u001b[0;31m             \u001b[0marray\u001b[0m \u001b[0;34m=\u001b[0m \u001b[0marray\u001b[0m\u001b[0;34m.\u001b[0m\u001b[0mastype\u001b[0m\u001b[0;34m(\u001b[0m\u001b[0mnp\u001b[0m\u001b[0;34m.\u001b[0m\u001b[0mfloat64\u001b[0m\u001b[0;34m)\u001b[0m\u001b[0;34m\u001b[0m\u001b[0;34m\u001b[0m\u001b[0m\n\u001b[0m\u001b[1;32m    568\u001b[0m         \u001b[0;32mif\u001b[0m \u001b[0;32mnot\u001b[0m \u001b[0mallow_nd\u001b[0m \u001b[0;32mand\u001b[0m \u001b[0marray\u001b[0m\u001b[0;34m.\u001b[0m\u001b[0mndim\u001b[0m \u001b[0;34m>=\u001b[0m \u001b[0;36m3\u001b[0m\u001b[0;34m:\u001b[0m\u001b[0;34m\u001b[0m\u001b[0;34m\u001b[0m\u001b[0m\n\u001b[1;32m    569\u001b[0m             raise ValueError(\"Found array with dim %d. %s expected <= 2.\"\n",
      "\u001b[0;31mValueError\u001b[0m: could not convert string to float: 'ALREX 0.2% EYE DROPS'"
     ]
    }
   ],
   "source": [
    "#Forecasting Modeling Using Neural Nets\n",
    "from sklearn.neural_network import MLPRegressor\n",
    "mlp = MLPRegressor(hidden_layer_sizes = (100, 100, 100,))\n",
    "\n",
    "#Fit and Test\n",
    "mlp.fit(X_train, Y_train)"
   ]
  },
  {
   "cell_type": "markdown",
   "metadata": {},
   "source": [
    "__BY NDC Number__"
   ]
  },
  {
   "cell_type": "code",
   "execution_count": null,
   "metadata": {},
   "outputs": [],
   "source": [
    "#Find most frequently changed ndc codes\n",
    "dsp(dsp(raw['ndc'].value_counts().sort_values(ascending = False)[:10]))"
   ]
  },
  {
   "cell_type": "code",
   "execution_count": null,
   "metadata": {},
   "outputs": [],
   "source": []
  }
 ],
 "metadata": {
  "kernelspec": {
   "display_name": "Python 3",
   "language": "python",
   "name": "python3"
  },
  "language_info": {
   "codemirror_mode": {
    "name": "ipython",
    "version": 3
   },
   "file_extension": ".py",
   "mimetype": "text/x-python",
   "name": "python",
   "nbconvert_exporter": "python",
   "pygments_lexer": "ipython3",
   "version": "3.6.8"
  }
 },
 "nbformat": 4,
 "nbformat_minor": 2
}
