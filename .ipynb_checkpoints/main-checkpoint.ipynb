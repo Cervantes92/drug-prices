{
 "cells": [
  {
   "cell_type": "code",
   "execution_count": 1,
   "metadata": {},
   "outputs": [],
   "source": [
    "import pandas as pd\n",
    "import numpy as np\n",
    "import matplotlib.pyplot as plt\n",
    "import seaborn as sns\n",
    "\n",
    "from sklearn.linear_model import LinearRegression\n",
    "from sklearn.neural_network import MLPRegressor\n",
    "\n",
    "from scipy import stats\n",
    "from datetime import datetime\n",
    "from dateutil.parser import parse\n",
    "from sklearn.model_selection import train_test_split\n",
    "from IPython.display import display as dsp\n",
    "\n",
    "from pandas.plotting import register_matplotlib_converters\n",
    "register_matplotlib_converters()"
   ]
  },
  {
   "cell_type": "markdown",
   "metadata": {},
   "source": [
    "# United States Drug Prices: Forecasting and Analysis"
   ]
  },
  {
   "cell_type": "markdown",
   "metadata": {},
   "source": [
    "## Data Collection"
   ]
  },
  {
   "cell_type": "code",
   "execution_count": 2,
   "metadata": {},
   "outputs": [],
   "source": [
    "#Socrata SQL query\n",
    "SODA = '$limit=500000'\n",
    "#SODA = '$limit=50000000'\n",
    "URL = 'https://data.medicaid.gov/resource/444w-ftrz.csv?{}'.format(SODA)\n",
    "\n",
    "TRAIN_SPLIT = 0.8"
   ]
  },
  {
   "cell_type": "code",
   "execution_count": 3,
   "metadata": {},
   "outputs": [],
   "source": [
    "def list_unique_counts(df):\n",
    "    column_name, unique_values_count, datatype = [], [], []\n",
    "    results = pd.DataFrame()\n",
    "    for col in df.columns:\n",
    "        #print(col, '\\t\\t\\t', len(df[str(col)].unique()))\n",
    "        column_name.append(col)\n",
    "        unique_values_count.append(len(df[str(col)].unique()))\n",
    "        datatype.append(df[str(col)].dtype)\n",
    "    \n",
    "    results['Column_Name'] = column_name\n",
    "    results['Unique_Value_Count'] = unique_values_count\n",
    "    results['Data_Type'] = datatype\n",
    "    \n",
    "    dsp(results)\n",
    "    print('Total Number of Changes: {}'.format(df.shape[0]))\n",
    "    \n",
    "    print('Total Number Observations: ', df.shape[0])\n",
    "\n",
    "def train_split(df, TRAIN_SPLIT):\n",
    "    split_point = int(len(df) * (TRAIN_SPLIT))\n",
    "    train = df[:split_point]\n",
    "    test = df[split_point:]\n",
    "    return train, test\n",
    "\n",
    "def strip_time(date):\n",
    "    date = date.replace('T00:00:00.000', '')\n",
    "    return datetime.strptime(date, '%Y-%m-%d')\n",
    "\n",
    "def return_name(ndc_description):\n",
    "    if len(ndc_description) == 0:\n",
    "        return '','','',''\n",
    "    drug_name, dosage, dosage_unit, drug_form = [], np.nan, np.nan, np.nan\n",
    "    \n",
    "    #Check and see if we are dealing with concentration\n",
    "    concentration = False\n",
    "    if set('%') <= set(ndc_description):\n",
    "        concentration = True\n",
    "        ndc_description.replace('%', '')\n",
    "    \n",
    "    #Create our array of words\n",
    "    words = ndc_description.split()\n",
    "    \n",
    "    for i in range(len(words)):\n",
    "        if not words[i].replace('.','').replace('%', '').isnumeric():\n",
    "            drug_name.append(words[i])\n",
    "            \n",
    "        if words[i].replace('.','').replace('%','').isnumeric():\n",
    "            dosage = float(words[i].replace('%', ''))\n",
    "            \n",
    "            if not concentration:\n",
    "                try:\n",
    "                    dosage_unit = words[i + 1]\n",
    "                    drug_form = ' '.join(words[i + 2:])\n",
    "                except:\n",
    "                    drug_form = ' '.join(words[i:])\n",
    "                    #print(ndc_description, concentration)\n",
    "                break\n",
    "            \n",
    "            if concentration:\n",
    "                dosage_unit = 'concentration'\n",
    "                drug_form = ' '.join(words[i + 1:])\n",
    "                break\n",
    "            \n",
    "    drug_name = ' '.join(drug_name)\n",
    "    return pd.Series([drug_name, dosage, dosage_unit, drug_form])\n",
    "\n",
    "def drop_na_printout(dataframe):\n",
    "    i = dataframe.shape[0]\n",
    "    j = dataframe.dropna().shape[0]\n",
    "    \n",
    "    percent_loss = (i - j) / i * 100\n",
    "    \n",
    "    print(percent_loss, '% data lost in cleaning.')\n",
    "    \n",
    "    return dataframe.dropna()\n",
    "\n",
    "def one_hot_encoder(series):\n",
    "    results = pd.DataFrame()\n",
    "    for entry in series.unique():\n",
    "        results[str(series.name) + '_' + str(entry)] = series.apply(lambda x: np.where(x == entry, 1, 0))\n",
    "        \n",
    "    return results"
   ]
  },
  {
   "cell_type": "code",
   "execution_count": 4,
   "metadata": {},
   "outputs": [
    {
     "name": "stderr",
     "output_type": "stream",
     "text": [
      "/usr/local/lib/python3.6/dist-packages/IPython/core/interactiveshell.py:3049: DtypeWarning: Columns (1) have mixed types. Specify dtype option on import or set low_memory=False.\n",
      "  interactivity=interactivity, compiler=compiler, result=result)\n"
     ]
    }
   ],
   "source": [
    "raw = pd.read_csv(URL, parse_dates = True)\n",
    "\n",
    "#Convert dates to date format\n",
    "raw['start_date'] = raw['start_date'].apply(lambda x: strip_time(x))\n",
    "raw['end_date'] = raw['end_date'].apply(lambda x: strip_time(x))\n",
    "\n",
    "#Remove Effective Date\n",
    "raw = raw.drop('effective_date', 1)"
   ]
  },
  {
   "cell_type": "code",
   "execution_count": 5,
   "metadata": {},
   "outputs": [
    {
     "name": "stdout",
     "output_type": "stream",
     "text": [
      "Index(['ndc_description', 'ndc', 'old_nadac_per_unit', 'new_nadac_per_unit',\n",
      "       'classification_for_rate_setting', 'percent_change', 'primary_reason',\n",
      "       'start_date', 'end_date'],\n",
      "      dtype='object')\n"
     ]
    },
    {
     "data": {
      "text/html": [
       "<div>\n",
       "<style scoped>\n",
       "    .dataframe tbody tr th:only-of-type {\n",
       "        vertical-align: middle;\n",
       "    }\n",
       "\n",
       "    .dataframe tbody tr th {\n",
       "        vertical-align: top;\n",
       "    }\n",
       "\n",
       "    .dataframe thead th {\n",
       "        text-align: right;\n",
       "    }\n",
       "</style>\n",
       "<table border=\"1\" class=\"dataframe\">\n",
       "  <thead>\n",
       "    <tr style=\"text-align: right;\">\n",
       "      <th></th>\n",
       "      <th>ndc_description</th>\n",
       "      <th>ndc</th>\n",
       "      <th>old_nadac_per_unit</th>\n",
       "      <th>new_nadac_per_unit</th>\n",
       "      <th>classification_for_rate_setting</th>\n",
       "      <th>percent_change</th>\n",
       "      <th>primary_reason</th>\n",
       "      <th>start_date</th>\n",
       "      <th>end_date</th>\n",
       "      <th>days_effective</th>\n",
       "      <th>days_count</th>\n",
       "      <th>year-month</th>\n",
       "      <th>drug_name</th>\n",
       "      <th>dosage</th>\n",
       "      <th>dosage_unit</th>\n",
       "      <th>drug_form</th>\n",
       "    </tr>\n",
       "  </thead>\n",
       "  <tbody>\n",
       "    <tr>\n",
       "      <th>24</th>\n",
       "      <td>ALREX 0.2% EYE DROPS</td>\n",
       "      <td>24208035305</td>\n",
       "      <td>27.08802</td>\n",
       "      <td>29.52622</td>\n",
       "      <td>B</td>\n",
       "      <td>9.00</td>\n",
       "      <td>WAC Adjustment</td>\n",
       "      <td>2013-12-05</td>\n",
       "      <td>2013-12-11</td>\n",
       "      <td>6</td>\n",
       "      <td>7</td>\n",
       "      <td>2013-12</td>\n",
       "      <td>ALREX</td>\n",
       "      <td>0.2</td>\n",
       "      <td>concentration</td>\n",
       "      <td>EYE DROPS</td>\n",
       "    </tr>\n",
       "    <tr>\n",
       "      <th>25</th>\n",
       "      <td>ALREX 0.2% EYE DROPS</td>\n",
       "      <td>24208035310</td>\n",
       "      <td>27.39300</td>\n",
       "      <td>29.85892</td>\n",
       "      <td>B</td>\n",
       "      <td>9.00</td>\n",
       "      <td>WAC Adjustment</td>\n",
       "      <td>2013-12-05</td>\n",
       "      <td>2013-12-11</td>\n",
       "      <td>6</td>\n",
       "      <td>7</td>\n",
       "      <td>2013-12</td>\n",
       "      <td>ALREX</td>\n",
       "      <td>0.2</td>\n",
       "      <td>concentration</td>\n",
       "      <td>EYE DROPS</td>\n",
       "    </tr>\n",
       "    <tr>\n",
       "      <th>26</th>\n",
       "      <td>ATIVAN 0.5 MG TABLET</td>\n",
       "      <td>64455006301</td>\n",
       "      <td>4.35697</td>\n",
       "      <td>5.06236</td>\n",
       "      <td>B</td>\n",
       "      <td>16.19</td>\n",
       "      <td>WAC Adjustment</td>\n",
       "      <td>2013-12-05</td>\n",
       "      <td>2013-12-11</td>\n",
       "      <td>6</td>\n",
       "      <td>7</td>\n",
       "      <td>2013-12</td>\n",
       "      <td>ATIVAN</td>\n",
       "      <td>0.5</td>\n",
       "      <td>MG</td>\n",
       "      <td>TABLET</td>\n",
       "    </tr>\n",
       "    <tr>\n",
       "      <th>27</th>\n",
       "      <td>ATIVAN 1 MG TABLET</td>\n",
       "      <td>64455006401</td>\n",
       "      <td>5.84274</td>\n",
       "      <td>6.78862</td>\n",
       "      <td>B</td>\n",
       "      <td>16.19</td>\n",
       "      <td>WAC Adjustment</td>\n",
       "      <td>2013-12-05</td>\n",
       "      <td>2013-12-11</td>\n",
       "      <td>6</td>\n",
       "      <td>7</td>\n",
       "      <td>2013-12</td>\n",
       "      <td>ATIVAN</td>\n",
       "      <td>1.0</td>\n",
       "      <td>MG</td>\n",
       "      <td>TABLET</td>\n",
       "    </tr>\n",
       "    <tr>\n",
       "      <th>28</th>\n",
       "      <td>ATIVAN 1 MG TABLET</td>\n",
       "      <td>64455006410</td>\n",
       "      <td>5.84274</td>\n",
       "      <td>6.78862</td>\n",
       "      <td>B</td>\n",
       "      <td>16.19</td>\n",
       "      <td>WAC Adjustment</td>\n",
       "      <td>2013-12-05</td>\n",
       "      <td>2013-12-11</td>\n",
       "      <td>6</td>\n",
       "      <td>7</td>\n",
       "      <td>2013-12</td>\n",
       "      <td>ATIVAN</td>\n",
       "      <td>1.0</td>\n",
       "      <td>MG</td>\n",
       "      <td>TABLET</td>\n",
       "    </tr>\n",
       "  </tbody>\n",
       "</table>\n",
       "</div>"
      ],
      "text/plain": [
       "         ndc_description          ndc  old_nadac_per_unit  new_nadac_per_unit  \\\n",
       "24  ALREX 0.2% EYE DROPS  24208035305            27.08802            29.52622   \n",
       "25  ALREX 0.2% EYE DROPS  24208035310            27.39300            29.85892   \n",
       "26  ATIVAN 0.5 MG TABLET  64455006301             4.35697             5.06236   \n",
       "27    ATIVAN 1 MG TABLET  64455006401             5.84274             6.78862   \n",
       "28    ATIVAN 1 MG TABLET  64455006410             5.84274             6.78862   \n",
       "\n",
       "   classification_for_rate_setting  percent_change  primary_reason start_date  \\\n",
       "24                               B            9.00  WAC Adjustment 2013-12-05   \n",
       "25                               B            9.00  WAC Adjustment 2013-12-05   \n",
       "26                               B           16.19  WAC Adjustment 2013-12-05   \n",
       "27                               B           16.19  WAC Adjustment 2013-12-05   \n",
       "28                               B           16.19  WAC Adjustment 2013-12-05   \n",
       "\n",
       "     end_date  days_effective  days_count year-month drug_name  dosage  \\\n",
       "24 2013-12-11               6           7    2013-12     ALREX     0.2   \n",
       "25 2013-12-11               6           7    2013-12     ALREX     0.2   \n",
       "26 2013-12-11               6           7    2013-12    ATIVAN     0.5   \n",
       "27 2013-12-11               6           7    2013-12    ATIVAN     1.0   \n",
       "28 2013-12-11               6           7    2013-12    ATIVAN     1.0   \n",
       "\n",
       "      dosage_unit  drug_form  \n",
       "24  concentration  EYE DROPS  \n",
       "25  concentration  EYE DROPS  \n",
       "26             MG     TABLET  \n",
       "27             MG     TABLET  \n",
       "28             MG     TABLET  "
      ]
     },
     "metadata": {},
     "output_type": "display_data"
    }
   ],
   "source": [
    "print(raw.columns)\n",
    "\n",
    "#Create 'days_effective' and 'day_count' columns\n",
    "raw['days_effective'] = (raw['end_date'] - raw['start_date'])\n",
    "raw['days_effective'] = raw['days_effective'].apply(lambda x: x.days)\n",
    "\n",
    "raw['days_count'] = (raw['start_date'] - min(raw['start_date']))\n",
    "raw['days_count'] = raw['days_count'].apply(lambda x: x.days)\n",
    "\n",
    "#Create 'month-year' column because most changes happen in the middle of every month\n",
    "raw['year-month'] = raw['start_date'].apply(lambda x: x.strftime('%Y-%m'))\n",
    "\n",
    "#Add drug name column, we want to ignore dosage and format\n",
    "raw[['drug_name', 'dosage','dosage_unit','drug_form']] = \\\n",
    "raw['ndc_description'].apply(lambda x: return_name(x))\n",
    "    \n",
    "#Remove all first-date entries\n",
    "if len(raw['start_date'].unique()) > 1:\n",
    "    raw.drop(raw[raw['start_date'] == min(raw['start_date'])].index, inplace = True)\n",
    "\n",
    "#Remove last month of data, this is typically truncated by the limitations of our API call\n",
    "if len(raw['year-month']) > 3:\n",
    "    raw.drop(raw[raw['year-month'] == max(raw['year-month'])].index, inplace = True)\n",
    "\n",
    "dsp(raw.head())"
   ]
  },
  {
   "cell_type": "code",
   "execution_count": 6,
   "metadata": {},
   "outputs": [],
   "source": [
    "#old_nadac_per_unit, new_nadac_per_unit, classification_for_rate_setting, percent_change, primary_reason, year-month\n",
    "#drug_name, dosage, dosage_unit, drug_form"
   ]
  },
  {
   "cell_type": "code",
   "execution_count": 7,
   "metadata": {},
   "outputs": [
    {
     "name": "stdout",
     "output_type": "stream",
     "text": [
      "13.085503719321077 % data lost in cleaning.\n"
     ]
    }
   ],
   "source": [
    "raw = drop_na_printout(raw)"
   ]
  },
  {
   "cell_type": "code",
   "execution_count": 8,
   "metadata": {},
   "outputs": [],
   "source": [
    "#Scale price to dosage\n",
    "raw['daily_max_dosage'] = raw.groupby(['drug_name', 'start_date', 'dosage_unit'])['dosage'].transform('max')\n",
    "raw['scaled_old_per_unit'] = raw['daily_max_dosage'] / raw['dosage'] * raw['old_nadac_per_unit']\n",
    "raw['scaled_new_per_unit'] = raw['daily_max_dosage'] / raw['dosage'] * raw['new_nadac_per_unit']\n",
    "raw['scaled_percent_change'] = (raw['scaled_new_per_unit'] - raw['scaled_old_per_unit']) \\\n",
    "/ raw['scaled_old_per_unit'] * 100"
   ]
  },
  {
   "cell_type": "code",
   "execution_count": 9,
   "metadata": {},
   "outputs": [
    {
     "data": {
      "text/html": [
       "<div>\n",
       "<style scoped>\n",
       "    .dataframe tbody tr th:only-of-type {\n",
       "        vertical-align: middle;\n",
       "    }\n",
       "\n",
       "    .dataframe tbody tr th {\n",
       "        vertical-align: top;\n",
       "    }\n",
       "\n",
       "    .dataframe thead th {\n",
       "        text-align: right;\n",
       "    }\n",
       "</style>\n",
       "<table border=\"1\" class=\"dataframe\">\n",
       "  <thead>\n",
       "    <tr style=\"text-align: right;\">\n",
       "      <th></th>\n",
       "      <th>ndc_description</th>\n",
       "      <th>ndc</th>\n",
       "      <th>old_nadac_per_unit</th>\n",
       "      <th>new_nadac_per_unit</th>\n",
       "      <th>classification_for_rate_setting</th>\n",
       "      <th>percent_change</th>\n",
       "      <th>primary_reason</th>\n",
       "      <th>start_date</th>\n",
       "      <th>end_date</th>\n",
       "      <th>days_effective</th>\n",
       "      <th>days_count</th>\n",
       "      <th>year-month</th>\n",
       "      <th>drug_name</th>\n",
       "      <th>dosage</th>\n",
       "      <th>dosage_unit</th>\n",
       "      <th>drug_form</th>\n",
       "      <th>daily_max_dosage</th>\n",
       "      <th>scaled_old_per_unit</th>\n",
       "      <th>scaled_new_per_unit</th>\n",
       "      <th>scaled_percent_change</th>\n",
       "    </tr>\n",
       "  </thead>\n",
       "  <tbody>\n",
       "    <tr>\n",
       "      <th>24</th>\n",
       "      <td>ALREX 0.2% EYE DROPS</td>\n",
       "      <td>24208035305</td>\n",
       "      <td>27.08802</td>\n",
       "      <td>29.52622</td>\n",
       "      <td>B</td>\n",
       "      <td>9.00</td>\n",
       "      <td>WAC Adjustment</td>\n",
       "      <td>2013-12-05</td>\n",
       "      <td>2013-12-11</td>\n",
       "      <td>6</td>\n",
       "      <td>7</td>\n",
       "      <td>2013-12</td>\n",
       "      <td>ALREX</td>\n",
       "      <td>0.2</td>\n",
       "      <td>concentration</td>\n",
       "      <td>EYE DROPS</td>\n",
       "      <td>0.2</td>\n",
       "      <td>27.08802</td>\n",
       "      <td>29.52622</td>\n",
       "      <td>9.001027</td>\n",
       "    </tr>\n",
       "    <tr>\n",
       "      <th>25</th>\n",
       "      <td>ALREX 0.2% EYE DROPS</td>\n",
       "      <td>24208035310</td>\n",
       "      <td>27.39300</td>\n",
       "      <td>29.85892</td>\n",
       "      <td>B</td>\n",
       "      <td>9.00</td>\n",
       "      <td>WAC Adjustment</td>\n",
       "      <td>2013-12-05</td>\n",
       "      <td>2013-12-11</td>\n",
       "      <td>6</td>\n",
       "      <td>7</td>\n",
       "      <td>2013-12</td>\n",
       "      <td>ALREX</td>\n",
       "      <td>0.2</td>\n",
       "      <td>concentration</td>\n",
       "      <td>EYE DROPS</td>\n",
       "      <td>0.2</td>\n",
       "      <td>27.39300</td>\n",
       "      <td>29.85892</td>\n",
       "      <td>9.002008</td>\n",
       "    </tr>\n",
       "    <tr>\n",
       "      <th>26</th>\n",
       "      <td>ATIVAN 0.5 MG TABLET</td>\n",
       "      <td>64455006301</td>\n",
       "      <td>4.35697</td>\n",
       "      <td>5.06236</td>\n",
       "      <td>B</td>\n",
       "      <td>16.19</td>\n",
       "      <td>WAC Adjustment</td>\n",
       "      <td>2013-12-05</td>\n",
       "      <td>2013-12-11</td>\n",
       "      <td>6</td>\n",
       "      <td>7</td>\n",
       "      <td>2013-12</td>\n",
       "      <td>ATIVAN</td>\n",
       "      <td>0.5</td>\n",
       "      <td>MG</td>\n",
       "      <td>TABLET</td>\n",
       "      <td>2.0</td>\n",
       "      <td>17.42788</td>\n",
       "      <td>20.24944</td>\n",
       "      <td>16.189921</td>\n",
       "    </tr>\n",
       "    <tr>\n",
       "      <th>27</th>\n",
       "      <td>ATIVAN 1 MG TABLET</td>\n",
       "      <td>64455006401</td>\n",
       "      <td>5.84274</td>\n",
       "      <td>6.78862</td>\n",
       "      <td>B</td>\n",
       "      <td>16.19</td>\n",
       "      <td>WAC Adjustment</td>\n",
       "      <td>2013-12-05</td>\n",
       "      <td>2013-12-11</td>\n",
       "      <td>6</td>\n",
       "      <td>7</td>\n",
       "      <td>2013-12</td>\n",
       "      <td>ATIVAN</td>\n",
       "      <td>1.0</td>\n",
       "      <td>MG</td>\n",
       "      <td>TABLET</td>\n",
       "      <td>2.0</td>\n",
       "      <td>11.68548</td>\n",
       "      <td>13.57724</td>\n",
       "      <td>16.188980</td>\n",
       "    </tr>\n",
       "    <tr>\n",
       "      <th>28</th>\n",
       "      <td>ATIVAN 1 MG TABLET</td>\n",
       "      <td>64455006410</td>\n",
       "      <td>5.84274</td>\n",
       "      <td>6.78862</td>\n",
       "      <td>B</td>\n",
       "      <td>16.19</td>\n",
       "      <td>WAC Adjustment</td>\n",
       "      <td>2013-12-05</td>\n",
       "      <td>2013-12-11</td>\n",
       "      <td>6</td>\n",
       "      <td>7</td>\n",
       "      <td>2013-12</td>\n",
       "      <td>ATIVAN</td>\n",
       "      <td>1.0</td>\n",
       "      <td>MG</td>\n",
       "      <td>TABLET</td>\n",
       "      <td>2.0</td>\n",
       "      <td>11.68548</td>\n",
       "      <td>13.57724</td>\n",
       "      <td>16.188980</td>\n",
       "    </tr>\n",
       "  </tbody>\n",
       "</table>\n",
       "</div>"
      ],
      "text/plain": [
       "         ndc_description          ndc  old_nadac_per_unit  new_nadac_per_unit  \\\n",
       "24  ALREX 0.2% EYE DROPS  24208035305            27.08802            29.52622   \n",
       "25  ALREX 0.2% EYE DROPS  24208035310            27.39300            29.85892   \n",
       "26  ATIVAN 0.5 MG TABLET  64455006301             4.35697             5.06236   \n",
       "27    ATIVAN 1 MG TABLET  64455006401             5.84274             6.78862   \n",
       "28    ATIVAN 1 MG TABLET  64455006410             5.84274             6.78862   \n",
       "\n",
       "   classification_for_rate_setting  percent_change  primary_reason start_date  \\\n",
       "24                               B            9.00  WAC Adjustment 2013-12-05   \n",
       "25                               B            9.00  WAC Adjustment 2013-12-05   \n",
       "26                               B           16.19  WAC Adjustment 2013-12-05   \n",
       "27                               B           16.19  WAC Adjustment 2013-12-05   \n",
       "28                               B           16.19  WAC Adjustment 2013-12-05   \n",
       "\n",
       "     end_date  days_effective  days_count year-month drug_name  dosage  \\\n",
       "24 2013-12-11               6           7    2013-12     ALREX     0.2   \n",
       "25 2013-12-11               6           7    2013-12     ALREX     0.2   \n",
       "26 2013-12-11               6           7    2013-12    ATIVAN     0.5   \n",
       "27 2013-12-11               6           7    2013-12    ATIVAN     1.0   \n",
       "28 2013-12-11               6           7    2013-12    ATIVAN     1.0   \n",
       "\n",
       "      dosage_unit  drug_form  daily_max_dosage  scaled_old_per_unit  \\\n",
       "24  concentration  EYE DROPS               0.2             27.08802   \n",
       "25  concentration  EYE DROPS               0.2             27.39300   \n",
       "26             MG     TABLET               2.0             17.42788   \n",
       "27             MG     TABLET               2.0             11.68548   \n",
       "28             MG     TABLET               2.0             11.68548   \n",
       "\n",
       "    scaled_new_per_unit  scaled_percent_change  \n",
       "24             29.52622               9.001027  \n",
       "25             29.85892               9.002008  \n",
       "26             20.24944              16.189921  \n",
       "27             13.57724              16.188980  \n",
       "28             13.57724              16.188980  "
      ]
     },
     "execution_count": 9,
     "metadata": {},
     "output_type": "execute_result"
    }
   ],
   "source": [
    "raw.head()"
   ]
  },
  {
   "cell_type": "code",
   "execution_count": 10,
   "metadata": {},
   "outputs": [
    {
     "name": "stdout",
     "output_type": "stream",
     "text": [
      "Top value counts for NDC:\n"
     ]
    },
    {
     "data": {
      "text/plain": [
       "68382020401    22\n",
       "31722040505    22\n",
       "68382020405    22\n",
       "68462012601    22\n",
       "68462012605    22\n",
       "Name: ndc, dtype: int64"
      ]
     },
     "metadata": {},
     "output_type": "display_data"
    },
    {
     "name": "stdout",
     "output_type": "stream",
     "text": [
      "\n",
      "Top value counts for NDC description:\n"
     ]
    },
    {
     "data": {
      "text/plain": [
       "METFORMIN HCL 500 MG TABLET      1976\n",
       "LISINOPRIL 20 MG TABLET          1628\n",
       "LISINOPRIL 10 MG TABLET          1567\n",
       "AMLODIPINE BESYLATE 5 MG TAB     1551\n",
       "AMLODIPINE BESYLATE 10 MG TAB    1508\n",
       "Name: ndc_description, dtype: int64"
      ]
     },
     "metadata": {},
     "output_type": "display_data"
    }
   ],
   "source": [
    "print('Top value counts for NDC:')\n",
    "dsp(raw['ndc'].value_counts().sort_values(ascending = False).head())\n",
    "\n",
    "print('\\nTop value counts for NDC description:')\n",
    "dsp(raw['ndc_description'].value_counts().sort_values(ascending = False).head())"
   ]
  },
  {
   "cell_type": "markdown",
   "metadata": {},
   "source": [
    "### Normalization"
   ]
  },
  {
   "cell_type": "code",
   "execution_count": 11,
   "metadata": {},
   "outputs": [],
   "source": [
    "#Check correlation between dosage and price witin each drug\n",
    "top_10 = raw['drug_name'].value_counts().sort_values(ascending = False)[:20].index"
   ]
  },
  {
   "cell_type": "code",
   "execution_count": 12,
   "metadata": {},
   "outputs": [
    {
     "name": "stdout",
     "output_type": "stream",
     "text": [
      "Dosage to per-unit price correlation for 10 most changed drugs:\n",
      "\n",
      "(Pearson Correlation Coefficient, P-Value)\n",
      "LISINOPRIL\n",
      "(0.864420129149428, 0.0)\n",
      "RISPERIDONE\n",
      "(0.2033609498629652, 5.499571296895248e-52)\n",
      "GABAPENTIN\n",
      "(0.8569656229109558, 0.0)\n",
      "SIMVASTATIN\n",
      "(0.8618310041791036, 0.0)\n",
      "AMLODIPINE BESYLATE\n",
      "(0.7568323175886235, 0.0)\n",
      "QUETIAPINE FUMARATE\n",
      "(0.9519636727113635, 0.0)\n",
      "IBUPROFEN\n",
      "(0.7836383973226292, 0.0)\n",
      "METFORMIN HCL\n",
      "(0.9742844110646679, 0.0)\n",
      "OLANZAPINE\n",
      "(0.9801290331139227, 0.0)\n",
      "CITALOPRAM HBR\n",
      "(-0.08183624262301034, 4.367269436408418e-06)\n",
      "LEVETIRACETAM\n",
      "(0.911590313135831, 0.0)\n",
      "AMOXICILLIN\n",
      "(0.5428050462190125, 2.6259675320258957e-234)\n",
      "CARVEDILOL\n",
      "(0.42290241643306814, 1.0370271316225878e-131)\n",
      "LOSARTAN POTASSIUM\n",
      "(0.8802892558883041, 0.0)\n",
      "LAMOTRIGINE\n",
      "(-0.2922914888777595, 1.0232722712910593e-57)\n",
      "MONTELUKAST SOD\n",
      "(-0.2681767547853191, 4.2858183401626166e-45)\n",
      "SERTRALINE HCL\n",
      "(0.317493212045036, 4.3023427563742916e-62)\n",
      "PIOGLITAZONE HCL\n",
      "(0.8569806152381154, 0.0)\n",
      "ALPRAZOLAM\n",
      "(0.07107803147447654, 0.000324556779184953)\n",
      "WARFARIN SODIUM\n",
      "(0.1935212654254796, 1.1177672001088698e-22)\n"
     ]
    }
   ],
   "source": [
    "#Check correlation between dosage and price within individual drugs\n",
    "print('Dosage to per-unit price correlation for 10 most changed drugs:\\n')\n",
    "print('(Pearson Correlation Coefficient, P-Value)')\n",
    "for drug in top_10:\n",
    "    drug_changelog = raw[raw['drug_name'] == drug]\n",
    "    print(drug)\n",
    "    print(stats.pearsonr(drug_changelog['new_nadac_per_unit'].values, drug_changelog['dosage'].values))"
   ]
  },
  {
   "cell_type": "code",
   "execution_count": 13,
   "metadata": {},
   "outputs": [],
   "source": [
    "#Create drugs dataframe\n",
    "drugs = raw[['drug_name','old_nadac_per_unit','new_nadac_per_unit']].groupby(['drug_name']).mean().rename(\n",
    "    {'old_nadac_per_unit' : 'old_average_per_unit','new_nadac_per_unit': 'new_average_per_unit'}, axis = 1)\n",
    "drugs['percent_average_change'] = (drugs['new_average_per_unit'] \n",
    "                                   - drugs['old_average_per_unit']) / drugs['new_average_per_unit'] * 100"
   ]
  },
  {
   "cell_type": "code",
   "execution_count": 14,
   "metadata": {},
   "outputs": [
    {
     "data": {
      "text/html": [
       "<div>\n",
       "<style scoped>\n",
       "    .dataframe tbody tr th:only-of-type {\n",
       "        vertical-align: middle;\n",
       "    }\n",
       "\n",
       "    .dataframe tbody tr th {\n",
       "        vertical-align: top;\n",
       "    }\n",
       "\n",
       "    .dataframe thead th {\n",
       "        text-align: right;\n",
       "    }\n",
       "</style>\n",
       "<table border=\"1\" class=\"dataframe\">\n",
       "  <thead>\n",
       "    <tr style=\"text-align: right;\">\n",
       "      <th></th>\n",
       "      <th>old_average_per_unit</th>\n",
       "      <th>new_average_per_unit</th>\n",
       "      <th>percent_average_change</th>\n",
       "      <th>max_per_unit</th>\n",
       "      <th>min_per_unit</th>\n",
       "      <th>max_dosage</th>\n",
       "    </tr>\n",
       "    <tr>\n",
       "      <th>drug_name</th>\n",
       "      <th></th>\n",
       "      <th></th>\n",
       "      <th></th>\n",
       "      <th></th>\n",
       "      <th></th>\n",
       "      <th></th>\n",
       "    </tr>\n",
       "  </thead>\n",
       "  <tbody>\n",
       "    <tr>\n",
       "      <th></th>\n",
       "      <td>0.061608</td>\n",
       "      <td>0.061494</td>\n",
       "      <td>-0.185384</td>\n",
       "      <td>0.06650</td>\n",
       "      <td>0.05932</td>\n",
       "      <td>8.0</td>\n",
       "    </tr>\n",
       "    <tr>\n",
       "      <th>12-HR DECONGEST</th>\n",
       "      <td>0.341570</td>\n",
       "      <td>0.342896</td>\n",
       "      <td>0.386823</td>\n",
       "      <td>0.37681</td>\n",
       "      <td>0.32264</td>\n",
       "      <td>120.0</td>\n",
       "    </tr>\n",
       "    <tr>\n",
       "      <th>ABACAVIR</th>\n",
       "      <td>4.303600</td>\n",
       "      <td>4.246232</td>\n",
       "      <td>-1.351048</td>\n",
       "      <td>6.13318</td>\n",
       "      <td>3.09071</td>\n",
       "      <td>300.0</td>\n",
       "    </tr>\n",
       "    <tr>\n",
       "      <th>ABILIFY</th>\n",
       "      <td>28.790676</td>\n",
       "      <td>30.332430</td>\n",
       "      <td>5.082858</td>\n",
       "      <td>40.98323</td>\n",
       "      <td>5.50154</td>\n",
       "      <td>30.0</td>\n",
       "    </tr>\n",
       "    <tr>\n",
       "      <th>ABILIFY DISCMELT</th>\n",
       "      <td>30.165025</td>\n",
       "      <td>34.659615</td>\n",
       "      <td>12.967801</td>\n",
       "      <td>35.01615</td>\n",
       "      <td>34.30308</td>\n",
       "      <td>15.0</td>\n",
       "    </tr>\n",
       "  </tbody>\n",
       "</table>\n",
       "</div>"
      ],
      "text/plain": [
       "                  old_average_per_unit  new_average_per_unit  \\\n",
       "drug_name                                                      \n",
       "                              0.061608              0.061494   \n",
       "12-HR DECONGEST               0.341570              0.342896   \n",
       "ABACAVIR                      4.303600              4.246232   \n",
       "ABILIFY                      28.790676             30.332430   \n",
       "ABILIFY DISCMELT             30.165025             34.659615   \n",
       "\n",
       "                  percent_average_change  max_per_unit  min_per_unit  \\\n",
       "drug_name                                                              \n",
       "                               -0.185384       0.06650       0.05932   \n",
       "12-HR DECONGEST                 0.386823       0.37681       0.32264   \n",
       "ABACAVIR                       -1.351048       6.13318       3.09071   \n",
       "ABILIFY                         5.082858      40.98323       5.50154   \n",
       "ABILIFY DISCMELT               12.967801      35.01615      34.30308   \n",
       "\n",
       "                  max_dosage  \n",
       "drug_name                     \n",
       "                         8.0  \n",
       "12-HR DECONGEST        120.0  \n",
       "ABACAVIR               300.0  \n",
       "ABILIFY                 30.0  \n",
       "ABILIFY DISCMELT        15.0  "
      ]
     },
     "execution_count": 14,
     "metadata": {},
     "output_type": "execute_result"
    }
   ],
   "source": [
    "max_price, min_price, max_dosage = [], [], []\n",
    "for drug in drugs.index:\n",
    "    max_price.append(max(raw[raw['drug_name'] == drug]['new_nadac_per_unit']))\n",
    "    min_price.append(min(raw[raw['drug_name'] == drug]['new_nadac_per_unit']))\n",
    "    max_dosage.append(max(raw[raw['drug_name'] == drug]['dosage']))\n",
    "drugs['max_per_unit'] = max_price\n",
    "drugs['min_per_unit'] = min_price\n",
    "drugs['max_dosage'] = max_dosage\n",
    "drugs.head()"
   ]
  },
  {
   "cell_type": "code",
   "execution_count": 15,
   "metadata": {},
   "outputs": [
    {
     "data": {
      "image/png": "[encoded data removed]",
      "text/plain": [
       "<Figure size 432x288 with 1 Axes>"
      ]
     },
     "metadata": {
      "needs_background": "light"
     },
     "output_type": "display_data"
    }
   ],
   "source": [
    "plt.title('Max Price per Unit Distribution')\n",
    "#drugs[(np.abs(stats.zscore(drugs)) < 1).all(axis=1)]\n",
    "plt.hist(drugs['max_per_unit'])\n",
    "\n",
    "plt.xlabel('Price per Unit')\n",
    "plt.show()"
   ]
  },
  {
   "cell_type": "markdown",
   "metadata": {},
   "source": [
    "## Exploratory Data Analysis"
   ]
  },
  {
   "cell_type": "markdown",
   "metadata": {},
   "source": [
    "### Metadata"
   ]
  },
  {
   "cell_type": "code",
   "execution_count": 16,
   "metadata": {},
   "outputs": [
    {
     "name": "stdout",
     "output_type": "stream",
     "text": [
      "\n",
      "Unique Values in Raw Data per Column:\n"
     ]
    },
    {
     "data": {
      "text/html": [
       "<div>\n",
       "<style scoped>\n",
       "    .dataframe tbody tr th:only-of-type {\n",
       "        vertical-align: middle;\n",
       "    }\n",
       "\n",
       "    .dataframe tbody tr th {\n",
       "        vertical-align: top;\n",
       "    }\n",
       "\n",
       "    .dataframe thead th {\n",
       "        text-align: right;\n",
       "    }\n",
       "</style>\n",
       "<table border=\"1\" class=\"dataframe\">\n",
       "  <thead>\n",
       "    <tr style=\"text-align: right;\">\n",
       "      <th></th>\n",
       "      <th>Column_Name</th>\n",
       "      <th>Unique_Value_Count</th>\n",
       "      <th>Data_Type</th>\n",
       "    </tr>\n",
       "  </thead>\n",
       "  <tbody>\n",
       "    <tr>\n",
       "      <th>0</th>\n",
       "      <td>ndc_description</td>\n",
       "      <td>4787</td>\n",
       "      <td>object</td>\n",
       "    </tr>\n",
       "    <tr>\n",
       "      <th>1</th>\n",
       "      <td>ndc</td>\n",
       "      <td>41876</td>\n",
       "      <td>object</td>\n",
       "    </tr>\n",
       "    <tr>\n",
       "      <th>2</th>\n",
       "      <td>old_nadac_per_unit</td>\n",
       "      <td>49345</td>\n",
       "      <td>float64</td>\n",
       "    </tr>\n",
       "    <tr>\n",
       "      <th>3</th>\n",
       "      <td>new_nadac_per_unit</td>\n",
       "      <td>49387</td>\n",
       "      <td>float64</td>\n",
       "    </tr>\n",
       "    <tr>\n",
       "      <th>4</th>\n",
       "      <td>classification_for_rate_setting</td>\n",
       "      <td>2</td>\n",
       "      <td>object</td>\n",
       "    </tr>\n",
       "    <tr>\n",
       "      <th>5</th>\n",
       "      <td>percent_change</td>\n",
       "      <td>6081</td>\n",
       "      <td>float64</td>\n",
       "    </tr>\n",
       "    <tr>\n",
       "      <th>6</th>\n",
       "      <td>primary_reason</td>\n",
       "      <td>4</td>\n",
       "      <td>object</td>\n",
       "    </tr>\n",
       "    <tr>\n",
       "      <th>7</th>\n",
       "      <td>start_date</td>\n",
       "      <td>107</td>\n",
       "      <td>datetime64[ns]</td>\n",
       "    </tr>\n",
       "    <tr>\n",
       "      <th>8</th>\n",
       "      <td>end_date</td>\n",
       "      <td>107</td>\n",
       "      <td>datetime64[ns]</td>\n",
       "    </tr>\n",
       "    <tr>\n",
       "      <th>9</th>\n",
       "      <td>days_effective</td>\n",
       "      <td>2</td>\n",
       "      <td>int64</td>\n",
       "    </tr>\n",
       "    <tr>\n",
       "      <th>10</th>\n",
       "      <td>days_count</td>\n",
       "      <td>107</td>\n",
       "      <td>int64</td>\n",
       "    </tr>\n",
       "    <tr>\n",
       "      <th>11</th>\n",
       "      <td>year-month</td>\n",
       "      <td>25</td>\n",
       "      <td>object</td>\n",
       "    </tr>\n",
       "    <tr>\n",
       "      <th>12</th>\n",
       "      <td>drug_name</td>\n",
       "      <td>2350</td>\n",
       "      <td>object</td>\n",
       "    </tr>\n",
       "    <tr>\n",
       "      <th>13</th>\n",
       "      <td>dosage</td>\n",
       "      <td>215</td>\n",
       "      <td>float64</td>\n",
       "    </tr>\n",
       "    <tr>\n",
       "      <th>14</th>\n",
       "      <td>dosage_unit</td>\n",
       "      <td>134</td>\n",
       "      <td>object</td>\n",
       "    </tr>\n",
       "    <tr>\n",
       "      <th>15</th>\n",
       "      <td>drug_form</td>\n",
       "      <td>368</td>\n",
       "      <td>object</td>\n",
       "    </tr>\n",
       "    <tr>\n",
       "      <th>16</th>\n",
       "      <td>daily_max_dosage</td>\n",
       "      <td>201</td>\n",
       "      <td>float64</td>\n",
       "    </tr>\n",
       "    <tr>\n",
       "      <th>17</th>\n",
       "      <td>scaled_old_per_unit</td>\n",
       "      <td>54234</td>\n",
       "      <td>float64</td>\n",
       "    </tr>\n",
       "    <tr>\n",
       "      <th>18</th>\n",
       "      <td>scaled_new_per_unit</td>\n",
       "      <td>54265</td>\n",
       "      <td>float64</td>\n",
       "    </tr>\n",
       "    <tr>\n",
       "      <th>19</th>\n",
       "      <td>scaled_percent_change</td>\n",
       "      <td>59071</td>\n",
       "      <td>float64</td>\n",
       "    </tr>\n",
       "  </tbody>\n",
       "</table>\n",
       "</div>"
      ],
      "text/plain": [
       "                        Column_Name  Unique_Value_Count       Data_Type\n",
       "0                   ndc_description                4787          object\n",
       "1                               ndc               41876          object\n",
       "2                old_nadac_per_unit               49345         float64\n",
       "3                new_nadac_per_unit               49387         float64\n",
       "4   classification_for_rate_setting                   2          object\n",
       "5                    percent_change                6081         float64\n",
       "6                    primary_reason                   4          object\n",
       "7                        start_date                 107  datetime64[ns]\n",
       "8                          end_date                 107  datetime64[ns]\n",
       "9                    days_effective                   2           int64\n",
       "10                       days_count                 107           int64\n",
       "11                       year-month                  25          object\n",
       "12                        drug_name                2350          object\n",
       "13                           dosage                 215         float64\n",
       "14                      dosage_unit                 134          object\n",
       "15                        drug_form                 368          object\n",
       "16                 daily_max_dosage                 201         float64\n",
       "17              scaled_old_per_unit               54234         float64\n",
       "18              scaled_new_per_unit               54265         float64\n",
       "19            scaled_percent_change               59071         float64"
      ]
     },
     "metadata": {},
     "output_type": "display_data"
    },
    {
     "name": "stdout",
     "output_type": "stream",
     "text": [
      "Total Number of Changes: 416775\n",
      "Total Number Observations:  416775\n"
     ]
    }
   ],
   "source": [
    "print('\\nUnique Values in Raw Data per Column:')\n",
    "list_unique_counts(raw)"
   ]
  },
  {
   "cell_type": "markdown",
   "metadata": {},
   "source": [
    "### Data Distribution"
   ]
  },
  {
   "cell_type": "code",
   "execution_count": 17,
   "metadata": {},
   "outputs": [],
   "source": [
    "data = raw[['drug_name','start_date', 'days_count', 'year-month', 'old_nadac_per_unit', 'new_nadac_per_unit', 'scaled_old_per_unit',\\\n",
    "          'scaled_new_per_unit', 'percent_change', 'scaled_percent_change']]"
   ]
  },
  {
   "cell_type": "markdown",
   "metadata": {},
   "source": [
    "#### Percent Change"
   ]
  },
  {
   "cell_type": "code",
   "execution_count": 18,
   "metadata": {},
   "outputs": [
    {
     "data": {
      "image/png": "[encoded data removed]",
      "text/plain": [
       "<Figure size 432x288 with 1 Axes>"
      ]
     },
     "metadata": {
      "needs_background": "light"
     },
     "output_type": "display_data"
    },
    {
     "data": {
      "image/png": "[encoded data removed]",
      "text/plain": [
       "<Figure size 432x288 with 1 Axes>"
      ]
     },
     "metadata": {
      "needs_background": "light"
     },
     "output_type": "display_data"
    },
    {
     "data": {
      "image/png": "[encoded data removed]",
      "text/plain": [
       "<Figure size 432x288 with 1 Axes>"
      ]
     },
     "metadata": {
      "needs_background": "light"
     },
     "output_type": "display_data"
    }
   ],
   "source": [
    "plt.title('Percent Change Distribution')\n",
    "plt.hist(data['percent_change'])\n",
    "plt.xlabel('% change')\n",
    "plt.ylabel('N Obs')\n",
    "plt.show()\n",
    "\n",
    "plt.title('Percent Change Distribution, Outliers Removed')\n",
    "plt.hist(data['percent_change'], range = (-100, 100))\n",
    "plt.xlabel('% change')\n",
    "plt.ylabel('N Obs')\n",
    "plt.show()\n",
    "\n",
    "plt.title('Percent Change per Date')\n",
    "plt.scatter(data['start_date'], data['percent_change'])\n",
    "plt.xticks(rotation = 70)\n",
    "plt.xlabel('Date')\n",
    "plt.ylabel('Percent Change')\n",
    "\n",
    "plt.show()"
   ]
  },
  {
   "cell_type": "markdown",
   "metadata": {},
   "source": [
    "#### Price per Unit: de facto and scaled"
   ]
  },
  {
   "cell_type": "code",
   "execution_count": 19,
   "metadata": {},
   "outputs": [
    {
     "data": {
      "image/png": "[encoded data removed]",
      "text/plain": [
       "<Figure size 432x288 with 1 Axes>"
      ]
     },
     "metadata": {
      "needs_background": "light"
     },
     "output_type": "display_data"
    },
    {
     "data": {
      "image/png": "[encoded data removed]",
      "text/plain": [
       "<Figure size 432x288 with 1 Axes>"
      ]
     },
     "metadata": {
      "needs_background": "light"
     },
     "output_type": "display_data"
    },
    {
     "data": {
      "image/png": "[encoded data removed]",
      "text/plain": [
       "<Figure size 432x288 with 1 Axes>"
      ]
     },
     "metadata": {
      "needs_background": "light"
     },
     "output_type": "display_data"
    }
   ],
   "source": [
    "plt.title('New Price Per Unit')\n",
    "plt.hist(data['new_nadac_per_unit'], color = 'green')\n",
    "plt.xlabel('Price per Unit')\n",
    "plt.ylabel('N Obs')\n",
    "plt.show()\n",
    "\n",
    "plt.title('New Price Per Unit (0, 1)')\n",
    "plt.hist(data['new_nadac_per_unit'], range = (0, 1), color = 'green')\n",
    "plt.xlabel('Price per Unit')\n",
    "plt.ylabel('N Obs')\n",
    "plt.show()\n",
    "\n",
    "plt.title('New Price to Date')\n",
    "plt.scatter(data['start_date'], data['new_nadac_per_unit'], color = 'green')\n",
    "plt.xticks(rotation = 70)\n",
    "plt.xlabel('Date')\n",
    "plt.ylabel('Price per Unit')\n",
    "plt.show()\n",
    "\n"
   ]
  },
  {
   "cell_type": "code",
   "execution_count": 20,
   "metadata": {},
   "outputs": [
    {
     "data": {
      "image/png": "[encoded data removed]",
      "text/plain": [
       "<Figure size 432x288 with 1 Axes>"
      ]
     },
     "metadata": {
      "needs_background": "light"
     },
     "output_type": "display_data"
    },
    {
     "data": {
      "image/png": "[encoded data removed]",
      "text/plain": [
       "<Figure size 432x288 with 1 Axes>"
      ]
     },
     "metadata": {
      "needs_background": "light"
     },
     "output_type": "display_data"
    },
    {
     "data": {
      "image/png": "[encoded data removed]",
      "text/plain": [
       "<Figure size 432x288 with 1 Axes>"
      ]
     },
     "metadata": {
      "needs_background": "light"
     },
     "output_type": "display_data"
    }
   ],
   "source": [
    "plt.title('Scaled New Price Per Unit')\n",
    "plt.hist(data['scaled_new_per_unit'], color = 'red')\n",
    "plt.xlabel('Price per Unit')\n",
    "plt.ylabel('N Obs')\n",
    "plt.show()\n",
    "\n",
    "plt.title('Scaled New Price Per Unit (0, 1)')\n",
    "plt.hist(data['scaled_new_per_unit'], range = (0, 1), color = 'red')\n",
    "plt.xlabel('Price per Unit')\n",
    "plt.ylabel('N Obs')\n",
    "plt.show()\n",
    "\n",
    "plt.title('Scaled NewPrice to Date')\n",
    "plt.scatter(data['start_date'], data['scaled_new_per_unit'], color = 'red')\n",
    "plt.xticks(rotation = 70)\n",
    "plt.xlabel('Date')\n",
    "plt.ylabel('Price per Unit')\n",
    "plt.show()"
   ]
  },
  {
   "cell_type": "markdown",
   "metadata": {},
   "source": [
    "#### Correlation Testing"
   ]
  },
  {
   "cell_type": "code",
   "execution_count": 21,
   "metadata": {},
   "outputs": [
    {
     "data": {
      "text/plain": [
       "<matplotlib.axes._subplots.AxesSubplot at 0x7f698b7e0320>"
      ]
     },
     "execution_count": 21,
     "metadata": {},
     "output_type": "execute_result"
    },
    {
     "data": {
      "image/png": "[encoded data removed]",
      "text/plain": [
       "<Figure size 432x288 with 2 Axes>"
      ]
     },
     "metadata": {
      "needs_background": "light"
     },
     "output_type": "display_data"
    }
   ],
   "source": [
    "sns.heatmap(data.corr())"
   ]
  },
  {
   "cell_type": "markdown",
   "metadata": {},
   "source": [
    "### Metrics for General Volatility\n",
    "\n",
    "#### Changes per Day"
   ]
  },
  {
   "cell_type": "code",
   "execution_count": 22,
   "metadata": {
    "scrolled": true
   },
   "outputs": [
    {
     "data": {
      "text/plain": [
       "2013-12-05      105\n",
       "2013-12-11    15729\n",
       "2013-12-18       61\n",
       "2013-12-25       11\n",
       "2014-01-08      318\n",
       "Name: start_date, dtype: int64"
      ]
     },
     "metadata": {},
     "output_type": "display_data"
    },
    {
     "name": "stdout",
     "output_type": "stream",
     "text": [
      "Our data represents the range of dates between 2013-12-05 and 2015-12-30\n"
     ]
    }
   ],
   "source": [
    "#Changes per day\n",
    "change_count = raw['start_date'].value_counts().sort_index()\n",
    "dsp(change_count.head())\n",
    "\n",
    "print('Our data represents the range of dates between {} and {}'.format(change_count.index.min().strftime('%Y-%m-%d'),\n",
    "                                                                        change_count.index.max().strftime('%Y-%m-%d')))"
   ]
  },
  {
   "cell_type": "code",
   "execution_count": 23,
   "metadata": {},
   "outputs": [
    {
     "name": "stdout",
     "output_type": "stream",
     "text": [
      "2015-12-16    17269\n",
      "2015-11-11    17249\n",
      "2015-07-15    16932\n",
      "2015-10-14    16918\n",
      "2015-06-10    16859\n",
      "2015-02-11    16763\n",
      "2015-08-12    16731\n",
      "2015-05-13    16719\n",
      "2014-11-12    16693\n",
      "2015-04-15    16626\n",
      "Name: start_date, dtype: int64\n"
     ]
    }
   ],
   "source": [
    "print(change_count.sort_values(ascending = False)[:10])"
   ]
  },
  {
   "cell_type": "code",
   "execution_count": 24,
   "metadata": {},
   "outputs": [
    {
     "data": {
      "image/png": "[encoded data removed]",
      "text/plain": [
       "<Figure size 432x288 with 1 Axes>"
      ]
     },
     "metadata": {
      "needs_background": "light"
     },
     "output_type": "display_data"
    }
   ],
   "source": [
    "plt.title('Changes Implemented Per Day')\n",
    "plt.plot(change_count.index.strftime('%Y-%m-%d'), change_count.values, '.')\n",
    "plt.xticks(np.arange(0,len(change_count.index), round((len(change_count.index)) / 8)), rotation = 70)\n",
    "plt.xlabel('Date')\n",
    "plt.ylabel('N Changes')\n",
    "plt.show()"
   ]
  },
  {
   "cell_type": "markdown",
   "metadata": {},
   "source": [
    "##### What kind of changes happen at what times."
   ]
  },
  {
   "cell_type": "code",
   "execution_count": 25,
   "metadata": {},
   "outputs": [],
   "source": [
    "#Group dates into high-change days or low change days\n",
    "CHANGE_LIMIT = 10000\n",
    "\n",
    "#Add Feature in raw df\n",
    "#raw['volume'] = np.where()"
   ]
  },
  {
   "cell_type": "markdown",
   "metadata": {},
   "source": [
    "#### Changes per Month"
   ]
  },
  {
   "cell_type": "code",
   "execution_count": 26,
   "metadata": {},
   "outputs": [
    {
     "data": {
      "text/plain": [
       "2013-12    15906\n",
       "2014-01    16419\n",
       "2014-02    15824\n",
       "2014-03    15864\n",
       "2014-04    16187\n",
       "Name: year-month, dtype: int64"
      ]
     },
     "execution_count": 26,
     "metadata": {},
     "output_type": "execute_result"
    }
   ],
   "source": [
    "mnth_count = raw['year-month'].value_counts().sort_index()\n",
    "mnth_count.head()"
   ]
  },
  {
   "cell_type": "code",
   "execution_count": 27,
   "metadata": {},
   "outputs": [
    {
     "data": {
      "image/png": "[encoded data removed]",
      "text/plain": [
       "<Figure size 432x288 with 1 Axes>"
      ]
     },
     "metadata": {
      "needs_background": "light"
     },
     "output_type": "display_data"
    }
   ],
   "source": [
    "plt.title('Changes per Month')\n",
    "plt.plot(mnth_count, '.')\n",
    "plt.xticks(np.arange(0,len(mnth_count.index), round((len(mnth_count.index)) / 8)), rotation = 70)\n",
    "plt.xlabel('Date')\n",
    "plt.ylabel('N Changes')\n",
    "plt.show()"
   ]
  },
  {
   "cell_type": "markdown",
   "metadata": {},
   "source": [
    "#### Average Rate Change per Month"
   ]
  },
  {
   "cell_type": "code",
   "execution_count": 28,
   "metadata": {},
   "outputs": [
    {
     "data": {
      "text/html": [
       "<div>\n",
       "<style scoped>\n",
       "    .dataframe tbody tr th:only-of-type {\n",
       "        vertical-align: middle;\n",
       "    }\n",
       "\n",
       "    .dataframe tbody tr th {\n",
       "        vertical-align: top;\n",
       "    }\n",
       "\n",
       "    .dataframe thead th {\n",
       "        text-align: right;\n",
       "    }\n",
       "</style>\n",
       "<table border=\"1\" class=\"dataframe\">\n",
       "  <thead>\n",
       "    <tr style=\"text-align: right;\">\n",
       "      <th></th>\n",
       "      <th>old_nadac_per_unit</th>\n",
       "      <th>new_nadac_per_unit</th>\n",
       "      <th>percent_change</th>\n",
       "      <th>days_effective</th>\n",
       "      <th>days_count</th>\n",
       "      <th>dosage</th>\n",
       "      <th>daily_max_dosage</th>\n",
       "      <th>scaled_old_per_unit</th>\n",
       "      <th>scaled_new_per_unit</th>\n",
       "      <th>scaled_percent_change</th>\n",
       "    </tr>\n",
       "    <tr>\n",
       "      <th>year-month</th>\n",
       "      <th></th>\n",
       "      <th></th>\n",
       "      <th></th>\n",
       "      <th></th>\n",
       "      <th></th>\n",
       "      <th></th>\n",
       "      <th></th>\n",
       "      <th></th>\n",
       "      <th></th>\n",
       "      <th></th>\n",
       "    </tr>\n",
       "  </thead>\n",
       "  <tbody>\n",
       "    <tr>\n",
       "      <th>2013-12</th>\n",
       "      <td>1.833895</td>\n",
       "      <td>1.896660</td>\n",
       "      <td>5.073839</td>\n",
       "      <td>6.993399</td>\n",
       "      <td>12.996919</td>\n",
       "      <td>108.309114</td>\n",
       "      <td>157.827054</td>\n",
       "      <td>2.732459</td>\n",
       "      <td>2.836470</td>\n",
       "      <td>5.073551</td>\n",
       "    </tr>\n",
       "    <tr>\n",
       "      <th>2014-01</th>\n",
       "      <td>3.760482</td>\n",
       "      <td>3.888046</td>\n",
       "      <td>7.562463</td>\n",
       "      <td>7.000000</td>\n",
       "      <td>47.923686</td>\n",
       "      <td>106.965057</td>\n",
       "      <td>155.738260</td>\n",
       "      <td>5.454216</td>\n",
       "      <td>5.651314</td>\n",
       "      <td>7.569508</td>\n",
       "    </tr>\n",
       "    <tr>\n",
       "      <th>2014-02</th>\n",
       "      <td>4.357223</td>\n",
       "      <td>4.487732</td>\n",
       "      <td>-2.906283</td>\n",
       "      <td>7.000000</td>\n",
       "      <td>76.014156</td>\n",
       "      <td>107.657281</td>\n",
       "      <td>156.850228</td>\n",
       "      <td>5.106859</td>\n",
       "      <td>5.221174</td>\n",
       "      <td>-2.906400</td>\n",
       "    </tr>\n",
       "    <tr>\n",
       "      <th>2014-03</th>\n",
       "      <td>2.195605</td>\n",
       "      <td>2.222135</td>\n",
       "      <td>0.376311</td>\n",
       "      <td>7.000000</td>\n",
       "      <td>103.998676</td>\n",
       "      <td>107.128001</td>\n",
       "      <td>155.644765</td>\n",
       "      <td>3.240518</td>\n",
       "      <td>3.299216</td>\n",
       "      <td>0.364178</td>\n",
       "    </tr>\n",
       "    <tr>\n",
       "      <th>2014-04</th>\n",
       "      <td>1.888697</td>\n",
       "      <td>1.899964</td>\n",
       "      <td>0.199421</td>\n",
       "      <td>7.000000</td>\n",
       "      <td>138.861617</td>\n",
       "      <td>107.159301</td>\n",
       "      <td>155.792940</td>\n",
       "      <td>2.822958</td>\n",
       "      <td>2.839127</td>\n",
       "      <td>0.201176</td>\n",
       "    </tr>\n",
       "  </tbody>\n",
       "</table>\n",
       "</div>"
      ],
      "text/plain": [
       "            old_nadac_per_unit  new_nadac_per_unit  percent_change  \\\n",
       "year-month                                                           \n",
       "2013-12               1.833895            1.896660        5.073839   \n",
       "2014-01               3.760482            3.888046        7.562463   \n",
       "2014-02               4.357223            4.487732       -2.906283   \n",
       "2014-03               2.195605            2.222135        0.376311   \n",
       "2014-04               1.888697            1.899964        0.199421   \n",
       "\n",
       "            days_effective  days_count      dosage  daily_max_dosage  \\\n",
       "year-month                                                             \n",
       "2013-12           6.993399   12.996919  108.309114        157.827054   \n",
       "2014-01           7.000000   47.923686  106.965057        155.738260   \n",
       "2014-02           7.000000   76.014156  107.657281        156.850228   \n",
       "2014-03           7.000000  103.998676  107.128001        155.644765   \n",
       "2014-04           7.000000  138.861617  107.159301        155.792940   \n",
       "\n",
       "            scaled_old_per_unit  scaled_new_per_unit  scaled_percent_change  \n",
       "year-month                                                                   \n",
       "2013-12                2.732459             2.836470               5.073551  \n",
       "2014-01                5.454216             5.651314               7.569508  \n",
       "2014-02                5.106859             5.221174              -2.906400  \n",
       "2014-03                3.240518             3.299216               0.364178  \n",
       "2014-04                2.822958             2.839127               0.201176  "
      ]
     },
     "execution_count": 28,
     "metadata": {},
     "output_type": "execute_result"
    }
   ],
   "source": [
    "mnth_avgs = raw.groupby(['year-month']).mean()\n",
    "mnth_avgs.head()"
   ]
  },
  {
   "cell_type": "code",
   "execution_count": 29,
   "metadata": {},
   "outputs": [
    {
     "data": {
      "image/png": "[encoded data removed]",
      "text/plain": [
       "<Figure size 432x288 with 1 Axes>"
      ]
     },
     "metadata": {
      "needs_background": "light"
     },
     "output_type": "display_data"
    }
   ],
   "source": [
    "plt.title('Average Monthly Price Change')\n",
    "plt.plot(mnth_avgs['percent_change'], '.')\n",
    "plt.xticks(np.arange(0,len(mnth_avgs.index), round((len(mnth_avgs.index)) / 8)), rotation = 70)\n",
    "plt.xlabel('Date')\n",
    "plt.ylabel('Average Price Change')\n",
    "plt.show()"
   ]
  },
  {
   "cell_type": "code",
   "execution_count": 30,
   "metadata": {},
   "outputs": [
    {
     "data": {
      "text/plain": [
       "Text(0, 0.5, 'Observations')"
      ]
     },
     "execution_count": 30,
     "metadata": {},
     "output_type": "execute_result"
    },
    {
     "data": {
      "image/png": "[encoded data removed]",
      "text/plain": [
       "<Figure size 432x288 with 1 Axes>"
      ]
     },
     "metadata": {
      "needs_background": "light"
     },
     "output_type": "display_data"
    }
   ],
   "source": [
    "plt.title('Average Monthly Percent Change Distribution')\n",
    "mnth_avgs['percent_change'].hist()\n",
    "plt.xlabel('Percent Change')\n",
    "plt.ylabel('Observations')"
   ]
  },
  {
   "cell_type": "markdown",
   "metadata": {},
   "source": [
    "#### Total Price Gain/Loss per Month"
   ]
  },
  {
   "cell_type": "code",
   "execution_count": 31,
   "metadata": {},
   "outputs": [],
   "source": [
    "raw['total_price_change'] = raw['new_nadac_per_unit'] - raw['old_nadac_per_unit']\n",
    "mnth_sum = raw.groupby(['year-month']).sum()"
   ]
  },
  {
   "cell_type": "code",
   "execution_count": 32,
   "metadata": {},
   "outputs": [
    {
     "data": {
      "image/png": "[encoded data removed]",
      "text/plain": [
       "<Figure size 432x288 with 1 Axes>"
      ]
     },
     "metadata": {
      "needs_background": "light"
     },
     "output_type": "display_data"
    }
   ],
   "source": [
    "plt.title('Total Price Change per Month')\n",
    "plt.plot(mnth_sum['total_price_change'], '*')\n",
    "plt.xticks(np.arange(0,len(mnth_sum.index), round((len(mnth_sum.index)) / 8)), rotation = 70)\n",
    "plt.show()"
   ]
  },
  {
   "cell_type": "code",
   "execution_count": 35,
   "metadata": {},
   "outputs": [
    {
     "ename": "ValueError",
     "evalue": "could not convert string to float: '2013-12'",
     "output_type": "error",
     "traceback": [
      "\u001b[0;31m---------------------------------------------------------------------------\u001b[0m",
      "\u001b[0;31mValueError\u001b[0m                                Traceback (most recent call last)",
      "\u001b[0;32m<ipython-input-35-449977d05abf>\u001b[0m in \u001b[0;36m<module>\u001b[0;34m\u001b[0m\n\u001b[1;32m      5\u001b[0m \u001b[0;34m\u001b[0m\u001b[0m\n\u001b[1;32m      6\u001b[0m \u001b[0mlin\u001b[0m \u001b[0;34m=\u001b[0m \u001b[0mLinearRegression\u001b[0m\u001b[0;34m(\u001b[0m\u001b[0;34m)\u001b[0m\u001b[0;34m\u001b[0m\u001b[0;34m\u001b[0m\u001b[0m\n\u001b[0;32m----> 7\u001b[0;31m \u001b[0mlin\u001b[0m\u001b[0;34m.\u001b[0m\u001b[0mfit\u001b[0m\u001b[0;34m(\u001b[0m\u001b[0ma\u001b[0m\u001b[0;34m.\u001b[0m\u001b[0mindex\u001b[0m\u001b[0;34m,\u001b[0m \u001b[0ma\u001b[0m\u001b[0;34m.\u001b[0m\u001b[0mvalues\u001b[0m\u001b[0;34m)\u001b[0m\u001b[0;34m\u001b[0m\u001b[0;34m\u001b[0m\u001b[0m\n\u001b[0m\u001b[1;32m      8\u001b[0m \u001b[0mlin\u001b[0m\u001b[0;34m.\u001b[0m\u001b[0mscore\u001b[0m\u001b[0;34m(\u001b[0m\u001b[0ma\u001b[0m\u001b[0;34m.\u001b[0m\u001b[0mindex\u001b[0m\u001b[0;34m,\u001b[0m \u001b[0ma\u001b[0m\u001b[0;34m.\u001b[0m\u001b[0mvalues\u001b[0m\u001b[0;34m)\u001b[0m\u001b[0;34m\u001b[0m\u001b[0;34m\u001b[0m\u001b[0m\n",
      "\u001b[0;32m/usr/local/lib/python3.6/dist-packages/sklearn/linear_model/base.py\u001b[0m in \u001b[0;36mfit\u001b[0;34m(self, X, y, sample_weight)\u001b[0m\n\u001b[1;32m    456\u001b[0m         \u001b[0mn_jobs_\u001b[0m \u001b[0;34m=\u001b[0m \u001b[0mself\u001b[0m\u001b[0;34m.\u001b[0m\u001b[0mn_jobs\u001b[0m\u001b[0;34m\u001b[0m\u001b[0;34m\u001b[0m\u001b[0m\n\u001b[1;32m    457\u001b[0m         X, y = check_X_y(X, y, accept_sparse=['csr', 'csc', 'coo'],\n\u001b[0;32m--> 458\u001b[0;31m                          y_numeric=True, multi_output=True)\n\u001b[0m\u001b[1;32m    459\u001b[0m \u001b[0;34m\u001b[0m\u001b[0m\n\u001b[1;32m    460\u001b[0m         \u001b[0;32mif\u001b[0m \u001b[0msample_weight\u001b[0m \u001b[0;32mis\u001b[0m \u001b[0;32mnot\u001b[0m \u001b[0;32mNone\u001b[0m \u001b[0;32mand\u001b[0m \u001b[0mnp\u001b[0m\u001b[0;34m.\u001b[0m\u001b[0matleast_1d\u001b[0m\u001b[0;34m(\u001b[0m\u001b[0msample_weight\u001b[0m\u001b[0;34m)\u001b[0m\u001b[0;34m.\u001b[0m\u001b[0mndim\u001b[0m \u001b[0;34m>\u001b[0m \u001b[0;36m1\u001b[0m\u001b[0;34m:\u001b[0m\u001b[0;34m\u001b[0m\u001b[0;34m\u001b[0m\u001b[0m\n",
      "\u001b[0;32m/usr/local/lib/python3.6/dist-packages/sklearn/utils/validation.py\u001b[0m in \u001b[0;36mcheck_X_y\u001b[0;34m(X, y, accept_sparse, accept_large_sparse, dtype, order, copy, force_all_finite, ensure_2d, allow_nd, multi_output, ensure_min_samples, ensure_min_features, y_numeric, warn_on_dtype, estimator)\u001b[0m\n\u001b[1;32m    754\u001b[0m                     \u001b[0mensure_min_features\u001b[0m\u001b[0;34m=\u001b[0m\u001b[0mensure_min_features\u001b[0m\u001b[0;34m,\u001b[0m\u001b[0;34m\u001b[0m\u001b[0;34m\u001b[0m\u001b[0m\n\u001b[1;32m    755\u001b[0m                     \u001b[0mwarn_on_dtype\u001b[0m\u001b[0;34m=\u001b[0m\u001b[0mwarn_on_dtype\u001b[0m\u001b[0;34m,\u001b[0m\u001b[0;34m\u001b[0m\u001b[0;34m\u001b[0m\u001b[0m\n\u001b[0;32m--> 756\u001b[0;31m                     estimator=estimator)\n\u001b[0m\u001b[1;32m    757\u001b[0m     \u001b[0;32mif\u001b[0m \u001b[0mmulti_output\u001b[0m\u001b[0;34m:\u001b[0m\u001b[0;34m\u001b[0m\u001b[0;34m\u001b[0m\u001b[0m\n\u001b[1;32m    758\u001b[0m         y = check_array(y, 'csr', force_all_finite=True, ensure_2d=False,\n",
      "\u001b[0;32m/usr/local/lib/python3.6/dist-packages/sklearn/utils/validation.py\u001b[0m in \u001b[0;36mcheck_array\u001b[0;34m(array, accept_sparse, accept_large_sparse, dtype, order, copy, force_all_finite, ensure_2d, allow_nd, ensure_min_samples, ensure_min_features, warn_on_dtype, estimator)\u001b[0m\n\u001b[1;32m    525\u001b[0m             \u001b[0;32mtry\u001b[0m\u001b[0;34m:\u001b[0m\u001b[0;34m\u001b[0m\u001b[0;34m\u001b[0m\u001b[0m\n\u001b[1;32m    526\u001b[0m                 \u001b[0mwarnings\u001b[0m\u001b[0;34m.\u001b[0m\u001b[0msimplefilter\u001b[0m\u001b[0;34m(\u001b[0m\u001b[0;34m'error'\u001b[0m\u001b[0;34m,\u001b[0m \u001b[0mComplexWarning\u001b[0m\u001b[0;34m)\u001b[0m\u001b[0;34m\u001b[0m\u001b[0;34m\u001b[0m\u001b[0m\n\u001b[0;32m--> 527\u001b[0;31m                 \u001b[0marray\u001b[0m \u001b[0;34m=\u001b[0m \u001b[0mnp\u001b[0m\u001b[0;34m.\u001b[0m\u001b[0masarray\u001b[0m\u001b[0;34m(\u001b[0m\u001b[0marray\u001b[0m\u001b[0;34m,\u001b[0m \u001b[0mdtype\u001b[0m\u001b[0;34m=\u001b[0m\u001b[0mdtype\u001b[0m\u001b[0;34m,\u001b[0m \u001b[0morder\u001b[0m\u001b[0;34m=\u001b[0m\u001b[0morder\u001b[0m\u001b[0;34m)\u001b[0m\u001b[0;34m\u001b[0m\u001b[0;34m\u001b[0m\u001b[0m\n\u001b[0m\u001b[1;32m    528\u001b[0m             \u001b[0;32mexcept\u001b[0m \u001b[0mComplexWarning\u001b[0m\u001b[0;34m:\u001b[0m\u001b[0;34m\u001b[0m\u001b[0;34m\u001b[0m\u001b[0m\n\u001b[1;32m    529\u001b[0m                 raise ValueError(\"Complex data not supported\\n\"\n",
      "\u001b[0;32m~/.local/lib/python3.6/site-packages/numpy/core/numeric.py\u001b[0m in \u001b[0;36masarray\u001b[0;34m(a, dtype, order)\u001b[0m\n\u001b[1;32m    536\u001b[0m \u001b[0;34m\u001b[0m\u001b[0m\n\u001b[1;32m    537\u001b[0m     \"\"\"\n\u001b[0;32m--> 538\u001b[0;31m     \u001b[0;32mreturn\u001b[0m \u001b[0marray\u001b[0m\u001b[0;34m(\u001b[0m\u001b[0ma\u001b[0m\u001b[0;34m,\u001b[0m \u001b[0mdtype\u001b[0m\u001b[0;34m,\u001b[0m \u001b[0mcopy\u001b[0m\u001b[0;34m=\u001b[0m\u001b[0;32mFalse\u001b[0m\u001b[0;34m,\u001b[0m \u001b[0morder\u001b[0m\u001b[0;34m=\u001b[0m\u001b[0morder\u001b[0m\u001b[0;34m)\u001b[0m\u001b[0;34m\u001b[0m\u001b[0;34m\u001b[0m\u001b[0m\n\u001b[0m\u001b[1;32m    539\u001b[0m \u001b[0;34m\u001b[0m\u001b[0m\n\u001b[1;32m    540\u001b[0m \u001b[0;34m\u001b[0m\u001b[0m\n",
      "\u001b[0;32m~/.local/lib/python3.6/site-packages/pandas/core/indexes/base.py\u001b[0m in \u001b[0;36m__array__\u001b[0;34m(self, dtype)\u001b[0m\n\u001b[1;32m    660\u001b[0m         \u001b[0mThe\u001b[0m \u001b[0marray\u001b[0m \u001b[0minterface\u001b[0m\u001b[0;34m,\u001b[0m \u001b[0;32mreturn\u001b[0m \u001b[0mmy\u001b[0m \u001b[0mvalues\u001b[0m\u001b[0;34m.\u001b[0m\u001b[0;34m\u001b[0m\u001b[0;34m\u001b[0m\u001b[0m\n\u001b[1;32m    661\u001b[0m         \"\"\"\n\u001b[0;32m--> 662\u001b[0;31m         \u001b[0;32mreturn\u001b[0m \u001b[0mnp\u001b[0m\u001b[0;34m.\u001b[0m\u001b[0masarray\u001b[0m\u001b[0;34m(\u001b[0m\u001b[0mself\u001b[0m\u001b[0;34m.\u001b[0m\u001b[0m_data\u001b[0m\u001b[0;34m,\u001b[0m \u001b[0mdtype\u001b[0m\u001b[0;34m=\u001b[0m\u001b[0mdtype\u001b[0m\u001b[0;34m)\u001b[0m\u001b[0;34m\u001b[0m\u001b[0;34m\u001b[0m\u001b[0m\n\u001b[0m\u001b[1;32m    663\u001b[0m \u001b[0;34m\u001b[0m\u001b[0m\n\u001b[1;32m    664\u001b[0m     \u001b[0;32mdef\u001b[0m \u001b[0m__array_wrap__\u001b[0m\u001b[0;34m(\u001b[0m\u001b[0mself\u001b[0m\u001b[0;34m,\u001b[0m \u001b[0mresult\u001b[0m\u001b[0;34m,\u001b[0m \u001b[0mcontext\u001b[0m\u001b[0;34m=\u001b[0m\u001b[0;32mNone\u001b[0m\u001b[0;34m)\u001b[0m\u001b[0;34m:\u001b[0m\u001b[0;34m\u001b[0m\u001b[0;34m\u001b[0m\u001b[0m\n",
      "\u001b[0;32m~/.local/lib/python3.6/site-packages/numpy/core/numeric.py\u001b[0m in \u001b[0;36masarray\u001b[0;34m(a, dtype, order)\u001b[0m\n\u001b[1;32m    536\u001b[0m \u001b[0;34m\u001b[0m\u001b[0m\n\u001b[1;32m    537\u001b[0m     \"\"\"\n\u001b[0;32m--> 538\u001b[0;31m     \u001b[0;32mreturn\u001b[0m \u001b[0marray\u001b[0m\u001b[0;34m(\u001b[0m\u001b[0ma\u001b[0m\u001b[0;34m,\u001b[0m \u001b[0mdtype\u001b[0m\u001b[0;34m,\u001b[0m \u001b[0mcopy\u001b[0m\u001b[0;34m=\u001b[0m\u001b[0;32mFalse\u001b[0m\u001b[0;34m,\u001b[0m \u001b[0morder\u001b[0m\u001b[0;34m=\u001b[0m\u001b[0morder\u001b[0m\u001b[0;34m)\u001b[0m\u001b[0;34m\u001b[0m\u001b[0;34m\u001b[0m\u001b[0m\n\u001b[0m\u001b[1;32m    539\u001b[0m \u001b[0;34m\u001b[0m\u001b[0m\n\u001b[1;32m    540\u001b[0m \u001b[0;34m\u001b[0m\u001b[0m\n",
      "\u001b[0;31mValueError\u001b[0m: could not convert string to float: '2013-12'"
     ]
    }
   ],
   "source": [
    "#Print out correlation/pvalue\n",
    "a = mnth_count\n",
    "b = mnth_avgs['percent_change']\n",
    "c = mnth_sum['total_price_change']\n",
    "\n",
    "lin = LinearRegression()\n",
    "lin.fit(a.index, a.values)\n",
    "lin.score(a.index, a.values)"
   ]
  },
  {
   "cell_type": "markdown",
   "metadata": {},
   "source": [
    "### Forecasting\n",
    "\n",
    "#### Generic and Branded"
   ]
  },
  {
   "cell_type": "code",
   "execution_count": null,
   "metadata": {},
   "outputs": [],
   "source": [
    "print('{}% of changes are to generic medicines.'.format(round(len(raw[raw['classification_for_rate_setting'] == 'G'])\n",
    "                                                              / raw.shape[0], 3) * 100))\n",
    "\n",
    "raw_generic = raw[raw['classification_for_rate_setting'] == 'G']['percent_change']\n",
    "raw_branded = raw[raw['classification_for_rate_setting'] == 'B']['percent_change']\n",
    "\n",
    "#Compare how often and the magnitude of change between generic and branded medicine.\n",
    "plt.title('Generic and Branded Percent Change Distribution')\n",
    "plt.hist(raw_generic, normed = True)\n",
    "plt.hist(raw_branded, normed = True)\n",
    "\n",
    "plt.xlabel('Percent Change')\n",
    "plt.ylabel('Proportions')\n",
    "plt.show()\n",
    "\n",
    "\n",
    "plt.title('Generic and Branded Percent Change Distribution (Outliers Excluded)')\n",
    "plt.hist(raw_generic[(np.abs(stats.zscore(raw_generic)) < 3)], normed = True)\n",
    "plt.hist(raw_branded[(np.abs(stats.zscore(raw_branded)) < 3)], normed = True)\n",
    "\n",
    "plt.xlabel('Percent Change')\n",
    "plt.ylabel('Proportions')\n",
    "plt.show()\n",
    "\n",
    "#Print Stats\n",
    "print('Mean Percent Change for Generic Drugs: {} percentage points'.format(round(raw_generic.mean() ,2)))\n",
    "print('Mean Percent Change for Branded Drugs: {} percentage points'.format(round(raw_branded.mean() ,2)))\n",
    "\n",
    "print('Standad Deviation for Generic Drugs: {} percentage points'.format(round(raw_generic.std() ,2)))\n",
    "print('Standad Deviation for Branded Drugs: {} percentage points'.format(round(raw_branded.std() ,2)))\n",
    "\n",
    "#T-test\n",
    "t_stat, p_val = stats.ttest_ind(raw_generic, raw_branded)\n",
    "\n",
    "print('T-Statistic: {}'.format(round(t_stat)))\n",
    "print('P-Value: {}'.format(round(p_val)))\n"
   ]
  },
  {
   "cell_type": "code",
   "execution_count": null,
   "metadata": {},
   "outputs": [],
   "source": [
    "print(raw.head())"
   ]
  },
  {
   "cell_type": "code",
   "execution_count": null,
   "metadata": {},
   "outputs": [],
   "source": [
    "#finacl column\n",
    "#durg_name, start_date, old_nac, new_nadac, classi, percent change(calc again), total_rice_ch (calc again)"
   ]
  },
  {
   "cell_type": "markdown",
   "metadata": {},
   "source": [
    "#### Individual Drugs\n",
    "\n",
    "__By NDC Description__"
   ]
  },
  {
   "cell_type": "code",
   "execution_count": null,
   "metadata": {},
   "outputs": [],
   "source": [
    "#Find most frequently changed ndc prices\n",
    "top_25_desc = raw['drug_name'].value_counts().sort_values(ascending = False)[:25]\n",
    "\n",
    "#Find Database to group these drugs by their use.\n",
    "#Create regex to find drug names (ie metformin HCL is all the same) Stop at the number. call it ndc_name of ndc_formula\n",
    "#These columns can be divided into three: name, dosage, form factor\n",
    "dsp(top_25_desc)\n",
    "\n",
    "#Filter raw data for these descriptions\n",
    "desc_raw_25 = raw[raw['drug_name'].isin(top_25_desc.index)].sort_values('start_date', ascending = True)\n",
    "\n",
    "dsp(desc_raw_25.head())\n",
    "\n",
    "#Seperate by the word or words before the number"
   ]
  },
  {
   "cell_type": "code",
   "execution_count": null,
   "metadata": {},
   "outputs": [],
   "source": [
    "#One Hot Encoding our Categorical Features\n",
    "categorical_features = ['classification_for_rate_setting', 'primary_reason', 'drug_name']\n",
    "cf_dataframe = pd.DataFrame()\n",
    "for feature in categorical_features:\n",
    "    cf_dataframe = pd.concat([cf_dataframe, one_hot_encoder(desc_raw_25[feature])], axis = 1, sort = False)"
   ]
  },
  {
   "cell_type": "code",
   "execution_count": null,
   "metadata": {},
   "outputs": [],
   "source": [
    "raw.columns"
   ]
  },
  {
   "cell_type": "code",
   "execution_count": null,
   "metadata": {},
   "outputs": [],
   "source": [
    "#Drop NA\n",
    "raw.dropna(inplace = True)\n",
    "\n",
    "#Features and Labels\n",
    "features = ['days_count', 'old_nadac_per_unit']\n",
    "\n",
    "labels = ['percent_change']\n",
    "\n",
    "X_train, X_test = train_split(pd.concat([desc_raw_25[features], \\\n",
    "                                         cf_dataframe], axis = 1, sort = False), TRAIN_SPLIT)\n",
    "\n",
    "#Y_train = desc_raw_25[labels][:]\n",
    "#Y_test = desc_raw_25[labels][:]\n",
    "#TO DO: COUNT THE DAYS SINCE EARLIEST IN DATASET\n",
    "Y_train, Y_test = train_split(desc_raw_25[labels], TRAIN_SPLIT)\n",
    "\n",
    "print(X_train.shape)\n",
    "print(X_test.shape)\n",
    "\n",
    "#dsp(X_train.head())\n",
    "#dsp(X_train.tail())\n",
    "\n",
    "#dsp(X_test.head())\n",
    "#dsp(X_test.tail())"
   ]
  },
  {
   "cell_type": "markdown",
   "metadata": {},
   "source": [
    "### Forecasting\n",
    "\n",
    "#### Market Volatility"
   ]
  },
  {
   "cell_type": "code",
   "execution_count": null,
   "metadata": {},
   "outputs": [],
   "source": [
    "#Linear Regression\n",
    "lr = LinearRegression()"
   ]
  },
  {
   "cell_type": "code",
   "execution_count": null,
   "metadata": {},
   "outputs": [],
   "source": [
    "#Forecasting Modeling Using Neural Nets\n",
    "mlp = MLPRegressor(hidden_layer_sizes = (100, 100, 100,))\n",
    "\n",
    "#Fit and Test\n",
    "#mlp.fit(X_train, Y_train)"
   ]
  },
  {
   "cell_type": "code",
   "execution_count": null,
   "metadata": {},
   "outputs": [],
   "source": [
    "#Model Validation\n",
    "\n",
    "#Training Set Score\n",
    "print('Our model has a training set R2 of {}.'.format(round(mlp.score(X_train, Y_train), 4)))\n",
    "print('Our model has a testing set R2 of {}.'.format(round(mlp.score(X_test, Y_test), 4)))"
   ]
  },
  {
   "cell_type": "markdown",
   "metadata": {},
   "source": [
    "#### Individual drugs"
   ]
  },
  {
   "cell_type": "code",
   "execution_count": null,
   "metadata": {},
   "outputs": [],
   "source": [
    "#Setting up the data\n",
    "data.head()\n",
    "print(data.columns)\n",
    "\n",
    "COLUMN_ARRAY = ['start_date', 'year-month', 'old_nadac_per_unit',\\\n",
    "       'new_nadac_per_unit', 'scaled_old_per_unit', 'scaled_new_per_unit',\\\n",
    "       'percent_change', 'scaled_percent_change']\n",
    "\n"
   ]
  },
  {
   "cell_type": "code",
   "execution_count": null,
   "metadata": {},
   "outputs": [],
   "source": [
    "#Create a dictionary of models\n",
    "drug_mod_dict = {}\n",
    "for drug in raw['drug_name'].unique():\n",
    "    X_train, X_test = train_split(data[data['drug_name'] == drug][COLUMN_ARRAY], TRAIN_SPLIT)\n",
    "    drug_mod_dict[str(drug)] = LinearRegression()\n",
    "    "
   ]
  },
  {
   "cell_type": "markdown",
   "metadata": {},
   "source": [
    "__BY NDC Number__"
   ]
  },
  {
   "cell_type": "code",
   "execution_count": null,
   "metadata": {},
   "outputs": [],
   "source": [
    "#Find most frequently changed ndc codes\n",
    "dsp(dsp(raw['ndc'].value_counts().sort_values(ascending = False)[:10]))\n",
    "\n",
    "#Discus final usage once conclusion is reached."
   ]
  },
  {
   "cell_type": "code",
   "execution_count": null,
   "metadata": {},
   "outputs": [],
   "source": []
  }
 ],
 "metadata": {
  "kernelspec": {
   "display_name": "Python 3",
   "language": "python",
   "name": "python3"
  },
  "language_info": {
   "codemirror_mode": {
    "name": "ipython",
    "version": 3
   },
   "file_extension": ".py",
   "mimetype": "text/x-python",
   "name": "python",
   "nbconvert_exporter": "python",
   "pygments_lexer": "ipython3",
   "version": "3.6.8"
  }
 },
 "nbformat": 4,
 "nbformat_minor": 2
}
