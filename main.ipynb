{
 "cells": [
  {
   "cell_type": "code",
   "execution_count": 1,
   "metadata": {},
   "outputs": [],
   "source": [
    "import datetime\n",
    "import pandas as pd\n",
    "import numpy as np\n",
    "import matplotlib.pyplot as plt\n",
    "from IPython.display import display as dsp"
   ]
  },
  {
   "cell_type": "markdown",
   "metadata": {},
   "source": [
    "# United States Drug Prices: Forecasting and Analysis"
   ]
  },
  {
   "cell_type": "markdown",
   "metadata": {},
   "source": [
    "## Data Collection"
   ]
  },
  {
   "cell_type": "code",
   "execution_count": 2,
   "metadata": {},
   "outputs": [],
   "source": [
    "#Socrata SQL query\n",
    "SODA = '$limit=150000'\n",
    "URL = 'https://data.medicaid.gov/resource/444w-ftrz.csv?{}'.format(SODA)"
   ]
  },
  {
   "cell_type": "code",
   "execution_count": 3,
   "metadata": {},
   "outputs": [],
   "source": [
    "raw = pd.read_csv(URL, parse_dates = True)"
   ]
  },
  {
   "cell_type": "code",
   "execution_count": 18,
   "metadata": {},
   "outputs": [
    {
     "name": "stdout",
     "output_type": "stream",
     "text": [
      "Index(['ndc_description', 'ndc', 'old_nadac_per_unit', 'new_nadac_per_unit',\n",
      "       'classification_for_rate_setting', 'percent_change', 'primary_reason',\n",
      "       'start_date', 'end_date', 'effective_date'],\n",
      "      dtype='object')\n"
     ]
    },
    {
     "data": {
      "text/html": [
       "<div>\n",
       "<style scoped>\n",
       "    .dataframe tbody tr th:only-of-type {\n",
       "        vertical-align: middle;\n",
       "    }\n",
       "\n",
       "    .dataframe tbody tr th {\n",
       "        vertical-align: top;\n",
       "    }\n",
       "\n",
       "    .dataframe thead th {\n",
       "        text-align: right;\n",
       "    }\n",
       "</style>\n",
       "<table border=\"1\" class=\"dataframe\">\n",
       "  <thead>\n",
       "    <tr style=\"text-align: right;\">\n",
       "      <th></th>\n",
       "      <th>ndc_description</th>\n",
       "      <th>ndc</th>\n",
       "      <th>old_nadac_per_unit</th>\n",
       "      <th>new_nadac_per_unit</th>\n",
       "      <th>classification_for_rate_setting</th>\n",
       "      <th>percent_change</th>\n",
       "      <th>primary_reason</th>\n",
       "      <th>start_date</th>\n",
       "      <th>end_date</th>\n",
       "      <th>effective_date</th>\n",
       "    </tr>\n",
       "  </thead>\n",
       "  <tbody>\n",
       "    <tr>\n",
       "      <th>0</th>\n",
       "      <td>BLEPH-10 10% EYE DROPS</td>\n",
       "      <td>11980001105</td>\n",
       "      <td>4.96476</td>\n",
       "      <td>17.13978</td>\n",
       "      <td>B</td>\n",
       "      <td>245.23</td>\n",
       "      <td>WAC Adjustment</td>\n",
       "      <td></td>\n",
       "      <td>2013-12-05T00:00:00.000</td>\n",
       "      <td>NaN</td>\n",
       "    </tr>\n",
       "    <tr>\n",
       "      <th>1</th>\n",
       "      <td>BLEPHAMIDE EYE DROPS</td>\n",
       "      <td>11980002205</td>\n",
       "      <td>16.68362</td>\n",
       "      <td>17.37665</td>\n",
       "      <td>B</td>\n",
       "      <td>4.15</td>\n",
       "      <td>WAC Adjustment</td>\n",
       "      <td></td>\n",
       "      <td>2013-12-05T00:00:00.000</td>\n",
       "      <td>NaN</td>\n",
       "    </tr>\n",
       "    <tr>\n",
       "      <th>2</th>\n",
       "      <td>BLEPHAMIDE EYE DROPS</td>\n",
       "      <td>11980002210</td>\n",
       "      <td>12.36584</td>\n",
       "      <td>17.37265</td>\n",
       "      <td>B</td>\n",
       "      <td>40.49</td>\n",
       "      <td>WAC Adjustment</td>\n",
       "      <td></td>\n",
       "      <td>2013-12-05T00:00:00.000</td>\n",
       "      <td>NaN</td>\n",
       "    </tr>\n",
       "    <tr>\n",
       "      <th>3</th>\n",
       "      <td>BLEPHAMIDE EYE OINTMENT</td>\n",
       "      <td>23031304</td>\n",
       "      <td>23.06996</td>\n",
       "      <td>24.56304</td>\n",
       "      <td>B</td>\n",
       "      <td>6.47</td>\n",
       "      <td>WAC Adjustment</td>\n",
       "      <td></td>\n",
       "      <td>2013-12-05T00:00:00.000</td>\n",
       "      <td>NaN</td>\n",
       "    </tr>\n",
       "    <tr>\n",
       "      <th>4</th>\n",
       "      <td>FML FORTE 0.25% EYE DROPS</td>\n",
       "      <td>11980022805</td>\n",
       "      <td>6.61291</td>\n",
       "      <td>17.43335</td>\n",
       "      <td>B</td>\n",
       "      <td>163.63</td>\n",
       "      <td>WAC Adjustment</td>\n",
       "      <td></td>\n",
       "      <td>2013-12-05T00:00:00.000</td>\n",
       "      <td>NaN</td>\n",
       "    </tr>\n",
       "  </tbody>\n",
       "</table>\n",
       "</div>"
      ],
      "text/plain": [
       "             ndc_description          ndc  old_nadac_per_unit  \\\n",
       "0     BLEPH-10 10% EYE DROPS  11980001105             4.96476   \n",
       "1       BLEPHAMIDE EYE DROPS  11980002205            16.68362   \n",
       "2       BLEPHAMIDE EYE DROPS  11980002210            12.36584   \n",
       "3    BLEPHAMIDE EYE OINTMENT     23031304            23.06996   \n",
       "4  FML FORTE 0.25% EYE DROPS  11980022805             6.61291   \n",
       "\n",
       "   new_nadac_per_unit classification_for_rate_setting  percent_change  \\\n",
       "0            17.13978                               B          245.23   \n",
       "1            17.37665                               B            4.15   \n",
       "2            17.37265                               B           40.49   \n",
       "3            24.56304                               B            6.47   \n",
       "4            17.43335                               B          163.63   \n",
       "\n",
       "   primary_reason start_date                 end_date  effective_date  \n",
       "0  WAC Adjustment             2013-12-05T00:00:00.000             NaN  \n",
       "1  WAC Adjustment             2013-12-05T00:00:00.000             NaN  \n",
       "2  WAC Adjustment             2013-12-05T00:00:00.000             NaN  \n",
       "3  WAC Adjustment             2013-12-05T00:00:00.000             NaN  \n",
       "4  WAC Adjustment             2013-12-05T00:00:00.000             NaN  "
      ]
     },
     "metadata": {},
     "output_type": "display_data"
    }
   ],
   "source": [
    "print(raw.columns)\n",
    "\n",
    "#Strip timestamp from dates\n",
    "def strip_time(date):\n",
    "    return(date[:-len('T00:00:00.000')])\n",
    "    #return datetime.datetime.strptime(date, '%Y-%m-%d').date()\n",
    "\n",
    "\n",
    "#Print start date and end date\n",
    "\n",
    "raw['start_date'] = raw['start_date'].apply(lambda x: strip_time(x))\n",
    "dsp(raw.head())"
   ]
  },
  {
   "cell_type": "code",
   "execution_count": 22,
   "metadata": {},
   "outputs": [
    {
     "name": "stdout",
     "output_type": "stream",
     "text": [
      "This dataset represents 23058 unique NDCs over 150000 entries.\n",
      "There are 5722 unique NDC descriptions represented in this dataset.\n",
      "\n",
      "Unique Values in Raw Data per Column:\n",
      "ndc_description \n",
      " 5722\n",
      "ndc \n",
      " 23058\n",
      "old_nadac_per_unit \n",
      " 21437\n",
      "new_nadac_per_unit \n",
      " 21466\n",
      "classification_for_rate_setting \n",
      " 2\n",
      "percent_change \n",
      " 4223\n",
      "primary_reason \n",
      " 5\n",
      "start_date \n",
      " 1\n",
      "end_date \n",
      " 37\n",
      "effective_date \n",
      " 1\n",
      "Total Number Observations:\n",
      " 150000\n"
     ]
    }
   ],
   "source": [
    "print('This dataset represents {} unique NDCs over {} entries.'.format(len(raw['ndc'].unique()), raw.shape[0]))\n",
    "print('There are {} unique NDC descriptions represented in this dataset.'.format(len(raw['ndc_description'].unique())))\n",
    "\n",
    "def list_unique_counts(df):\n",
    "    for col in df.columns:\n",
    "        print(col, '\\n', len(df[str(col)].unique()))\n",
    "    print('Total Number Observations:\\n', df.shape[0])\n",
    "\n",
    "print('\\nUnique Values in Raw Data per Column:')\n",
    "list_unique_counts(raw)"
   ]
  },
  {
   "cell_type": "code",
   "execution_count": 6,
   "metadata": {},
   "outputs": [
    {
     "name": "stdout",
     "output_type": "stream",
     "text": [
      "Top value counts for NDC:\n"
     ]
    },
    {
     "data": {
      "text/plain": [
       "13668026805    10\n",
       "93010901       10\n",
       "51079038520    10\n",
       "51079038501    10\n",
       "51079038519    10\n",
       "Name: ndc, dtype: int64"
      ]
     },
     "metadata": {},
     "output_type": "display_data"
    },
    {
     "name": "stdout",
     "output_type": "stream",
     "text": [
      "\n",
      "Top value counts for NDC description:\n"
     ]
    },
    {
     "data": {
      "text/plain": [
       "METFORMIN HCL 500 MG TABLET      558\n",
       "AMLODIPINE BESYLATE 5 MG TAB     479\n",
       "METFORMIN HCL 1,000 MG TABLET    475\n",
       "AMLODIPINE BESYLATE 10 MG TAB    467\n",
       "LISINOPRIL 20 MG TABLET          466\n",
       "Name: ndc_description, dtype: int64"
      ]
     },
     "metadata": {},
     "output_type": "display_data"
    }
   ],
   "source": [
    "print('Top value counts for NDC:')\n",
    "dsp(raw['ndc'].value_counts().sort_values(ascending = False).head())\n",
    "\n",
    "print('\\nTop value counts for NDC description:')\n",
    "dsp(raw['ndc_description'].value_counts().sort_values(ascending = False).head())"
   ]
  },
  {
   "cell_type": "markdown",
   "metadata": {},
   "source": [
    "### Metrics for General Volatility\n",
    "\n",
    "#### Changes per Day"
   ]
  },
  {
   "cell_type": "code",
   "execution_count": 7,
   "metadata": {
    "scrolled": true
   },
   "outputs": [
    {
     "data": {
      "text/plain": [
       "2013-11-28       24\n",
       "2013-12-05      123\n",
       "2013-12-11    18234\n",
       "2013-12-18       62\n",
       "2013-12-25       12\n",
       "Name: start_date, dtype: int64"
      ]
     },
     "metadata": {},
     "output_type": "display_data"
    },
    {
     "name": "stdout",
     "output_type": "stream",
     "text": [
      "Our data represents the range of dates between 2013-11-28 and 2014-08-13\n",
      "<class 'str'>\n",
      "37\n"
     ]
    }
   ],
   "source": [
    "#Changes per day\n",
    "change_count = raw['start_date'].value_counts().sort_index()\n",
    "dsp(change_count.head())\n",
    "#print(type(change_count.index))\n",
    "print('Our data represents the range of dates between {} and {}'.format(change_count.index.min(),change_count.index.max()))\n",
    "#print(type(change_count))\n",
    "\n",
    "#print(change_count.index[0])\n",
    "\n",
    "print(type(min(change_count.index)))\n",
    "print(len(change_count.index))"
   ]
  },
  {
   "cell_type": "code",
   "execution_count": 8,
   "metadata": {},
   "outputs": [
    {
     "data": {
      "image/png": "[encoded data removed]",
      "text/plain": [
       "<Figure size 432x288 with 1 Axes>"
      ]
     },
     "metadata": {
      "needs_background": "light"
     },
     "output_type": "display_data"
    }
   ],
   "source": [
    "plt.title('Changes Implemented Per Day')\n",
    "plt.plot(change_count, '.')\n",
    "plt.xticks(np.arange(0,len(change_count.index), round((len(change_count.index)) / 8)), rotation = 70)\n",
    "plt.show()"
   ]
  },
  {
   "cell_type": "markdown",
   "metadata": {},
   "source": [
    "#### Average Rate Change per Month"
   ]
  },
  {
   "cell_type": "code",
   "execution_count": 9,
   "metadata": {},
   "outputs": [
    {
     "name": "stderr",
     "output_type": "stream",
     "text": [
      "/usr/local/lib/python3.6/dist-packages/ipykernel_launcher.py:4: SettingWithCopyWarning: \n",
      "A value is trying to be set on a copy of a slice from a DataFrame.\n",
      "Try using .loc[row_indexer,col_indexer] = value instead\n",
      "\n",
      "See the caveats in the documentation: http://pandas.pydata.org/pandas-docs/stable/indexing.html#indexing-view-versus-copy\n",
      "  after removing the cwd from sys.path.\n"
     ]
    }
   ],
   "source": [
    "mnth = raw[['start_date', 'old_nadac_per_unit', 'new_nadac_per_unit', 'percent_change']]\n",
    "\n",
    "#Remove day:\n",
    "mnth['start_date'] = mnth['start_date'].apply(lambda x: x[:-3])"
   ]
  },
  {
   "cell_type": "code",
   "execution_count": 10,
   "metadata": {},
   "outputs": [
    {
     "data": {
      "text/html": [
       "<div>\n",
       "<style scoped>\n",
       "    .dataframe tbody tr th:only-of-type {\n",
       "        vertical-align: middle;\n",
       "    }\n",
       "\n",
       "    .dataframe tbody tr th {\n",
       "        vertical-align: top;\n",
       "    }\n",
       "\n",
       "    .dataframe thead th {\n",
       "        text-align: right;\n",
       "    }\n",
       "</style>\n",
       "<table border=\"1\" class=\"dataframe\">\n",
       "  <thead>\n",
       "    <tr style=\"text-align: right;\">\n",
       "      <th></th>\n",
       "      <th>old_nadac_per_unit</th>\n",
       "      <th>new_nadac_per_unit</th>\n",
       "      <th>percent_change</th>\n",
       "    </tr>\n",
       "    <tr>\n",
       "      <th>start_date</th>\n",
       "      <th></th>\n",
       "      <th></th>\n",
       "      <th></th>\n",
       "    </tr>\n",
       "  </thead>\n",
       "  <tbody>\n",
       "    <tr>\n",
       "      <th>2013-11</th>\n",
       "      <td>26.568187</td>\n",
       "      <td>34.925967</td>\n",
       "      <td>75.420417</td>\n",
       "    </tr>\n",
       "    <tr>\n",
       "      <th>2013-12</th>\n",
       "      <td>1.741059</td>\n",
       "      <td>1.801719</td>\n",
       "      <td>4.781268</td>\n",
       "    </tr>\n",
       "    <tr>\n",
       "      <th>2014-01</th>\n",
       "      <td>3.424447</td>\n",
       "      <td>3.545686</td>\n",
       "      <td>7.404165</td>\n",
       "    </tr>\n",
       "    <tr>\n",
       "      <th>2014-02</th>\n",
       "      <td>3.949125</td>\n",
       "      <td>4.057645</td>\n",
       "      <td>-2.624520</td>\n",
       "    </tr>\n",
       "    <tr>\n",
       "      <th>2014-03</th>\n",
       "      <td>2.127574</td>\n",
       "      <td>2.160392</td>\n",
       "      <td>0.555345</td>\n",
       "    </tr>\n",
       "  </tbody>\n",
       "</table>\n",
       "</div>"
      ],
      "text/plain": [
       "            old_nadac_per_unit  new_nadac_per_unit  percent_change\n",
       "start_date                                                        \n",
       "2013-11              26.568187           34.925967       75.420417\n",
       "2013-12               1.741059            1.801719        4.781268\n",
       "2014-01               3.424447            3.545686        7.404165\n",
       "2014-02               3.949125            4.057645       -2.624520\n",
       "2014-03               2.127574            2.160392        0.555345"
      ]
     },
     "execution_count": 10,
     "metadata": {},
     "output_type": "execute_result"
    }
   ],
   "source": [
    "mnth_avgs = mnth.groupby(['start_date']).mean()\n",
    "mnth_avgs.head()"
   ]
  },
  {
   "cell_type": "code",
   "execution_count": 11,
   "metadata": {},
   "outputs": [
    {
     "data": {
      "image/png": "[encoded data removed]",
      "text/plain": [
       "<Figure size 432x288 with 1 Axes>"
      ]
     },
     "metadata": {
      "needs_background": "light"
     },
     "output_type": "display_data"
    }
   ],
   "source": [
    "plt.title('Average Monthly Change')\n",
    "plt.plot(mnth_avgs['percent_change'], '*')\n",
    "plt.xticks(np.arange(0,len(mnth_avgs.index), round((len(mnth_avgs.index)) / 8)), rotation = 70)\n",
    "plt.show()"
   ]
  },
  {
   "cell_type": "code",
   "execution_count": 12,
   "metadata": {},
   "outputs": [
    {
     "data": {
      "text/plain": [
       "Text(0, 0.5, 'Observations')"
      ]
     },
     "execution_count": 12,
     "metadata": {},
     "output_type": "execute_result"
    },
    {
     "data": {
      "image/png": "[encoded data removed]",
      "text/plain": [
       "<Figure size 432x288 with 1 Axes>"
      ]
     },
     "metadata": {
      "needs_background": "light"
     },
     "output_type": "display_data"
    }
   ],
   "source": [
    "plt.title('Monthly Percent Change Distribution')\n",
    "mnth_avgs['percent_change'].hist()\n",
    "plt.xlabel('Percent Change')\n",
    "plt.ylabel('Observations')"
   ]
  },
  {
   "cell_type": "markdown",
   "metadata": {},
   "source": [
    "#### Total Price Gain/Loss per Month"
   ]
  },
  {
   "cell_type": "code",
   "execution_count": 15,
   "metadata": {},
   "outputs": [
    {
     "name": "stderr",
     "output_type": "stream",
     "text": [
      "/usr/local/lib/python3.6/dist-packages/ipykernel_launcher.py:1: SettingWithCopyWarning: \n",
      "A value is trying to be set on a copy of a slice from a DataFrame.\n",
      "Try using .loc[row_indexer,col_indexer] = value instead\n",
      "\n",
      "See the caveats in the documentation: http://pandas.pydata.org/pandas-docs/stable/indexing.html#indexing-view-versus-copy\n",
      "  \"\"\"Entry point for launching an IPython kernel.\n"
     ]
    }
   ],
   "source": [
    "mnth['total_price_change'] = mnth['new_nadac_per_unit'] - mnth['old_nadac_per_unit']\n",
    "mnth_sum = mnth.groupby(['start_date']).sum()"
   ]
  },
  {
   "cell_type": "code",
   "execution_count": 17,
   "metadata": {},
   "outputs": [
    {
     "data": {
      "image/png": "[encoded data removed]",
      "text/plain": [
       "<Figure size 432x288 with 1 Axes>"
      ]
     },
     "metadata": {
      "needs_background": "light"
     },
     "output_type": "display_data"
    }
   ],
   "source": [
    "plt.title('Total Price Change per Month')\n",
    "plt.plot(mnth_sum['total_price_change'], '*')\n",
    "plt.xticks(np.arange(0,len(mnth_sum.index), round((len(mnth_sum.index)) / 8)), rotation = 70)\n",
    "plt.show()"
   ]
  },
  {
   "cell_type": "markdown",
   "metadata": {},
   "source": [
    "### Forecasting\n",
    "\n",
    "#### Generic and Branded"
   ]
  },
  {
   "cell_type": "code",
   "execution_count": 26,
   "metadata": {},
   "outputs": [
    {
     "name": "stdout",
     "output_type": "stream",
     "text": [
      "95.6% of changes are to generic medicines.\n"
     ]
    }
   ],
   "source": [
    "print('{}% of changes are to generic medicines.'.format(round(len(raw[raw['classification_for_rate_setting'] == 'G'])\n",
    "                                                              / raw.shape[0], 3) * 100))"
   ]
  },
  {
   "cell_type": "markdown",
   "metadata": {},
   "source": [
    "#### Individual Drugs\n",
    "\n",
    "__By NDC Description__"
   ]
  },
  {
   "cell_type": "code",
   "execution_count": 39,
   "metadata": {},
   "outputs": [
    {
     "data": {
      "text/html": [
       "<div>\n",
       "<style scoped>\n",
       "    .dataframe tbody tr th:only-of-type {\n",
       "        vertical-align: middle;\n",
       "    }\n",
       "\n",
       "    .dataframe tbody tr th {\n",
       "        vertical-align: top;\n",
       "    }\n",
       "\n",
       "    .dataframe thead th {\n",
       "        text-align: right;\n",
       "    }\n",
       "</style>\n",
       "<table border=\"1\" class=\"dataframe\">\n",
       "  <thead>\n",
       "    <tr style=\"text-align: right;\">\n",
       "      <th></th>\n",
       "      <th>ndc_description</th>\n",
       "      <th>ndc</th>\n",
       "      <th>old_nadac_per_unit</th>\n",
       "      <th>new_nadac_per_unit</th>\n",
       "      <th>classification_for_rate_setting</th>\n",
       "      <th>percent_change</th>\n",
       "      <th>primary_reason</th>\n",
       "      <th>start_date</th>\n",
       "      <th>end_date</th>\n",
       "      <th>effective_date</th>\n",
       "    </tr>\n",
       "  </thead>\n",
       "  <tbody>\n",
       "    <tr>\n",
       "      <th>971</th>\n",
       "      <td>AMLODIPINE BESYLATE 10 MG TAB</td>\n",
       "      <td>54010220</td>\n",
       "      <td>0.02629</td>\n",
       "      <td>0.02515</td>\n",
       "      <td>G</td>\n",
       "      <td>-4.34</td>\n",
       "      <td>Survey Rate</td>\n",
       "      <td></td>\n",
       "      <td>2013-12-18T00:00:00.000</td>\n",
       "      <td>NaN</td>\n",
       "    </tr>\n",
       "    <tr>\n",
       "      <th>972</th>\n",
       "      <td>AMLODIPINE BESYLATE 10 MG TAB</td>\n",
       "      <td>54010222</td>\n",
       "      <td>0.02629</td>\n",
       "      <td>0.02515</td>\n",
       "      <td>G</td>\n",
       "      <td>-4.34</td>\n",
       "      <td>Survey Rate</td>\n",
       "      <td></td>\n",
       "      <td>2013-12-18T00:00:00.000</td>\n",
       "      <td>NaN</td>\n",
       "    </tr>\n",
       "    <tr>\n",
       "      <th>973</th>\n",
       "      <td>AMLODIPINE BESYLATE 10 MG TAB</td>\n",
       "      <td>54010228</td>\n",
       "      <td>0.02629</td>\n",
       "      <td>0.02515</td>\n",
       "      <td>G</td>\n",
       "      <td>-4.34</td>\n",
       "      <td>Survey Rate</td>\n",
       "      <td></td>\n",
       "      <td>2013-12-18T00:00:00.000</td>\n",
       "      <td>NaN</td>\n",
       "    </tr>\n",
       "    <tr>\n",
       "      <th>974</th>\n",
       "      <td>AMLODIPINE BESYLATE 10 MG TAB</td>\n",
       "      <td>93716898</td>\n",
       "      <td>0.02629</td>\n",
       "      <td>0.02515</td>\n",
       "      <td>G</td>\n",
       "      <td>-4.34</td>\n",
       "      <td>Survey Rate</td>\n",
       "      <td></td>\n",
       "      <td>2013-12-18T00:00:00.000</td>\n",
       "      <td>NaN</td>\n",
       "    </tr>\n",
       "    <tr>\n",
       "      <th>975</th>\n",
       "      <td>AMLODIPINE BESYLATE 10 MG TAB</td>\n",
       "      <td>143996109</td>\n",
       "      <td>0.02629</td>\n",
       "      <td>0.02515</td>\n",
       "      <td>G</td>\n",
       "      <td>-4.34</td>\n",
       "      <td>Survey Rate</td>\n",
       "      <td></td>\n",
       "      <td>2013-12-18T00:00:00.000</td>\n",
       "      <td>NaN</td>\n",
       "    </tr>\n",
       "  </tbody>\n",
       "</table>\n",
       "</div>"
      ],
      "text/plain": [
       "                   ndc_description        ndc  old_nadac_per_unit  \\\n",
       "971  AMLODIPINE BESYLATE 10 MG TAB   54010220             0.02629   \n",
       "972  AMLODIPINE BESYLATE 10 MG TAB   54010222             0.02629   \n",
       "973  AMLODIPINE BESYLATE 10 MG TAB   54010228             0.02629   \n",
       "974  AMLODIPINE BESYLATE 10 MG TAB   93716898             0.02629   \n",
       "975  AMLODIPINE BESYLATE 10 MG TAB  143996109             0.02629   \n",
       "\n",
       "     new_nadac_per_unit classification_for_rate_setting  percent_change  \\\n",
       "971             0.02515                               G           -4.34   \n",
       "972             0.02515                               G           -4.34   \n",
       "973             0.02515                               G           -4.34   \n",
       "974             0.02515                               G           -4.34   \n",
       "975             0.02515                               G           -4.34   \n",
       "\n",
       "    primary_reason start_date                 end_date  effective_date  \n",
       "971    Survey Rate             2013-12-18T00:00:00.000             NaN  \n",
       "972    Survey Rate             2013-12-18T00:00:00.000             NaN  \n",
       "973    Survey Rate             2013-12-18T00:00:00.000             NaN  \n",
       "974    Survey Rate             2013-12-18T00:00:00.000             NaN  \n",
       "975    Survey Rate             2013-12-18T00:00:00.000             NaN  "
      ]
     },
     "metadata": {},
     "output_type": "display_data"
    }
   ],
   "source": [
    "#Find most frequently changed ndc prices\n",
    "top_25_desc = raw['ndc_description'].value_counts().sort_values(ascending = False)[:25]\n",
    "#dsp(top_25_desc)\n",
    "\n",
    "#Filter raw data for these descriptions\n",
    "desc_raw_25 = raw[raw['ndc_description'].isin(top_25_desc.index)]\n",
    "\n",
    "dsp(desc_raw_25.head())"
   ]
  },
  {
   "cell_type": "markdown",
   "metadata": {},
   "source": [
    "__BY NDC Number__"
   ]
  },
  {
   "cell_type": "code",
   "execution_count": 31,
   "metadata": {},
   "outputs": [
    {
     "data": {
      "text/plain": [
       "13668026805    10\n",
       "93010901       10\n",
       "51079038520    10\n",
       "51079038501    10\n",
       "51079038519    10\n",
       "13668026810    10\n",
       "93009001       10\n",
       "51079038517    10\n",
       "60505018301    10\n",
       "60505018305    10\n",
       "Name: ndc, dtype: int64"
      ]
     },
     "metadata": {},
     "output_type": "display_data"
    },
    {
     "data": {
      "text/plain": [
       "None"
      ]
     },
     "metadata": {},
     "output_type": "display_data"
    }
   ],
   "source": [
    "#Find most frequently changed ndc codes\n",
    "dsp(dsp(raw['ndc'].value_counts().sort_values(ascending = False)[:10]))"
   ]
  },
  {
   "cell_type": "code",
   "execution_count": null,
   "metadata": {},
   "outputs": [],
   "source": []
  }
 ],
 "metadata": {
  "kernelspec": {
   "display_name": "Python 3",
   "language": "python",
   "name": "python3"
  },
  "language_info": {
   "codemirror_mode": {
    "name": "ipython",
    "version": 3
   },
   "file_extension": ".py",
   "mimetype": "text/x-python",
   "name": "python",
   "nbconvert_exporter": "python",
   "pygments_lexer": "ipython3",
   "version": "3.6.8"
  }
 },
 "nbformat": 4,
 "nbformat_minor": 2
}
