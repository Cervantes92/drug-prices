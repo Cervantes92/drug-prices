{
 "cells": [
  {
   "cell_type": "code",
   "execution_count": 1,
   "metadata": {},
   "outputs": [],
   "source": [
    "import pandas as pd\n",
    "import numpy as np\n",
    "import matplotlib.pyplot as plt\n",
    "import seaborn as sns\n",
    "\n",
    "from sklearn.linear_model import LinearRegression\n",
    "from sklearn.neural_network import MLPRegressor\n",
    "\n",
    "from scipy import stats\n",
    "from datetime import datetime\n",
    "from dateutil.parser import parse\n",
    "from sklearn.model_selection import train_test_split\n",
    "from statsmodels.tsa.arima_model import ARIMA\n",
    "from IPython.display import display as dsp\n",
    "\n",
    "from pandas.plotting import register_matplotlib_converters\n",
    "register_matplotlib_converters()\n",
    "\n",
    "import warnings\n",
    "warnings.filterwarnings('ignore')"
   ]
  },
  {
   "cell_type": "markdown",
   "metadata": {},
   "source": [
    "# United States Drug Prices: Forecasting and Analysis"
   ]
  },
  {
   "cell_type": "markdown",
   "metadata": {},
   "source": [
    "## Data Collection"
   ]
  },
  {
   "cell_type": "code",
   "execution_count": 2,
   "metadata": {},
   "outputs": [],
   "source": [
    "#Socrata SQL query\n",
    "SODA = '$limit=500000'\n",
    "#SODA = '$limit=50000000'\n",
    "URL = 'https://data.medicaid.gov/resource/444w-ftrz.csv?{}'.format(SODA)\n",
    "\n",
    "TRAIN_SPLIT = 0.8"
   ]
  },
  {
   "cell_type": "code",
   "execution_count": 3,
   "metadata": {},
   "outputs": [],
   "source": [
    "def list_unique_counts(df):\n",
    "    column_name, unique_values_count, datatype = [], [], []\n",
    "    results = pd.DataFrame()\n",
    "    for col in df.columns:\n",
    "        #print(col, '\\t\\t\\t', len(df[str(col)].unique()))\n",
    "        column_name.append(col)\n",
    "        unique_values_count.append(len(df[str(col)].unique()))\n",
    "        datatype.append(df[str(col)].dtype)\n",
    "    \n",
    "    results['Column_Name'] = column_name\n",
    "    results['Unique_Value_Count'] = unique_values_count\n",
    "    results['Data_Type'] = datatype\n",
    "    \n",
    "    dsp(results)\n",
    "    print('Total Number of Changes: {}'.format(df.shape[0]))\n",
    "    \n",
    "    print('Total Number Observations: ', df.shape[0])\n",
    "\n",
    "def train_split(df, TRAIN_SPLIT):\n",
    "    split_point = int(len(df) * (TRAIN_SPLIT))\n",
    "    train = df[:split_point]\n",
    "    test = df[split_point:]\n",
    "    return train, test\n",
    "\n",
    "def strip_time(date):\n",
    "    date = date.replace('T00:00:00.000', '')\n",
    "    return datetime.strptime(date, '%Y-%m-%d')\n",
    "\n",
    "def return_name(ndc_description):\n",
    "    if len(ndc_description) == 0:\n",
    "        return '','','',''\n",
    "    drug_name, dosage, dosage_unit, drug_form = [], np.nan, np.nan, np.nan\n",
    "    \n",
    "    #Check and see if we are dealing with concentration\n",
    "    concentration = False\n",
    "    if set('%') <= set(ndc_description):\n",
    "        concentration = True\n",
    "        ndc_description.replace('%', '')\n",
    "    \n",
    "    #Create our array of words\n",
    "    words = ndc_description.split()\n",
    "    \n",
    "    for i in range(len(words)):\n",
    "        if not words[i].replace('.','').replace('%', '').isnumeric():\n",
    "            drug_name.append(words[i])\n",
    "            \n",
    "        if words[i].replace('.','').replace('%','').isnumeric():\n",
    "            dosage = float(words[i].replace('%', ''))\n",
    "            \n",
    "            if not concentration:\n",
    "                try:\n",
    "                    dosage_unit = words[i + 1]\n",
    "                    drug_form = ' '.join(words[i + 2:])\n",
    "                except:\n",
    "                    drug_form = ' '.join(words[i:])\n",
    "                    #print(ndc_description, concentration)\n",
    "                break\n",
    "            \n",
    "            if concentration:\n",
    "                dosage_unit = 'concentration'\n",
    "                drug_form = ' '.join(words[i + 1:])\n",
    "                break\n",
    "            \n",
    "    drug_name = ' '.join(drug_name)\n",
    "    return pd.Series([drug_name, dosage, dosage_unit, drug_form])\n",
    "\n",
    "def drop_na_printout(dataframe):\n",
    "    i = dataframe.shape[0]\n",
    "    j = dataframe.dropna().shape[0]\n",
    "    \n",
    "    percent_loss = (i - j) / i * 100\n",
    "    \n",
    "    print(percent_loss, '% data lost in cleaning.')\n",
    "    \n",
    "    return dataframe.dropna()\n",
    "\n",
    "def one_hot_encoder(series):\n",
    "    results = pd.DataFrame()\n",
    "    for entry in series.unique():\n",
    "        results[str(series.name) + '_' + str(entry)] = series.apply(lambda x: np.where(x == entry, 1, 0))\n",
    "        \n",
    "    return results"
   ]
  },
  {
   "cell_type": "code",
   "execution_count": 4,
   "metadata": {},
   "outputs": [],
   "source": [
    "raw = pd.read_csv(URL, parse_dates = True)\n",
    "\n",
    "#Convert dates to date format\n",
    "raw['start_date'] = raw['start_date'].apply(lambda x: strip_time(x))\n",
    "raw['end_date'] = raw['end_date'].apply(lambda x: strip_time(x))\n",
    "\n",
    "#Remove Effective Date\n",
    "raw = raw.drop('effective_date', 1)"
   ]
  },
  {
   "cell_type": "code",
   "execution_count": 5,
   "metadata": {},
   "outputs": [
    {
     "name": "stdout",
     "output_type": "stream",
     "text": [
      "Index(['ndc_description', 'ndc', 'old_nadac_per_unit', 'new_nadac_per_unit',\n",
      "       'classification_for_rate_setting', 'percent_change', 'primary_reason',\n",
      "       'start_date', 'end_date'],\n",
      "      dtype='object')\n"
     ]
    },
    {
     "data": {
      "text/html": [
       "<div>\n",
       "<style scoped>\n",
       "    .dataframe tbody tr th:only-of-type {\n",
       "        vertical-align: middle;\n",
       "    }\n",
       "\n",
       "    .dataframe tbody tr th {\n",
       "        vertical-align: top;\n",
       "    }\n",
       "\n",
       "    .dataframe thead th {\n",
       "        text-align: right;\n",
       "    }\n",
       "</style>\n",
       "<table border=\"1\" class=\"dataframe\">\n",
       "  <thead>\n",
       "    <tr style=\"text-align: right;\">\n",
       "      <th></th>\n",
       "      <th>ndc_description</th>\n",
       "      <th>ndc</th>\n",
       "      <th>old_nadac_per_unit</th>\n",
       "      <th>new_nadac_per_unit</th>\n",
       "      <th>classification_for_rate_setting</th>\n",
       "      <th>percent_change</th>\n",
       "      <th>primary_reason</th>\n",
       "      <th>start_date</th>\n",
       "      <th>end_date</th>\n",
       "      <th>days_effective</th>\n",
       "      <th>days_count</th>\n",
       "      <th>year-month</th>\n",
       "      <th>drug_name</th>\n",
       "      <th>dosage</th>\n",
       "      <th>dosage_unit</th>\n",
       "      <th>drug_form</th>\n",
       "    </tr>\n",
       "  </thead>\n",
       "  <tbody>\n",
       "    <tr>\n",
       "      <th>24</th>\n",
       "      <td>ALREX 0.2% EYE DROPS</td>\n",
       "      <td>24208035305</td>\n",
       "      <td>27.08802</td>\n",
       "      <td>29.52622</td>\n",
       "      <td>B</td>\n",
       "      <td>9.00</td>\n",
       "      <td>WAC Adjustment</td>\n",
       "      <td>2013-12-05</td>\n",
       "      <td>2013-12-11</td>\n",
       "      <td>6</td>\n",
       "      <td>7</td>\n",
       "      <td>2013-12</td>\n",
       "      <td>ALREX</td>\n",
       "      <td>0.2</td>\n",
       "      <td>concentration</td>\n",
       "      <td>EYE DROPS</td>\n",
       "    </tr>\n",
       "    <tr>\n",
       "      <th>25</th>\n",
       "      <td>ALREX 0.2% EYE DROPS</td>\n",
       "      <td>24208035310</td>\n",
       "      <td>27.39300</td>\n",
       "      <td>29.85892</td>\n",
       "      <td>B</td>\n",
       "      <td>9.00</td>\n",
       "      <td>WAC Adjustment</td>\n",
       "      <td>2013-12-05</td>\n",
       "      <td>2013-12-11</td>\n",
       "      <td>6</td>\n",
       "      <td>7</td>\n",
       "      <td>2013-12</td>\n",
       "      <td>ALREX</td>\n",
       "      <td>0.2</td>\n",
       "      <td>concentration</td>\n",
       "      <td>EYE DROPS</td>\n",
       "    </tr>\n",
       "    <tr>\n",
       "      <th>26</th>\n",
       "      <td>ATIVAN 0.5 MG TABLET</td>\n",
       "      <td>64455006301</td>\n",
       "      <td>4.35697</td>\n",
       "      <td>5.06236</td>\n",
       "      <td>B</td>\n",
       "      <td>16.19</td>\n",
       "      <td>WAC Adjustment</td>\n",
       "      <td>2013-12-05</td>\n",
       "      <td>2013-12-11</td>\n",
       "      <td>6</td>\n",
       "      <td>7</td>\n",
       "      <td>2013-12</td>\n",
       "      <td>ATIVAN</td>\n",
       "      <td>0.5</td>\n",
       "      <td>MG</td>\n",
       "      <td>TABLET</td>\n",
       "    </tr>\n",
       "    <tr>\n",
       "      <th>27</th>\n",
       "      <td>ATIVAN 1 MG TABLET</td>\n",
       "      <td>64455006401</td>\n",
       "      <td>5.84274</td>\n",
       "      <td>6.78862</td>\n",
       "      <td>B</td>\n",
       "      <td>16.19</td>\n",
       "      <td>WAC Adjustment</td>\n",
       "      <td>2013-12-05</td>\n",
       "      <td>2013-12-11</td>\n",
       "      <td>6</td>\n",
       "      <td>7</td>\n",
       "      <td>2013-12</td>\n",
       "      <td>ATIVAN</td>\n",
       "      <td>1.0</td>\n",
       "      <td>MG</td>\n",
       "      <td>TABLET</td>\n",
       "    </tr>\n",
       "    <tr>\n",
       "      <th>28</th>\n",
       "      <td>ATIVAN 1 MG TABLET</td>\n",
       "      <td>64455006410</td>\n",
       "      <td>5.84274</td>\n",
       "      <td>6.78862</td>\n",
       "      <td>B</td>\n",
       "      <td>16.19</td>\n",
       "      <td>WAC Adjustment</td>\n",
       "      <td>2013-12-05</td>\n",
       "      <td>2013-12-11</td>\n",
       "      <td>6</td>\n",
       "      <td>7</td>\n",
       "      <td>2013-12</td>\n",
       "      <td>ATIVAN</td>\n",
       "      <td>1.0</td>\n",
       "      <td>MG</td>\n",
       "      <td>TABLET</td>\n",
       "    </tr>\n",
       "  </tbody>\n",
       "</table>\n",
       "</div>"
      ],
      "text/plain": [
       "         ndc_description          ndc  old_nadac_per_unit  new_nadac_per_unit  \\\n",
       "24  ALREX 0.2% EYE DROPS  24208035305            27.08802            29.52622   \n",
       "25  ALREX 0.2% EYE DROPS  24208035310            27.39300            29.85892   \n",
       "26  ATIVAN 0.5 MG TABLET  64455006301             4.35697             5.06236   \n",
       "27    ATIVAN 1 MG TABLET  64455006401             5.84274             6.78862   \n",
       "28    ATIVAN 1 MG TABLET  64455006410             5.84274             6.78862   \n",
       "\n",
       "   classification_for_rate_setting  percent_change  primary_reason start_date  \\\n",
       "24                               B            9.00  WAC Adjustment 2013-12-05   \n",
       "25                               B            9.00  WAC Adjustment 2013-12-05   \n",
       "26                               B           16.19  WAC Adjustment 2013-12-05   \n",
       "27                               B           16.19  WAC Adjustment 2013-12-05   \n",
       "28                               B           16.19  WAC Adjustment 2013-12-05   \n",
       "\n",
       "     end_date  days_effective  days_count year-month drug_name  dosage  \\\n",
       "24 2013-12-11               6           7    2013-12     ALREX     0.2   \n",
       "25 2013-12-11               6           7    2013-12     ALREX     0.2   \n",
       "26 2013-12-11               6           7    2013-12    ATIVAN     0.5   \n",
       "27 2013-12-11               6           7    2013-12    ATIVAN     1.0   \n",
       "28 2013-12-11               6           7    2013-12    ATIVAN     1.0   \n",
       "\n",
       "      dosage_unit  drug_form  \n",
       "24  concentration  EYE DROPS  \n",
       "25  concentration  EYE DROPS  \n",
       "26             MG     TABLET  \n",
       "27             MG     TABLET  \n",
       "28             MG     TABLET  "
      ]
     },
     "metadata": {},
     "output_type": "display_data"
    }
   ],
   "source": [
    "print(raw.columns)\n",
    "\n",
    "#Create 'days_effective' and 'day_count' columns\n",
    "raw['days_effective'] = (raw['end_date'] - raw['start_date'])\n",
    "raw['days_effective'] = raw['days_effective'].apply(lambda x: x.days)\n",
    "\n",
    "raw['days_count'] = (raw['start_date'] - min(raw['start_date']))\n",
    "raw['days_count'] = raw['days_count'].apply(lambda x: x.days)\n",
    "\n",
    "#Create 'month-year' column because most changes happen in the middle of every month\n",
    "raw['year-month'] = raw['start_date'].apply(lambda x: x.strftime('%Y-%m'))\n",
    "\n",
    "#Add drug name column, we want to ignore dosage and format\n",
    "raw[['drug_name', 'dosage','dosage_unit','drug_form']] = \\\n",
    "raw['ndc_description'].apply(lambda x: return_name(x))\n",
    "    \n",
    "#Remove all first-date entries\n",
    "if len(raw['start_date'].unique()) > 1:\n",
    "    raw.drop(raw[raw['start_date'] == min(raw['start_date'])].index, inplace = True)\n",
    "\n",
    "#Remove last month of data, this is typically truncated by the limitations of our API call\n",
    "if len(raw['year-month']) > 3:\n",
    "    raw.drop(raw[raw['year-month'] == max(raw['year-month'])].index, inplace = True)\n",
    "\n",
    "dsp(raw.head())"
   ]
  },
  {
   "cell_type": "code",
   "execution_count": 6,
   "metadata": {},
   "outputs": [],
   "source": [
    "#old_nadac_per_unit, new_nadac_per_unit, classification_for_rate_setting, percent_change, primary_reason, year-month\n",
    "#drug_name, dosage, dosage_unit, drug_form"
   ]
  },
  {
   "cell_type": "code",
   "execution_count": 7,
   "metadata": {},
   "outputs": [
    {
     "name": "stdout",
     "output_type": "stream",
     "text": [
      "13.085503719321077 % data lost in cleaning.\n"
     ]
    }
   ],
   "source": [
    "raw = drop_na_printout(raw)"
   ]
  },
  {
   "cell_type": "code",
   "execution_count": 8,
   "metadata": {},
   "outputs": [],
   "source": [
    "#Scale price to dosage\n",
    "raw['daily_max_dosage'] = raw.groupby(['drug_name', 'start_date', 'dosage_unit'])['dosage'].transform('max')\n",
    "raw['scaled_old_per_unit'] = raw['daily_max_dosage'] / raw['dosage'] * raw['old_nadac_per_unit']\n",
    "raw['scaled_new_per_unit'] = raw['daily_max_dosage'] / raw['dosage'] * raw['new_nadac_per_unit']\n",
    "raw['scaled_percent_change'] = (raw['scaled_new_per_unit'] - raw['scaled_old_per_unit']) \\\n",
    "/ raw['scaled_old_per_unit'] * 100"
   ]
  },
  {
   "cell_type": "code",
   "execution_count": 9,
   "metadata": {},
   "outputs": [
    {
     "data": {
      "text/html": [
       "<div>\n",
       "<style scoped>\n",
       "    .dataframe tbody tr th:only-of-type {\n",
       "        vertical-align: middle;\n",
       "    }\n",
       "\n",
       "    .dataframe tbody tr th {\n",
       "        vertical-align: top;\n",
       "    }\n",
       "\n",
       "    .dataframe thead th {\n",
       "        text-align: right;\n",
       "    }\n",
       "</style>\n",
       "<table border=\"1\" class=\"dataframe\">\n",
       "  <thead>\n",
       "    <tr style=\"text-align: right;\">\n",
       "      <th></th>\n",
       "      <th>ndc_description</th>\n",
       "      <th>ndc</th>\n",
       "      <th>old_nadac_per_unit</th>\n",
       "      <th>new_nadac_per_unit</th>\n",
       "      <th>classification_for_rate_setting</th>\n",
       "      <th>percent_change</th>\n",
       "      <th>primary_reason</th>\n",
       "      <th>start_date</th>\n",
       "      <th>end_date</th>\n",
       "      <th>days_effective</th>\n",
       "      <th>days_count</th>\n",
       "      <th>year-month</th>\n",
       "      <th>drug_name</th>\n",
       "      <th>dosage</th>\n",
       "      <th>dosage_unit</th>\n",
       "      <th>drug_form</th>\n",
       "      <th>daily_max_dosage</th>\n",
       "      <th>scaled_old_per_unit</th>\n",
       "      <th>scaled_new_per_unit</th>\n",
       "      <th>scaled_percent_change</th>\n",
       "    </tr>\n",
       "  </thead>\n",
       "  <tbody>\n",
       "    <tr>\n",
       "      <th>24</th>\n",
       "      <td>ALREX 0.2% EYE DROPS</td>\n",
       "      <td>24208035305</td>\n",
       "      <td>27.08802</td>\n",
       "      <td>29.52622</td>\n",
       "      <td>B</td>\n",
       "      <td>9.00</td>\n",
       "      <td>WAC Adjustment</td>\n",
       "      <td>2013-12-05</td>\n",
       "      <td>2013-12-11</td>\n",
       "      <td>6</td>\n",
       "      <td>7</td>\n",
       "      <td>2013-12</td>\n",
       "      <td>ALREX</td>\n",
       "      <td>0.2</td>\n",
       "      <td>concentration</td>\n",
       "      <td>EYE DROPS</td>\n",
       "      <td>0.2</td>\n",
       "      <td>27.08802</td>\n",
       "      <td>29.52622</td>\n",
       "      <td>9.001027</td>\n",
       "    </tr>\n",
       "    <tr>\n",
       "      <th>25</th>\n",
       "      <td>ALREX 0.2% EYE DROPS</td>\n",
       "      <td>24208035310</td>\n",
       "      <td>27.39300</td>\n",
       "      <td>29.85892</td>\n",
       "      <td>B</td>\n",
       "      <td>9.00</td>\n",
       "      <td>WAC Adjustment</td>\n",
       "      <td>2013-12-05</td>\n",
       "      <td>2013-12-11</td>\n",
       "      <td>6</td>\n",
       "      <td>7</td>\n",
       "      <td>2013-12</td>\n",
       "      <td>ALREX</td>\n",
       "      <td>0.2</td>\n",
       "      <td>concentration</td>\n",
       "      <td>EYE DROPS</td>\n",
       "      <td>0.2</td>\n",
       "      <td>27.39300</td>\n",
       "      <td>29.85892</td>\n",
       "      <td>9.002008</td>\n",
       "    </tr>\n",
       "    <tr>\n",
       "      <th>26</th>\n",
       "      <td>ATIVAN 0.5 MG TABLET</td>\n",
       "      <td>64455006301</td>\n",
       "      <td>4.35697</td>\n",
       "      <td>5.06236</td>\n",
       "      <td>B</td>\n",
       "      <td>16.19</td>\n",
       "      <td>WAC Adjustment</td>\n",
       "      <td>2013-12-05</td>\n",
       "      <td>2013-12-11</td>\n",
       "      <td>6</td>\n",
       "      <td>7</td>\n",
       "      <td>2013-12</td>\n",
       "      <td>ATIVAN</td>\n",
       "      <td>0.5</td>\n",
       "      <td>MG</td>\n",
       "      <td>TABLET</td>\n",
       "      <td>2.0</td>\n",
       "      <td>17.42788</td>\n",
       "      <td>20.24944</td>\n",
       "      <td>16.189921</td>\n",
       "    </tr>\n",
       "    <tr>\n",
       "      <th>27</th>\n",
       "      <td>ATIVAN 1 MG TABLET</td>\n",
       "      <td>64455006401</td>\n",
       "      <td>5.84274</td>\n",
       "      <td>6.78862</td>\n",
       "      <td>B</td>\n",
       "      <td>16.19</td>\n",
       "      <td>WAC Adjustment</td>\n",
       "      <td>2013-12-05</td>\n",
       "      <td>2013-12-11</td>\n",
       "      <td>6</td>\n",
       "      <td>7</td>\n",
       "      <td>2013-12</td>\n",
       "      <td>ATIVAN</td>\n",
       "      <td>1.0</td>\n",
       "      <td>MG</td>\n",
       "      <td>TABLET</td>\n",
       "      <td>2.0</td>\n",
       "      <td>11.68548</td>\n",
       "      <td>13.57724</td>\n",
       "      <td>16.188980</td>\n",
       "    </tr>\n",
       "    <tr>\n",
       "      <th>28</th>\n",
       "      <td>ATIVAN 1 MG TABLET</td>\n",
       "      <td>64455006410</td>\n",
       "      <td>5.84274</td>\n",
       "      <td>6.78862</td>\n",
       "      <td>B</td>\n",
       "      <td>16.19</td>\n",
       "      <td>WAC Adjustment</td>\n",
       "      <td>2013-12-05</td>\n",
       "      <td>2013-12-11</td>\n",
       "      <td>6</td>\n",
       "      <td>7</td>\n",
       "      <td>2013-12</td>\n",
       "      <td>ATIVAN</td>\n",
       "      <td>1.0</td>\n",
       "      <td>MG</td>\n",
       "      <td>TABLET</td>\n",
       "      <td>2.0</td>\n",
       "      <td>11.68548</td>\n",
       "      <td>13.57724</td>\n",
       "      <td>16.188980</td>\n",
       "    </tr>\n",
       "  </tbody>\n",
       "</table>\n",
       "</div>"
      ],
      "text/plain": [
       "         ndc_description          ndc  old_nadac_per_unit  new_nadac_per_unit  \\\n",
       "24  ALREX 0.2% EYE DROPS  24208035305            27.08802            29.52622   \n",
       "25  ALREX 0.2% EYE DROPS  24208035310            27.39300            29.85892   \n",
       "26  ATIVAN 0.5 MG TABLET  64455006301             4.35697             5.06236   \n",
       "27    ATIVAN 1 MG TABLET  64455006401             5.84274             6.78862   \n",
       "28    ATIVAN 1 MG TABLET  64455006410             5.84274             6.78862   \n",
       "\n",
       "   classification_for_rate_setting  percent_change  primary_reason start_date  \\\n",
       "24                               B            9.00  WAC Adjustment 2013-12-05   \n",
       "25                               B            9.00  WAC Adjustment 2013-12-05   \n",
       "26                               B           16.19  WAC Adjustment 2013-12-05   \n",
       "27                               B           16.19  WAC Adjustment 2013-12-05   \n",
       "28                               B           16.19  WAC Adjustment 2013-12-05   \n",
       "\n",
       "     end_date  days_effective  days_count year-month drug_name  dosage  \\\n",
       "24 2013-12-11               6           7    2013-12     ALREX     0.2   \n",
       "25 2013-12-11               6           7    2013-12     ALREX     0.2   \n",
       "26 2013-12-11               6           7    2013-12    ATIVAN     0.5   \n",
       "27 2013-12-11               6           7    2013-12    ATIVAN     1.0   \n",
       "28 2013-12-11               6           7    2013-12    ATIVAN     1.0   \n",
       "\n",
       "      dosage_unit  drug_form  daily_max_dosage  scaled_old_per_unit  \\\n",
       "24  concentration  EYE DROPS               0.2             27.08802   \n",
       "25  concentration  EYE DROPS               0.2             27.39300   \n",
       "26             MG     TABLET               2.0             17.42788   \n",
       "27             MG     TABLET               2.0             11.68548   \n",
       "28             MG     TABLET               2.0             11.68548   \n",
       "\n",
       "    scaled_new_per_unit  scaled_percent_change  \n",
       "24             29.52622               9.001027  \n",
       "25             29.85892               9.002008  \n",
       "26             20.24944              16.189921  \n",
       "27             13.57724              16.188980  \n",
       "28             13.57724              16.188980  "
      ]
     },
     "execution_count": 9,
     "metadata": {},
     "output_type": "execute_result"
    }
   ],
   "source": [
    "raw.head()"
   ]
  },
  {
   "cell_type": "code",
   "execution_count": 10,
   "metadata": {},
   "outputs": [
    {
     "name": "stdout",
     "output_type": "stream",
     "text": [
      "Top value counts for NDC:\n"
     ]
    },
    {
     "data": {
      "text/plain": [
       "60505255105    22\n",
       "51079076508    22\n",
       "68084062401    22\n",
       "59762502301    22\n",
       "68462012601    22\n",
       "Name: ndc, dtype: int64"
      ]
     },
     "metadata": {},
     "output_type": "display_data"
    },
    {
     "name": "stdout",
     "output_type": "stream",
     "text": [
      "\n",
      "Top value counts for NDC description:\n"
     ]
    },
    {
     "data": {
      "text/plain": [
       "METFORMIN HCL 500 MG TABLET      1976\n",
       "LISINOPRIL 20 MG TABLET          1628\n",
       "LISINOPRIL 10 MG TABLET          1567\n",
       "AMLODIPINE BESYLATE 5 MG TAB     1551\n",
       "AMLODIPINE BESYLATE 10 MG TAB    1508\n",
       "Name: ndc_description, dtype: int64"
      ]
     },
     "metadata": {},
     "output_type": "display_data"
    }
   ],
   "source": [
    "print('Top value counts for NDC:')\n",
    "dsp(raw['ndc'].value_counts().sort_values(ascending = False).head())\n",
    "\n",
    "print('\\nTop value counts for NDC description:')\n",
    "dsp(raw['ndc_description'].value_counts().sort_values(ascending = False).head())"
   ]
  },
  {
   "cell_type": "markdown",
   "metadata": {},
   "source": [
    "### Normalization"
   ]
  },
  {
   "cell_type": "code",
   "execution_count": 11,
   "metadata": {},
   "outputs": [],
   "source": [
    "#Check correlation between dosage and price witin each drug\n",
    "top_10 = raw['drug_name'].value_counts().sort_values(ascending = False)[:20].index"
   ]
  },
  {
   "cell_type": "code",
   "execution_count": 12,
   "metadata": {},
   "outputs": [
    {
     "name": "stdout",
     "output_type": "stream",
     "text": [
      "Dosage to per-unit price correlation for 10 most changed drugs:\n",
      "\n",
      "(Pearson Correlation Coefficient, P-Value)\n",
      "LISINOPRIL\n",
      "(0.864420129149428, 0.0)\n",
      "RISPERIDONE\n",
      "(0.2033609498629652, 5.499571296895248e-52)\n",
      "GABAPENTIN\n",
      "(0.8569656229109558, 0.0)\n",
      "SIMVASTATIN\n",
      "(0.8618310041791036, 0.0)\n",
      "AMLODIPINE BESYLATE\n",
      "(0.7568323175886235, 0.0)\n",
      "QUETIAPINE FUMARATE\n",
      "(0.9519636727113635, 0.0)\n",
      "IBUPROFEN\n",
      "(0.7836383973226292, 0.0)\n",
      "METFORMIN HCL\n",
      "(0.9742844110646679, 0.0)\n",
      "OLANZAPINE\n",
      "(0.9801290331139227, 0.0)\n",
      "CITALOPRAM HBR\n",
      "(-0.08183624262301034, 4.367269436408418e-06)\n",
      "LEVETIRACETAM\n",
      "(0.911590313135831, 0.0)\n",
      "AMOXICILLIN\n",
      "(0.5428050462190125, 2.6259675320258957e-234)\n",
      "CARVEDILOL\n",
      "(0.42290241643306814, 1.0370271316225878e-131)\n",
      "LOSARTAN POTASSIUM\n",
      "(0.8802892558883041, 0.0)\n",
      "LAMOTRIGINE\n",
      "(-0.2922914888777595, 1.0232722712910593e-57)\n",
      "MONTELUKAST SOD\n",
      "(-0.2681767547853191, 4.2858183401626166e-45)\n",
      "SERTRALINE HCL\n",
      "(0.317493212045036, 4.3023427563742916e-62)\n",
      "PIOGLITAZONE HCL\n",
      "(0.8569806152381154, 0.0)\n",
      "ALPRAZOLAM\n",
      "(0.07107803147447654, 0.000324556779184953)\n",
      "WARFARIN SODIUM\n",
      "(0.1935212654254796, 1.1177672001088698e-22)\n"
     ]
    }
   ],
   "source": [
    "#Check correlation between dosage and price within individual drugs\n",
    "print('Dosage to per-unit price correlation for 10 most changed drugs:\\n')\n",
    "print('(Pearson Correlation Coefficient, P-Value)')\n",
    "for drug in top_10:\n",
    "    drug_changelog = raw[raw['drug_name'] == drug]\n",
    "    print(drug)\n",
    "    print(stats.pearsonr(drug_changelog['new_nadac_per_unit'].values, drug_changelog['dosage'].values))"
   ]
  },
  {
   "cell_type": "code",
   "execution_count": 13,
   "metadata": {},
   "outputs": [],
   "source": [
    "#Create drugs dataframe\n",
    "drugs = raw[['drug_name','old_nadac_per_unit','new_nadac_per_unit']].groupby(['drug_name']).mean().rename(\n",
    "    {'old_nadac_per_unit' : 'old_average_per_unit','new_nadac_per_unit': 'new_average_per_unit'}, axis = 1)\n",
    "drugs['percent_average_change'] = (drugs['new_average_per_unit'] \n",
    "                                   - drugs['old_average_per_unit']) / drugs['new_average_per_unit'] * 100"
   ]
  },
  {
   "cell_type": "code",
   "execution_count": 14,
   "metadata": {},
   "outputs": [
    {
     "data": {
      "text/html": [
       "<div>\n",
       "<style scoped>\n",
       "    .dataframe tbody tr th:only-of-type {\n",
       "        vertical-align: middle;\n",
       "    }\n",
       "\n",
       "    .dataframe tbody tr th {\n",
       "        vertical-align: top;\n",
       "    }\n",
       "\n",
       "    .dataframe thead th {\n",
       "        text-align: right;\n",
       "    }\n",
       "</style>\n",
       "<table border=\"1\" class=\"dataframe\">\n",
       "  <thead>\n",
       "    <tr style=\"text-align: right;\">\n",
       "      <th></th>\n",
       "      <th>old_average_per_unit</th>\n",
       "      <th>new_average_per_unit</th>\n",
       "      <th>percent_average_change</th>\n",
       "      <th>max_per_unit</th>\n",
       "      <th>min_per_unit</th>\n",
       "      <th>max_dosage</th>\n",
       "    </tr>\n",
       "    <tr>\n",
       "      <th>drug_name</th>\n",
       "      <th></th>\n",
       "      <th></th>\n",
       "      <th></th>\n",
       "      <th></th>\n",
       "      <th></th>\n",
       "      <th></th>\n",
       "    </tr>\n",
       "  </thead>\n",
       "  <tbody>\n",
       "    <tr>\n",
       "      <th></th>\n",
       "      <td>0.061608</td>\n",
       "      <td>0.061494</td>\n",
       "      <td>-0.185384</td>\n",
       "      <td>0.06650</td>\n",
       "      <td>0.05932</td>\n",
       "      <td>8.0</td>\n",
       "    </tr>\n",
       "    <tr>\n",
       "      <th>12-HR DECONGEST</th>\n",
       "      <td>0.341570</td>\n",
       "      <td>0.342896</td>\n",
       "      <td>0.386823</td>\n",
       "      <td>0.37681</td>\n",
       "      <td>0.32264</td>\n",
       "      <td>120.0</td>\n",
       "    </tr>\n",
       "    <tr>\n",
       "      <th>ABACAVIR</th>\n",
       "      <td>4.303600</td>\n",
       "      <td>4.246232</td>\n",
       "      <td>-1.351048</td>\n",
       "      <td>6.13318</td>\n",
       "      <td>3.09071</td>\n",
       "      <td>300.0</td>\n",
       "    </tr>\n",
       "    <tr>\n",
       "      <th>ABILIFY</th>\n",
       "      <td>28.790676</td>\n",
       "      <td>30.332430</td>\n",
       "      <td>5.082858</td>\n",
       "      <td>40.98323</td>\n",
       "      <td>5.50154</td>\n",
       "      <td>30.0</td>\n",
       "    </tr>\n",
       "    <tr>\n",
       "      <th>ABILIFY DISCMELT</th>\n",
       "      <td>30.165025</td>\n",
       "      <td>34.659615</td>\n",
       "      <td>12.967801</td>\n",
       "      <td>35.01615</td>\n",
       "      <td>34.30308</td>\n",
       "      <td>15.0</td>\n",
       "    </tr>\n",
       "  </tbody>\n",
       "</table>\n",
       "</div>"
      ],
      "text/plain": [
       "                  old_average_per_unit  new_average_per_unit  \\\n",
       "drug_name                                                      \n",
       "                              0.061608              0.061494   \n",
       "12-HR DECONGEST               0.341570              0.342896   \n",
       "ABACAVIR                      4.303600              4.246232   \n",
       "ABILIFY                      28.790676             30.332430   \n",
       "ABILIFY DISCMELT             30.165025             34.659615   \n",
       "\n",
       "                  percent_average_change  max_per_unit  min_per_unit  \\\n",
       "drug_name                                                              \n",
       "                               -0.185384       0.06650       0.05932   \n",
       "12-HR DECONGEST                 0.386823       0.37681       0.32264   \n",
       "ABACAVIR                       -1.351048       6.13318       3.09071   \n",
       "ABILIFY                         5.082858      40.98323       5.50154   \n",
       "ABILIFY DISCMELT               12.967801      35.01615      34.30308   \n",
       "\n",
       "                  max_dosage  \n",
       "drug_name                     \n",
       "                         8.0  \n",
       "12-HR DECONGEST        120.0  \n",
       "ABACAVIR               300.0  \n",
       "ABILIFY                 30.0  \n",
       "ABILIFY DISCMELT        15.0  "
      ]
     },
     "execution_count": 14,
     "metadata": {},
     "output_type": "execute_result"
    }
   ],
   "source": [
    "max_price, min_price, max_dosage = [], [], []\n",
    "for drug in drugs.index:\n",
    "    max_price.append(max(raw[raw['drug_name'] == drug]['new_nadac_per_unit']))\n",
    "    min_price.append(min(raw[raw['drug_name'] == drug]['new_nadac_per_unit']))\n",
    "    max_dosage.append(max(raw[raw['drug_name'] == drug]['dosage']))\n",
    "drugs['max_per_unit'] = max_price\n",
    "drugs['min_per_unit'] = min_price\n",
    "drugs['max_dosage'] = max_dosage\n",
    "drugs.head()"
   ]
  },
  {
   "cell_type": "code",
   "execution_count": 15,
   "metadata": {},
   "outputs": [
    {
     "data": {
      "image/png": "[encoded data removed]",
      "text/plain": [
       "<Figure size 432x288 with 1 Axes>"
      ]
     },
     "metadata": {
      "needs_background": "light"
     },
     "output_type": "display_data"
    }
   ],
   "source": [
    "plt.title('Max Price per Unit Distribution')\n",
    "#drugs[(np.abs(stats.zscore(drugs)) < 1).all(axis=1)]\n",
    "plt.hist(drugs['max_per_unit'])\n",
    "\n",
    "plt.xlabel('Price per Unit')\n",
    "plt.show()"
   ]
  },
  {
   "cell_type": "markdown",
   "metadata": {},
   "source": [
    "## Exploratory Data Analysis"
   ]
  },
  {
   "cell_type": "markdown",
   "metadata": {},
   "source": [
    "### Metadata"
   ]
  },
  {
   "cell_type": "code",
   "execution_count": 16,
   "metadata": {},
   "outputs": [
    {
     "name": "stdout",
     "output_type": "stream",
     "text": [
      "\n",
      "Unique Values in Raw Data per Column:\n"
     ]
    },
    {
     "data": {
      "text/html": [
       "<div>\n",
       "<style scoped>\n",
       "    .dataframe tbody tr th:only-of-type {\n",
       "        vertical-align: middle;\n",
       "    }\n",
       "\n",
       "    .dataframe tbody tr th {\n",
       "        vertical-align: top;\n",
       "    }\n",
       "\n",
       "    .dataframe thead th {\n",
       "        text-align: right;\n",
       "    }\n",
       "</style>\n",
       "<table border=\"1\" class=\"dataframe\">\n",
       "  <thead>\n",
       "    <tr style=\"text-align: right;\">\n",
       "      <th></th>\n",
       "      <th>Column_Name</th>\n",
       "      <th>Unique_Value_Count</th>\n",
       "      <th>Data_Type</th>\n",
       "    </tr>\n",
       "  </thead>\n",
       "  <tbody>\n",
       "    <tr>\n",
       "      <th>0</th>\n",
       "      <td>ndc_description</td>\n",
       "      <td>4787</td>\n",
       "      <td>object</td>\n",
       "    </tr>\n",
       "    <tr>\n",
       "      <th>1</th>\n",
       "      <td>ndc</td>\n",
       "      <td>41876</td>\n",
       "      <td>object</td>\n",
       "    </tr>\n",
       "    <tr>\n",
       "      <th>2</th>\n",
       "      <td>old_nadac_per_unit</td>\n",
       "      <td>49345</td>\n",
       "      <td>float64</td>\n",
       "    </tr>\n",
       "    <tr>\n",
       "      <th>3</th>\n",
       "      <td>new_nadac_per_unit</td>\n",
       "      <td>49387</td>\n",
       "      <td>float64</td>\n",
       "    </tr>\n",
       "    <tr>\n",
       "      <th>4</th>\n",
       "      <td>classification_for_rate_setting</td>\n",
       "      <td>2</td>\n",
       "      <td>object</td>\n",
       "    </tr>\n",
       "    <tr>\n",
       "      <th>5</th>\n",
       "      <td>percent_change</td>\n",
       "      <td>6081</td>\n",
       "      <td>float64</td>\n",
       "    </tr>\n",
       "    <tr>\n",
       "      <th>6</th>\n",
       "      <td>primary_reason</td>\n",
       "      <td>4</td>\n",
       "      <td>object</td>\n",
       "    </tr>\n",
       "    <tr>\n",
       "      <th>7</th>\n",
       "      <td>start_date</td>\n",
       "      <td>107</td>\n",
       "      <td>datetime64[ns]</td>\n",
       "    </tr>\n",
       "    <tr>\n",
       "      <th>8</th>\n",
       "      <td>end_date</td>\n",
       "      <td>107</td>\n",
       "      <td>datetime64[ns]</td>\n",
       "    </tr>\n",
       "    <tr>\n",
       "      <th>9</th>\n",
       "      <td>days_effective</td>\n",
       "      <td>2</td>\n",
       "      <td>int64</td>\n",
       "    </tr>\n",
       "    <tr>\n",
       "      <th>10</th>\n",
       "      <td>days_count</td>\n",
       "      <td>107</td>\n",
       "      <td>int64</td>\n",
       "    </tr>\n",
       "    <tr>\n",
       "      <th>11</th>\n",
       "      <td>year-month</td>\n",
       "      <td>25</td>\n",
       "      <td>object</td>\n",
       "    </tr>\n",
       "    <tr>\n",
       "      <th>12</th>\n",
       "      <td>drug_name</td>\n",
       "      <td>2350</td>\n",
       "      <td>object</td>\n",
       "    </tr>\n",
       "    <tr>\n",
       "      <th>13</th>\n",
       "      <td>dosage</td>\n",
       "      <td>215</td>\n",
       "      <td>float64</td>\n",
       "    </tr>\n",
       "    <tr>\n",
       "      <th>14</th>\n",
       "      <td>dosage_unit</td>\n",
       "      <td>134</td>\n",
       "      <td>object</td>\n",
       "    </tr>\n",
       "    <tr>\n",
       "      <th>15</th>\n",
       "      <td>drug_form</td>\n",
       "      <td>368</td>\n",
       "      <td>object</td>\n",
       "    </tr>\n",
       "    <tr>\n",
       "      <th>16</th>\n",
       "      <td>daily_max_dosage</td>\n",
       "      <td>201</td>\n",
       "      <td>float64</td>\n",
       "    </tr>\n",
       "    <tr>\n",
       "      <th>17</th>\n",
       "      <td>scaled_old_per_unit</td>\n",
       "      <td>54234</td>\n",
       "      <td>float64</td>\n",
       "    </tr>\n",
       "    <tr>\n",
       "      <th>18</th>\n",
       "      <td>scaled_new_per_unit</td>\n",
       "      <td>54265</td>\n",
       "      <td>float64</td>\n",
       "    </tr>\n",
       "    <tr>\n",
       "      <th>19</th>\n",
       "      <td>scaled_percent_change</td>\n",
       "      <td>59071</td>\n",
       "      <td>float64</td>\n",
       "    </tr>\n",
       "  </tbody>\n",
       "</table>\n",
       "</div>"
      ],
      "text/plain": [
       "                        Column_Name  Unique_Value_Count       Data_Type\n",
       "0                   ndc_description                4787          object\n",
       "1                               ndc               41876          object\n",
       "2                old_nadac_per_unit               49345         float64\n",
       "3                new_nadac_per_unit               49387         float64\n",
       "4   classification_for_rate_setting                   2          object\n",
       "5                    percent_change                6081         float64\n",
       "6                    primary_reason                   4          object\n",
       "7                        start_date                 107  datetime64[ns]\n",
       "8                          end_date                 107  datetime64[ns]\n",
       "9                    days_effective                   2           int64\n",
       "10                       days_count                 107           int64\n",
       "11                       year-month                  25          object\n",
       "12                        drug_name                2350          object\n",
       "13                           dosage                 215         float64\n",
       "14                      dosage_unit                 134          object\n",
       "15                        drug_form                 368          object\n",
       "16                 daily_max_dosage                 201         float64\n",
       "17              scaled_old_per_unit               54234         float64\n",
       "18              scaled_new_per_unit               54265         float64\n",
       "19            scaled_percent_change               59071         float64"
      ]
     },
     "metadata": {},
     "output_type": "display_data"
    },
    {
     "name": "stdout",
     "output_type": "stream",
     "text": [
      "Total Number of Changes: 416775\n",
      "Total Number Observations:  416775\n"
     ]
    }
   ],
   "source": [
    "print('\\nUnique Values in Raw Data per Column:')\n",
    "list_unique_counts(raw)"
   ]
  },
  {
   "cell_type": "markdown",
   "metadata": {},
   "source": [
    "### Data Distribution"
   ]
  },
  {
   "cell_type": "code",
   "execution_count": 17,
   "metadata": {},
   "outputs": [],
   "source": [
    "data = raw[['drug_name','start_date', 'days_count', 'year-month', 'old_nadac_per_unit', 'new_nadac_per_unit', 'scaled_old_per_unit',\\\n",
    "          'scaled_new_per_unit', 'percent_change', 'scaled_percent_change']]\n",
    "\n",
    "#numerics = ['int16', 'int32', 'int64', 'float16', 'float32', 'float64']\n",
    "data_out_rm = data[(np.abs(stats.zscore(data[['percent_change']])) < 3).all(axis = 1)]"
   ]
  },
  {
   "cell_type": "markdown",
   "metadata": {},
   "source": [
    "#### Percent Change"
   ]
  },
  {
   "cell_type": "code",
   "execution_count": 18,
   "metadata": {},
   "outputs": [
    {
     "data": {
      "image/png": "[encoded data removed]",
      "text/plain": [
       "<Figure size 432x288 with 1 Axes>"
      ]
     },
     "metadata": {
      "needs_background": "light"
     },
     "output_type": "display_data"
    },
    {
     "data": {
      "image/png": "[encoded data removed]",
      "text/plain": [
       "<Figure size 432x288 with 1 Axes>"
      ]
     },
     "metadata": {
      "needs_background": "light"
     },
     "output_type": "display_data"
    },
    {
     "data": {
      "image/png": "[encoded data removed]",
      "text/plain": [
       "<Figure size 432x288 with 1 Axes>"
      ]
     },
     "metadata": {
      "needs_background": "light"
     },
     "output_type": "display_data"
    }
   ],
   "source": [
    "plt.title('Percent Change Distribution')\n",
    "plt.hist(data['percent_change'])\n",
    "plt.xlabel('% change')\n",
    "plt.ylabel('N Obs')\n",
    "plt.show()\n",
    "\n",
    "plt.title('Percent Change Distribution, Outliers Removed')\n",
    "plt.hist(data_out_rm['percent_change'])\n",
    "plt.xlabel('% change')\n",
    "plt.ylabel('N Obs')\n",
    "plt.show()\n",
    "\n",
    "plt.title('Percent Change per Date')\n",
    "plt.scatter(data['start_date'], data['percent_change'])\n",
    "plt.xticks(rotation = 70)\n",
    "plt.xlabel('Date')\n",
    "plt.ylabel('Percent Change')\n",
    "\n",
    "plt.show()"
   ]
  },
  {
   "cell_type": "code",
   "execution_count": 19,
   "metadata": {},
   "outputs": [
    {
     "data": {
      "text/html": [
       "<div>\n",
       "<style scoped>\n",
       "    .dataframe tbody tr th:only-of-type {\n",
       "        vertical-align: middle;\n",
       "    }\n",
       "\n",
       "    .dataframe tbody tr th {\n",
       "        vertical-align: top;\n",
       "    }\n",
       "\n",
       "    .dataframe thead th {\n",
       "        text-align: right;\n",
       "    }\n",
       "</style>\n",
       "<table border=\"1\" class=\"dataframe\">\n",
       "  <thead>\n",
       "    <tr style=\"text-align: right;\">\n",
       "      <th></th>\n",
       "      <th>ndc_description</th>\n",
       "      <th>ndc</th>\n",
       "      <th>old_nadac_per_unit</th>\n",
       "      <th>new_nadac_per_unit</th>\n",
       "      <th>classification_for_rate_setting</th>\n",
       "      <th>percent_change</th>\n",
       "      <th>primary_reason</th>\n",
       "      <th>start_date</th>\n",
       "      <th>end_date</th>\n",
       "      <th>days_effective</th>\n",
       "      <th>days_count</th>\n",
       "      <th>year-month</th>\n",
       "      <th>drug_name</th>\n",
       "      <th>dosage</th>\n",
       "      <th>dosage_unit</th>\n",
       "      <th>drug_form</th>\n",
       "      <th>daily_max_dosage</th>\n",
       "      <th>scaled_old_per_unit</th>\n",
       "      <th>scaled_new_per_unit</th>\n",
       "      <th>scaled_percent_change</th>\n",
       "    </tr>\n",
       "  </thead>\n",
       "  <tbody>\n",
       "    <tr>\n",
       "      <th>168521</th>\n",
       "      <td>CLOBETASOL 0.05% GEL</td>\n",
       "      <td>45802092596</td>\n",
       "      <td>0.26027</td>\n",
       "      <td>5.37913</td>\n",
       "      <td>G</td>\n",
       "      <td>1966.75</td>\n",
       "      <td>Help Desk</td>\n",
       "      <td>2014-09-03</td>\n",
       "      <td>2014-09-10</td>\n",
       "      <td>7</td>\n",
       "      <td>279</td>\n",
       "      <td>2014-09</td>\n",
       "      <td>CLOBETASOL</td>\n",
       "      <td>0.05</td>\n",
       "      <td>concentration</td>\n",
       "      <td>GEL</td>\n",
       "      <td>0.05</td>\n",
       "      <td>0.26027</td>\n",
       "      <td>5.37913</td>\n",
       "      <td>1966.749914</td>\n",
       "    </tr>\n",
       "    <tr>\n",
       "      <th>168518</th>\n",
       "      <td>CLOBETASOL 0.05% GEL</td>\n",
       "      <td>168029360</td>\n",
       "      <td>0.26027</td>\n",
       "      <td>5.37913</td>\n",
       "      <td>G</td>\n",
       "      <td>1966.75</td>\n",
       "      <td>Help Desk</td>\n",
       "      <td>2014-09-03</td>\n",
       "      <td>2014-09-10</td>\n",
       "      <td>7</td>\n",
       "      <td>279</td>\n",
       "      <td>2014-09</td>\n",
       "      <td>CLOBETASOL</td>\n",
       "      <td>0.05</td>\n",
       "      <td>concentration</td>\n",
       "      <td>GEL</td>\n",
       "      <td>0.05</td>\n",
       "      <td>0.26027</td>\n",
       "      <td>5.37913</td>\n",
       "      <td>1966.749914</td>\n",
       "    </tr>\n",
       "    <tr>\n",
       "      <th>168524</th>\n",
       "      <td>CLOBETASOL 0.05% GEL</td>\n",
       "      <td>50383026960</td>\n",
       "      <td>0.26027</td>\n",
       "      <td>5.37913</td>\n",
       "      <td>G</td>\n",
       "      <td>1966.75</td>\n",
       "      <td>Help Desk</td>\n",
       "      <td>2014-09-03</td>\n",
       "      <td>2014-09-10</td>\n",
       "      <td>7</td>\n",
       "      <td>279</td>\n",
       "      <td>2014-09</td>\n",
       "      <td>CLOBETASOL</td>\n",
       "      <td>0.05</td>\n",
       "      <td>concentration</td>\n",
       "      <td>GEL</td>\n",
       "      <td>0.05</td>\n",
       "      <td>0.26027</td>\n",
       "      <td>5.37913</td>\n",
       "      <td>1966.749914</td>\n",
       "    </tr>\n",
       "    <tr>\n",
       "      <th>168527</th>\n",
       "      <td>CLOBETASOL 0.05% GEL</td>\n",
       "      <td>51672129403</td>\n",
       "      <td>0.26027</td>\n",
       "      <td>5.37913</td>\n",
       "      <td>G</td>\n",
       "      <td>1966.75</td>\n",
       "      <td>Help Desk</td>\n",
       "      <td>2014-09-03</td>\n",
       "      <td>2014-09-10</td>\n",
       "      <td>7</td>\n",
       "      <td>279</td>\n",
       "      <td>2014-09</td>\n",
       "      <td>CLOBETASOL</td>\n",
       "      <td>0.05</td>\n",
       "      <td>concentration</td>\n",
       "      <td>GEL</td>\n",
       "      <td>0.05</td>\n",
       "      <td>0.26027</td>\n",
       "      <td>5.37913</td>\n",
       "      <td>1966.749914</td>\n",
       "    </tr>\n",
       "    <tr>\n",
       "      <th>130769</th>\n",
       "      <td>AMITRIPTYLINE HCL 50 MG TAB</td>\n",
       "      <td>378265001</td>\n",
       "      <td>0.02242</td>\n",
       "      <td>0.45975</td>\n",
       "      <td>G</td>\n",
       "      <td>1950.62</td>\n",
       "      <td>Help Desk</td>\n",
       "      <td>2014-07-09</td>\n",
       "      <td>2014-07-16</td>\n",
       "      <td>7</td>\n",
       "      <td>223</td>\n",
       "      <td>2014-07</td>\n",
       "      <td>AMITRIPTYLINE HCL</td>\n",
       "      <td>50.00</td>\n",
       "      <td>MG</td>\n",
       "      <td>TAB</td>\n",
       "      <td>150.00</td>\n",
       "      <td>0.06726</td>\n",
       "      <td>1.37925</td>\n",
       "      <td>1950.624442</td>\n",
       "    </tr>\n",
       "  </tbody>\n",
       "</table>\n",
       "</div>"
      ],
      "text/plain": [
       "                    ndc_description          ndc  old_nadac_per_unit  \\\n",
       "168521         CLOBETASOL 0.05% GEL  45802092596             0.26027   \n",
       "168518         CLOBETASOL 0.05% GEL    168029360             0.26027   \n",
       "168524         CLOBETASOL 0.05% GEL  50383026960             0.26027   \n",
       "168527         CLOBETASOL 0.05% GEL  51672129403             0.26027   \n",
       "130769  AMITRIPTYLINE HCL 50 MG TAB    378265001             0.02242   \n",
       "\n",
       "        new_nadac_per_unit classification_for_rate_setting  percent_change  \\\n",
       "168521             5.37913                               G         1966.75   \n",
       "168518             5.37913                               G         1966.75   \n",
       "168524             5.37913                               G         1966.75   \n",
       "168527             5.37913                               G         1966.75   \n",
       "130769             0.45975                               G         1950.62   \n",
       "\n",
       "       primary_reason start_date   end_date  days_effective  days_count  \\\n",
       "168521      Help Desk 2014-09-03 2014-09-10               7         279   \n",
       "168518      Help Desk 2014-09-03 2014-09-10               7         279   \n",
       "168524      Help Desk 2014-09-03 2014-09-10               7         279   \n",
       "168527      Help Desk 2014-09-03 2014-09-10               7         279   \n",
       "130769      Help Desk 2014-07-09 2014-07-16               7         223   \n",
       "\n",
       "       year-month          drug_name  dosage    dosage_unit drug_form  \\\n",
       "168521    2014-09         CLOBETASOL    0.05  concentration       GEL   \n",
       "168518    2014-09         CLOBETASOL    0.05  concentration       GEL   \n",
       "168524    2014-09         CLOBETASOL    0.05  concentration       GEL   \n",
       "168527    2014-09         CLOBETASOL    0.05  concentration       GEL   \n",
       "130769    2014-07  AMITRIPTYLINE HCL   50.00             MG       TAB   \n",
       "\n",
       "        daily_max_dosage  scaled_old_per_unit  scaled_new_per_unit  \\\n",
       "168521              0.05              0.26027              5.37913   \n",
       "168518              0.05              0.26027              5.37913   \n",
       "168524              0.05              0.26027              5.37913   \n",
       "168527              0.05              0.26027              5.37913   \n",
       "130769            150.00              0.06726              1.37925   \n",
       "\n",
       "        scaled_percent_change  \n",
       "168521            1966.749914  \n",
       "168518            1966.749914  \n",
       "168524            1966.749914  \n",
       "168527            1966.749914  \n",
       "130769            1950.624442  "
      ]
     },
     "execution_count": 19,
     "metadata": {},
     "output_type": "execute_result"
    }
   ],
   "source": [
    "raw.sort_values('percent_change', ascending = False)[:10].head()"
   ]
  },
  {
   "cell_type": "markdown",
   "metadata": {},
   "source": [
    "#### Price per Unit: de facto and scaled"
   ]
  },
  {
   "cell_type": "code",
   "execution_count": 20,
   "metadata": {},
   "outputs": [
    {
     "data": {
      "image/png": "[encoded data removed]",
      "text/plain": [
       "<Figure size 432x288 with 1 Axes>"
      ]
     },
     "metadata": {
      "needs_background": "light"
     },
     "output_type": "display_data"
    },
    {
     "data": {
      "image/png": "[encoded data removed]",
      "text/plain": [
       "<Figure size 432x288 with 1 Axes>"
      ]
     },
     "metadata": {
      "needs_background": "light"
     },
     "output_type": "display_data"
    },
    {
     "data": {
      "image/png": "[encoded data removed]",
      "text/plain": [
       "<Figure size 432x288 with 1 Axes>"
      ]
     },
     "metadata": {
      "needs_background": "light"
     },
     "output_type": "display_data"
    }
   ],
   "source": [
    "plt.title('New Price Per Unit')\n",
    "plt.hist(data_out_rm['new_nadac_per_unit'], color = 'green')\n",
    "plt.xlabel('Price per Unit')\n",
    "plt.ylabel('N Obs')\n",
    "plt.show()\n",
    "\n",
    "plt.title('New Price Per Unit (0, 1)')\n",
    "plt.hist(data['new_nadac_per_unit'], range = (0, 1), color = 'green')\n",
    "plt.xlabel('Price per Unit')\n",
    "plt.ylabel('N Obs')\n",
    "plt.show()\n",
    "\n",
    "plt.title('New Price to Date')\n",
    "plt.scatter(data['start_date'], data['new_nadac_per_unit'], color = 'green')\n",
    "plt.xticks(rotation = 70)\n",
    "plt.xlabel('Date')\n",
    "plt.ylabel('Price per Unit')\n",
    "plt.show()\n",
    "\n",
    "#Price Differential\n",
    "#Remove Outliers"
   ]
  },
  {
   "cell_type": "code",
   "execution_count": 21,
   "metadata": {},
   "outputs": [
    {
     "data": {
      "image/png": "[encoded data removed]",
      "text/plain": [
       "<Figure size 432x288 with 1 Axes>"
      ]
     },
     "metadata": {
      "needs_background": "light"
     },
     "output_type": "display_data"
    },
    {
     "data": {
      "image/png": "[encoded data removed]",
      "text/plain": [
       "<Figure size 432x288 with 1 Axes>"
      ]
     },
     "metadata": {
      "needs_background": "light"
     },
     "output_type": "display_data"
    },
    {
     "data": {
      "image/png": "[encoded data removed]",
      "text/plain": [
       "<Figure size 432x288 with 1 Axes>"
      ]
     },
     "metadata": {
      "needs_background": "light"
     },
     "output_type": "display_data"
    }
   ],
   "source": [
    "plt.title('Scaled New Price Per Unit')\n",
    "plt.hist(data_out_rm['scaled_new_per_unit'], color = 'red')\n",
    "plt.xlabel('Price per Unit')\n",
    "plt.ylabel('N Obs')\n",
    "plt.show()\n",
    "\n",
    "plt.title('Scaled New Price Per Unit (0, 1)')\n",
    "plt.hist(data['scaled_new_per_unit'], range = (0, 1), color = 'red')\n",
    "plt.xlabel('Price per Unit')\n",
    "plt.ylabel('N Obs')\n",
    "plt.show()\n",
    "\n",
    "plt.title('Scaled New Price to Date')\n",
    "plt.scatter(data['start_date'], data['scaled_new_per_unit'], color = 'red')\n",
    "plt.xticks(rotation = 70)\n",
    "plt.xlabel('Date')\n",
    "plt.ylabel('Price per Unit')\n",
    "plt.show()\n",
    "\n",
    "#Overlap Scaled and raw\n",
    "#Don't hard code the range"
   ]
  },
  {
   "cell_type": "markdown",
   "metadata": {},
   "source": [
    "#### Correlation Testing"
   ]
  },
  {
   "cell_type": "code",
   "execution_count": 22,
   "metadata": {},
   "outputs": [
    {
     "data": {
      "text/plain": [
       "<matplotlib.axes._subplots.AxesSubplot at 0x7f0064447588>"
      ]
     },
     "execution_count": 22,
     "metadata": {},
     "output_type": "execute_result"
    },
    {
     "data": {
      "image/png": "[encoded data removed]",
      "text/plain": [
       "<Figure size 432x288 with 2 Axes>"
      ]
     },
     "metadata": {
      "needs_background": "light"
     },
     "output_type": "display_data"
    }
   ],
   "source": [
    "sns.heatmap(data.corr())\n",
    "\n",
    "#SAmple of drugs\n",
    "#Test correlation of rates of change"
   ]
  },
  {
   "cell_type": "markdown",
   "metadata": {},
   "source": [
    "### Metrics for General Volatility\n",
    "\n",
    "#### Changes per Day"
   ]
  },
  {
   "cell_type": "code",
   "execution_count": 23,
   "metadata": {
    "scrolled": true
   },
   "outputs": [
    {
     "data": {
      "text/plain": [
       "2013-12-05      105\n",
       "2013-12-11    15729\n",
       "2013-12-18       61\n",
       "2013-12-25       11\n",
       "2014-01-08      318\n",
       "Name: start_date, dtype: int64"
      ]
     },
     "metadata": {},
     "output_type": "display_data"
    },
    {
     "name": "stdout",
     "output_type": "stream",
     "text": [
      "Our data represents the range of dates between 2013-12-05 and 2015-12-30\n"
     ]
    }
   ],
   "source": [
    "#Changes per day\n",
    "change_count = raw['start_date'].value_counts().sort_index()\n",
    "dsp(change_count.head())\n",
    "\n",
    "print('Our data represents the range of dates between {} and {}'.format(change_count.index.min().strftime('%Y-%m-%d'),\n",
    "                                                                        change_count.index.max().strftime('%Y-%m-%d')))"
   ]
  },
  {
   "cell_type": "code",
   "execution_count": 24,
   "metadata": {},
   "outputs": [
    {
     "name": "stdout",
     "output_type": "stream",
     "text": [
      "2015-12-16    17269\n",
      "2015-11-11    17249\n",
      "2015-07-15    16932\n",
      "2015-10-14    16918\n",
      "2015-06-10    16859\n",
      "2015-02-11    16763\n",
      "2015-08-12    16731\n",
      "2015-05-13    16719\n",
      "2014-11-12    16693\n",
      "2015-04-15    16626\n",
      "Name: start_date, dtype: int64\n"
     ]
    }
   ],
   "source": [
    "print(change_count.sort_values(ascending = False)[:10])"
   ]
  },
  {
   "cell_type": "code",
   "execution_count": 25,
   "metadata": {},
   "outputs": [
    {
     "data": {
      "image/png": "[encoded data removed]",
      "text/plain": [
       "<Figure size 432x288 with 1 Axes>"
      ]
     },
     "metadata": {
      "needs_background": "light"
     },
     "output_type": "display_data"
    }
   ],
   "source": [
    "plt.title('Changes Implemented Per Day')\n",
    "plt.plot(change_count.index.strftime('%Y-%m-%d'), change_count.values, '.')\n",
    "plt.xticks(np.arange(0,len(change_count.index), round((len(change_count.index)) / 8)), rotation = 70)\n",
    "plt.xlabel('Date')\n",
    "plt.ylabel('N Changes')\n",
    "plt.show()"
   ]
  },
  {
   "cell_type": "markdown",
   "metadata": {},
   "source": [
    "##### What kind of changes happen at what times."
   ]
  },
  {
   "cell_type": "code",
   "execution_count": 26,
   "metadata": {},
   "outputs": [],
   "source": [
    "#Group dates into high-change days or low change days\n",
    "CHANGE_LIMIT = 10000\n",
    "\n",
    "#Add Feature in raw df\n",
    "#raw['volume'] = np.where()"
   ]
  },
  {
   "cell_type": "markdown",
   "metadata": {},
   "source": [
    "#### Changes per Month"
   ]
  },
  {
   "cell_type": "code",
   "execution_count": 27,
   "metadata": {},
   "outputs": [
    {
     "data": {
      "text/plain": [
       "2013-12    15906\n",
       "2014-01    16419\n",
       "2014-02    15824\n",
       "2014-03    15864\n",
       "2014-04    16187\n",
       "Name: year-month, dtype: int64"
      ]
     },
     "execution_count": 27,
     "metadata": {},
     "output_type": "execute_result"
    }
   ],
   "source": [
    "mnth_count = raw['year-month'].value_counts().sort_index()\n",
    "mnth_count.head()"
   ]
  },
  {
   "cell_type": "code",
   "execution_count": 28,
   "metadata": {},
   "outputs": [
    {
     "data": {
      "image/png": "[encoded data removed]",
      "text/plain": [
       "<Figure size 432x288 with 1 Axes>"
      ]
     },
     "metadata": {
      "needs_background": "light"
     },
     "output_type": "display_data"
    }
   ],
   "source": [
    "plt.title('Changes per Month')\n",
    "plt.plot(mnth_count, '.')\n",
    "plt.xticks(np.arange(0,len(mnth_count.index), round((len(mnth_count.index)) / 8)), rotation = 70)\n",
    "plt.xlabel('Date')\n",
    "plt.ylabel('N Changes')\n",
    "plt.show()"
   ]
  },
  {
   "cell_type": "markdown",
   "metadata": {},
   "source": [
    "#### Average Rate Change per Month"
   ]
  },
  {
   "cell_type": "code",
   "execution_count": 29,
   "metadata": {},
   "outputs": [
    {
     "data": {
      "text/html": [
       "<div>\n",
       "<style scoped>\n",
       "    .dataframe tbody tr th:only-of-type {\n",
       "        vertical-align: middle;\n",
       "    }\n",
       "\n",
       "    .dataframe tbody tr th {\n",
       "        vertical-align: top;\n",
       "    }\n",
       "\n",
       "    .dataframe thead th {\n",
       "        text-align: right;\n",
       "    }\n",
       "</style>\n",
       "<table border=\"1\" class=\"dataframe\">\n",
       "  <thead>\n",
       "    <tr style=\"text-align: right;\">\n",
       "      <th></th>\n",
       "      <th>old_nadac_per_unit</th>\n",
       "      <th>new_nadac_per_unit</th>\n",
       "      <th>percent_change</th>\n",
       "      <th>days_effective</th>\n",
       "      <th>days_count</th>\n",
       "      <th>dosage</th>\n",
       "      <th>daily_max_dosage</th>\n",
       "      <th>scaled_old_per_unit</th>\n",
       "      <th>scaled_new_per_unit</th>\n",
       "      <th>scaled_percent_change</th>\n",
       "    </tr>\n",
       "    <tr>\n",
       "      <th>year-month</th>\n",
       "      <th></th>\n",
       "      <th></th>\n",
       "      <th></th>\n",
       "      <th></th>\n",
       "      <th></th>\n",
       "      <th></th>\n",
       "      <th></th>\n",
       "      <th></th>\n",
       "      <th></th>\n",
       "      <th></th>\n",
       "    </tr>\n",
       "  </thead>\n",
       "  <tbody>\n",
       "    <tr>\n",
       "      <th>2013-12</th>\n",
       "      <td>1.833895</td>\n",
       "      <td>1.896660</td>\n",
       "      <td>5.073839</td>\n",
       "      <td>6.993399</td>\n",
       "      <td>12.996919</td>\n",
       "      <td>108.309114</td>\n",
       "      <td>157.827054</td>\n",
       "      <td>2.732459</td>\n",
       "      <td>2.836470</td>\n",
       "      <td>5.073551</td>\n",
       "    </tr>\n",
       "    <tr>\n",
       "      <th>2014-01</th>\n",
       "      <td>3.760482</td>\n",
       "      <td>3.888046</td>\n",
       "      <td>7.562463</td>\n",
       "      <td>7.000000</td>\n",
       "      <td>47.923686</td>\n",
       "      <td>106.965057</td>\n",
       "      <td>155.738260</td>\n",
       "      <td>5.454216</td>\n",
       "      <td>5.651314</td>\n",
       "      <td>7.569508</td>\n",
       "    </tr>\n",
       "    <tr>\n",
       "      <th>2014-02</th>\n",
       "      <td>4.357223</td>\n",
       "      <td>4.487732</td>\n",
       "      <td>-2.906283</td>\n",
       "      <td>7.000000</td>\n",
       "      <td>76.014156</td>\n",
       "      <td>107.657281</td>\n",
       "      <td>156.850228</td>\n",
       "      <td>5.106859</td>\n",
       "      <td>5.221174</td>\n",
       "      <td>-2.906400</td>\n",
       "    </tr>\n",
       "    <tr>\n",
       "      <th>2014-03</th>\n",
       "      <td>2.195605</td>\n",
       "      <td>2.222135</td>\n",
       "      <td>0.376311</td>\n",
       "      <td>7.000000</td>\n",
       "      <td>103.998676</td>\n",
       "      <td>107.128001</td>\n",
       "      <td>155.644765</td>\n",
       "      <td>3.240518</td>\n",
       "      <td>3.299216</td>\n",
       "      <td>0.364178</td>\n",
       "    </tr>\n",
       "    <tr>\n",
       "      <th>2014-04</th>\n",
       "      <td>1.888697</td>\n",
       "      <td>1.899964</td>\n",
       "      <td>0.199421</td>\n",
       "      <td>7.000000</td>\n",
       "      <td>138.861617</td>\n",
       "      <td>107.159301</td>\n",
       "      <td>155.792940</td>\n",
       "      <td>2.822958</td>\n",
       "      <td>2.839127</td>\n",
       "      <td>0.201176</td>\n",
       "    </tr>\n",
       "  </tbody>\n",
       "</table>\n",
       "</div>"
      ],
      "text/plain": [
       "            old_nadac_per_unit  new_nadac_per_unit  percent_change  \\\n",
       "year-month                                                           \n",
       "2013-12               1.833895            1.896660        5.073839   \n",
       "2014-01               3.760482            3.888046        7.562463   \n",
       "2014-02               4.357223            4.487732       -2.906283   \n",
       "2014-03               2.195605            2.222135        0.376311   \n",
       "2014-04               1.888697            1.899964        0.199421   \n",
       "\n",
       "            days_effective  days_count      dosage  daily_max_dosage  \\\n",
       "year-month                                                             \n",
       "2013-12           6.993399   12.996919  108.309114        157.827054   \n",
       "2014-01           7.000000   47.923686  106.965057        155.738260   \n",
       "2014-02           7.000000   76.014156  107.657281        156.850228   \n",
       "2014-03           7.000000  103.998676  107.128001        155.644765   \n",
       "2014-04           7.000000  138.861617  107.159301        155.792940   \n",
       "\n",
       "            scaled_old_per_unit  scaled_new_per_unit  scaled_percent_change  \n",
       "year-month                                                                   \n",
       "2013-12                2.732459             2.836470               5.073551  \n",
       "2014-01                5.454216             5.651314               7.569508  \n",
       "2014-02                5.106859             5.221174              -2.906400  \n",
       "2014-03                3.240518             3.299216               0.364178  \n",
       "2014-04                2.822958             2.839127               0.201176  "
      ]
     },
     "execution_count": 29,
     "metadata": {},
     "output_type": "execute_result"
    }
   ],
   "source": [
    "mnth_avgs = raw.groupby(['year-month']).mean()\n",
    "mnth_avgs.head()"
   ]
  },
  {
   "cell_type": "code",
   "execution_count": 30,
   "metadata": {},
   "outputs": [
    {
     "data": {
      "image/png": "[encoded data removed]",
      "text/plain": [
       "<Figure size 432x288 with 1 Axes>"
      ]
     },
     "metadata": {
      "needs_background": "light"
     },
     "output_type": "display_data"
    }
   ],
   "source": [
    "plt.title('Average Monthly Price Change')\n",
    "plt.plot(mnth_avgs['percent_change'], '.')\n",
    "plt.xticks(np.arange(0,len(mnth_avgs.index), round((len(mnth_avgs.index)) / 8)), rotation = 70)\n",
    "plt.xlabel('Date')\n",
    "plt.ylabel('Average Price Change')\n",
    "plt.show()"
   ]
  },
  {
   "cell_type": "code",
   "execution_count": 31,
   "metadata": {},
   "outputs": [
    {
     "data": {
      "text/plain": [
       "Text(0, 0.5, 'Observations')"
      ]
     },
     "execution_count": 31,
     "metadata": {},
     "output_type": "execute_result"
    },
    {
     "data": {
      "image/png": "[encoded data removed]",
      "text/plain": [
       "<Figure size 432x288 with 1 Axes>"
      ]
     },
     "metadata": {
      "needs_background": "light"
     },
     "output_type": "display_data"
    }
   ],
   "source": [
    "plt.title('Average Monthly Percent Change Distribution')\n",
    "mnth_avgs['percent_change'].hist()\n",
    "plt.xlabel('Percent Change')\n",
    "plt.ylabel('Observations')"
   ]
  },
  {
   "cell_type": "markdown",
   "metadata": {},
   "source": [
    "#### Total Price Gain/Loss per Month"
   ]
  },
  {
   "cell_type": "code",
   "execution_count": 32,
   "metadata": {},
   "outputs": [],
   "source": [
    "raw['total_price_change'] = raw['new_nadac_per_unit'] - raw['old_nadac_per_unit']\n",
    "mnth_sum = raw.groupby(['year-month']).sum()\n"
   ]
  },
  {
   "cell_type": "code",
   "execution_count": 33,
   "metadata": {},
   "outputs": [
    {
     "data": {
      "image/png": "[encoded data removed]",
      "text/plain": [
       "<Figure size 432x288 with 1 Axes>"
      ]
     },
     "metadata": {
      "needs_background": "light"
     },
     "output_type": "display_data"
    }
   ],
   "source": [
    "plt.title('Total Price Change per Month')\n",
    "plt.plot(mnth_sum['total_price_change'], '*')\n",
    "plt.xticks(np.arange(0,len(mnth_sum.index), round((len(mnth_sum.index)) / 8)), rotation = 70)\n",
    "plt.show()"
   ]
  },
  {
   "cell_type": "code",
   "execution_count": 54,
   "metadata": {},
   "outputs": [
    {
     "name": "stdout",
     "output_type": "stream",
     "text": [
      "                             ARIMA Model Results                              \n",
      "==============================================================================\n",
      "Dep. Variable:           D.year-month   No. Observations:                   19\n",
      "Model:                 ARIMA(1, 1, 1)   Log Likelihood                -132.259\n",
      "Method:                       css-mle   S.D. of innovations            236.817\n",
      "Date:                Tue, 10 Sep 2019   AIC                            272.518\n",
      "Time:                        01:01:30   BIC                            276.296\n",
      "Sample:                    01-01-2014   HQIC                           273.157\n",
      "                         - 07-01-2015                                         \n",
      "======================================================================================\n",
      "                         coef    std err          z      P>|z|      [0.025      0.975]\n",
      "--------------------------------------------------------------------------------------\n",
      "const                 63.7735      9.889      6.449      0.000      44.391      83.156\n",
      "ar.L1.D.year-month     0.0808      0.234      0.345      0.735      -0.378       0.539\n",
      "ma.L1.D.year-month    -0.9999      0.139     -7.175      0.000      -1.273      -0.727\n",
      "                                    Roots                                    \n",
      "=============================================================================\n",
      "                  Real          Imaginary           Modulus         Frequency\n",
      "-----------------------------------------------------------------------------\n",
      "AR.1           12.3826           +0.0000j           12.3826            0.0000\n",
      "MA.1            1.0001           +0.0000j            1.0001            0.0000\n",
      "-----------------------------------------------------------------------------\n",
      "const                 0.000008\n",
      "ar.L1.D.year-month    0.734551\n",
      "ma.L1.D.year-month    0.000002\n",
      "dtype: float64\n",
      "\n",
      "\n",
      "\n",
      "\n",
      "                             ARIMA Model Results                              \n",
      "==============================================================================\n",
      "Dep. Variable:       D.percent_change   No. Observations:                   19\n",
      "Model:                 ARIMA(1, 1, 1)   Log Likelihood                 -46.061\n",
      "Method:                       css-mle   S.D. of innovations              2.514\n",
      "Date:                Tue, 10 Sep 2019   AIC                            100.122\n",
      "Time:                        01:01:30   BIC                            103.900\n",
      "Sample:                    01-01-2014   HQIC                           100.761\n",
      "                         - 07-01-2015                                         \n",
      "==========================================================================================\n",
      "                             coef    std err          z      P>|z|      [0.025      0.975]\n",
      "------------------------------------------------------------------------------------------\n",
      "const                     -0.1159      0.091     -1.277      0.220      -0.294       0.062\n",
      "ar.L1.D.percent_change    -0.0924      0.233     -0.397      0.697      -0.549       0.364\n",
      "ma.L1.D.percent_change    -0.9999      0.151     -6.626      0.000      -1.296      -0.704\n",
      "                                    Roots                                    \n",
      "=============================================================================\n",
      "                  Real          Imaginary           Modulus         Frequency\n",
      "-----------------------------------------------------------------------------\n",
      "AR.1          -10.8219           +0.0000j           10.8219            0.5000\n",
      "MA.1            1.0001           +0.0000j            1.0001            0.0000\n",
      "-----------------------------------------------------------------------------\n",
      "\n",
      "\n",
      "\n",
      "\n",
      "                              ARIMA Model Results                               \n",
      "================================================================================\n",
      "Dep. Variable:     D.total_price_change   No. Observations:                   19\n",
      "Model:                   ARIMA(1, 1, 1)   Log Likelihood                -156.014\n",
      "Method:                         css-mle   S.D. of innovations            833.347\n",
      "Date:                  Tue, 10 Sep 2019   AIC                            320.028\n",
      "Time:                          01:01:30   BIC                            323.806\n",
      "Sample:                      01-01-2014   HQIC                           320.668\n",
      "                           - 07-01-2015                                         \n",
      "==============================================================================================\n",
      "                                 coef    std err          z      P>|z|      [0.025      0.975]\n",
      "----------------------------------------------------------------------------------------------\n",
      "const                         23.0366     40.503      0.569      0.577     -56.349     102.422\n",
      "ar.L1.D.total_price_change     0.2379      0.229      1.040      0.314      -0.210       0.686\n",
      "ma.L1.D.total_price_change    -1.0000      0.141     -7.083      0.000      -1.277      -0.723\n",
      "                                    Roots                                    \n",
      "=============================================================================\n",
      "                  Real          Imaginary           Modulus         Frequency\n",
      "-----------------------------------------------------------------------------\n",
      "AR.1            4.2039           +0.0000j            4.2039            0.0000\n",
      "MA.1            1.0000           +0.0000j            1.0000            0.0000\n",
      "-----------------------------------------------------------------------------\n"
     ]
    }
   ],
   "source": [
    "#Calculate the correlation within these and their respective p-values\n",
    "count_arima = ARIMA(mnth_count[0:int(len(mnth_count) * TRAIN_SPLIT)], order=(1,1,1)) #Play around with the order (110 101)\n",
    "p_chng_arima = ARIMA(mnth_avgs['percent_change'][0:int(len(mnth_count) * TRAIN_SPLIT)], order=(1,1,1))\n",
    "tot_chng = ARIMA(mnth_sum['total_price_change'][0:int(len(mnth_count) * TRAIN_SPLIT)], order=(1,1,1))\n",
    "\n",
    "count_arima_fit = count_arima.fit()\n",
    "p_chng_arima_fit = p_chng_arima.fit()\n",
    "tot_chng_fit = tot_chng.fit()\n",
    "\n",
    "print(count_arima_fit.summary())\n",
    "print(count_arima_fit.pvalues)\n",
    "print('\\n\\n\\n')\n",
    "print(p_chng_arima_fit.summary())\n",
    "\n",
    "print('\\n\\n\\n')\n",
    "print(tot_chng_fit.summary())\n",
    "\n",
    "#print('Residuals Description')\n",
    "#print(model_fit.pvalues)"
   ]
  },
  {
   "cell_type": "code",
   "execution_count": 35,
   "metadata": {},
   "outputs": [
    {
     "data": {
      "text/plain": [
       "Text(0.5, 1.0, 'Histogram of Residuals')"
      ]
     },
     "execution_count": 35,
     "metadata": {},
     "output_type": "execute_result"
    },
    {
     "data": {
      "image/png": "[encoded data removed]",
      "text/plain": [
       "<Figure size 432x288 with 1 Axes>"
      ]
     },
     "metadata": {
      "needs_background": "light"
     },
     "output_type": "display_data"
    },
    {
     "data": {
      "image/png": "[encoded data removed]",
      "text/plain": [
       "<Figure size 432x288 with 1 Axes>"
      ]
     },
     "metadata": {
      "needs_background": "light"
     },
     "output_type": "display_data"
    }
   ],
   "source": [
    "residuals = pd.DataFrame(count_arima_fit.resid)\n",
    "\n",
    "residuals.plot(legend=False)\n",
    "plt.title('Time Series of Residuals')\n",
    "\n",
    "residuals.hist(bins=20)\n",
    "plt.title('Histogram of Residuals')"
   ]
  },
  {
   "cell_type": "markdown",
   "metadata": {},
   "source": [
    "#### Generic and Branded"
   ]
  },
  {
   "cell_type": "code",
   "execution_count": 36,
   "metadata": {},
   "outputs": [
    {
     "name": "stdout",
     "output_type": "stream",
     "text": [
      "96.8% of changes are to generic medicines.\n"
     ]
    },
    {
     "data": {
      "image/png": "[encoded data removed]",
      "text/plain": [
       "<Figure size 432x288 with 1 Axes>"
      ]
     },
     "metadata": {
      "needs_background": "light"
     },
     "output_type": "display_data"
    },
    {
     "data": {
      "image/png": "[encoded data removed]",
      "text/plain": [
       "<Figure size 432x288 with 1 Axes>"
      ]
     },
     "metadata": {
      "needs_background": "light"
     },
     "output_type": "display_data"
    },
    {
     "name": "stdout",
     "output_type": "stream",
     "text": [
      "Mean Percent Change for Generic Drugs: 1.23 percentage points\n",
      "Mean Percent Change for Branded Drugs: 6.29 percentage points\n",
      "Standad Deviation for Generic Drugs: 27.12 percentage points\n",
      "Standad Deviation for Branded Drugs: 17.64 percentage points\n",
      "T-Statistic: -21.0\n",
      "P-Value: 0.0\n"
     ]
    }
   ],
   "source": [
    "print('{}% of changes are to generic medicines.'.format(round(len(raw[raw['classification_for_rate_setting'] == 'G'])\n",
    "                                                              / raw.shape[0], 3) * 100))\n",
    "\n",
    "raw_generic = raw[raw['classification_for_rate_setting'] == 'G']['percent_change']\n",
    "raw_branded = raw[raw['classification_for_rate_setting'] == 'B']['percent_change']\n",
    "\n",
    "#Compare how often and the magnitude of change between generic and branded medicine.\n",
    "plt.title('Generic and Branded Percent Change Distribution')\n",
    "plt.hist(raw_generic, normed = True)\n",
    "plt.hist(raw_branded, normed = True)\n",
    "\n",
    "plt.xlabel('Percent Change')\n",
    "plt.ylabel('Proportions')\n",
    "plt.show()\n",
    "\n",
    "\n",
    "plt.title('Generic and Branded Percent Change Distribution (Outliers Excluded)')\n",
    "plt.hist(raw_generic[(np.abs(stats.zscore(raw_generic)) < 3)], normed = True)\n",
    "plt.hist(raw_branded[(np.abs(stats.zscore(raw_branded)) < 3)], normed = True)\n",
    "\n",
    "plt.xlabel('Percent Change')\n",
    "plt.ylabel('Proportions')\n",
    "plt.show()\n",
    "\n",
    "#Print Stats\n",
    "print('Mean Percent Change for Generic Drugs: {} percentage points'.format(round(raw_generic.mean() ,2)))\n",
    "print('Mean Percent Change for Branded Drugs: {} percentage points'.format(round(raw_branded.mean() ,2)))\n",
    "\n",
    "print('Standad Deviation for Generic Drugs: {} percentage points'.format(round(raw_generic.std() ,2)))\n",
    "print('Standad Deviation for Branded Drugs: {} percentage points'.format(round(raw_branded.std() ,2)))\n",
    "\n",
    "#T-test\n",
    "t_stat, p_val = stats.ttest_ind(raw_generic, raw_branded)\n",
    "\n",
    "print('T-Statistic: {}'.format(round(t_stat)))\n",
    "print('P-Value: {}'.format(round(p_val)))\n"
   ]
  },
  {
   "cell_type": "markdown",
   "metadata": {},
   "source": [
    "#### Drug Name: Record Count and Price Change"
   ]
  },
  {
   "cell_type": "code",
   "execution_count": 37,
   "metadata": {},
   "outputs": [
    {
     "data": {
      "text/html": [
       "<div>\n",
       "<style scoped>\n",
       "    .dataframe tbody tr th:only-of-type {\n",
       "        vertical-align: middle;\n",
       "    }\n",
       "\n",
       "    .dataframe tbody tr th {\n",
       "        vertical-align: top;\n",
       "    }\n",
       "\n",
       "    .dataframe thead th {\n",
       "        text-align: right;\n",
       "    }\n",
       "</style>\n",
       "<table border=\"1\" class=\"dataframe\">\n",
       "  <thead>\n",
       "    <tr style=\"text-align: right;\">\n",
       "      <th></th>\n",
       "      <th>value_counts</th>\n",
       "      <th>average_price_per_unit</th>\n",
       "      <th>average_scaled_price_per_unit</th>\n",
       "      <th>average_percent_change</th>\n",
       "    </tr>\n",
       "  </thead>\n",
       "  <tbody>\n",
       "    <tr>\n",
       "      <th>ALREX</th>\n",
       "      <td>11</td>\n",
       "      <td>32.704238</td>\n",
       "      <td>32.704238</td>\n",
       "      <td>4.502727</td>\n",
       "    </tr>\n",
       "    <tr>\n",
       "      <th>ATIVAN</th>\n",
       "      <td>63</td>\n",
       "      <td>15.226396</td>\n",
       "      <td>23.915992</td>\n",
       "      <td>15.552698</td>\n",
       "    </tr>\n",
       "    <tr>\n",
       "      <th>BEPREVE</th>\n",
       "      <td>11</td>\n",
       "      <td>30.788663</td>\n",
       "      <td>30.788663</td>\n",
       "      <td>5.098182</td>\n",
       "    </tr>\n",
       "    <tr>\n",
       "      <th>BESIVANCE</th>\n",
       "      <td>4</td>\n",
       "      <td>24.715778</td>\n",
       "      <td>24.715778</td>\n",
       "      <td>5.927500</td>\n",
       "    </tr>\n",
       "    <tr>\n",
       "      <th>CARDIZEM CD</th>\n",
       "      <td>174</td>\n",
       "      <td>20.366692</td>\n",
       "      <td>32.322600</td>\n",
       "      <td>11.966667</td>\n",
       "    </tr>\n",
       "  </tbody>\n",
       "</table>\n",
       "</div>"
      ],
      "text/plain": [
       "             value_counts  average_price_per_unit  \\\n",
       "ALREX                  11               32.704238   \n",
       "ATIVAN                 63               15.226396   \n",
       "BEPREVE                11               30.788663   \n",
       "BESIVANCE               4               24.715778   \n",
       "CARDIZEM CD           174               20.366692   \n",
       "\n",
       "             average_scaled_price_per_unit  average_percent_change  \n",
       "ALREX                            32.704238                4.502727  \n",
       "ATIVAN                           23.915992               15.552698  \n",
       "BEPREVE                          30.788663                5.098182  \n",
       "BESIVANCE                        24.715778                5.927500  \n",
       "CARDIZEM CD                      32.322600               11.966667  "
      ]
     },
     "execution_count": 37,
     "metadata": {},
     "output_type": "execute_result"
    }
   ],
   "source": [
    "#Create a dataframe for every drug name\n",
    "drugs = pd.DataFrame(index = raw['drug_name'].unique())\n",
    "\n",
    "drugs['value_counts'] = raw.groupby(['drug_name']).count()['ndc']\n",
    "drugs['average_price_per_unit'] = raw.groupby(['drug_name']).mean()['new_nadac_per_unit']\n",
    "drugs['average_scaled_price_per_unit'] = raw.groupby(['drug_name']).mean()['scaled_new_per_unit']\n",
    "drugs['average_percent_change'] = raw.groupby(['drug_name']).mean()['percent_change']\n",
    "\n",
    "drugs.head()"
   ]
  },
  {
   "cell_type": "code",
   "execution_count": 38,
   "metadata": {},
   "outputs": [
    {
     "data": {
      "text/plain": [
       "<matplotlib.axes._subplots.AxesSubplot at 0x7f00644160f0>"
      ]
     },
     "execution_count": 38,
     "metadata": {},
     "output_type": "execute_result"
    },
    {
     "data": {
      "image/png": "[encoded data removed]",
      "text/plain": [
       "<Figure size 432x288 with 2 Axes>"
      ]
     },
     "metadata": {
      "needs_background": "light"
     },
     "output_type": "display_data"
    }
   ],
   "source": [
    "plt.title('Pearson Correlation')\n",
    "sns.heatmap(drugs[['value_counts','average_scaled_price_per_unit', 'average_percent_change']].corr())"
   ]
  },
  {
   "cell_type": "markdown",
   "metadata": {},
   "source": [
    "### Forecasting\n",
    "\n",
    "#### Individual Drugs\n",
    "\n",
    "__By NDC Description__"
   ]
  },
  {
   "cell_type": "code",
   "execution_count": 39,
   "metadata": {},
   "outputs": [],
   "source": [
    "#Find most frequently changed ndc prices\n",
    "top_n_drug_name = raw['drug_name'].value_counts().sort_values(ascending = False)[:25]"
   ]
  },
  {
   "cell_type": "markdown",
   "metadata": {},
   "source": [
    "### Forecasting\n",
    "\n",
    "#### Market Volatility"
   ]
  },
  {
   "cell_type": "code",
   "execution_count": 111,
   "metadata": {},
   "outputs": [
    {
     "data": {
      "image/png": "[encoded data removed]",
      "text/plain": [
       "<Figure size 432x288 with 1 Axes>"
      ]
     },
     "metadata": {
      "needs_background": "light"
     },
     "output_type": "display_data"
    }
   ],
   "source": [
    "#Now we will forecast the next two years of monthly entry counts\n",
    "#We have already trained the model on the training set, and now we can validate it on the test set.\n",
    "\n",
    "#count_arima_fit.predict()\n",
    "size = int(len(mnth_count) * TRAIN_SPLIT)\n",
    "test =  mnth_count[size:len(mnth_count)]\n",
    "\n",
    "mnth_count.sort_index()\n",
    "#Create prediction array\n",
    "\n",
    "\n",
    "#Create array of timestamps:\n",
    "\n",
    "#plt.plot(mnth_count, color = 'blue')\n",
    "\n",
    "count_arima_fit.plot_predict(start = mnth_count.index[1],end = max(mnth_count.index))\n",
    "plt.title('Entry Counts per Date Forecast')\n",
    "#plt.xticks(np.arange(0,len(mnth_count.index), round((len(mnth_count.index)) / 8)), rotation = 70)\n",
    "plt.legend(loc = 'upper left')\n",
    "plt.xlabel('Date')\n",
    "plt.ylabel('N Changes')\n",
    "plt.show()"
   ]
  },
  {
   "cell_type": "code",
   "execution_count": 105,
   "metadata": {},
   "outputs": [
    {
     "name": "stdout",
     "output_type": "stream",
     "text": [
      "2014-02-01 00:00:00 <class 'pandas._libs.tslibs.timestamps.Timestamp'>\n",
      "2013-12-01 00:00:00\n",
      "DatetimeIndex(['2013-12-01', '2014-01-01', '2014-02-01', '2014-03-01',\n",
      "               '2014-04-01', '2014-05-01', '2014-06-01', '2014-07-01',\n",
      "               '2014-08-01', '2014-09-01', '2014-10-01', '2014-11-01',\n",
      "               '2014-12-01', '2015-01-01', '2015-02-01', '2015-03-01',\n",
      "               '2015-04-01', '2015-05-01', '2015-06-01', '2015-07-01',\n",
      "               '2015-08-01', '2015-09-01', '2015-10-01', '2015-11-01',\n",
      "               '2015-12-01'],\n",
      "              dtype='datetime64[ns]', freq=None)\n",
      "(25,)\n",
      "<class 'pandas._libs.tslibs.timestamps.Timestamp'>\n",
      "<class 'float'>\n",
      "2013-12-01 00:00:00 <class 'pandas._libs.tslibs.timestamps.Timestamp'>\n"
     ]
    },
    {
     "data": {
      "image/png": "[encoded data removed]",
      "text/plain": [
       "<Figure size 432x288 with 1 Axes>"
      ]
     },
     "execution_count": 105,
     "metadata": {},
     "output_type": "execute_result"
    },
    {
     "data": {
      "image/png": "[encoded data removed]",
      "text/plain": [
       "<Figure size 432x288 with 1 Axes>"
      ]
     },
     "metadata": {
      "needs_background": "light"
     },
     "output_type": "display_data"
    }
   ],
   "source": [
    "my_date = mnth_count.index[2]\n",
    "print(my_date, type(my_date))\n",
    "\n",
    "print(min(mnth_count.index))\n",
    "print(mnth_count.index)\n",
    "print(mnth_count.shape)\n",
    "print(type(min(mnth_count.index)))\n",
    "print(type(datetime.timestamp(min(mnth_count.index))))\n",
    "\n",
    "print(min(mnth_count.index), type(min(mnth_count.index)))\n",
    "\n",
    "count_arima_fit.plot_predict(start = mnth_count.index[1],end = max(mnth_count.index))"
   ]
  },
  {
   "cell_type": "markdown",
   "metadata": {},
   "source": [
    "#### Individual Drug Names"
   ]
  },
  {
   "cell_type": "code",
   "execution_count": 46,
   "metadata": {},
   "outputs": [],
   "source": [
    "#Create dictionary to store models.\n",
    "arima_models = {}\n",
    "coefficient = []\n",
    "p_value = []\n",
    "\n",
    "\n",
    "for drug in top_n_drug_name.index:\n",
    "    drug_history = raw[raw['drug_name'] == drug].groupby(['year-month']).mean() #['scaled_new_per_unit']\n",
    "    arima_models['drug'] = ARIMA(drug_history['scaled_new_per_unit'], order=(1,1,0))"
   ]
  },
  {
   "cell_type": "code",
   "execution_count": null,
   "metadata": {},
   "outputs": [],
   "source": []
  }
 ],
 "metadata": {
  "kernelspec": {
   "display_name": "Python 3",
   "language": "python",
   "name": "python3"
  },
  "language_info": {
   "codemirror_mode": {
    "name": "ipython",
    "version": 3
   },
   "file_extension": ".py",
   "mimetype": "text/x-python",
   "name": "python",
   "nbconvert_exporter": "python",
   "pygments_lexer": "ipython3",
   "version": "3.6.8"
  }
 },
 "nbformat": 4,
 "nbformat_minor": 2
}
