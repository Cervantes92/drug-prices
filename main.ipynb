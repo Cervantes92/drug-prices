{
 "cells": [
  {
   "cell_type": "code",
   "execution_count": 1,
   "metadata": {},
   "outputs": [],
   "source": [
    "import pandas as pd\n",
    "import numpy as np\n",
    "import matplotlib.pyplot as plt\n",
    "import matplotlib.patches as mpatches\n",
    "import seaborn as sns\n",
    "\n",
    "from scipy import stats\n",
    "from datetime import datetime, date, timedelta\n",
    "from dateutil.parser import parse\n",
    "from sklearn.model_selection import train_test_split\n",
    "from statsmodels.tsa.arima_model import ARIMA\n",
    "from IPython.display import display as dsp\n",
    "\n",
    "from pandas.plotting import register_matplotlib_converters\n",
    "register_matplotlib_converters()\n",
    "\n",
    "import warnings\n",
    "warnings.filterwarnings('ignore')"
   ]
  },
  {
   "cell_type": "markdown",
   "metadata": {},
   "source": [
    "# United States Drug Prices: Forecasting and Analysis\n",
    "\n",
    "## Abstract\n",
    "\n",
    "We want to explore and describe the US drug market, both in terms of general trends and the price of individual drugs on the market. The purpose of this analysis is to explore what features impact how and why drug prices change, to create a reliable metric for market volatility, and to analyse and forecast trends in drug prices. As a part of this analysis, we have explored the relationship between generic and branded drugs and their prices, net market price, percent change and date. We then used Auto Regressive and Moving Averages modeling to perform more detailed time series analysis and forecasting of both our market volatility metric and the individual drug prices."
   ]
  },
  {
   "cell_type": "markdown",
   "metadata": {},
   "source": [
    "## Data Collection\n",
    "\n",
    "The dataset we will be performing this analysis on is the [NADAC Comparison Dataset](https://data.medicaid.gov/Drug-Pricing-and-Payment/NADAC-Comparison). The NADAC Comparison Dataset is the log of every drug price change submitted to the National Drug Acquisition Cost database. We have a record of every FDA approved drug price change to work with.\n",
    "\n",
    "To access this data, we will be using an API to pull the dataset directly from the website. The API has some SoQL functionality implemented, we are capable of selecting the number of entires that we want to pull from the date of 11/28/2013"
   ]
  },
  {
   "cell_type": "code",
   "execution_count": 2,
   "metadata": {},
   "outputs": [],
   "source": [
    "#Socrata SQL query\n",
    "SODA = '$limit=500000'\n",
    "URL = 'https://data.medicaid.gov/resource/444w-ftrz.csv?{}'.format(SODA)\n",
    "\n",
    "TRAIN_SPLIT = 0.8"
   ]
  },
  {
   "cell_type": "code",
   "execution_count": 3,
   "metadata": {},
   "outputs": [],
   "source": [
    "def list_unique_counts(df):\n",
    "    column_name, unique_values_count, datatype = [], [], []\n",
    "    results = pd.DataFrame()\n",
    "    for col in df.columns:\n",
    "        #print(col, '\\t\\t\\t', len(df[str(col)].unique()))\n",
    "        column_name.append(col)\n",
    "        unique_values_count.append(len(df[str(col)].unique()))\n",
    "        datatype.append(df[str(col)].dtype)\n",
    "    \n",
    "    results['Column_Name'] = column_name\n",
    "    results['Unique_Value_Count'] = unique_values_count\n",
    "    results['Data_Type'] = datatype\n",
    "    \n",
    "    dsp(results)\n",
    "    print('Total Number of Changes: {}'.format(df.shape[0]))\n",
    "    \n",
    "    print('Total Number Observations: ', df.shape[0])\n",
    "\n",
    "def train_split(df, TRAIN_SPLIT):\n",
    "    split_point = int(len(df) * (TRAIN_SPLIT))\n",
    "    train = df[:split_point]\n",
    "    test = df[split_point:]\n",
    "    return train, test\n",
    "\n",
    "def strip_time(date):\n",
    "    date = date.replace('T00:00:00.000', '')\n",
    "    return datetime.strptime(date, '%Y-%m-%d')\n",
    "\n",
    "def return_name(ndc_description):\n",
    "    if len(ndc_description) == 0:\n",
    "        return '','','',''\n",
    "    drug_name, dosage, dosage_unit, drug_form = [], np.nan, np.nan, np.nan\n",
    "    \n",
    "    #Check and see if we are dealing with concentration\n",
    "    concentration = False\n",
    "    if set('%') <= set(ndc_description):\n",
    "        concentration = True\n",
    "        ndc_description.replace('%', '')\n",
    "    \n",
    "    #Create our array of words\n",
    "    words = ndc_description.split()\n",
    "    \n",
    "    for i in range(len(words)):\n",
    "        if not words[i].replace('.','').replace('%', '').isnumeric():\n",
    "            drug_name.append(words[i])\n",
    "            \n",
    "        if words[i].replace('.','').replace('%','').isnumeric():\n",
    "            dosage = float(words[i].replace('%', ''))\n",
    "            \n",
    "            if not concentration:\n",
    "                try:\n",
    "                    dosage_unit = words[i + 1]\n",
    "                    drug_form = ' '.join(words[i + 2:])\n",
    "                except:\n",
    "                    drug_form = ' '.join(words[i:])\n",
    "                    #print(ndc_description, concentration)\n",
    "                break\n",
    "            \n",
    "            if concentration:\n",
    "                dosage_unit = 'concentration'\n",
    "                drug_form = ' '.join(words[i + 1:])\n",
    "                break\n",
    "            \n",
    "    drug_name = ' '.join(drug_name)\n",
    "    return pd.Series([drug_name, dosage, dosage_unit, drug_form])\n",
    "\n",
    "def drop_na_printout(dataframe):\n",
    "    i = dataframe.shape[0]\n",
    "    j = dataframe.dropna().shape[0]\n",
    "    \n",
    "    percent_loss = (i - j) / i * 100\n",
    "    \n",
    "    print(percent_loss, '% data lost in cleaning.')\n",
    "    \n",
    "    return dataframe.dropna()\n",
    "\n",
    "def ts_lin_test(series):\n",
    "     return stats.linregress(range(len(series)), series.values)"
   ]
  },
  {
   "cell_type": "markdown",
   "metadata": {},
   "source": [
    "### Data Description\n",
    "\n",
    "The data herein contains price changes applied to the database. Each observation contains an 'ndc_description' string, which encapsulate the drug name, the dosage (including units of measurement) and the drug format. The 'ndc' column contains a serial particular to the label, product and package. The 'old_nadac_per_unit' and 'new_nadac_per_unit' describe the USD price listed per unit. \n",
    "\n",
    "The 'classification_for_rate_setting' tells us if the drug whose rate is being changed is labeled as generic or branded. The 'percent_change' gives us the percent change from the old to new price. The 'primary_reason' gives us the reason listed for the change and the 'start_date' tells us when the change is applied to the database.\n",
    "\n",
    "### Data Cleaning and Preparation\n",
    "\n",
    "Our most intensive issue at this point is the extraction of the drug name and dosage information from the ndc description. To perform a more comprehensive analysis, we will need to scale the price to the dosage of the drug. Not every ndc description follows the same format of drug name + dosage measure + units of measurement + format. A few drugs do not even include dosage measures and units of measurements, so we can expect some data loss at this point. We are able to extract information from drugs sold as a solution and in a solid form."
   ]
  },
  {
   "cell_type": "code",
   "execution_count": 4,
   "metadata": {},
   "outputs": [],
   "source": [
    "raw = pd.read_csv(URL, parse_dates = True)\n",
    "\n",
    "#Convert dates to date format\n",
    "raw['start_date'] = raw['start_date'].apply(lambda x: strip_time(x))\n",
    "raw['end_date'] = raw['end_date'].apply(lambda x: strip_time(x))\n",
    "\n",
    "#Remove Effective Date\n",
    "raw = raw.drop('effective_date', 1)"
   ]
  },
  {
   "cell_type": "code",
   "execution_count": 5,
   "metadata": {},
   "outputs": [
    {
     "name": "stdout",
     "output_type": "stream",
     "text": [
      "Index(['ndc_description', 'ndc', 'old_nadac_per_unit', 'new_nadac_per_unit',\n",
      "       'classification_for_rate_setting', 'percent_change', 'primary_reason',\n",
      "       'start_date', 'end_date'],\n",
      "      dtype='object')\n"
     ]
    }
   ],
   "source": [
    "print(raw.columns)\n",
    "\n",
    "#Create 'days_effective' and 'day_count' columns\n",
    "raw['days_effective'] = (raw['end_date'] - raw['start_date'])\n",
    "raw['days_effective'] = raw['days_effective'].apply(lambda x: x.days)\n",
    "\n",
    "raw['days_count'] = (raw['start_date'] - min(raw['start_date']))\n",
    "raw['days_count'] = raw['days_count'].apply(lambda x: x.days)\n",
    "\n",
    "#Create price change column\n",
    "raw['price_change'] = raw['new_nadac_per_unit'] - raw['old_nadac_per_unit']\n",
    "\n",
    "#Create 'month-year' column because most changes happen in the middle of every month\n",
    "raw['year-month'] = raw['start_date'].apply(lambda x: x.strftime('%Y-%m'))\n",
    "\n",
    "#Add drug name column, we want to ignore dosage and format\n",
    "raw[['drug_name', 'dosage','dosage_unit','drug_form']] = \\\n",
    "raw['ndc_description'].apply(lambda x: return_name(x))\n",
    "\n",
    "#Remove all first-date entries\n",
    "if len(raw['start_date'].unique()) > 1:\n",
    "    raw.drop(raw[raw['start_date'] == min(raw['start_date'])].index, inplace = True)\n",
    "\n",
    "#Remove last month of data, this is typically truncated by the limitations of our API call\n",
    "if len(raw['year-month']) > 3:\n",
    "    raw.drop(raw[raw['year-month'] == max(raw['year-month'])].index, inplace = True)"
   ]
  },
  {
   "cell_type": "code",
   "execution_count": 6,
   "metadata": {},
   "outputs": [
    {
     "name": "stdout",
     "output_type": "stream",
     "text": [
      "PROLENSA 0.07% EYE DROPS\n"
     ]
    }
   ],
   "source": [
    "print(raw['ndc_description'].unique()[50])"
   ]
  },
  {
   "cell_type": "code",
   "execution_count": 7,
   "metadata": {},
   "outputs": [
    {
     "name": "stdout",
     "output_type": "stream",
     "text": [
      "Our data represents the range of dates between 2013-12-05 and 2015-12-30\n"
     ]
    }
   ],
   "source": [
    "#Generate change_count df\n",
    "change_count = raw[['ndc', 'start_date']].groupby('start_date').count()\n",
    "print('Our data represents the range of dates between {} and {}'.format(change_count.index.min().strftime('%Y-%m-%d'),\n",
    "                                                                        change_count.index.max().strftime('%Y-%m-%d')))"
   ]
  },
  {
   "cell_type": "code",
   "execution_count": 8,
   "metadata": {},
   "outputs": [
    {
     "name": "stdout",
     "output_type": "stream",
     "text": [
      "13.085503719321077 % data lost in cleaning.\n"
     ]
    }
   ],
   "source": [
    "#Remove observations with missing entries.\n",
    "raw = drop_na_printout(raw)"
   ]
  },
  {
   "cell_type": "code",
   "execution_count": 9,
   "metadata": {},
   "outputs": [],
   "source": [
    "#Scale price to dosage\n",
    "raw['daily_max_dosage'] = raw.groupby(['drug_name', 'start_date', 'dosage_unit'])['dosage'].transform('max')\n",
    "raw['scaled_old_per_unit'] = raw['daily_max_dosage'] / raw['dosage'] * raw['old_nadac_per_unit']\n",
    "raw['scaled_new_per_unit'] = raw['daily_max_dosage'] / raw['dosage'] * raw['new_nadac_per_unit']\n",
    "raw['scaled_percent_change'] = (raw['scaled_new_per_unit'] - raw['scaled_old_per_unit']) \\\n",
    "/ raw['scaled_old_per_unit'] * 100"
   ]
  },
  {
   "cell_type": "code",
   "execution_count": 10,
   "metadata": {},
   "outputs": [],
   "source": [
    "#Create drugs dataframe\n",
    "drugs = raw[['drug_name','old_nadac_per_unit','new_nadac_per_unit']].groupby(['drug_name']).mean().rename(\n",
    "    {'old_nadac_per_unit' : 'old_average_per_unit','new_nadac_per_unit': 'new_average_per_unit'}, axis = 1)\n",
    "drugs['percent_average_change'] = (drugs['new_average_per_unit'] \n",
    "                                   - drugs['old_average_per_unit']) / drugs['new_average_per_unit'] * 100"
   ]
  },
  {
   "cell_type": "code",
   "execution_count": 11,
   "metadata": {},
   "outputs": [
    {
     "data": {
      "text/html": [
       "<div>\n",
       "<style scoped>\n",
       "    .dataframe tbody tr th:only-of-type {\n",
       "        vertical-align: middle;\n",
       "    }\n",
       "\n",
       "    .dataframe tbody tr th {\n",
       "        vertical-align: top;\n",
       "    }\n",
       "\n",
       "    .dataframe thead th {\n",
       "        text-align: right;\n",
       "    }\n",
       "</style>\n",
       "<table border=\"1\" class=\"dataframe\">\n",
       "  <thead>\n",
       "    <tr style=\"text-align: right;\">\n",
       "      <th></th>\n",
       "      <th>old_average_per_unit</th>\n",
       "      <th>new_average_per_unit</th>\n",
       "      <th>percent_average_change</th>\n",
       "      <th>max_per_unit</th>\n",
       "      <th>min_per_unit</th>\n",
       "      <th>max_dosage</th>\n",
       "    </tr>\n",
       "    <tr>\n",
       "      <th>drug_name</th>\n",
       "      <th></th>\n",
       "      <th></th>\n",
       "      <th></th>\n",
       "      <th></th>\n",
       "      <th></th>\n",
       "      <th></th>\n",
       "    </tr>\n",
       "  </thead>\n",
       "  <tbody>\n",
       "    <tr>\n",
       "      <th></th>\n",
       "      <td>0.061608</td>\n",
       "      <td>0.061494</td>\n",
       "      <td>-0.185384</td>\n",
       "      <td>0.06650</td>\n",
       "      <td>0.05932</td>\n",
       "      <td>8.0</td>\n",
       "    </tr>\n",
       "    <tr>\n",
       "      <th>12-HR DECONGEST</th>\n",
       "      <td>0.341570</td>\n",
       "      <td>0.342896</td>\n",
       "      <td>0.386823</td>\n",
       "      <td>0.37681</td>\n",
       "      <td>0.32264</td>\n",
       "      <td>120.0</td>\n",
       "    </tr>\n",
       "    <tr>\n",
       "      <th>ABACAVIR</th>\n",
       "      <td>4.303600</td>\n",
       "      <td>4.246232</td>\n",
       "      <td>-1.351048</td>\n",
       "      <td>6.13318</td>\n",
       "      <td>3.09071</td>\n",
       "      <td>300.0</td>\n",
       "    </tr>\n",
       "    <tr>\n",
       "      <th>ABILIFY</th>\n",
       "      <td>28.790676</td>\n",
       "      <td>30.332430</td>\n",
       "      <td>5.082858</td>\n",
       "      <td>40.98323</td>\n",
       "      <td>5.50154</td>\n",
       "      <td>30.0</td>\n",
       "    </tr>\n",
       "    <tr>\n",
       "      <th>ABILIFY DISCMELT</th>\n",
       "      <td>30.165025</td>\n",
       "      <td>34.659615</td>\n",
       "      <td>12.967801</td>\n",
       "      <td>35.01615</td>\n",
       "      <td>34.30308</td>\n",
       "      <td>15.0</td>\n",
       "    </tr>\n",
       "  </tbody>\n",
       "</table>\n",
       "</div>"
      ],
      "text/plain": [
       "                  old_average_per_unit  new_average_per_unit  \\\n",
       "drug_name                                                      \n",
       "                              0.061608              0.061494   \n",
       "12-HR DECONGEST               0.341570              0.342896   \n",
       "ABACAVIR                      4.303600              4.246232   \n",
       "ABILIFY                      28.790676             30.332430   \n",
       "ABILIFY DISCMELT             30.165025             34.659615   \n",
       "\n",
       "                  percent_average_change  max_per_unit  min_per_unit  \\\n",
       "drug_name                                                              \n",
       "                               -0.185384       0.06650       0.05932   \n",
       "12-HR DECONGEST                 0.386823       0.37681       0.32264   \n",
       "ABACAVIR                       -1.351048       6.13318       3.09071   \n",
       "ABILIFY                         5.082858      40.98323       5.50154   \n",
       "ABILIFY DISCMELT               12.967801      35.01615      34.30308   \n",
       "\n",
       "                  max_dosage  \n",
       "drug_name                     \n",
       "                         8.0  \n",
       "12-HR DECONGEST        120.0  \n",
       "ABACAVIR               300.0  \n",
       "ABILIFY                 30.0  \n",
       "ABILIFY DISCMELT        15.0  "
      ]
     },
     "execution_count": 11,
     "metadata": {},
     "output_type": "execute_result"
    }
   ],
   "source": [
    "max_price, min_price, max_dosage = [], [], []\n",
    "for drug in drugs.index:\n",
    "    max_price.append(max(raw[raw['drug_name'] == drug]['new_nadac_per_unit']))\n",
    "    min_price.append(min(raw[raw['drug_name'] == drug]['new_nadac_per_unit']))\n",
    "    max_dosage.append(max(raw[raw['drug_name'] == drug]['dosage']))\n",
    "drugs['max_per_unit'] = max_price\n",
    "drugs['min_per_unit'] = min_price\n",
    "drugs['max_dosage'] = max_dosage\n",
    "drugs.head()"
   ]
  },
  {
   "cell_type": "markdown",
   "metadata": {},
   "source": [
    "## Exploratory Data Analysis"
   ]
  },
  {
   "cell_type": "markdown",
   "metadata": {},
   "source": [
    "### Metadata\n",
    "\n",
    "The first order of business with our data is to discern what datatype and how many unique entries are present in our raw dataset."
   ]
  },
  {
   "cell_type": "code",
   "execution_count": 12,
   "metadata": {},
   "outputs": [
    {
     "name": "stdout",
     "output_type": "stream",
     "text": [
      "\n",
      "Unique Values in Raw Data per Column:\n"
     ]
    },
    {
     "data": {
      "text/html": [
       "<div>\n",
       "<style scoped>\n",
       "    .dataframe tbody tr th:only-of-type {\n",
       "        vertical-align: middle;\n",
       "    }\n",
       "\n",
       "    .dataframe tbody tr th {\n",
       "        vertical-align: top;\n",
       "    }\n",
       "\n",
       "    .dataframe thead th {\n",
       "        text-align: right;\n",
       "    }\n",
       "</style>\n",
       "<table border=\"1\" class=\"dataframe\">\n",
       "  <thead>\n",
       "    <tr style=\"text-align: right;\">\n",
       "      <th></th>\n",
       "      <th>Column_Name</th>\n",
       "      <th>Unique_Value_Count</th>\n",
       "      <th>Data_Type</th>\n",
       "    </tr>\n",
       "  </thead>\n",
       "  <tbody>\n",
       "    <tr>\n",
       "      <th>0</th>\n",
       "      <td>ndc_description</td>\n",
       "      <td>4787</td>\n",
       "      <td>object</td>\n",
       "    </tr>\n",
       "    <tr>\n",
       "      <th>1</th>\n",
       "      <td>ndc</td>\n",
       "      <td>41876</td>\n",
       "      <td>object</td>\n",
       "    </tr>\n",
       "    <tr>\n",
       "      <th>2</th>\n",
       "      <td>old_nadac_per_unit</td>\n",
       "      <td>49345</td>\n",
       "      <td>float64</td>\n",
       "    </tr>\n",
       "    <tr>\n",
       "      <th>3</th>\n",
       "      <td>new_nadac_per_unit</td>\n",
       "      <td>49387</td>\n",
       "      <td>float64</td>\n",
       "    </tr>\n",
       "    <tr>\n",
       "      <th>4</th>\n",
       "      <td>classification_for_rate_setting</td>\n",
       "      <td>2</td>\n",
       "      <td>object</td>\n",
       "    </tr>\n",
       "    <tr>\n",
       "      <th>5</th>\n",
       "      <td>percent_change</td>\n",
       "      <td>6081</td>\n",
       "      <td>float64</td>\n",
       "    </tr>\n",
       "    <tr>\n",
       "      <th>6</th>\n",
       "      <td>primary_reason</td>\n",
       "      <td>4</td>\n",
       "      <td>object</td>\n",
       "    </tr>\n",
       "    <tr>\n",
       "      <th>7</th>\n",
       "      <td>start_date</td>\n",
       "      <td>107</td>\n",
       "      <td>datetime64[ns]</td>\n",
       "    </tr>\n",
       "    <tr>\n",
       "      <th>8</th>\n",
       "      <td>end_date</td>\n",
       "      <td>107</td>\n",
       "      <td>datetime64[ns]</td>\n",
       "    </tr>\n",
       "    <tr>\n",
       "      <th>9</th>\n",
       "      <td>days_effective</td>\n",
       "      <td>2</td>\n",
       "      <td>int64</td>\n",
       "    </tr>\n",
       "    <tr>\n",
       "      <th>10</th>\n",
       "      <td>days_count</td>\n",
       "      <td>107</td>\n",
       "      <td>int64</td>\n",
       "    </tr>\n",
       "    <tr>\n",
       "      <th>11</th>\n",
       "      <td>price_change</td>\n",
       "      <td>41614</td>\n",
       "      <td>float64</td>\n",
       "    </tr>\n",
       "    <tr>\n",
       "      <th>12</th>\n",
       "      <td>year-month</td>\n",
       "      <td>25</td>\n",
       "      <td>object</td>\n",
       "    </tr>\n",
       "    <tr>\n",
       "      <th>13</th>\n",
       "      <td>drug_name</td>\n",
       "      <td>2350</td>\n",
       "      <td>object</td>\n",
       "    </tr>\n",
       "    <tr>\n",
       "      <th>14</th>\n",
       "      <td>dosage</td>\n",
       "      <td>215</td>\n",
       "      <td>float64</td>\n",
       "    </tr>\n",
       "    <tr>\n",
       "      <th>15</th>\n",
       "      <td>dosage_unit</td>\n",
       "      <td>134</td>\n",
       "      <td>object</td>\n",
       "    </tr>\n",
       "    <tr>\n",
       "      <th>16</th>\n",
       "      <td>drug_form</td>\n",
       "      <td>368</td>\n",
       "      <td>object</td>\n",
       "    </tr>\n",
       "    <tr>\n",
       "      <th>17</th>\n",
       "      <td>daily_max_dosage</td>\n",
       "      <td>201</td>\n",
       "      <td>float64</td>\n",
       "    </tr>\n",
       "    <tr>\n",
       "      <th>18</th>\n",
       "      <td>scaled_old_per_unit</td>\n",
       "      <td>54234</td>\n",
       "      <td>float64</td>\n",
       "    </tr>\n",
       "    <tr>\n",
       "      <th>19</th>\n",
       "      <td>scaled_new_per_unit</td>\n",
       "      <td>54265</td>\n",
       "      <td>float64</td>\n",
       "    </tr>\n",
       "    <tr>\n",
       "      <th>20</th>\n",
       "      <td>scaled_percent_change</td>\n",
       "      <td>59071</td>\n",
       "      <td>float64</td>\n",
       "    </tr>\n",
       "  </tbody>\n",
       "</table>\n",
       "</div>"
      ],
      "text/plain": [
       "                        Column_Name  Unique_Value_Count       Data_Type\n",
       "0                   ndc_description                4787          object\n",
       "1                               ndc               41876          object\n",
       "2                old_nadac_per_unit               49345         float64\n",
       "3                new_nadac_per_unit               49387         float64\n",
       "4   classification_for_rate_setting                   2          object\n",
       "5                    percent_change                6081         float64\n",
       "6                    primary_reason                   4          object\n",
       "7                        start_date                 107  datetime64[ns]\n",
       "8                          end_date                 107  datetime64[ns]\n",
       "9                    days_effective                   2           int64\n",
       "10                       days_count                 107           int64\n",
       "11                     price_change               41614         float64\n",
       "12                       year-month                  25          object\n",
       "13                        drug_name                2350          object\n",
       "14                           dosage                 215         float64\n",
       "15                      dosage_unit                 134          object\n",
       "16                        drug_form                 368          object\n",
       "17                 daily_max_dosage                 201         float64\n",
       "18              scaled_old_per_unit               54234         float64\n",
       "19              scaled_new_per_unit               54265         float64\n",
       "20            scaled_percent_change               59071         float64"
      ]
     },
     "metadata": {},
     "output_type": "display_data"
    },
    {
     "name": "stdout",
     "output_type": "stream",
     "text": [
      "Total Number of Changes: 416775\n",
      "Total Number Observations:  416775\n"
     ]
    }
   ],
   "source": [
    "print('\\nUnique Values in Raw Data per Column:')\n",
    "list_unique_counts(raw)"
   ]
  },
  {
   "cell_type": "markdown",
   "metadata": {},
   "source": [
    "Of interest are two observations:\n",
    "\n",
    "First, the days effective, which describes how many days are between the 'start date' and the 'end date'. There are only two unique values listed in this column, 6 and 7. As the database updates on a weekly basis, this makes sense. We will be using the start date for our time series analysis.\n",
    "\n",
    "Second, there are an overwhelming numnber of ndc values as there are drug names, or even ndc descriptions. The ndc code represents specific batches and labels, which is information we are unable to take into account. It is far more useful to group by drug name or ndc description."
   ]
  },
  {
   "cell_type": "code",
   "execution_count": 13,
   "metadata": {},
   "outputs": [
    {
     "name": "stdout",
     "output_type": "stream",
     "text": [
      "Top value counts for NDC:\n"
     ]
    },
    {
     "data": {
      "text/plain": [
       "68001000603    22\n",
       "68084031301    22\n",
       "62756020201    22\n",
       "51079076530    22\n",
       "378542405      22\n",
       "Name: ndc, dtype: int64"
      ]
     },
     "metadata": {},
     "output_type": "display_data"
    },
    {
     "name": "stdout",
     "output_type": "stream",
     "text": [
      "\n",
      "Top value counts for NDC description:\n"
     ]
    },
    {
     "data": {
      "text/plain": [
       "METFORMIN HCL 500 MG TABLET      1976\n",
       "LISINOPRIL 20 MG TABLET          1628\n",
       "LISINOPRIL 10 MG TABLET          1567\n",
       "AMLODIPINE BESYLATE 5 MG TAB     1551\n",
       "AMLODIPINE BESYLATE 10 MG TAB    1508\n",
       "Name: ndc_description, dtype: int64"
      ]
     },
     "metadata": {},
     "output_type": "display_data"
    },
    {
     "name": "stdout",
     "output_type": "stream",
     "text": [
      "\n",
      "Top value counts for drug name:\n"
     ]
    },
    {
     "data": {
      "text/plain": [
       "LISINOPRIL             7477\n",
       "RISPERIDONE            5452\n",
       "GABAPENTIN             4683\n",
       "SIMVASTATIN            4319\n",
       "AMLODIPINE BESYLATE    4203\n",
       "Name: drug_name, dtype: int64"
      ]
     },
     "metadata": {},
     "output_type": "display_data"
    }
   ],
   "source": [
    "print('Top value counts for NDC:')\n",
    "dsp(raw['ndc'].value_counts().sort_values(ascending = False).head())\n",
    "\n",
    "print('\\nTop value counts for NDC description:')\n",
    "dsp(raw['ndc_description'].value_counts().sort_values(ascending = False).head())\n",
    "\n",
    "print('\\nTop value counts for drug name:')\n",
    "dsp(raw['drug_name'].value_counts().sort_values(ascending = False).head())"
   ]
  },
  {
   "cell_type": "markdown",
   "metadata": {},
   "source": [
    "Here we can see the number of entries per ndc code and ndc description. The specificity of the ndc code means for the intent of our analysis, this can be ignored. The ndc description list also has an issue. Depeding on the number of unique dosages, drug names will be repeated multiple times. Since we are interested in individual drugs, we must consolidate this information into the drug name."
   ]
  },
  {
   "cell_type": "markdown",
   "metadata": {},
   "source": [
    "### Data Distribution\n",
    "\n",
    "We create two dataframes, the first which contain columns from the raw dataset we are interested in for further analysis. The second with all numeric data remove. As we may also be interested in exploring outliers later."
   ]
  },
  {
   "cell_type": "code",
   "execution_count": 14,
   "metadata": {},
   "outputs": [],
   "source": [
    "data = raw[['drug_name','start_date', 'days_count', 'year-month', 'old_nadac_per_unit', 'new_nadac_per_unit', \\\n",
    "            'price_change','scaled_old_per_unit', 'scaled_new_per_unit', 'percent_change', 'scaled_percent_change']]\n",
    "\n",
    "#numerics = ['int16', 'int32', 'int64', 'float16', 'float32', 'float64']\n",
    "data_out_rm = data[(np.abs(stats.zscore(data[['percent_change']])) < 3).all(axis = 1)]"
   ]
  },
  {
   "cell_type": "markdown",
   "metadata": {},
   "source": [
    "#### Percent Change\n",
    "\n",
    "Percent change is a good metric for understanding how volatile individual drugs are, as it is a ratio measurement of change. However, it is not a good indicater to use when comparing drugs to other drugs as there is no indication of magnitude of price. For example, if a drug were to increase from 0.01 USD to 0.02 USD, we would see a notable 50% increase, within the drug history, but the price itself would not be noteworthy when comparing a drug that changed from 100 USD to 200 USD per unit."
   ]
  },
  {
   "cell_type": "code",
   "execution_count": 15,
   "metadata": {},
   "outputs": [
    {
     "data": {
      "image/png": "[encoded data removed]",
      "text/plain": [
       "<Figure size 432x288 with 1 Axes>"
      ]
     },
     "metadata": {
      "needs_background": "light"
     },
     "output_type": "display_data"
    },
    {
     "data": {
      "image/png": "[encoded data removed]",
      "text/plain": [
       "<Figure size 432x288 with 1 Axes>"
      ]
     },
     "metadata": {
      "needs_background": "light"
     },
     "output_type": "display_data"
    },
    {
     "data": {
      "image/png": "[encoded data removed]",
      "text/plain": [
       "<Figure size 432x288 with 1 Axes>"
      ]
     },
     "metadata": {
      "needs_background": "light"
     },
     "output_type": "display_data"
    }
   ],
   "source": [
    "plt.title('Percent Change Distribution')\n",
    "plt.hist(data['percent_change'])\n",
    "plt.xlabel('% change')\n",
    "plt.ylabel('N Obs')\n",
    "plt.show()\n",
    "\n",
    "plt.title('Percent Change Distribution, Outliers Removed')\n",
    "plt.hist(data_out_rm['percent_change'])\n",
    "plt.xlabel('% change')\n",
    "plt.ylabel('N Obs')\n",
    "plt.show()\n",
    "\n",
    "plt.title('Percent Change per Date')\n",
    "plt.scatter(data['start_date'], data['percent_change'])\n",
    "plt.xticks(rotation = 70)\n",
    "plt.xlabel('Date')\n",
    "plt.ylabel('Percent Change')\n",
    "\n",
    "plt.show()"
   ]
  },
  {
   "cell_type": "code",
   "execution_count": 16,
   "metadata": {},
   "outputs": [
    {
     "data": {
      "text/plain": [
       "drug_name\n",
       "CLOBETASOL              1966.75\n",
       "AMITRIPTYLINE HCL       1950.62\n",
       "CORMAX                  1203.89\n",
       "CLOBETASOL EMOLLIENT     913.55\n",
       "NAPROXEN SODIUM          857.48\n",
       "DIGOXIN                  779.27\n",
       "DIGOX                    779.27\n",
       "FLUOROMETHOLONE          698.46\n",
       "HYDROCORTISONE           637.50\n",
       "BACLOFEN                 636.40\n",
       "Name: percent_change, dtype: float64"
      ]
     },
     "execution_count": 16,
     "metadata": {},
     "output_type": "execute_result"
    }
   ],
   "source": [
    "raw.groupby(['drug_name']).max().sort_values('percent_change', ascending = False)['percent_change'][:10]"
   ]
  },
  {
   "cell_type": "markdown",
   "metadata": {},
   "source": [
    "#### Price per Unit: de facto and scaled\n",
    "\n",
    "On the surface, even with outliers removed, it is clear that the distribution of prices per unit over the entire log is a steep exponential distribution. This shows that there are lots of drug changes where the final price of the drug change is fairly small. Our suspicions are confirmed when we group our data by average price per drug name. We are using the scaled price when observing this distribution as having multiple denominations of drugs may introduce scaling issues that prevent our data from fully reflecting the reality of the data."
   ]
  },
  {
   "cell_type": "code",
   "execution_count": 17,
   "metadata": {},
   "outputs": [
    {
     "data": {
      "image/png": "[encoded data removed]",
      "text/plain": [
       "<Figure size 432x288 with 1 Axes>"
      ]
     },
     "metadata": {
      "needs_background": "light"
     },
     "output_type": "display_data"
    },
    {
     "data": {
      "image/png": "[encoded data removed]",
      "text/plain": [
       "<Figure size 432x288 with 1 Axes>"
      ]
     },
     "metadata": {
      "needs_background": "light"
     },
     "output_type": "display_data"
    },
    {
     "data": {
      "image/png": "[encoded data removed]",
      "text/plain": [
       "<Figure size 432x288 with 1 Axes>"
      ]
     },
     "metadata": {
      "needs_background": "light"
     },
     "output_type": "display_data"
    },
    {
     "data": {
      "image/png": "[encoded data removed]",
      "text/plain": [
       "<Figure size 432x288 with 1 Axes>"
      ]
     },
     "metadata": {
      "needs_background": "light"
     },
     "output_type": "display_data"
    }
   ],
   "source": [
    "plt.title('New Price Per Unit')\n",
    "plt.hist(data_out_rm['new_nadac_per_unit'], color = 'green')\n",
    "plt.xlabel('Price per Unit')\n",
    "plt.ylabel('N Obs')\n",
    "plt.show()\n",
    "\n",
    "plt.title('New Price Per Unit (0, 1)')\n",
    "plt.hist(data['new_nadac_per_unit'], range = (0, 1), color = 'green')\n",
    "plt.xlabel('Price per Unit')\n",
    "plt.ylabel('N Obs')\n",
    "plt.show()\n",
    "\n",
    "drugmean = data.groupby(['drug_name']).mean()[['new_nadac_per_unit', 'scaled_new_per_unit']]\n",
    "plt.title('Average Price per Drug Name Distribution')\n",
    "plt.hist(drugmean['scaled_new_per_unit'], color = 'purple')\n",
    "plt.xlabel('Price')\n",
    "plt.ylabel('N Drugs')\n",
    "plt.show()\n",
    "\n",
    "plt.title('New Price to Date')\n",
    "plt.scatter(data['start_date'], data['new_nadac_per_unit'], color = 'green')\n",
    "plt.xticks(rotation = 70)\n",
    "plt.xlabel('Date')\n",
    "plt.ylabel('Price per Unit')\n",
    "plt.show()\n",
    "\n",
    "#Price Differential\n",
    "#Remove Outliers"
   ]
  },
  {
   "cell_type": "markdown",
   "metadata": {},
   "source": [
    "There appears to be some form of seasonality in the scatterplot for the price per unit data which does not appear to be reflected in the percent change scatterplot. This implies that the outliers here are indicitive of a single drug whose value is changed on a monthly or near monthly basis.\n",
    "\n",
    "When we compare the new nadac per unit to the scaled new nadac per unit, we can see that we have slightly altered the distribution. Our distribution has become marginally less sharp. This is a direct result of how we performed the scaling, where we scaled the drug price to the highest dosage, multiplying lower dosages by a scaling factor to raise the price to reflect the amount of active ingredient included."
   ]
  },
  {
   "cell_type": "code",
   "execution_count": 18,
   "metadata": {},
   "outputs": [
    {
     "data": {
      "image/png": "[encoded data removed]",
      "text/plain": [
       "<Figure size 432x288 with 1 Axes>"
      ]
     },
     "metadata": {
      "needs_background": "light"
     },
     "output_type": "display_data"
    },
    {
     "data": {
      "image/png": "[encoded data removed]",
      "text/plain": [
       "<Figure size 432x288 with 1 Axes>"
      ]
     },
     "metadata": {
      "needs_background": "light"
     },
     "output_type": "display_data"
    }
   ],
   "source": [
    "plt.title('Price Per Unit (0, 1)')\n",
    "plt.hist(data['new_nadac_per_unit'], range = (0, 1), color = 'green', alpha = 0.5)\n",
    "plt.hist(data['scaled_new_per_unit'], range = (0, 1), color = 'red', alpha = 0.5)\n",
    "red_patch = mpatches.Patch(color='red', label='Scaled Price per Unit')\n",
    "green_patch = mpatches.Patch(color='green', label='Price per Unit')\n",
    "plt.legend(handles = [red_patch, green_patch])\n",
    "plt.xlabel('Price per Unit')\n",
    "plt.ylabel('N Obs')\n",
    "plt.show()\n",
    "\n",
    "plt.title('Scaled New Price to Date')\n",
    "plt.scatter(data['start_date'], data['scaled_new_per_unit'], color = 'red')\n",
    "plt.xticks(rotation = 70)\n",
    "plt.xlabel('Date')\n",
    "plt.ylabel('Price per Unit')\n",
    "plt.show()\n",
    "\n",
    "#Overlap Scaled and raw\n",
    "#Don't hard code the range"
   ]
  },
  {
   "cell_type": "markdown",
   "metadata": {},
   "source": [
    "#### Price Change"
   ]
  },
  {
   "cell_type": "code",
   "execution_count": 19,
   "metadata": {},
   "outputs": [
    {
     "data": {
      "image/png": "[encoded data removed]",
      "text/plain": [
       "<Figure size 432x288 with 1 Axes>"
      ]
     },
     "metadata": {
      "needs_background": "light"
     },
     "output_type": "display_data"
    },
    {
     "data": {
      "image/png": "[encoded data removed]",
      "text/plain": [
       "<Figure size 432x288 with 1 Axes>"
      ]
     },
     "metadata": {
      "needs_background": "light"
     },
     "output_type": "display_data"
    },
    {
     "data": {
      "image/png": "[encoded data removed]",
      "text/plain": [
       "<Figure size 432x288 with 1 Axes>"
      ]
     },
     "metadata": {
      "needs_background": "light"
     },
     "output_type": "display_data"
    }
   ],
   "source": [
    "plt.title('Price Change Distribution')\n",
    "plt.hist(data_out_rm['price_change'])\n",
    "plt.xlabel('price change')\n",
    "plt.ylabel('N Obs')\n",
    "plt.show()\n",
    "\n",
    "plt.title('Price Change Distribution (-3, 3)')\n",
    "plt.hist(data_out_rm['price_change'], range = (-3, 3))\n",
    "plt.xlabel('price change')\n",
    "plt.ylabel('N Obs')\n",
    "plt.show()\n",
    "\n",
    "plt.title('Price Change per Date')\n",
    "plt.scatter(data['start_date'], data['price_change'])\n",
    "plt.xticks(rotation = 70)\n",
    "plt.xlabel('Date')\n",
    "plt.ylabel('price change')\n",
    "\n",
    "plt.show()"
   ]
  },
  {
   "cell_type": "markdown",
   "metadata": {},
   "source": [
    "The price change reflects the price differential between old and new price. This metric is more useful for comparing magnitude of changes between drugs rather than performance within drugs themselves. We may further improve the comparison by introducing a percentage factor. A high percentage with a high price differential implies prominence to the change as this implies a cheap drug becoming more expensive."
   ]
  },
  {
   "cell_type": "code",
   "execution_count": 20,
   "metadata": {},
   "outputs": [
    {
     "name": "stdout",
     "output_type": "stream",
     "text": [
      "\n",
      "Top drug name max price changes:\n"
     ]
    },
    {
     "data": {
      "text/plain": [
       "drug_name\n",
       "STELARA            1480.59400\n",
       "SIMPONI             577.98378\n",
       "COPAXONE            485.82069\n",
       "SANDOSTATIN LAR     397.58012\n",
       "NEULASTA            355.24168\n",
       "Name: price_change, dtype: float64"
      ]
     },
     "metadata": {},
     "output_type": "display_data"
    }
   ],
   "source": [
    "print('\\nTop drug name max price changes:')\n",
    "dsp(raw.groupby(['drug_name']).max().sort_values('price_change', ascending = False)['price_change'].head())"
   ]
  },
  {
   "cell_type": "markdown",
   "metadata": {},
   "source": [
    "#### Correlation Testing"
   ]
  },
  {
   "cell_type": "code",
   "execution_count": 21,
   "metadata": {},
   "outputs": [
    {
     "data": {
      "image/png": "[encoded data removed]",
      "text/plain": [
       "<Figure size 432x288 with 2 Axes>"
      ]
     },
     "metadata": {
      "needs_background": "light"
     },
     "output_type": "display_data"
    }
   ],
   "source": [
    "sns.heatmap(data[['days_count', 'scaled_new_per_unit', 'percent_change', 'price_change']].corr())\n",
    "plt.title('Raw Data Correlation Heatmap')\n",
    "plt.show()"
   ]
  },
  {
   "cell_type": "markdown",
   "metadata": {},
   "source": [
    "Here we have our correlation matrix between some of our features of interest. Some points of interest here:\n",
    "\n",
    "1. We can infer that the number of days since the start and the percent change are strongly uncorrelated between individual observations. This implies that the percent change does not notably change with time.\n",
    "\n",
    "2. We can see that the price change and the scaled new price per unit are fairly well correlated, whereas the percent change is not. From this we can infer that the price of the drug is not a factor in the percent change of the drug.\n",
    "\n",
    "Naturally, this correlation map is a good indicator of correlating features within individual observations, but terrible at describing general trends within the data. There is the issue of sampling, the observations submitted on a day with fewer observations will be more heavily weighted than on a day with many observations when it comes to correlations with time."
   ]
  },
  {
   "cell_type": "code",
   "execution_count": 22,
   "metadata": {},
   "outputs": [
    {
     "data": {
      "image/png": "[encoded data removed]",
      "text/plain": [
       "<Figure size 432x288 with 2 Axes>"
      ]
     },
     "metadata": {
      "needs_background": "light"
     },
     "output_type": "display_data"
    }
   ],
   "source": [
    "sns.heatmap(data.groupby('year-month').mean()\\\n",
    "            [['days_count','scaled_new_per_unit', 'percent_change', 'price_change']].corr())\n",
    "\n",
    "plt.title('Monthly Averages Correlation Heatmap')\n",
    "plt.show()"
   ]
  },
  {
   "cell_type": "markdown",
   "metadata": {},
   "source": [
    "Here, we have grouped our data by month, and we can already see a greater spectrum of correlation. Again, we can note that the percent change is negatively correlated with the day count, but the price change is. This, combined with the correlation between day count and price per unit, is indicative of slowing exponential growth in the drug prices as every month drug prices increase by some diminishing percentage."
   ]
  },
  {
   "cell_type": "markdown",
   "metadata": {},
   "source": [
    "#### Generic VS Branded\n",
    "\n",
    "We want to perform a significance test between the price of generic and branded medicines. Conventional wisdom holds tha the price of generic medicine is cheaper than that of branded medicine. We want to see if reality coincides with this assumption.\n",
    "\n",
    "We will perform a t-test on the distributions of generic and branded drug prices recorded in the NADAC database."
   ]
  },
  {
   "cell_type": "code",
   "execution_count": 45,
   "metadata": {},
   "outputs": [
    {
     "name": "stdout",
     "output_type": "stream",
     "text": [
      "96.8% of changes are to generic medicines.\n"
     ]
    },
    {
     "data": {
      "image/png": "[encoded data removed]",
      "text/plain": [
       "<Figure size 432x288 with 1 Axes>"
      ]
     },
     "metadata": {
      "needs_background": "light"
     },
     "output_type": "display_data"
    }
   ],
   "source": [
    "print('{}% of changes are to generic medicines.'\\\n",
    "      .format(round(len(raw[raw['classification_for_rate_setting'] == 'G']) / raw.shape[0], 3) * 100))\n",
    "\n",
    "raw_generic_sp = raw[raw['classification_for_rate_setting'] == 'G']['scaled_new_per_unit']\n",
    "raw_branded_sp = raw[raw['classification_for_rate_setting'] == 'B']['scaled_new_per_unit']\n",
    "\n",
    "#Compare \n",
    "plt.title('Generic vs. Branded Price per Unit Distribution')\n",
    "plt.hist(raw_generic_sp[(np.abs(stats.zscore(raw_generic)) < 3)], normed = True, alpha = 0.5,\\\n",
    "         color = 'green', range = (0,10))\n",
    "plt.hist(raw_branded_sp[(np.abs(stats.zscore(raw_branded)) < 3)], normed = True, alpha = 0.5,\\\n",
    "         color = 'red', range = (0, 10))\n",
    "green_patch = mpatches.Patch(color='green', label='Generic')\n",
    "red_patch = mpatches.Patch(color='red', label = 'Branded')\n",
    "plt.legend(handles = [green_patch, red_patch])\n",
    "plt.xlabel('Price per Unit')\n",
    "plt.ylabel('Proportions')\n",
    "plt.show()"
   ]
  },
  {
   "cell_type": "code",
   "execution_count": 29,
   "metadata": {},
   "outputs": [
    {
     "name": "stdout",
     "output_type": "stream",
     "text": [
      "96.8% of changes are to generic medicines.\n"
     ]
    },
    {
     "data": {
      "image/png": "[encoded data removed]",
      "text/plain": [
       "<Figure size 432x288 with 1 Axes>"
      ]
     },
     "metadata": {
      "needs_background": "light"
     },
     "output_type": "display_data"
    },
    {
     "data": {
      "image/png": "[encoded data removed]",
      "text/plain": [
       "<Figure size 432x288 with 1 Axes>"
      ]
     },
     "metadata": {
      "needs_background": "light"
     },
     "output_type": "display_data"
    },
    {
     "name": "stdout",
     "output_type": "stream",
     "text": [
      "Mean Percent Change for Generic Drugs: 1.23 percentage points\n",
      "Mean Percent Change for Branded Drugs: 6.29 percentage points\n",
      "Standad Deviation for Generic Drugs: 27.12 percentage points\n",
      "Standad Deviation for Branded Drugs: 17.64 percentage points\n",
      "T-Statistic: -21.0\n",
      "P-Value: 0.0\n"
     ]
    }
   ],
   "source": [
    "raw_generic = raw[raw['classification_for_rate_setting'] == 'G']['percent_change']\n",
    "raw_branded = raw[raw['classification_for_rate_setting'] == 'B']['percent_change']\n",
    "\n",
    "#Compare how often and the magnitude of change between generic and branded medicine.\n",
    "plt.title('Generic and Branded Percent Change Distribution')\n",
    "plt.hist(raw_generic, normed = True, color = 'blue')\n",
    "plt.hist(raw_branded, normed = True, color = 'orange')\n",
    "blue_patch = mpatches.Patch(color='blue', label='Generic')\n",
    "orange_patch = mpatches.Patch(color='orange', label = 'Branded')\n",
    "plt.legend(handles = [blue_patch, orange_patch])\n",
    "plt.xlabel('Percent Change')\n",
    "plt.ylabel('Proportions')\n",
    "plt.show()\n",
    "\n",
    "\n",
    "plt.title('Generic and Branded Percent Change Distribution (Outliers Excluded)')\n",
    "plt.hist(raw_generic[(np.abs(stats.zscore(raw_generic)) < 3)], normed = True, color = 'blue')\n",
    "plt.hist(raw_branded[(np.abs(stats.zscore(raw_branded)) < 3)], normed = True, color = 'orange')\n",
    "blue_patch = mpatches.Patch(color='blue', label='Generic')\n",
    "orange_patch = mpatches.Patch(color='orange', label = 'Branded')\n",
    "plt.legend(handles = [blue_patch, orange_patch])\n",
    "plt.xlabel('Percent Change')\n",
    "plt.ylabel('Proportions')\n",
    "plt.show()\n",
    "\n",
    "#Print Stats\n",
    "print('Mean Percent Change for Generic Drugs: {} percentage points'.format(round(raw_generic.mean() ,2)))\n",
    "print('Mean Percent Change for Branded Drugs: {} percentage points'.format(round(raw_branded.mean() ,2)))\n",
    "\n",
    "print('Standad Deviation for Generic Drugs: {} percentage points'.format(round(raw_generic.std() ,2)))\n",
    "print('Standad Deviation for Branded Drugs: {} percentage points'.format(round(raw_branded.std() ,2)))\n",
    "\n",
    "#T-test\n",
    "t_stat, p_val = stats.ttest_ind(raw_generic, raw_branded)\n",
    "\n",
    "print('T-Statistic: {}'.format(round(t_stat)))\n",
    "print('P-Value: {}'.format(round(p_val)))\n"
   ]
  },
  {
   "cell_type": "markdown",
   "metadata": {},
   "source": [
    "As we can see based on the results of the T-Test, there is ro"
   ]
  },
  {
   "cell_type": "markdown",
   "metadata": {},
   "source": [
    "### Metrics for General Volatility\n",
    "\n",
    "What do we mean by volatility?\n",
    "\n",
    "Volatility is a measure of a system's proclivity to change. We want to create a metric that best describes the volatility of drug prices in the US. The changelog format of our dataset lends it well to exploring various measures of volatility.\n",
    "\n",
    "#### Changes per Day"
   ]
  },
  {
   "cell_type": "code",
   "execution_count": 38,
   "metadata": {},
   "outputs": [
    {
     "data": {
      "image/png": "[encoded data removed]",
      "text/plain": [
       "<Figure size 432x288 with 1 Axes>"
      ]
     },
     "metadata": {
      "needs_background": "light"
     },
     "output_type": "display_data"
    }
   ],
   "source": [
    "plt.title('Changes Implemented Per Day')\n",
    "plt.plot(change_count.index.strftime('%Y-%m-%d'), change_count.values, '.')\n",
    "plt.xticks(np.arange(0,len(change_count.index), round((len(change_count.index)) / 8)), rotation = 70)\n",
    "plt.xlabel('Date')\n",
    "plt.ylabel('N Changes')\n",
    "plt.show()"
   ]
  },
  {
   "cell_type": "markdown",
   "metadata": {},
   "source": [
    "There are two glaring issues to note with using the total number of changes per day as a metric for market volatility. First, our database updates once a week, so the highest resolution we can get from the data is by week. Second, the vast majority of changes are submitted every four weeks. There may be something of interest in comparing the metrics of changes submitted on low volume days vs high volume days, but this is beyond the scope of this analysis. For now, we will look at the data at a montly resolution."
   ]
  },
  {
   "cell_type": "markdown",
   "metadata": {},
   "source": [
    "#### Changes per Month\n",
    "\n",
    "On the surface, changelog entry counts make sense as a metric for market volatility. The more changes that are submitted, the more the market changes. This encapsulates new drugs entering the market and major drug pricing policy changes."
   ]
  },
  {
   "cell_type": "code",
   "execution_count": 39,
   "metadata": {},
   "outputs": [
    {
     "data": {
      "image/png": "[encoded data removed]",
      "text/plain": [
       "<Figure size 432x288 with 1 Axes>"
      ]
     },
     "metadata": {
      "needs_background": "light"
     },
     "output_type": "display_data"
    },
    {
     "data": {
      "text/plain": [
       "LinregressResult(slope=62.01, intercept=15926.88, rvalue=0.8352089255065794, pvalue=2.0626671228665598e-07, stderr=8.513581260919969)"
      ]
     },
     "execution_count": 39,
     "metadata": {},
     "output_type": "execute_result"
    }
   ],
   "source": [
    "mnth_count = raw['year-month'].value_counts().sort_index()\n",
    "plt.title('Changes per Month')\n",
    "plt.plot(mnth_count, '.')\n",
    "plt.xticks(np.arange(0,len(mnth_count.index), round((len(mnth_count.index)) / 8)), rotation = 70)\n",
    "plt.xlabel('Date')\n",
    "plt.ylabel('N Changes')\n",
    "plt.show()\n",
    "\n",
    "#Linearity test\n",
    "#slope, intercept, r_value, p_value, std_err = \n",
    "stats.linregress(range(len(mnth_count)), mnth_count.values)"
   ]
  },
  {
   "cell_type": "markdown",
   "metadata": {},
   "source": [
    "We can clearly see a linear trend within the data here, with a fairly high r-value. This data would be good to use in a model as a result of its linearity. Conceptually, using gross number of changes per period also makes sense, as a period with a higher number of changes could be considered more 'volatile'."
   ]
  },
  {
   "cell_type": "markdown",
   "metadata": {},
   "source": [
    "#### Average Percent Change per Month\n",
    "\n",
    "We can also measure volatility by looking at the average percent change per month. This gives us an indication as to how much each drug is changing in comparison to itself. This is a good metric for taking into account the magnitude rate of change."
   ]
  },
  {
   "cell_type": "code",
   "execution_count": 40,
   "metadata": {},
   "outputs": [
    {
     "data": {
      "image/png": "[encoded data removed]",
      "text/plain": [
       "<Figure size 432x288 with 1 Axes>"
      ]
     },
     "metadata": {
      "needs_background": "light"
     },
     "output_type": "display_data"
    },
    {
     "data": {
      "text/plain": [
       "LinregressResult(slope=-0.10705434798079119, intercept=2.674615640248643, rvalue=-0.28166431237352757, pvalue=0.17255945489053168, stderr=0.07604303395010129)"
      ]
     },
     "execution_count": 40,
     "metadata": {},
     "output_type": "execute_result"
    }
   ],
   "source": [
    "mnth_avgs = raw.groupby(['year-month']).mean()\n",
    "plt.title('Average Monthly Percent Change')\n",
    "plt.plot(mnth_avgs['percent_change'], '.')\n",
    "plt.xticks(np.arange(0,len(mnth_avgs.index), round((len(mnth_avgs.index)) / 8)), rotation = 70)\n",
    "plt.xlabel('Date')\n",
    "plt.ylabel('Average Price Change')\n",
    "plt.show()\n",
    "\n",
    "stats.linregress(range(len(mnth_avgs['percent_change'])), mnth_avgs['percent_change'].values)"
   ]
  },
  {
   "cell_type": "markdown",
   "metadata": {},
   "source": [
    "Our linear regression test shows the negative correlation we had observed before, but the linearity is fairly poor."
   ]
  },
  {
   "cell_type": "code",
   "execution_count": 41,
   "metadata": {},
   "outputs": [
    {
     "data": {
      "text/plain": [
       "Text(0, 0.5, 'Observations')"
      ]
     },
     "execution_count": 41,
     "metadata": {},
     "output_type": "execute_result"
    },
    {
     "data": {
      "image/png": "[encoded data removed]",
      "text/plain": [
       "<Figure size 432x288 with 1 Axes>"
      ]
     },
     "metadata": {
      "needs_background": "light"
     },
     "output_type": "display_data"
    }
   ],
   "source": [
    "plt.title('Average Monthly Percent Change Distribution')\n",
    "mnth_avgs['percent_change'].hist()\n",
    "plt.xlabel('Percent Change')\n",
    "plt.ylabel('Observations')"
   ]
  },
  {
   "cell_type": "markdown",
   "metadata": {},
   "source": [
    "#### Total Price Gain/Loss per Month\n",
    "\n",
    "Another potential metric for market volatility we may use is the total price gain/loss per month. Essentially, we take the sum of every entry in the changelog per month as our metric. This is a direct measure of price, but is more sensitive to individual drugs with many different dosages being changed."
   ]
  },
  {
   "cell_type": "code",
   "execution_count": 42,
   "metadata": {},
   "outputs": [],
   "source": [
    "raw['total_price_change'] = raw['new_nadac_per_unit'] - raw['old_nadac_per_unit']\n",
    "mnth_sum = raw.groupby(['year-month']).sum()"
   ]
  },
  {
   "cell_type": "code",
   "execution_count": 43,
   "metadata": {},
   "outputs": [
    {
     "data": {
      "image/png": "[encoded data removed]",
      "text/plain": [
       "<Figure size 432x288 with 1 Axes>"
      ]
     },
     "metadata": {
      "needs_background": "light"
     },
     "output_type": "display_data"
    },
    {
     "data": {
      "text/plain": [
       "LinregressResult(slope=52.36207460000143, intercept=862.5098095999806, rvalue=0.31889681713164547, pvalue=0.1202466877946579, stderr=32.449992999139596)"
      ]
     },
     "execution_count": 43,
     "metadata": {},
     "output_type": "execute_result"
    }
   ],
   "source": [
    "plt.title('Total Price Change per Month')\n",
    "plt.plot(mnth_sum['total_price_change'], '*')\n",
    "plt.xticks(np.arange(0,len(mnth_sum.index), round((len(mnth_sum.index)) / 8)), rotation = 70)\n",
    "plt.xlabel('Date')\n",
    "plt.ylabel('Total Price Change')\n",
    "plt.show()\n",
    "stats.linregress(range(len(mnth_sum['total_price_change'])), mnth_sum['total_price_change'].values)"
   ]
  },
  {
   "cell_type": "markdown",
   "metadata": {},
   "source": [
    "We can see positive trends in the data, however, the linearity is still fairly low.\n",
    "\n",
    "Unfortunately, limited by our dataset, we do not have a complete picture of the supply and demand for drugs in the US. For that, we would need to introduce data which included information regarding how many units of every drug are purchased. However, we can infer some information regarding the volatility with any of the data above. To that end I will be using the total count log as my metric of volatility."
   ]
  },
  {
   "cell_type": "markdown",
   "metadata": {},
   "source": [
    "### Preliminary ARIMA modeling\n",
    "\n",
    "Auto Regression and Moving Averages is an ideal model to use with this data. ARIMA modeling is exceptional at working with time series data as it is exceptional at picking up longer term linear trends (AR) and short term/seasonal events (MA). Lets look at how well ARIMA modeling works with our data."
   ]
  },
  {
   "cell_type": "code",
   "execution_count": null,
   "metadata": {},
   "outputs": [],
   "source": [
    "#Calculate the correlation within these and their respective p-values\n",
    "count_arima = ARIMA(mnth_count, order=(0,1,1)) #Play around with the order (110 101)\n",
    "p_chng_arima = ARIMA(mnth_avgs['percent_change'], order=(1,1,1))\n",
    "tot_chng = ARIMA(mnth_sum['total_price_change'], order=(1,1,1))\n",
    "\n",
    "count_arima_fit = count_arima.fit()\n",
    "p_chng_arima_fit = p_chng_arima.fit()\n",
    "tot_chng_fit = tot_chng.fit()\n",
    "\n",
    "print(count_arima_fit.summary())\n",
    "print('\\n\\n\\n')\n",
    "print(p_chng_arima_fit.summary())\n",
    "print('\\n\\n\\n')\n",
    "print(tot_chng_fit.summary())"
   ]
  },
  {
   "cell_type": "code",
   "execution_count": null,
   "metadata": {},
   "outputs": [],
   "source": [
    "\n",
    "count_arima_fit.plot_predict(start = mnth_count.index[1],end = max(mnth_count.index))\n",
    "plt.title('Entry Count per Month ARIMA Model')\n",
    "plt.ylabel('Entries')\n",
    "\n",
    "p_chng_arima_fit.plot_predict(start = mnth_avgs.index[1],end = max(mnth_avgs.index))\n",
    "plt.title('Average Percent Change per Month ARIMA Model')\n",
    "plt.ylabel('Percent Change')\n",
    "\n",
    "tot_chng_fit.plot_predict(start = mnth_sum.index[1],end = max(mnth_sum.index))\n",
    "plt.title('Total Price Change per Month ARIMA Model')\n",
    "plt.ylabel('Total Price Change per Day')\n",
    "plt.show()"
   ]
  },
  {
   "cell_type": "markdown",
   "metadata": {},
   "source": [
    "Unfortunately, our chosen metric for \n",
    "\n",
    "### Model Performance\n",
    "\n",
    "We can evaluate model performance by observing the plot and histogram of the residuals, that is the difference at every point between observed and predicted values for our measure at every available point in time. Ideally, the residuals scatter plot would show no correlation between day and magnitude, and that the histogram for the residuals would show a normal distribution"
   ]
  },
  {
   "cell_type": "code",
   "execution_count": null,
   "metadata": {},
   "outputs": [],
   "source": [
    "residuals_count = pd.DataFrame(count_arima_fit.resid)\n",
    "residuals_count.plot(legend=False)\n",
    "plt.title('Time Series of Count Residuals')\n",
    "residuals_count.hist(bins=20)\n",
    "plt.title('Histogram of Count Residuals')\n",
    "\n",
    "residuals_p_chng = pd.DataFrame(p_chng_arima_fit.resid)\n",
    "residuals_p_chng.plot(legend=False)\n",
    "plt.title('Time Series of Mean Percent Change Residuals')\n",
    "residuals_p_chng.hist(bins=20)\n",
    "plt.title('Histogram of Mean Percent Change Residuals')\n",
    "\n",
    "residuals_tot_chng = pd.DataFrame(tot_chng_fit.resid)\n",
    "residuals_tot_chng.plot(legend=False)\n",
    "plt.title('Time Series of Total Change Residuals')\n",
    "residuals_tot_chng.hist(bins=20)\n",
    "plt.title('Histogram of Total Change Residuals')"
   ]
  },
  {
   "cell_type": "markdown",
   "metadata": {},
   "source": [
    "Unfortunately, in terms of monthly data, we do not have very many datapoints to fill out our histogram. We can still use these models to make decent predictions with the resolution we have.\n",
    "\n",
    "It appears that the ARIMA model when applied to the total monthly entry counts performs best. The distribution is begining to look normal and the residuals do not appear to have much of a correlation. We may increase the number of datapoints at a later time; however, the best approach to doing so would be to use some form of distributed computing methodology given the sheer size of the entire database."
   ]
  },
  {
   "cell_type": "markdown",
   "metadata": {},
   "source": [
    "#### Drug Name: Record Count and Price Change\n",
    "\n",
    "Before we move on to forecasting, lets look at the correlation between features specific to trends within individual drugs. We want to know how the record counts, the average percent change and the price correlate with one another between individual drugs. This may offer us some clues as to what features would best be used to predict the prices of our drugs."
   ]
  },
  {
   "cell_type": "code",
   "execution_count": null,
   "metadata": {},
   "outputs": [],
   "source": [
    "#Create a dataframe for every drug name\n",
    "drugs = pd.DataFrame(index = raw['drug_name'].unique())\n",
    "\n",
    "drugs['value_counts'] = raw.groupby(['drug_name']).count()['ndc']\n",
    "drugs['average_price_per_unit'] = raw.groupby(['drug_name']).mean()['new_nadac_per_unit']\n",
    "drugs['average_scaled_price_per_unit'] = raw.groupby(['drug_name']).mean()['scaled_new_per_unit']\n",
    "drugs['average_percent_change'] = raw.groupby(['drug_name']).mean()['percent_change']\n",
    "\n",
    "drugs.head()"
   ]
  },
  {
   "cell_type": "code",
   "execution_count": null,
   "metadata": {},
   "outputs": [],
   "source": [
    "plt.title('Pearson Correlation')\n",
    "sns.heatmap(drugs[['value_counts','average_scaled_price_per_unit', 'average_percent_change']].corr())"
   ]
  },
  {
   "cell_type": "markdown",
   "metadata": {},
   "source": [
    "Unfortunately, there is not much intercorrelation between any of our features of interest. The average percent change is very slightly correlated with the price per unit when we group by drugs, implying that more expensive drugs tend to receive higher percent increases. The average percent change appears to be nearly perfectly uncorrelated with the value counts, this implies that the value counts have nothing to do with what percent changes are applied to the drug prices."
   ]
  },
  {
   "cell_type": "markdown",
   "metadata": {},
   "source": [
    "### Forecasting\n",
    "\n",
    "#### Individual Drugs\n",
    "\n",
    "__By NDC Description__"
   ]
  },
  {
   "cell_type": "code",
   "execution_count": null,
   "metadata": {},
   "outputs": [],
   "source": [
    "#Find most frequently changed ndc prices\n",
    "top_n_drug_name = raw['drug_name'].value_counts().sort_values(ascending = False)[:25]"
   ]
  },
  {
   "cell_type": "markdown",
   "metadata": {},
   "source": [
    "### Forecasting\n",
    "\n",
    "#### Market Volatility"
   ]
  },
  {
   "cell_type": "code",
   "execution_count": null,
   "metadata": {},
   "outputs": [],
   "source": [
    "#Now we will forecast the next two years of monthly entry counts\n",
    "#We have already trained the model on the training set, and now we can validate it on the test set.\n",
    "\n",
    "#count_arima_fit.predict()\n",
    "size = int(len(mnth_count) * TRAIN_SPLIT)\n",
    "test =  mnth_count[size:len(mnth_count)]\n",
    "\n",
    "mnth_count.sort_index()\n",
    "#Create prediction array\n",
    "\n",
    "\n",
    "#Create array of timestamps:\n",
    "\n",
    "#plt.plot(mnth_count, color = 'blue')\n",
    "\n",
    "count_arima_fit.plot_predict(start = mnth_count.index[1], end = max(mnth_count.index))\n",
    "plt.title('Entry Counts per Date Forecast')\n",
    "#plt.xticks(np.arange(0,len(mnth_count.index), round((len(mnth_count.index)) / 8)), rotation = 70)\n",
    "plt.legend(loc = 'upper left')\n",
    "plt.xlabel('Date')\n",
    "plt.ylabel('N Changes')\n",
    "plt.show()\n",
    "\n",
    "print(type(mnth_count.index[1]))\n",
    "print(mnth_count.index[1])\n",
    "\n"
   ]
  },
  {
   "cell_type": "code",
   "execution_count": null,
   "metadata": {},
   "outputs": [],
   "source": [
    "my_date = mnth_count.index[2]\n",
    "print(my_date, type(my_date))\n",
    "\n",
    "print(min(mnth_count.index))\n",
    "print(mnth_count.index)\n",
    "print(mnth_count.shape)\n",
    "print(type(min(mnth_count.index)))\n",
    "#print(type(datetime.timestamp(min(mnth_count.index))))\n",
    "\n",
    "print(min(mnth_count.index), type(min(mnth_count.index)))\n",
    "\n",
    "#count_arima_fit.plot_predict(start = mnth_count.index[1],end = mnth_count.index[-1])\n",
    "\n",
    "print(mnth_count.index[-1])\n",
    "#print(type(datetime.strptime(mnth_count.index[-1], '%Y-%m')))"
   ]
  },
  {
   "cell_type": "markdown",
   "metadata": {},
   "source": [
    "#### Individual Drug Names\n",
    "\n",
    "Rather than attempting to create and explore a model for every one of the 2350 unique drug names available in the dataset, we will instead be looking at the the top 25 most often changed drugs. The sampling methodology we use here is biased; however, we may be able to do some inferrence between this and the trends in drug prices we have seen before."
   ]
  },
  {
   "cell_type": "code",
   "execution_count": null,
   "metadata": {},
   "outputs": [],
   "source": [
    "#Create dictionary to store models.\n",
    "arima_models = {}\n",
    "res_mean, res_std = [], []\n",
    "\n",
    "for i, drug in enumerate(top_n_drug_name.index):\n",
    "    drug_history = raw[raw['drug_name'] == str(drug)].groupby(['year-month']).mean()\n",
    "    try:\n",
    "        arima_models[drug] = ARIMA(drug_history['scaled_new_per_unit'], order = (1,1,1)).fit()\n",
    "    #Fall through for non-stationarity\n",
    "    except:\n",
    "        arima_models[drug] = ARIMA(drug_history['scaled_new_per_unit'], order = (0,1,1)).fit()\n",
    "    \n",
    "    #Append results\n",
    "    res_mean.append(arima_models[drug].resid.describe()['mean'])\n",
    "    res_std.append(arima_models[drug].resid.describe()['std'])\n",
    "    \n",
    "    #Plot results\n",
    "    arima_models[drug].plot_predict(start = drug_history.index[1],end = max(drug_history.index))\n",
    "    plt.title('{} history'.format(drug))\n",
    "    plt.show()"
   ]
  },
  {
   "cell_type": "markdown",
   "metadata": {},
   "source": [
    "An interesting trend we can see amongst the top 25 highest change count drugs is that most of these have a general downward trend. I would hypothesize that this is a result of such drugs being sold under generic labels, being sold with more dosages and more manufacturers having manufacturing rights for these drugs, thus increasing the number of ndc labels that refer to these particular drug names.\n",
    "\n",
    "For example, ibuprofen is a common pain relief and anti-inflamitory over the counter drug widely available in almost every grocery store. There are many different generic label brands that manufacture ibuprofen. Exploring the relationship between availability, usage, and demand for drugs would be an interesting and fruitful extension to this analysis, provided such data could be found."
   ]
  },
  {
   "cell_type": "code",
   "execution_count": null,
   "metadata": {},
   "outputs": [],
   "source": [
    "plt.hist(res_mean, color = 'red')\n",
    "plt.title('Mean Residuals Distribution')\n",
    "plt.xlabel('Mean Residuals')\n",
    "plt.ylabel('N Obs')\n",
    "plt.show()\n",
    "\n",
    "plt.hist(res_std)\n",
    "plt.title('Residuals Standard Deviations Distribution')\n",
    "plt.xlabel('Residual Standard Deviation')\n",
    "plt.ylabel('N Obs')\n",
    "plt.show()\n",
    "\n",
    "#Check the average percent change between drug at beginning and end of time frame\n",
    "print(arima_models['IBUPROFEN'].resid.describe())\n",
    "print(type(arima_models['IBUPROFEN'].resid.describe()))"
   ]
  },
  {
   "cell_type": "markdown",
   "metadata": {},
   "source": [
    "As we can see by the distribution of residuals and our standard deviation, our models tend to perform decently. TMost drug models have a mean residual between -0.1 and 0.1 with a standard deviation between 0 and 0.1, This means that our models are capable of being fairly accurate and consistent in predicting drug prices given the low mean and standard deviation. \n",
    "\n",
    "Obviously, every drug acts in a slightly different way, when we roll our model over other drugs, it is always wise to validate our models, quantify error and adjust our methods as needed.\n",
    "\n",
    "## Conclusion\n",
    "\n",
    "In this project, we were able to pull out drug and dosage information from a string and scale price to the dosage within each drug group. We then looked at the distribution of percent change, price per unit and price change, as well as their relationship to time. The correlation matrix between these three variables and the day count revealed some interesting general trends in the marketplace.\n",
    "\n",
    "At its most general level, we can see that drug prices are undergoing exponential growth; however, the growth itself is slowing. We came to this conclusion by observing a strong correlation between days count and drug price, and a negative correlation between percent change and days count. For every month, on average drugs are increasing by some percent,\n",
    "\n",
    "We were able to explore a metric for market volatility and create a servicable model for forecasting purposes. As well as create a dictionary of models for the top 25 most common drug name entries.\n",
    "\n",
    "## Further Work\n",
    "\n",
    "I would have liked to encorporate a measure of the effects of major medical administration policy changes using A/B testing. With the current discourse surrounding the US healthcare system, it would be interesting to see what policy changes have had what effects on drug prices. We could get a more comprehensive picture of healthcare changes by encorporating other datasets from other sections of the industry, such as hospital billing and procedures. As well as encorporating data from other countries for comparison.\n",
    "\n",
    "As mentioned before, when looking at a purly economic standpoint, we could get a more comprehensive picture of drug performances by looking at some metrics for drug supply and demand. What we have been using only has given us a single facet of the marketplace.\n",
    "\n",
    "Finally, if we could find a comprehensive database which lists all the use cases and the effects of the drugs we have gone over, we could perform some insightful clustering that could tell us how similar and different drugs perform on the marketplace."
   ]
  },
  {
   "cell_type": "code",
   "execution_count": null,
   "metadata": {},
   "outputs": [],
   "source": []
  }
 ],
 "metadata": {
  "kernelspec": {
   "display_name": "Python 3",
   "language": "python",
   "name": "python3"
  },
  "language_info": {
   "codemirror_mode": {
    "name": "ipython",
    "version": 3
   },
   "file_extension": ".py",
   "mimetype": "text/x-python",
   "name": "python",
   "nbconvert_exporter": "python",
   "pygments_lexer": "ipython3",
   "version": "3.6.8"
  }
 },
 "nbformat": 4,
 "nbformat_minor": 2
}
